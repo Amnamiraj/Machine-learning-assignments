{
  "nbformat": 4,
  "nbformat_minor": 0,
  "metadata": {
    "colab": {
      "provenance": []
    },
    "kernelspec": {
      "name": "python3",
      "display_name": "Python 3"
    },
    "language_info": {
      "name": "python"
    }
  },
  "cells": [
    {
      "cell_type": "code",
      "execution_count": 1,
      "metadata": {
        "id": "79agZ91iT_Aq"
      },
      "outputs": [],
      "source": [
        "import re\n",
        "import string\n",
        "import scipy\n",
        "import pickle\n",
        "import pandas as pd\n",
        "import numpy as np\n",
        "from sklearn.feature_extraction.text import *\n",
        "from sklearn.preprocessing import LabelEncoder\n",
        "from sklearn.feature_extraction.text import CountVectorizer\n",
        "from sklearn.model_selection import train_test_split"
      ]
    },
    {
      "cell_type": "code",
      "source": [
        "from sklearn.linear_model import LogisticRegression\n",
        "from sklearn.naive_bayes import BernoulliNB\n",
        "from sklearn.ensemble import RandomForestClassifier\n",
        "from sklearn.svm import LinearSVC\n",
        "from sklearn.metrics import accuracy_score\n",
        "import matplotlib.pyplot as plt\n",
        "from prettytable import PrettyTable\n",
        "from joblib import dump, load\n",
        "from astropy.table import Table, Column"
      ],
      "metadata": {
        "id": "-2ehJRi_UILV"
      },
      "execution_count": 2,
      "outputs": []
    },
    {
      "cell_type": "code",
      "source": [
        "train_dataset = pd.read_csv('/content/Text_Classification_Train.csv')\n",
        "test_dataset = pd.read_csv('/content/Text_Classification_test.csv')"
      ],
      "metadata": {
        "id": "kMtVOzcoUQcA"
      },
      "execution_count": 3,
      "outputs": []
    },
    {
      "cell_type": "code",
      "source": [
        "# naming the first column as \"index\" column\n",
        "train_dataset.index.names = ['index']\n",
        "train_dataset.columns.name = train_dataset.index.name\n",
        "train_dataset.index.name = None\n",
        "print(\"Train Dataset:\")\n",
        "print(\"==============\\n\")\n",
        "print(train_dataset)"
      ],
      "metadata": {
        "id": "hoV2UAG-UX2l",
        "colab": {
          "base_uri": "https://localhost:8080/"
        },
        "outputId": "2649834b-a2af-4967-d063-9e4dba43bea0"
      },
      "execution_count": 4,
      "outputs": [
        {
          "output_type": "stream",
          "name": "stdout",
          "text": [
            "Train Dataset:\n",
            "==============\n",
            "\n",
            "index  index             comment_text  gender\n",
            "0          0   r u cmng or u not cmng    male\n",
            "1          1               r you cmng  female\n",
            "2          2      I am fine, r u fine    male\n",
            "3          3             m fn and you  female\n",
            "4          4  my frnd is gr8, wll dn.    male\n",
            "5          5  my best friend is great  female\n",
            "6          6       we r nt going tday    male\n",
            "7          7    we r not going today.  female\n",
            "8          8          I have a fever.    male\n",
            "9          9      im not feeling well  female\n"
          ]
        }
      ]
    },
    {
      "cell_type": "code",
      "source": [
        "# viewing the attributes in train dataset\n",
        "print(\"\\n\\n\\nTrain Dataset Columns:\")\n",
        "print(\"==================================\\n\")\n",
        "print(train_dataset.columns)\n",
        "# checking for the total instances in train dataset\n",
        "print(\"\\n\\n\\nNumber of instances in Train Dataset:\")\n",
        "print(\"====================================\")\n",
        "print(\"Train Data instances: \",train_dataset.shape[0])"
      ],
      "metadata": {
        "id": "pT6xse0AUd6l",
        "colab": {
          "base_uri": "https://localhost:8080/"
        },
        "outputId": "067c1aa8-c79e-4dde-ec0c-d4ed84cdc166"
      },
      "execution_count": 5,
      "outputs": [
        {
          "output_type": "stream",
          "name": "stdout",
          "text": [
            "\n",
            "\n",
            "\n",
            "Train Dataset Columns:\n",
            "==================================\n",
            "\n",
            "Index(['index', 'comment_text', 'gender'], dtype='object', name='index')\n",
            "\n",
            "\n",
            "\n",
            "Number of instances in Train Dataset:\n",
            "====================================\n",
            "Train Data instances:  10\n"
          ]
        }
      ]
    },
    {
      "cell_type": "code",
      "source": [
        "# naming the first column as \"index\" column\n",
        "test_dataset.index.names = ['index']\n",
        "test_dataset.columns.name = test_dataset.index.name\n",
        "test_dataset.index.name = None\n",
        "print(\"Test Dataset:\")\n",
        "print(\"==============\\n\")\n",
        "print(test_dataset)"
      ],
      "metadata": {
        "id": "Wn2zctJjUd3B",
        "colab": {
          "base_uri": "https://localhost:8080/"
        },
        "outputId": "155a4439-229b-4a32-e2af-cde315c10f47"
      },
      "execution_count": 6,
      "outputs": [
        {
          "output_type": "stream",
          "name": "stdout",
          "text": [
            "Test Dataset:\n",
            "==============\n",
            "\n",
            "index  index                        comment_text  gender\n",
            "0          0  plz go out, plz out with with frnd    male\n",
            "1          1             r u going to walk, r u?  female\n",
            "2          2                            r u fine    male\n",
            "3          3                        are you fine  female\n",
            "4          4              he is not feeling well  female\n"
          ]
        }
      ]
    },
    {
      "cell_type": "code",
      "source": [
        "# viewing the attributes in test dataset\n",
        "print(\"\\n\\n\\nTest Dataset Columns:\")\n",
        "print(\"=================================\\n\")\n",
        "print(test_dataset.columns)\n",
        "# checking for the total instances in test dataset\n",
        "print(\"\\n\\n\\nNumber of instances in Test Dataset:\")\n",
        "print(\"===================================\")\n",
        "print(\"Test instances: \",test_dataset.shape[0])"
      ],
      "metadata": {
        "id": "53aUxMijUwNS",
        "colab": {
          "base_uri": "https://localhost:8080/"
        },
        "outputId": "e524d81a-0979-4250-82fd-4fbb7290803a"
      },
      "execution_count": 7,
      "outputs": [
        {
          "output_type": "stream",
          "name": "stdout",
          "text": [
            "\n",
            "\n",
            "\n",
            "Test Dataset Columns:\n",
            "=================================\n",
            "\n",
            "Index(['index', 'comment_text', 'gender'], dtype='object', name='index')\n",
            "\n",
            "\n",
            "\n",
            "Number of instances in Test Dataset:\n",
            "===================================\n",
            "Test instances:  5\n"
          ]
        }
      ]
    },
    {
      "cell_type": "code",
      "source": [
        "# getting the instances whose labels are 'male’\n",
        "train_Male = train_dataset[train_dataset['gender'] == 'male']\n",
        "# printing instances whose labels are 'male'\n",
        "print(\"Comments by 'Male' in Train Dataset:\")\n",
        "print(\"========================================\\n\")\n",
        "print(train_Male)"
      ],
      "metadata": {
        "id": "XpPyLUclUwJ0",
        "colab": {
          "base_uri": "https://localhost:8080/"
        },
        "outputId": "a1ffa56f-897b-492d-9137-fb0445ba6600"
      },
      "execution_count": 8,
      "outputs": [
        {
          "output_type": "stream",
          "name": "stdout",
          "text": [
            "Comments by 'Male' in Train Dataset:\n",
            "========================================\n",
            "\n",
            "index  index             comment_text gender\n",
            "0          0   r u cmng or u not cmng   male\n",
            "2          2      I am fine, r u fine   male\n",
            "4          4  my frnd is gr8, wll dn.   male\n",
            "6          6       we r nt going tday   male\n",
            "8          8          I have a fever.   male\n"
          ]
        }
      ]
    },
    {
      "cell_type": "code",
      "source": [
        "# getting the instances whose labels are 'female’\n",
        "train_Female = train_dataset[train_dataset['gender'] == 'female']\n",
        "#printing instances whose labels are 'female'\n",
        "print(\"\\n\\n\\nComments by 'Female' in Train Dataset:\")\n",
        "print(\"======================================\\n\")\n",
        "print(train_Female)"
      ],
      "metadata": {
        "id": "-URK85_4VEkH",
        "colab": {
          "base_uri": "https://localhost:8080/"
        },
        "outputId": "d71f9685-73ee-4ae6-93e9-d83f6acafa2b"
      },
      "execution_count": 9,
      "outputs": [
        {
          "output_type": "stream",
          "name": "stdout",
          "text": [
            "\n",
            "\n",
            "\n",
            "Comments by 'Female' in Train Dataset:\n",
            "======================================\n",
            "\n",
            "index  index             comment_text  gender\n",
            "1          1               r you cmng  female\n",
            "3          3             m fn and you  female\n",
            "5          5  my best friend is great  female\n",
            "7          7    we r not going today.  female\n",
            "9          9      im not feeling well  female\n"
          ]
        }
      ]
    },
    {
      "cell_type": "code",
      "source": [
        "# getting the instances whose labels are 'male’\n",
        "test_Male = test_dataset[test_dataset['gender'] == 'male']\n",
        "# printing instances whose labels are 'male'\n",
        "print(\"\\n\\nComments by 'Male' in Test Dataset:\")\n",
        "print(\"========================================\\n\")\n",
        "print(test_Male)"
      ],
      "metadata": {
        "id": "DdSrA_szVNCg",
        "colab": {
          "base_uri": "https://localhost:8080/"
        },
        "outputId": "58e3ec4c-626d-4642-d00f-5ed8cf8335f2"
      },
      "execution_count": 10,
      "outputs": [
        {
          "output_type": "stream",
          "name": "stdout",
          "text": [
            "\n",
            "\n",
            "Comments by 'Male' in Test Dataset:\n",
            "========================================\n",
            "\n",
            "index  index                        comment_text gender\n",
            "0          0  plz go out, plz out with with frnd   male\n",
            "2          2                            r u fine   male\n"
          ]
        }
      ]
    },
    {
      "cell_type": "code",
      "source": [
        "# getting the instances whose labels are 'female’\n",
        "test_Female = test_dataset[test_dataset['gender'] == 'female']\n",
        "# printing instances whose labels are 'female'\n",
        "print(\"\\n\\n\\nComments by 'Female' in Test Dataset:\")\n",
        "print(\"===========================================\\n\")\n",
        "print(test_Female)"
      ],
      "metadata": {
        "id": "UsuBcqHHVVBl",
        "colab": {
          "base_uri": "https://localhost:8080/"
        },
        "outputId": "e89f8185-988a-4d86-8f53-f6829d0fc84c"
      },
      "execution_count": 11,
      "outputs": [
        {
          "output_type": "stream",
          "name": "stdout",
          "text": [
            "\n",
            "\n",
            "\n",
            "Comments by 'Female' in Test Dataset:\n",
            "===========================================\n",
            "\n",
            "index  index             comment_text  gender\n",
            "1          1  r u going to walk, r u?  female\n",
            "3          3             are you fine  female\n",
            "4          4   he is not feeling well  female\n"
          ]
        }
      ]
    },
    {
      "cell_type": "code",
      "source": [
        "# getting words used by male from train dataset\n",
        "train_Male_Words = pd.Series(' '.join(train_Male['comment_text'].astype(str)).lower().split(\" \")).value_counts()\n",
        "# printing words and their count used by 'male'\n",
        "print(\"\\n\\nWords used by 'Male' in train data:\")\n",
        "print(\"========================================\\n\")\n",
        "print(\"Words    Count\\n\")\n",
        "print(train_Male_Words)"
      ],
      "metadata": {
        "id": "zOaSHtm9VbJk",
        "colab": {
          "base_uri": "https://localhost:8080/"
        },
        "outputId": "524d843c-830d-40cb-dd91-571cd5782528"
      },
      "execution_count": 12,
      "outputs": [
        {
          "output_type": "stream",
          "name": "stdout",
          "text": [
            "\n",
            "\n",
            "Words used by 'Male' in train data:\n",
            "========================================\n",
            "\n",
            "Words    Count\n",
            "\n",
            "r         3\n",
            "u         3\n",
            "cmng      2\n",
            "i         2\n",
            "or        1\n",
            "not       1\n",
            "am        1\n",
            "fine,     1\n",
            "fine      1\n",
            "my        1\n",
            "frnd      1\n",
            "is        1\n",
            "gr8,      1\n",
            "wll       1\n",
            "dn.       1\n",
            "we        1\n",
            "nt        1\n",
            "going     1\n",
            "tday      1\n",
            "have      1\n",
            "a         1\n",
            "fever.    1\n",
            "Name: count, dtype: int64\n"
          ]
        }
      ]
    },
    {
      "cell_type": "code",
      "source": [
        "# getting words used by female from train dataset\n",
        "train_Female_Words = pd.Series(' '.join(train_Female['comment_text'].astype(str)).lower().split(\" \")).value_counts()\n",
        "# printing words and their count used by 'female'\n",
        "print(\"\\n\\n\\nWords used by 'Female' in train data:\")\n",
        "print(\"========================================\\n\")\n",
        "print(\"Words    Count\\n\")\n",
        "print(train_Female_Words)\n",
        "# get words used by male from test dataset\n",
        "test_Male_Words = pd.Series(' '.join(test_Male['comment_text'].astype(str)).lower().split(\" \")).value_counts()"
      ],
      "metadata": {
        "id": "l50M4MUpVjGY",
        "colab": {
          "base_uri": "https://localhost:8080/"
        },
        "outputId": "f54798f6-c993-45c0-b812-e459cebf4c3c"
      },
      "execution_count": 13,
      "outputs": [
        {
          "output_type": "stream",
          "name": "stdout",
          "text": [
            "\n",
            "\n",
            "\n",
            "Words used by 'Female' in train data:\n",
            "========================================\n",
            "\n",
            "Words    Count\n",
            "\n",
            "r          2\n",
            "you        2\n",
            "not        2\n",
            "cmng       1\n",
            "fn         1\n",
            "m          1\n",
            "my         1\n",
            "best       1\n",
            "friend     1\n",
            "and        1\n",
            "is         1\n",
            "great      1\n",
            "we         1\n",
            "going      1\n",
            "today.     1\n",
            "im         1\n",
            "feeling    1\n",
            "well       1\n",
            "Name: count, dtype: int64\n"
          ]
        }
      ]
    },
    {
      "cell_type": "code",
      "source": [
        "# printing words used by 'male' and their counts\n",
        "print(\"\\n\\nWords used by 'Male' in test data:\")\n",
        "print(\"===========================================\\n\")\n",
        "print(\"Words Count\\n\")\n",
        "print(test_Male_Words)\n",
        "# getting words used by female from test dataset\n",
        "test_Female_Words = pd.Series(' '.join(test_Female['comment_text'].astype(str)).lower().split(\" \")).value_counts()\n",
        "# printing words used by 'female' and their counts\n",
        "print(\"\\n\\nWords used by 'Female' in test data:\")\n",
        "print(\"===========================================\\n\")\n",
        "print(\"Words    Count\\n\")\n",
        "print(test_Female_Words)"
      ],
      "metadata": {
        "id": "poDvKOp1VtXw",
        "colab": {
          "base_uri": "https://localhost:8080/"
        },
        "outputId": "13736308-16e0-4b9c-a7fe-9a5f6f9f1bf1"
      },
      "execution_count": 14,
      "outputs": [
        {
          "output_type": "stream",
          "name": "stdout",
          "text": [
            "\n",
            "\n",
            "Words used by 'Male' in test data:\n",
            "===========================================\n",
            "\n",
            "Words Count\n",
            "\n",
            "plz     2\n",
            "with    2\n",
            "go      1\n",
            "out,    1\n",
            "out     1\n",
            "frnd    1\n",
            "r       1\n",
            "u       1\n",
            "fine    1\n",
            "Name: count, dtype: int64\n",
            "\n",
            "\n",
            "Words used by 'Female' in test data:\n",
            "===========================================\n",
            "\n",
            "Words    Count\n",
            "\n",
            "r          2\n",
            "u          1\n",
            "going      1\n",
            "to         1\n",
            "walk,      1\n",
            "u?         1\n",
            "are        1\n",
            "you        1\n",
            "fine       1\n",
            "he         1\n",
            "is         1\n",
            "not        1\n",
            "feeling    1\n",
            "well       1\n",
            "Name: count, dtype: int64\n"
          ]
        }
      ]
    },
    {
      "cell_type": "code",
      "source": [
        "print(\"Bar graph of words used by a female in train data:\")\n",
        "print(\"====================================\\n\")\n",
        "train_Female_Words.plot(kind='bar', color='darkred')"
      ],
      "metadata": {
        "id": "iXkupBcSV047",
        "colab": {
          "base_uri": "https://localhost:8080/",
          "height": 532
        },
        "outputId": "b1f220cd-e202-4dfb-fb00-1d1948f2a2c2"
      },
      "execution_count": 15,
      "outputs": [
        {
          "output_type": "stream",
          "name": "stdout",
          "text": [
            "Bar graph of words used by a female in train data:\n",
            "====================================\n",
            "\n"
          ]
        },
        {
          "output_type": "execute_result",
          "data": {
            "text/plain": [
              "<Axes: >"
            ]
          },
          "metadata": {},
          "execution_count": 15
        },
        {
          "output_type": "display_data",
          "data": {
            "text/plain": [
              "<Figure size 640x480 with 1 Axes>"
            ],
            "image/png": "[encoded data removed]"
          },
          "metadata": {}
        }
      ]
    },
    {
      "cell_type": "code",
      "source": [
        "print(\"Bar graph of words used by a male in train data:\")\n",
        "train_Male_Words.plot(kind='bar', color='yellow')"
      ],
      "metadata": {
        "id": "tO5F5qAwV8Zh",
        "colab": {
          "base_uri": "https://localhost:8080/",
          "height": 490
        },
        "outputId": "d628382f-49d2-42be-c17d-3dcee3f5bade"
      },
      "execution_count": 16,
      "outputs": [
        {
          "output_type": "stream",
          "name": "stdout",
          "text": [
            "Bar graph of words used by a male in train data:\n"
          ]
        },
        {
          "output_type": "execute_result",
          "data": {
            "text/plain": [
              "<Axes: >"
            ]
          },
          "metadata": {},
          "execution_count": 16
        },
        {
          "output_type": "display_data",
          "data": {
            "text/plain": [
              "<Figure size 640x480 with 1 Axes>"
            ],
            "image/png": "[encoded data removed]"
          },
          "metadata": {}
        }
      ]
    },
    {
      "cell_type": "code",
      "source": [
        "print(\"Bar graph of words used by a female in test data:\")\n",
        "test_Female_Words.plot(kind='bar', color='darkblue')"
      ],
      "metadata": {
        "id": "4olRFDlYWCJo",
        "colab": {
          "base_uri": "https://localhost:8080/",
          "height": 498
        },
        "outputId": "c225c1d4-6601-45e7-cfca-369d530c1213"
      },
      "execution_count": 17,
      "outputs": [
        {
          "output_type": "stream",
          "name": "stdout",
          "text": [
            "Bar graph of words used by a female in test data:\n"
          ]
        },
        {
          "output_type": "execute_result",
          "data": {
            "text/plain": [
              "<Axes: >"
            ]
          },
          "metadata": {},
          "execution_count": 17
        },
        {
          "output_type": "display_data",
          "data": {
            "text/plain": [
              "<Figure size 640x480 with 1 Axes>"
            ],
            "image/png": "[encoded data removed]"
          },
          "metadata": {}
        }
      ]
    },
    {
      "cell_type": "code",
      "source": [
        "print(\"Bar graph of words used by a male in test data:\")\n",
        "test_Male_Words.plot(kind='bar', color='black')"
      ],
      "metadata": {
        "id": "qHOlfeJpWGF1",
        "colab": {
          "base_uri": "https://localhost:8080/",
          "height": 480
        },
        "outputId": "4d3a412c-cf45-4d41-8fd7-2fd47989019f"
      },
      "execution_count": 18,
      "outputs": [
        {
          "output_type": "stream",
          "name": "stdout",
          "text": [
            "Bar graph of words used by a male in test data:\n"
          ]
        },
        {
          "output_type": "execute_result",
          "data": {
            "text/plain": [
              "<Axes: >"
            ]
          },
          "metadata": {},
          "execution_count": 18
        },
        {
          "output_type": "display_data",
          "data": {
            "text/plain": [
              "<Figure size 640x480 with 1 Axes>"
            ],
            "image/png": "[encoded data removed]"
          },
          "metadata": {}
        }
      ]
    },
    {
      "cell_type": "code",
      "source": [
        "print(\"Train dataset before pre-processing:\\n\")\n",
        "print(\"================================\\n\",train_dataset)\n",
        "print(\"\\n\\n\\nTest dataset before pre-processing:\\n\")\n",
        "print(\"=================================\\n\",test_dataset)\n",
        "# Replace all NaN elements with 0's.\n",
        "train_dataset = train_dataset.fillna(' ')\n",
        "test_dataset = test_dataset.fillna(' ')\n",
        "def remove_punctuation(comment):\n",
        "   # Removing non ASCII chars\n",
        "   comment = re.sub(r'[^\\x00-\\x7f]',r' ',comment)\n",
        "   # Removing (replacing with empty spaces actually) all the punctuations and returning it\n",
        "   comment = re.sub(\"[\"+string.punctuation+\"]\", \" \", comment)\n",
        "   return comment"
      ],
      "metadata": {
        "id": "V5mkMseWWL7J",
        "colab": {
          "base_uri": "https://localhost:8080/"
        },
        "outputId": "d2835d17-9206-4331-e021-e5f2e4d5a6d5"
      },
      "execution_count": 19,
      "outputs": [
        {
          "output_type": "stream",
          "name": "stdout",
          "text": [
            "Train dataset before pre-processing:\n",
            "\n",
            "================================\n",
            " index  index             comment_text  gender\n",
            "0          0   r u cmng or u not cmng    male\n",
            "1          1               r you cmng  female\n",
            "2          2      I am fine, r u fine    male\n",
            "3          3             m fn and you  female\n",
            "4          4  my frnd is gr8, wll dn.    male\n",
            "5          5  my best friend is great  female\n",
            "6          6       we r nt going tday    male\n",
            "7          7    we r not going today.  female\n",
            "8          8          I have a fever.    male\n",
            "9          9      im not feeling well  female\n",
            "\n",
            "\n",
            "\n",
            "Test dataset before pre-processing:\n",
            "\n",
            "=================================\n",
            " index  index                        comment_text  gender\n",
            "0          0  plz go out, plz out with with frnd    male\n",
            "1          1             r u going to walk, r u?  female\n",
            "2          2                            r u fine    male\n",
            "3          3                        are you fine  female\n",
            "4          4              he is not feeling well  female\n"
          ]
        }
      ]
    },
    {
      "cell_type": "code",
      "source": [
        "\n",
        "def normalize_text(comment):\n",
        "    # Removing the extra spaces at the end\n",
        "    comment = comment.strip()\n",
        "    # Lowercase to avoid difference between 'hate', 'HaTe'\n",
        "    comment = comment.lower()\n",
        "    # Removing the escape sequences\n",
        "    comment = re.sub('[\\s0-9]',' ', comment)\n",
        "    return comment\n",
        "train_dataset['comment_text'] = train_dataset['comment_text'].map(remove_punctuation)\n",
        "train_dataset['comment_text'] = train_dataset['comment_text'].map(normalize_text)\n",
        "train_dataset['comment_text'].map(normalize_text)"
      ],
      "metadata": {
        "id": "80R586eNWaVn",
        "colab": {
          "base_uri": "https://localhost:8080/",
          "height": 398
        },
        "outputId": "22214615-d7af-4ce6-f436-70407d9a689a"
      },
      "execution_count": 21,
      "outputs": [
        {
          "output_type": "execute_result",
          "data": {
            "text/plain": [
              "0     r u cmng or u not cmng\n",
              "1                 r you cmng\n",
              "2        i am fine  r u fine\n",
              "3               m fn and you\n",
              "4     my frnd is gr   wll dn\n",
              "5    my best friend is great\n",
              "6         we r nt going tday\n",
              "7       we r not going today\n",
              "8             i have a fever\n",
              "9        im not feeling well\n",
              "Name: comment_text, dtype: object"
            ],
            "text/html": [
              "<div>\n",
              "<style scoped>\n",
              "    .dataframe tbody tr th:only-of-type {\n",
              "        vertical-align: middle;\n",
              "    }\n",
              "\n",
              "    .dataframe tbody tr th {\n",
              "        vertical-align: top;\n",
              "    }\n",
              "\n",
              "    .dataframe thead th {\n",
              "        text-align: right;\n",
              "    }\n",
              "</style>\n",
              "<table border=\"1\" class=\"dataframe\">\n",
              "  <thead>\n",
              "    <tr style=\"text-align: right;\">\n",
              "      <th></th>\n",
              "      <th>comment_text</th>\n",
              "    </tr>\n",
              "  </thead>\n",
              "  <tbody>\n",
              "    <tr>\n",
              "      <th>0</th>\n",
              "      <td>r u cmng or u not cmng</td>\n",
              "    </tr>\n",
              "    <tr>\n",
              "      <th>1</th>\n",
              "      <td>r you cmng</td>\n",
              "    </tr>\n",
              "    <tr>\n",
              "      <th>2</th>\n",
              "      <td>i am fine  r u fine</td>\n",
              "    </tr>\n",
              "    <tr>\n",
              "      <th>3</th>\n",
              "      <td>m fn and you</td>\n",
              "    </tr>\n",
              "    <tr>\n",
              "      <th>4</th>\n",
              "      <td>my frnd is gr   wll dn</td>\n",
              "    </tr>\n",
              "    <tr>\n",
              "      <th>5</th>\n",
              "      <td>my best friend is great</td>\n",
              "    </tr>\n",
              "    <tr>\n",
              "      <th>6</th>\n",
              "      <td>we r nt going tday</td>\n",
              "    </tr>\n",
              "    <tr>\n",
              "      <th>7</th>\n",
              "      <td>we r not going today</td>\n",
              "    </tr>\n",
              "    <tr>\n",
              "      <th>8</th>\n",
              "      <td>i have a fever</td>\n",
              "    </tr>\n",
              "    <tr>\n",
              "      <th>9</th>\n",
              "      <td>im not feeling well</td>\n",
              "    </tr>\n",
              "  </tbody>\n",
              "</table>\n",
              "</div><br><label><b>dtype:</b> object</label>"
            ]
          },
          "metadata": {},
          "execution_count": 21
        }
      ]
    },
    {
      "cell_type": "code",
      "source": [
        "test_dataset['comment_text'] = test_dataset['comment_text'].map(remove_punctuation)\n",
        "test_dataset['comment_text'] = test_dataset['comment_text'].map(normalize_text)\n",
        "print(\"\\n\\n\\nTrain dataset after preprocessing:\\n\\n\")\n",
        "print(\"========================\\n\",train_dataset)\n",
        "print(\"\\n\\n\\nTest dataset after pre-processing:\\n\")\n",
        "print(\"==========================\\n\",test_dataset)\n",
        "test_dataset['comment_text'].map(normalize_text)\n"
      ],
      "metadata": {
        "id": "10_oq3YoWjkm",
        "colab": {
          "base_uri": "https://localhost:8080/",
          "height": 762
        },
        "outputId": "ae5b80f2-b5bf-4b8b-f2c8-8a8835e80995"
      },
      "execution_count": 23,
      "outputs": [
        {
          "output_type": "stream",
          "name": "stdout",
          "text": [
            "\n",
            "\n",
            "\n",
            "Train dataset after preprocessing:\n",
            "\n",
            "\n",
            "========================\n",
            " index  index             comment_text  gender\n",
            "0          0   r u cmng or u not cmng    male\n",
            "1          1               r you cmng  female\n",
            "2          2      i am fine  r u fine    male\n",
            "3          3             m fn and you  female\n",
            "4          4   my frnd is gr   wll dn    male\n",
            "5          5  my best friend is great  female\n",
            "6          6       we r nt going tday    male\n",
            "7          7     we r not going today  female\n",
            "8          8           i have a fever    male\n",
            "9          9      im not feeling well  female\n",
            "\n",
            "\n",
            "\n",
            "Test dataset after pre-processing:\n",
            "\n",
            "==========================\n",
            " index  index                        comment_text  gender\n",
            "0          0  plz go out  plz out with with frnd    male\n",
            "1          1              r u going to walk  r u  female\n",
            "2          2                            r u fine    male\n",
            "3          3                        are you fine  female\n",
            "4          4              he is not feeling well  female\n"
          ]
        },
        {
          "output_type": "execute_result",
          "data": {
            "text/plain": [
              "0    plz go out  plz out with with frnd\n",
              "1                r u going to walk  r u\n",
              "2                              r u fine\n",
              "3                          are you fine\n",
              "4                he is not feeling well\n",
              "Name: comment_text, dtype: object"
            ],
            "text/html": [
              "<div>\n",
              "<style scoped>\n",
              "    .dataframe tbody tr th:only-of-type {\n",
              "        vertical-align: middle;\n",
              "    }\n",
              "\n",
              "    .dataframe tbody tr th {\n",
              "        vertical-align: top;\n",
              "    }\n",
              "\n",
              "    .dataframe thead th {\n",
              "        text-align: right;\n",
              "    }\n",
              "</style>\n",
              "<table border=\"1\" class=\"dataframe\">\n",
              "  <thead>\n",
              "    <tr style=\"text-align: right;\">\n",
              "      <th></th>\n",
              "      <th>comment_text</th>\n",
              "    </tr>\n",
              "  </thead>\n",
              "  <tbody>\n",
              "    <tr>\n",
              "      <th>0</th>\n",
              "      <td>plz go out  plz out with with frnd</td>\n",
              "    </tr>\n",
              "    <tr>\n",
              "      <th>1</th>\n",
              "      <td>r u going to walk  r u</td>\n",
              "    </tr>\n",
              "    <tr>\n",
              "      <th>2</th>\n",
              "      <td>r u fine</td>\n",
              "    </tr>\n",
              "    <tr>\n",
              "      <th>3</th>\n",
              "      <td>are you fine</td>\n",
              "    </tr>\n",
              "    <tr>\n",
              "      <th>4</th>\n",
              "      <td>he is not feeling well</td>\n",
              "    </tr>\n",
              "  </tbody>\n",
              "</table>\n",
              "</div><br><label><b>dtype:</b> object</label>"
            ]
          },
          "metadata": {},
          "execution_count": 23
        }
      ]
    },
    {
      "cell_type": "code",
      "source": [
        "labelEncoder = LabelEncoder()\n",
        " # fitting the label encoder on Train : gender column\n",
        "train_dataset[\"encoded_gender\"] = labelEncoder.fit_transform(train_dataset[\"gender\"] )\n",
        "print(\"Train Dataset Labels Encoding:\\n\")\n",
        "print(\"==============================\\n\",train_dataset)\n",
        "# fitting the label encoder on Test : gender column\n",
        "test_dataset[\"encoded_gender\"] = labelEncoder.transform(test_dataset[\"gender\"] )\n",
        "print(\"\\n\\n\\nTest Dataset Labels Encoding:\\n\")\n",
        "print(\"===============================\\n\",test_dataset)"
      ],
      "metadata": {
        "id": "nFVE0oDTWr18",
        "colab": {
          "base_uri": "https://localhost:8080/"
        },
        "outputId": "e37bd4fa-c0da-495a-dadd-67aaaa4e2fa7"
      },
      "execution_count": 25,
      "outputs": [
        {
          "output_type": "stream",
          "name": "stdout",
          "text": [
            "Train Dataset Labels Encoding:\n",
            "\n",
            "==============================\n",
            " index  index             comment_text  gender  encoded_gender\n",
            "0          0   r u cmng or u not cmng    male               1\n",
            "1          1               r you cmng  female               0\n",
            "2          2      i am fine  r u fine    male               1\n",
            "3          3             m fn and you  female               0\n",
            "4          4   my frnd is gr   wll dn    male               1\n",
            "5          5  my best friend is great  female               0\n",
            "6          6       we r nt going tday    male               1\n",
            "7          7     we r not going today  female               0\n",
            "8          8           i have a fever    male               1\n",
            "9          9      im not feeling well  female               0\n",
            "\n",
            "\n",
            "\n",
            "Test Dataset Labels Encoding:\n",
            "\n",
            "===============================\n",
            " index  index                        comment_text  gender  encoded_gender\n",
            "0          0  plz go out  plz out with with frnd    male               1\n",
            "1          1              r u going to walk  r u  female               0\n",
            "2          2                            r u fine    male               1\n",
            "3          3                        are you fine  female               0\n",
            "4          4              he is not feeling well  female               0\n"
          ]
        }
      ]
    },
    {
      "cell_type": "code",
      "source": [
        "vector = CountVectorizer(\n",
        "         strip_accents='unicode',\n",
        "         analyzer='word',\n",
        "         token_pattern=r'\\w{1,}',\n",
        "         stop_words='english',\n",
        "         ngram_range=(1, 1),\n",
        "         max_features=10)\n",
        " #concatenate train and test data\n",
        "allData = [train_dataset, test_dataset]\n",
        "allData = pd.concat(allData)\n",
        "# fit_transform vector on all Dataset (comments column)\n",
        "all_data_features = vector.fit_transform(allData[\"comment_text\"])"
      ],
      "metadata": {
        "id": "HLKDLvGhW74O"
      },
      "execution_count": 27,
      "outputs": []
    },
    {
      "cell_type": "code",
      "source": [
        "# Getting feature names\n",
        "all_data_feature_names = vector.get_feature_names_out()\n",
        "#print feature names\n",
        "print(\"Feature Name (Bag of words) : \\n\", all_data_feature_names)\n"
      ],
      "metadata": {
        "colab": {
          "base_uri": "https://localhost:8080/"
        },
        "id": "igRDY53hVlvg",
        "outputId": "ba6eb808-2c9c-4bb0-dc9f-e24d06e33427"
      },
      "execution_count": 32,
      "outputs": [
        {
          "output_type": "stream",
          "name": "stdout",
          "text": [
            "Feature Name (Bag of words) : \n",
            " ['cmng' 'feeling' 'fine' 'fn' 'friend' 'frnd' 'going' 'plz' 'r' 'u']\n"
          ]
        }
      ]
    },
    {
      "cell_type": "code",
      "source": [
        " # transform vector on train Dataset (text comments)\n",
        "train_features = vector.transform(train_dataset[\"comment_text\"])\n",
        "# Getting feature names\n",
        "train_feature_names = vector.get_feature_names_out()\n",
        "# sparse matrix\n",
        "train_data = pd.DataFrame(train_features.toarray(),\n",
        "columns=train_feature_names)\n",
        " # Assign Gender Column\n",
        "train_data = train_data.assign(gender =\n",
        "train_dataset[\"encoded_gender\"])\n",
        " # label index\n",
        "train_data.index.names = ['index']\n",
        "train_data.columns.name = train_data.index.name\n",
        "train_data.index.name = None"
      ],
      "metadata": {
        "id": "qjSXeqxMVzdt"
      },
      "execution_count": 34,
      "outputs": []
    },
    {
      "cell_type": "code",
      "source": [
        "#print feature names\n",
        "print(\"Feature Name (Bag of words) : \\n\", train_feature_names)\n",
        "#print Vocabulary\n",
        "print(\"\\nVocabulary: \\n\" ,vector.vocabulary_)\n",
        "# Print dataframe\n",
        "print(\"\\ntrain data after feature extraction:\")\n",
        "print(\"=====================================\")\n",
        "from IPython.display import display, HTML\n",
        "display(HTML(train_data.to_html()))"
      ],
      "metadata": {
        "colab": {
          "base_uri": "https://localhost:8080/",
          "height": 522
        },
        "id": "KzPqr9sXV6SF",
        "outputId": "71c212d1-6273-4907-f339-eaf49149347e"
      },
      "execution_count": 35,
      "outputs": [
        {
          "output_type": "stream",
          "name": "stdout",
          "text": [
            "Feature Name (Bag of words) : \n",
            " ['cmng' 'feeling' 'fine' 'fn' 'friend' 'frnd' 'going' 'plz' 'r' 'u']\n",
            "\n",
            "Vocabulary: \n",
            " {'r': np.int64(8), 'u': np.int64(9), 'cmng': np.int64(0), 'fine': np.int64(2), 'fn': np.int64(3), 'frnd': np.int64(5), 'friend': np.int64(4), 'going': np.int64(6), 'feeling': np.int64(1), 'plz': np.int64(7)}\n",
            "\n",
            "train data after feature extraction:\n",
            "=====================================\n"
          ]
        },
        {
          "output_type": "display_data",
          "data": {
            "text/plain": [
              "<IPython.core.display.HTML object>"
            ],
            "text/html": [
              "<table border=\"1\" class=\"dataframe\">\n",
              "  <thead>\n",
              "    <tr style=\"text-align: right;\">\n",
              "      <th>index</th>\n",
              "      <th>cmng</th>\n",
              "      <th>feeling</th>\n",
              "      <th>fine</th>\n",
              "      <th>fn</th>\n",
              "      <th>friend</th>\n",
              "      <th>frnd</th>\n",
              "      <th>going</th>\n",
              "      <th>plz</th>\n",
              "      <th>r</th>\n",
              "      <th>u</th>\n",
              "      <th>gender</th>\n",
              "    </tr>\n",
              "  </thead>\n",
              "  <tbody>\n",
              "    <tr>\n",
              "      <th>0</th>\n",
              "      <td>2</td>\n",
              "      <td>0</td>\n",
              "      <td>0</td>\n",
              "      <td>0</td>\n",
              "      <td>0</td>\n",
              "      <td>0</td>\n",
              "      <td>0</td>\n",
              "      <td>0</td>\n",
              "      <td>1</td>\n",
              "      <td>2</td>\n",
              "      <td>1</td>\n",
              "    </tr>\n",
              "    <tr>\n",
              "      <th>1</th>\n",
              "      <td>1</td>\n",
              "      <td>0</td>\n",
              "      <td>0</td>\n",
              "      <td>0</td>\n",
              "      <td>0</td>\n",
              "      <td>0</td>\n",
              "      <td>0</td>\n",
              "      <td>0</td>\n",
              "      <td>1</td>\n",
              "      <td>0</td>\n",
              "      <td>0</td>\n",
              "    </tr>\n",
              "    <tr>\n",
              "      <th>2</th>\n",
              "      <td>0</td>\n",
              "      <td>0</td>\n",
              "      <td>2</td>\n",
              "      <td>0</td>\n",
              "      <td>0</td>\n",
              "      <td>0</td>\n",
              "      <td>0</td>\n",
              "      <td>0</td>\n",
              "      <td>1</td>\n",
              "      <td>1</td>\n",
              "      <td>1</td>\n",
              "    </tr>\n",
              "    <tr>\n",
              "      <th>3</th>\n",
              "      <td>0</td>\n",
              "      <td>0</td>\n",
              "      <td>0</td>\n",
              "      <td>1</td>\n",
              "      <td>0</td>\n",
              "      <td>0</td>\n",
              "      <td>0</td>\n",
              "      <td>0</td>\n",
              "      <td>0</td>\n",
              "      <td>0</td>\n",
              "      <td>0</td>\n",
              "    </tr>\n",
              "    <tr>\n",
              "      <th>4</th>\n",
              "      <td>0</td>\n",
              "      <td>0</td>\n",
              "      <td>0</td>\n",
              "      <td>0</td>\n",
              "      <td>0</td>\n",
              "      <td>1</td>\n",
              "      <td>0</td>\n",
              "      <td>0</td>\n",
              "      <td>0</td>\n",
              "      <td>0</td>\n",
              "      <td>1</td>\n",
              "    </tr>\n",
              "    <tr>\n",
              "      <th>5</th>\n",
              "      <td>0</td>\n",
              "      <td>0</td>\n",
              "      <td>0</td>\n",
              "      <td>0</td>\n",
              "      <td>1</td>\n",
              "      <td>0</td>\n",
              "      <td>0</td>\n",
              "      <td>0</td>\n",
              "      <td>0</td>\n",
              "      <td>0</td>\n",
              "      <td>0</td>\n",
              "    </tr>\n",
              "    <tr>\n",
              "      <th>6</th>\n",
              "      <td>0</td>\n",
              "      <td>0</td>\n",
              "      <td>0</td>\n",
              "      <td>0</td>\n",
              "      <td>0</td>\n",
              "      <td>0</td>\n",
              "      <td>1</td>\n",
              "      <td>0</td>\n",
              "      <td>1</td>\n",
              "      <td>0</td>\n",
              "      <td>1</td>\n",
              "    </tr>\n",
              "    <tr>\n",
              "      <th>7</th>\n",
              "      <td>0</td>\n",
              "      <td>0</td>\n",
              "      <td>0</td>\n",
              "      <td>0</td>\n",
              "      <td>0</td>\n",
              "      <td>0</td>\n",
              "      <td>1</td>\n",
              "      <td>0</td>\n",
              "      <td>1</td>\n",
              "      <td>0</td>\n",
              "      <td>0</td>\n",
              "    </tr>\n",
              "    <tr>\n",
              "      <th>8</th>\n",
              "      <td>0</td>\n",
              "      <td>0</td>\n",
              "      <td>0</td>\n",
              "      <td>0</td>\n",
              "      <td>0</td>\n",
              "      <td>0</td>\n",
              "      <td>0</td>\n",
              "      <td>0</td>\n",
              "      <td>0</td>\n",
              "      <td>0</td>\n",
              "      <td>1</td>\n",
              "    </tr>\n",
              "    <tr>\n",
              "      <th>9</th>\n",
              "      <td>0</td>\n",
              "      <td>1</td>\n",
              "      <td>0</td>\n",
              "      <td>0</td>\n",
              "      <td>0</td>\n",
              "      <td>0</td>\n",
              "      <td>0</td>\n",
              "      <td>0</td>\n",
              "      <td>0</td>\n",
              "      <td>0</td>\n",
              "      <td>0</td>\n",
              "    </tr>\n",
              "  </tbody>\n",
              "</table>"
            ]
          },
          "metadata": {}
        }
      ]
    },
    {
      "cell_type": "code",
      "source": [
        "# transform vector on train Dataset (text comments)\n",
        "test_features = vector.transform(test_dataset[\"comment_text\"])\n",
        " #Getting feature names\n",
        "test_feature_names = vector.get_feature_names_out()\n",
        " #sparse matrix\n",
        "test_data = pd.DataFrame(test_features.toarray(), columns=test_feature_names)\n",
        "# Assign Gender Column\n",
        "test_data = test_data.assign(gender = test_dataset[\"encoded_gender\"])\n",
        "# label index\n",
        "test_data.index.names = ['index']\n",
        "test_data.columns.name = test_data.index.name\n",
        "test_data.index.name = None"
      ],
      "metadata": {
        "id": "dDWpi5mKWADg"
      },
      "execution_count": 37,
      "outputs": []
    },
    {
      "cell_type": "code",
      "source": [
        " #print feature names\n",
        "print(\"Feature Name (Bag of words) : \\n\", test_feature_names)\n",
        "#print Vocabulary\n",
        "print(\"\\nVocabulary: \\n\" ,vector.vocabulary_)\n",
        "# Print dataframe\n",
        "print(\"\\ntest data after feature extraction:\")\n",
        "print(\"=====================================\")\n",
        "from IPython.display import display, HTML\n",
        "display(HTML(test_data.to_html()))"
      ],
      "metadata": {
        "colab": {
          "base_uri": "https://localhost:8080/",
          "height": 365
        },
        "id": "AjMgytuRWOdC",
        "outputId": "30fa626f-7708-4c9b-8b00-38b221441f83"
      },
      "execution_count": 38,
      "outputs": [
        {
          "output_type": "stream",
          "name": "stdout",
          "text": [
            "Feature Name (Bag of words) : \n",
            " ['cmng' 'feeling' 'fine' 'fn' 'friend' 'frnd' 'going' 'plz' 'r' 'u']\n",
            "\n",
            "Vocabulary: \n",
            " {'r': np.int64(8), 'u': np.int64(9), 'cmng': np.int64(0), 'fine': np.int64(2), 'fn': np.int64(3), 'frnd': np.int64(5), 'friend': np.int64(4), 'going': np.int64(6), 'feeling': np.int64(1), 'plz': np.int64(7)}\n",
            "\n",
            "test data after feature extraction:\n",
            "=====================================\n"
          ]
        },
        {
          "output_type": "display_data",
          "data": {
            "text/plain": [
              "<IPython.core.display.HTML object>"
            ],
            "text/html": [
              "<table border=\"1\" class=\"dataframe\">\n",
              "  <thead>\n",
              "    <tr style=\"text-align: right;\">\n",
              "      <th>index</th>\n",
              "      <th>cmng</th>\n",
              "      <th>feeling</th>\n",
              "      <th>fine</th>\n",
              "      <th>fn</th>\n",
              "      <th>friend</th>\n",
              "      <th>frnd</th>\n",
              "      <th>going</th>\n",
              "      <th>plz</th>\n",
              "      <th>r</th>\n",
              "      <th>u</th>\n",
              "      <th>gender</th>\n",
              "    </tr>\n",
              "  </thead>\n",
              "  <tbody>\n",
              "    <tr>\n",
              "      <th>0</th>\n",
              "      <td>0</td>\n",
              "      <td>0</td>\n",
              "      <td>0</td>\n",
              "      <td>0</td>\n",
              "      <td>0</td>\n",
              "      <td>1</td>\n",
              "      <td>0</td>\n",
              "      <td>2</td>\n",
              "      <td>0</td>\n",
              "      <td>0</td>\n",
              "      <td>1</td>\n",
              "    </tr>\n",
              "    <tr>\n",
              "      <th>1</th>\n",
              "      <td>0</td>\n",
              "      <td>0</td>\n",
              "      <td>0</td>\n",
              "      <td>0</td>\n",
              "      <td>0</td>\n",
              "      <td>0</td>\n",
              "      <td>1</td>\n",
              "      <td>0</td>\n",
              "      <td>2</td>\n",
              "      <td>2</td>\n",
              "      <td>0</td>\n",
              "    </tr>\n",
              "    <tr>\n",
              "      <th>2</th>\n",
              "      <td>0</td>\n",
              "      <td>0</td>\n",
              "      <td>1</td>\n",
              "      <td>0</td>\n",
              "      <td>0</td>\n",
              "      <td>0</td>\n",
              "      <td>0</td>\n",
              "      <td>0</td>\n",
              "      <td>1</td>\n",
              "      <td>1</td>\n",
              "      <td>1</td>\n",
              "    </tr>\n",
              "    <tr>\n",
              "      <th>3</th>\n",
              "      <td>0</td>\n",
              "      <td>0</td>\n",
              "      <td>1</td>\n",
              "      <td>0</td>\n",
              "      <td>0</td>\n",
              "      <td>0</td>\n",
              "      <td>0</td>\n",
              "      <td>0</td>\n",
              "      <td>0</td>\n",
              "      <td>0</td>\n",
              "      <td>0</td>\n",
              "    </tr>\n",
              "    <tr>\n",
              "      <th>4</th>\n",
              "      <td>0</td>\n",
              "      <td>1</td>\n",
              "      <td>0</td>\n",
              "      <td>0</td>\n",
              "      <td>0</td>\n",
              "      <td>0</td>\n",
              "      <td>0</td>\n",
              "      <td>0</td>\n",
              "      <td>0</td>\n",
              "      <td>0</td>\n",
              "      <td>0</td>\n",
              "    </tr>\n",
              "  </tbody>\n",
              "</table>"
            ]
          },
          "metadata": {}
        }
      ]
    },
    {
      "cell_type": "code",
      "source": [
        " # Input features and target values of Train_Data\n",
        "train_target = train_data.gender\n",
        "print(\"train_features\")\n",
        "print(\"====================\\n\\n\",train_features)\n",
        "print(\"\\ntrain_target\")\n",
        "print(\"========================\\n\",train_target)\n",
        "# Input features and target values of test_Data\n",
        "test_target = test_data.gender\n",
        "print(\"\\ntest_features\")\n",
        "print(\"=====================\\n\\n\",test_features)\n",
        "print(\"\\ntest_target\")\n",
        "print(\"=======================\\n\\n\",test_target)"
      ],
      "metadata": {
        "colab": {
          "base_uri": "https://localhost:8080/"
        },
        "id": "9E15rrnnWUXV",
        "outputId": "0e844a19-e94a-4167-af00-8c958a211ffd"
      },
      "execution_count": 39,
      "outputs": [
        {
          "output_type": "stream",
          "name": "stdout",
          "text": [
            "train_features\n",
            "====================\n",
            "\n",
            " <Compressed Sparse Row sparse matrix of dtype 'int64'\n",
            "\twith 16 stored elements and shape (10, 10)>\n",
            "  Coords\tValues\n",
            "  (0, 0)\t2\n",
            "  (0, 8)\t1\n",
            "  (0, 9)\t2\n",
            "  (1, 0)\t1\n",
            "  (1, 8)\t1\n",
            "  (2, 2)\t2\n",
            "  (2, 8)\t1\n",
            "  (2, 9)\t1\n",
            "  (3, 3)\t1\n",
            "  (4, 5)\t1\n",
            "  (5, 4)\t1\n",
            "  (6, 6)\t1\n",
            "  (6, 8)\t1\n",
            "  (7, 6)\t1\n",
            "  (7, 8)\t1\n",
            "  (9, 1)\t1\n",
            "\n",
            "train_target\n",
            "========================\n",
            " 0    1\n",
            "1    0\n",
            "2    1\n",
            "3    0\n",
            "4    1\n",
            "5    0\n",
            "6    1\n",
            "7    0\n",
            "8    1\n",
            "9    0\n",
            "Name: gender, dtype: int64\n",
            "\n",
            "test_features\n",
            "=====================\n",
            "\n",
            " <Compressed Sparse Row sparse matrix of dtype 'int64'\n",
            "\twith 10 stored elements and shape (5, 10)>\n",
            "  Coords\tValues\n",
            "  (0, 5)\t1\n",
            "  (0, 7)\t2\n",
            "  (1, 6)\t1\n",
            "  (1, 8)\t2\n",
            "  (1, 9)\t2\n",
            "  (2, 2)\t1\n",
            "  (2, 8)\t1\n",
            "  (2, 9)\t1\n",
            "  (3, 2)\t1\n",
            "  (4, 1)\t1\n",
            "\n",
            "test_target\n",
            "=======================\n",
            "\n",
            " 0    1\n",
            "1    0\n",
            "2    1\n",
            "3    0\n",
            "4    0\n",
            "Name: gender, dtype: int64\n"
          ]
        }
      ]
    },
    {
      "cell_type": "code",
      "source": [
        "model_names = []\n",
        "# Logistic Regression\n",
        "logistic_regression = LogisticRegression()\n",
        "logistic_regression = logistic_regression.fit(train_features, train_target);\n",
        "print(\"Parameters and their values:\")\n",
        "print(\"===========================\\n\\n\", logistic_regression)\n",
        "model_names.append('Logistic Regression')"
      ],
      "metadata": {
        "colab": {
          "base_uri": "https://localhost:8080/"
        },
        "id": "jAHwnhltWY8C",
        "outputId": "faa1c603-0e67-43a8-8bf0-527f6c780d87"
      },
      "execution_count": 40,
      "outputs": [
        {
          "output_type": "stream",
          "name": "stdout",
          "text": [
            "Parameters and their values:\n",
            "===========================\n",
            "\n",
            " LogisticRegression()\n"
          ]
        }
      ]
    },
    {
      "cell_type": "code",
      "source": [
        "random_forest_classifier = RandomForestClassifier()\n",
        "random_forest = random_forest_classifier.fit(train_features, train_target);\n",
        "print(\"Parameters and their values:\")\n",
        "print(\"===========================\\n\\n\", random_forest)\n",
        "model_names.append('Random Forest')"
      ],
      "metadata": {
        "colab": {
          "base_uri": "https://localhost:8080/"
        },
        "id": "-Bsi81XiWd_U",
        "outputId": "94dd9816-40e1-43b6-d382-77d90fbe6780"
      },
      "execution_count": 41,
      "outputs": [
        {
          "output_type": "stream",
          "name": "stdout",
          "text": [
            "Parameters and their values:\n",
            "===========================\n",
            "\n",
            " RandomForestClassifier()\n"
          ]
        }
      ]
    },
    {
      "cell_type": "code",
      "source": [
        "linear_svc = LinearSVC()\n",
        "linear_svc=linear_svc.fit(train_features, train_target);\n",
        "print(\"Parameters and their values:\")\n",
        "print(\"===========================\\n\\n\", linear_svc)\n",
        "model_names.append('Linear SVC')"
      ],
      "metadata": {
        "colab": {
          "base_uri": "https://localhost:8080/"
        },
        "id": "h050a3wFWm_W",
        "outputId": "edaa0a03-dbac-4a89-a1a6-77e511e555f1"
      },
      "execution_count": 42,
      "outputs": [
        {
          "output_type": "stream",
          "name": "stdout",
          "text": [
            "Parameters and their values:\n",
            "===========================\n",
            "\n",
            " LinearSVC()\n"
          ]
        }
      ]
    },
    {
      "cell_type": "code",
      "source": [
        "bernoulli_nb = BernoulliNB()\n",
        "bernoulli_nb = bernoulli_nb.fit(train_features, train_target);\n",
        "print(\"Parameters and their values:\")\n",
        "print(\"===========================\\n\\n\",bernoulli_nb )\n",
        "model_names.append('Bernoulli NB')"
      ],
      "metadata": {
        "colab": {
          "base_uri": "https://localhost:8080/"
        },
        "id": "yrB8IKPNWovj",
        "outputId": "ab9479a7-6a0c-4a1b-f0c9-2a640f5d3b82"
      },
      "execution_count": 43,
      "outputs": [
        {
          "output_type": "stream",
          "name": "stdout",
          "text": [
            "Parameters and their values:\n",
            "===========================\n",
            "\n",
            " BernoulliNB()\n"
          ]
        }
      ]
    },
    {
      "cell_type": "code",
      "source": [
        "scores = []\n",
        "# Evaluating Logistic Regression\n",
        "# Using the predict method on the test data\n",
        "predictions = logistic_regression.predict(test_features)\n",
        "# accuracy score\n",
        "logistic_regression_prediction= accuracy_score(test_target, predictions)\n",
        "print(\"Accuracy Score: \",logistic_regression_prediction)\n",
        "scores.append(logistic_regression_prediction)"
      ],
      "metadata": {
        "colab": {
          "base_uri": "https://localhost:8080/"
        },
        "id": "UEiLgSVRWsf-",
        "outputId": "ae891b98-7095-4312-97c9-934a7cf3713e"
      },
      "execution_count": 44,
      "outputs": [
        {
          "output_type": "stream",
          "name": "stdout",
          "text": [
            "Accuracy Score:  0.6\n"
          ]
        }
      ]
    },
    {
      "cell_type": "code",
      "source": [
        "#Random Forest Classifier\n",
        "# Using the predict method on the test data\n",
        "predictions = random_forest.predict(test_features)\n",
        "# accuracy score\n",
        "random_forest_prediction= accuracy_score(test_target, predictions)\n",
        "print(\"Accuracy Score: \",random_forest_prediction)\n",
        "scores.append(random_forest_prediction)"
      ],
      "metadata": {
        "colab": {
          "base_uri": "https://localhost:8080/"
        },
        "id": "diKyHizvW1A9",
        "outputId": "0f56c5d5-4ec9-4211-ad8a-2dd08c1adc1b"
      },
      "execution_count": 45,
      "outputs": [
        {
          "output_type": "stream",
          "name": "stdout",
          "text": [
            "Accuracy Score:  0.6\n"
          ]
        }
      ]
    },
    {
      "cell_type": "code",
      "source": [
        "# Using the predict method on the test data\n",
        "predictions = linear_svc.predict(test_features)\n",
        "# accuracy score\n",
        "linear_svc_prediction= accuracy_score(test_target, predictions)\n",
        "print(\"Accuracy Score: \",linear_svc_prediction)\n",
        "scores.append(linear_svc_prediction)"
      ],
      "metadata": {
        "colab": {
          "base_uri": "https://localhost:8080/"
        },
        "id": "w5U9guFjW-Zi",
        "outputId": "958092ff-144e-47f4-a0fe-8afa997f76e1"
      },
      "execution_count": 46,
      "outputs": [
        {
          "output_type": "stream",
          "name": "stdout",
          "text": [
            "Accuracy Score:  0.6\n"
          ]
        }
      ]
    },
    {
      "cell_type": "code",
      "source": [
        "# Using the predict method on the test data\n",
        "predictions = bernoulli_nb.predict(test_features)\n",
        "# accuracy score\n",
        "bernoulli_nb_prediction= accuracy_score(test_target, predictions)\n",
        "print(\"Accuracy Score: \",bernoulli_nb_prediction)\n",
        "scores.append(bernoulli_nb_prediction)"
      ],
      "metadata": {
        "colab": {
          "base_uri": "https://localhost:8080/"
        },
        "id": "EDS9fTFAXDQK",
        "outputId": "2614b176-fe9d-4934-c138-61a1d9932f96"
      },
      "execution_count": 49,
      "outputs": [
        {
          "output_type": "stream",
          "name": "stdout",
          "text": [
            "Accuracy Score:  0.6\n"
          ]
        }
      ]
    },
    {
      "cell_type": "code",
      "source": [
        "x = PrettyTable()\n",
        "print('\\n\\nDetailed Performance of all the models.')\n",
        "print(\"=======================================\\n\")\n",
        "x.field_names = ['Model', 'Accuracy']\n",
        "for i in range(0,4):\n",
        "    x.add_row([model_names[i],scores[i]])\n",
        "print(x)"
      ],
      "metadata": {
        "colab": {
          "base_uri": "https://localhost:8080/"
        },
        "id": "8hJosv0ZXSmV",
        "outputId": "36a109f8-7c64-43e3-f343-7fc125a306ec"
      },
      "execution_count": 50,
      "outputs": [
        {
          "output_type": "stream",
          "name": "stdout",
          "text": [
            "\n",
            "\n",
            "Detailed Performance of all the models.\n",
            "=======================================\n",
            "\n",
            "+---------------------+----------+\n",
            "|        Model        | Accuracy |\n",
            "+---------------------+----------+\n",
            "| Logistic Regression |   0.6    |\n",
            "|    Random Forest    |   0.6    |\n",
            "|      Linear SVC     |   0.6    |\n",
            "|     Bernoulli NB    |   0.6    |\n",
            "+---------------------+----------+\n"
          ]
        }
      ]
    },
    {
      "cell_type": "code",
      "source": [
        " # Best model selection\n",
        "y = PrettyTable()\n",
        "print(\"\\n\\nBest Model.\")\n",
        "print(\"========================================\")\n",
        "y.field_names = [\"Models\", \"Accuracy\"]\n",
        "j = 0\n",
        "for i in range(0,4):\n",
        "  score1 = scores[i-1]\n",
        "  score2 = scores[j]\n",
        "  if(score1 >= score2):\n",
        "     index = i\n",
        "  else:\n",
        "     index = j\n",
        "y.add_row([model_names[index],scores[index]])\n",
        "print(y)"
      ],
      "metadata": {
        "colab": {
          "base_uri": "https://localhost:8080/"
        },
        "id": "2uGmozMhXY6q",
        "outputId": "91c4d0e4-0d68-4fa7-cfb5-282d609391f1"
      },
      "execution_count": 52,
      "outputs": [
        {
          "output_type": "stream",
          "name": "stdout",
          "text": [
            "\n",
            "\n",
            "Best Model.\n",
            "========================================\n",
            "+--------------+----------+\n",
            "|    Models    | Accuracy |\n",
            "+--------------+----------+\n",
            "| Bernoulli NB |   0.6    |\n",
            "+--------------+----------+\n"
          ]
        }
      ]
    },
    {
      "cell_type": "code",
      "source": [
        "#concatenate train and test features\n",
        "all_data = [train_data, test_data]\n",
        "all_data = pd.concat(all_data)\n",
        " # Separate input features and target values\n",
        " # target are the values we want to predict, in this case is 'gender'\n",
        "target_values = np.array(all_data[\"gender\"])\n",
        "all_features = all_data.drop('gender', axis = 1)"
      ],
      "metadata": {
        "id": "LWSVCHFTXpHT"
      },
      "execution_count": 53,
      "outputs": []
    },
    {
      "cell_type": "code",
      "source": [
        "classifier = logistic_regression.fit(all_features,\n",
        "              target_values )"
      ],
      "metadata": {
        "id": "r4GXM-w0XpD7"
      },
      "execution_count": 54,
      "outputs": []
    },
    {
      "cell_type": "code",
      "source": [
        "pickle.dump(classifier, open('classifier.pkl', 'wb'))\n",
        "dump(vector, 'vectorizer.joblib')\n",
        "print()"
      ],
      "metadata": {
        "colab": {
          "base_uri": "https://localhost:8080/"
        },
        "id": "6OxWE4NFX1WS",
        "outputId": "cfc1be57-fac8-43a3-dd45-210dc60dfc60"
      },
      "execution_count": 55,
      "outputs": [
        {
          "output_type": "stream",
          "name": "stdout",
          "text": [
            "\n"
          ]
        }
      ]
    },
    {
      "cell_type": "code",
      "source": [
        "best_classifier = pickle.load(open('classifier.pkl', 'rb'))\n",
        "vector = load('vectorizer.joblib')"
      ],
      "metadata": {
        "id": "HsPQH5ucX3rv"
      },
      "execution_count": 56,
      "outputs": []
    },
    {
      "cell_type": "code",
      "source": [
        "user_input = input(\"Please enter your comment here: \").strip()"
      ],
      "metadata": {
        "colab": {
          "base_uri": "https://localhost:8080/"
        },
        "id": "LMSEFTLcX9Ff",
        "outputId": "e875d97d-5fe5-4f76-e4f5-bbd0842d2af5"
      },
      "execution_count": 57,
      "outputs": [
        {
          "name": "stdout",
          "output_type": "stream",
          "text": [
            "Please enter your comment here: this is good and exilent \n"
          ]
        }
      ]
    },
    {
      "cell_type": "code",
      "source": [
        " # convert into 1d array\n",
        "data = [user_input]\n",
        "# transforming it to get sparse matrix\n",
        "transformed_input = vector.transform(data)\n",
        "print(\"Vector features: \")\n",
        "print(\"=============\\n\", vector.get_feature_names_out())\n",
        "user_input_features = pd.DataFrame(transformed_input.toarray(),\n",
        "                                   columns=vector.get_feature_names_out())\n",
        "print(\"\\nUser input features with weights\\n\")\n",
        "print(\"======================\\n\",user_input_features)"
      ],
      "metadata": {
        "colab": {
          "base_uri": "https://localhost:8080/"
        },
        "id": "HSRbazXeYJMj",
        "outputId": "22484a9f-e46a-4bed-ac61-29ce0670d0bd"
      },
      "execution_count": 60,
      "outputs": [
        {
          "output_type": "stream",
          "name": "stdout",
          "text": [
            "Vector features: \n",
            "=============\n",
            " ['cmng' 'feeling' 'fine' 'fn' 'friend' 'frnd' 'going' 'plz' 'r' 'u']\n",
            "\n",
            "User input features with weights\n",
            "\n",
            "======================\n",
            "    cmng  feeling  fine  fn  friend  frnd  going  plz  r  u\n",
            "0     0        0     0   0       0     0      0    0  0  0\n"
          ]
        }
      ]
    },
    {
      "cell_type": "code",
      "source": [
        "prediction = best_classifier.predict(transformed_input)\n",
        "t = PrettyTable([\" **      Prediction   **\"])\n",
        "if(prediction == 1):\n",
        " t.add_row(['Male'])\n",
        "if(prediction == 0):\n",
        " t.add_row(['Female'])\n",
        "\n",
        "print(t)"
      ],
      "metadata": {
        "colab": {
          "base_uri": "https://localhost:8080/"
        },
        "id": "xtI36LUYYP5N",
        "outputId": "87493b7a-2997-41d0-b418-b668b113bf3c"
      },
      "execution_count": 61,
      "outputs": [
        {
          "output_type": "stream",
          "name": "stdout",
          "text": [
            "+--------------------------+\n",
            "|  **      Prediction   ** |\n",
            "+--------------------------+\n",
            "|          Female          |\n",
            "+--------------------------+\n"
          ]
        },
        {
          "output_type": "stream",
          "name": "stderr",
          "text": [
            "/usr/local/lib/python3.11/dist-packages/sklearn/utils/validation.py:2739: UserWarning: X does not have valid feature names, but LogisticRegression was fitted with feature names\n",
            "  warnings.warn(\n"
          ]
        }
      ]
    },
    {
      "cell_type": "code",
      "source": [],
      "metadata": {
        "id": "uAkNwEsDYj18"
      },
      "execution_count": null,
      "outputs": []
    }
  ]
}
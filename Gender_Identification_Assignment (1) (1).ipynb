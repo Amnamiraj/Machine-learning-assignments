{
  "cells": [
    {
      "cell_type": "markdown",
      "metadata": {
        "id": "H_WQT7otjDCz"
      },
      "source": [
        "<center> <h1> Machine Learning Assignment 2</h1> </center>\n",
        "<center> <h1> Gender Identification using Scikit-Learn </h1> </center>\n",
        "<center> <h1> (Step-wise Tutorial)</h1> </center>\n",
        "<br><br><br>\n",
        "<center> <h1> Instructor: Muhammad Tahir Sohail </h1></center>\n",
        "<center> <h1> Deadline : 14-04-2025 </h1></center>\n",
        "<center> <h1> Submit format: ipynb file(this file) </h1></center>"
      ]
    },
    {
      "cell_type": "markdown",
      "metadata": {
        "id": "bOI_yzNfjDC4"
      },
      "source": [
        "**Overview**<br>\n",
        "The main objective of this tutorial is to provide the complete understanding of gender identification using Machine Learning toolkit (scikit-learn). In this tutorial, we are going to use the structured dataset about male and female. The dataset consists of set of input attributes (Height, Weight, Hair Length, Beard, Scarf) and ouput attribute (Male, Female). The task is to predict male and female from input attributes using Machine Learning algorithms. <br><br>\n",
        "**Machine Learning Approach:** <br>The problem of Gender Identication is treated as a supervised learning approach because we going to use the labelled dataset.<br><br> **The Input and Output are:**<br>\n",
        "<b> - Input:</b> Set of Attributes (Height, Weight, Hair Length, Beard, Scarf))<br><br>\n",
        "<b> - Output:</b> Gender (Male/Female)<br><br>\n",
        "<b> - Goal:</b> Learn from Input to predict Output<br><br>\n",
        "    \n",
        "<h3> Three Phases of Machine Learning: </h3><br><br>\n",
        "<b>1. Training Phase </b>– Learn from Training Dataset.<br><br>\n",
        "<b>2. Testing/Validation/Evaluation Phase</b> – Evaluate how well the algorithm learned.<br><br>\n",
        "<b>3. Application Phase</b>– Use your learned/trained models in real world application.<br><br>\n"
      ]
    },
    {
      "cell_type": "markdown",
      "metadata": {
        "id": "nX22ZVk5jDC5"
      },
      "source": [
        "<center><h1> Table of Contents </h1></center>\n",
        "<h2>PHASE 1 & 2: TRAINING AND TESTING </h2>\n",
        "\n",
        "**Step 1:** Import Libraries<br><br>\n",
        "**Step 2:** Read, Understand and Pre-process Train/Test Data<br><br>\n",
        "**Step 2.1:** Read Data<br><br>\n",
        "**Step 2.2:** Understand Data<br><br>\n",
        "**Step 2.3:** Pre-process Data<br><br>\n",
        "**Step 3:** Label Encoding for Train/Test Data<br><br>\n",
        "**Step 4:** Feature Extraction – Changing Representation of features “from String to Feature-Vector”<br><br>\n",
        "**Step 5:** Train Machine Learning Algorithms using Training Data<br><br>\n",
        "**Step 6:** Evaluate Machine Learning Algorithms using Test Data<br><br>\n",
        "**Step 7:** Selection of Best Model<br><br><br><br>\n",
        "\n",
        "\n",
        "<h2> PHASE 3: APPLICATION PHASE</h2><br>\n",
        "**Step 8:** Application Phase<br><br>\n",
        "**Step 8.1:** Combine Dataset (Train + Test )¶<br><br>\n",
        "**Step 8.2:** Train Best Model (see Step 7) on all data(Train+Test)<br><br>\n",
        "**Step 8.3:** Save the Trained Model in Pickle File<br><br>\n",
        "**Step 9:** Make predictions on unseen/new data<br><br>\n",
        "**Step 9.1:** Load the Trained Model (saved in Step 8.3)<br><br>\n",
        "**Step 9.2:** Take Input from User<br><br>\n",
        "**Step 9.3:** Convert User Input into Feature Vector (Same as Feature Vector of Trained Model)<br><br>\n",
        "**Step 9.4:** Apply Trained Model on Feature Vector of Unseen Dataset and Output Prediction (Male/Female) to User\n"
      ]
    },
    {
      "cell_type": "markdown",
      "metadata": {
        "id": "wDs0NU3njDC6"
      },
      "source": [
        "# Step 1: Import Libraries"
      ]
    },
    {
      "cell_type": "code",
      "execution_count": 1,
      "metadata": {
        "id": "vRwut4MmjDC7"
      },
      "outputs": [],
      "source": [
        "import re\n",
        "import scipy\n",
        "import string\n",
        "import pickle\n",
        "import warnings\n",
        "import numpy as np\n",
        "import pandas as pd\n",
        "import matplotlib.pyplot as plt\n",
        "\n",
        "from sklearn.preprocessing import LabelEncoder\n",
        "from sklearn.svm import LinearSVC\n",
        "from sklearn.naive_bayes import BernoulliNB\n",
        "from sklearn.ensemble import RandomForestClassifier\n",
        "from sklearn.linear_model import LogisticRegression\n",
        "from sklearn.metrics import accuracy_score\n",
        "\n",
        "from prettytable import PrettyTable\n",
        "from astropy.table import Table, Column\n"
      ]
    },
    {
      "cell_type": "markdown",
      "metadata": {
        "id": "gTvGeMt7jDC9"
      },
      "source": [
        "# Step 2: Read, Understand & Pre-process Train/Test Data"
      ]
    },
    {
      "cell_type": "code",
      "execution_count": 2,
      "metadata": {
        "colab": {
          "base_uri": "https://localhost:8080/"
        },
        "id": "UmwYA7DzjDDB",
        "outputId": "28df459e-f426-4df6-da7c-43154f0986d4"
      },
      "outputs": [
        {
          "output_type": "stream",
          "name": "stdout",
          "text": [
            "Attributes name in train dataset\n",
            "================================\n",
            "\n",
            "Index(['height', 'weight', 'hair', 'beard', 'scarf', 'gender'], dtype='object')\n",
            "\n",
            "Number of instances in train dataset\n",
            "====================================\n",
            "Train instances: 6\n",
            "\n",
            "Train dataset\n",
            "==============\n",
            "index    height  weight    hair beard scarf  gender\n",
            "0      180.3000     196    Bald   Yes    No    Male\n",
            "1      170.0000     120    Long    No    No  Female\n",
            "2      178.5000     200   Short    No    No    Male\n",
            "3      163.4000     110  Medium    No   Yes  Female\n",
            "4      175.2222     220   Short   Yes    No    Male\n",
            "5      165.0000     150  Medium    No   Yes  Female\n"
          ]
        }
      ],
      "source": [
        "\n",
        "train_dataset=pd.read_csv(\"Gender_Identification_train.csv\")\n",
        "train_dataset.head(6)\n",
        "print(\"Attributes name in train dataset\")\n",
        "print(\"================================\\n\")\n",
        "print(train_dataset.columns)\n",
        "print(\"\\nNumber of instances in train dataset\")\n",
        "print(\"====================================\")\n",
        "print(\"Train instances:\",train_dataset.shape[0])\n",
        "print(\"\\nTrain dataset\")\n",
        "print(\"==============\")\n",
        "train_dataset.index.names=['index']\n",
        "train_dataset.columns.name=train_dataset.index.name\n",
        "train_dataset.index.name=None\n",
        "print(train_dataset)"
      ]
    },
    {
      "cell_type": "code",
      "execution_count": 4,
      "metadata": {
        "colab": {
          "base_uri": "https://localhost:8080/"
        },
        "id": "OvHZYA0-dzC4",
        "outputId": "75756481-5d9b-4c2e-a2e7-9d42771d3617"
      },
      "outputs": [
        {
          "output_type": "stream",
          "name": "stdout",
          "text": [
            "Attributes name in test dataset\n",
            "================================\n",
            "\n",
            "Index(['height', 'weight', 'hair', 'beard', 'scarf', 'gender'], dtype='object')\n",
            "\n",
            "Number of instances in test dataset\n",
            "====================================\n",
            "Test instances: 4\n",
            "\n",
            "Test dataset\n",
            "==============\n",
            "index  height  weight    hair beard scarf  gender\n",
            "0       179.1     185    Long   Yes    No    Male\n",
            "1       160.5     130   Short    No    No  Female\n",
            "2       177.8     160    Bald    No    No    Male\n",
            "3       161.1     100  Medium    No    No  Female\n"
          ]
        }
      ],
      "source": [
        "test_dataset=pd.read_csv(\"Gender_Identification_test.csv\")\n",
        "test_dataset.head(4)\n",
        "print(\"Attributes name in test dataset\")\n",
        "print(\"================================\\n\")\n",
        "print(test_dataset.columns)\n",
        "print(\"\\nNumber of instances in test dataset\")\n",
        "print(\"====================================\")\n",
        "print(\"Test instances:\",test_dataset.shape[0])\n",
        "print(\"\\nTest dataset\")\n",
        "print(\"==============\")\n",
        "test_dataset.index.names=['index']\n",
        "test_dataset.columns.name=test_dataset.index.name\n",
        "test_dataset.index.name=None\n",
        "print(test_dataset)"
      ]
    },
    {
      "cell_type": "code",
      "execution_count": 5,
      "metadata": {
        "colab": {
          "base_uri": "https://localhost:8080/"
        },
        "id": "QCaC779SjDDC",
        "outputId": "3e636c78-77c3-4804-cd87-9f71109f09d3"
      },
      "outputs": [
        {
          "output_type": "stream",
          "name": "stdout",
          "text": [
            "3  Train instances having label 'Male':\n",
            "======================================\n",
            "index    height  weight   hair beard scarf gender\n",
            "0      180.3000     196   Bald   Yes    No   Male\n",
            "2      178.5000     200  Short    No    No   Male\n",
            "4      175.2222     220  Short   Yes    No   Male\n",
            "\n",
            "\n",
            "\n",
            " 3  Train instances having label 'Female':\n",
            "==========================================\n",
            "index  height  weight    hair beard scarf  gender\n",
            "1       170.0     120    Long    No    No  Female\n",
            "3       163.4     110  Medium    No   Yes  Female\n",
            "5       165.0     150  Medium    No   Yes  Female\n"
          ]
        }
      ],
      "source": [
        "train_Male = train_dataset[train_dataset['gender'] == 'Male']\n",
        "train_Female = train_dataset[train_dataset['gender'] == 'Female']\n",
        "print(train_Male.shape[0],\" Train instances having label 'Male':\")\n",
        "print(\"======================================\")\n",
        "train_Male.index.names = ['index']\n",
        "train_Male.columns.name = train_Male.index.name\n",
        "train_Male.index.name = None\n",
        "print(train_Male)\n",
        "print(\"\\n\\n\\n\",train_Female.shape[0],\" Train instances having label 'Female':\")\n",
        "print(\"==========================================\")\n",
        "train_Female.index.names = ['index']\n",
        "train_Female.columns.name = train_Female.index.name\n",
        "train_Female.index.name = None\n",
        "print(train_Female)"
      ]
    },
    {
      "cell_type": "code",
      "execution_count": 6,
      "metadata": {
        "colab": {
          "base_uri": "https://localhost:8080/"
        },
        "id": "a2qepx9pgqDk",
        "outputId": "54295dd1-595c-466a-ab72-e08a8473a399"
      },
      "outputs": [
        {
          "output_type": "stream",
          "name": "stdout",
          "text": [
            "\n",
            "\n",
            " 2  Test instances having label 'Male':\n",
            "======================================\n",
            "index  height  weight  hair beard scarf gender\n",
            "0       179.1     185  Long   Yes    No   Male\n",
            "2       177.8     160  Bald    No    No   Male\n",
            "\n",
            "\n",
            "\n",
            " 2  Test instances having label 'Female':\n",
            "=========================================\n",
            "index  height  weight    hair beard scarf  gender\n",
            "1       160.5     130   Short    No    No  Female\n",
            "3       161.1     100  Medium    No    No  Female\n"
          ]
        }
      ],
      "source": [
        "test_Male = test_dataset[test_dataset['gender'] == 'Male']\n",
        "test_Female = test_dataset[test_dataset['gender'] == 'Female']\n",
        "print(\"\\n\\n\",test_Male.shape[0],\" Test instances having label 'Male':\")\n",
        "print(\"======================================\")\n",
        "test_Male.index.names = ['index']\n",
        "test_Male.columns.name = test_Male.index.name\n",
        "test_Male.index.name = None\n",
        "print(test_Male)\n",
        "print(\"\\n\\n\\n\",test_Female.shape[0],\" Test instances having label 'Female':\")\n",
        "print(\"=========================================\")\n",
        "test_Female.index.names = ['index']\n",
        "test_Female.columns.name = test_Female.index.name\n",
        "test_Female.index.name = None\n",
        "print(test_Female)"
      ]
    },
    {
      "cell_type": "markdown",
      "metadata": {
        "id": "eZIRkafkjDDD"
      },
      "source": [
        "### Uderstanding Data via Graphs"
      ]
    },
    {
      "cell_type": "code",
      "execution_count": 7,
      "metadata": {
        "colab": {
          "base_uri": "https://localhost:8080/",
          "height": 503
        },
        "id": "PTzpWkK9jDDE",
        "outputId": "f452db5a-71ff-4062-f27b-ff73518a5b8c"
      },
      "outputs": [
        {
          "output_type": "stream",
          "name": "stdout",
          "text": [
            "Total number of 'Males' and 'Females' in Train Dataset\n",
            "======================================================\n"
          ]
        },
        {
          "output_type": "execute_result",
          "data": {
            "text/plain": [
              "<Axes: xlabel='Gender'>"
            ]
          },
          "metadata": {},
          "execution_count": 7
        },
        {
          "output_type": "display_data",
          "data": {
            "text/plain": [
              "<Figure size 640x480 with 1 Axes>"
            ],
            "image/png": "[encoded data removed]"
          },
          "metadata": {}
        }
      ],
      "source": [
        "print(\"Total number of 'Males' and 'Females' in Train Dataset\")\n",
        "print(\"======================================================\")\n",
        "graph_df = pd.DataFrame({'Gender':['Female', 'Male'],'Frequency':[3,3]})\n",
        "graph_df.plot.bar(x='Gender', y='Frequency', rot=0)"
      ]
    },
    {
      "cell_type": "code",
      "execution_count": 8,
      "metadata": {
        "colab": {
          "base_uri": "https://localhost:8080/",
          "height": 503
        },
        "id": "TqzNwgB9jDDE",
        "outputId": "16e2f377-2940-41f0-e57f-273b82959998"
      },
      "outputs": [
        {
          "output_type": "stream",
          "name": "stdout",
          "text": [
            "Total number of 'Males' and 'Females' in Test Dataset\n",
            "=====================================================\n"
          ]
        },
        {
          "output_type": "execute_result",
          "data": {
            "text/plain": [
              "<Axes: xlabel='Gender'>"
            ]
          },
          "metadata": {},
          "execution_count": 8
        },
        {
          "output_type": "display_data",
          "data": {
            "text/plain": [
              "<Figure size 640x480 with 1 Axes>"
            ],
            "image/png": "[encoded data removed]"
          },
          "metadata": {}
        }
      ],
      "source": [
        "print(\"Total number of 'Males' and 'Females' in Test Dataset\")\n",
        "print(\"=====================================================\")\n",
        "graph_df = pd.DataFrame({'Gender':['Female', 'Male'],'Frequency':[2,2]})\n",
        "graph_df.plot.bar(x='Gender', y='Frequency', rot=0)\n"
      ]
    },
    {
      "cell_type": "code",
      "execution_count": 9,
      "metadata": {
        "colab": {
          "base_uri": "https://localhost:8080/",
          "height": 527
        },
        "id": "iNBtSrjNjDDF",
        "outputId": "44cffa3d-7283-4713-8101-29931900e5d4"
      },
      "outputs": [
        {
          "output_type": "stream",
          "name": "stdout",
          "text": [
            "Number of people having various hair length in Train dataset:\n",
            "=============================================================\n"
          ]
        },
        {
          "output_type": "execute_result",
          "data": {
            "text/plain": [
              "<Axes: >"
            ]
          },
          "metadata": {},
          "execution_count": 9
        },
        {
          "output_type": "display_data",
          "data": {
            "text/plain": [
              "<Figure size 640x480 with 1 Axes>"
            ],
            "image/png": "[encoded data removed]"
          },
          "metadata": {}
        }
      ],
      "source": [
        "train_hair = pd.Series(' '.join(train_dataset['hair'].astype(str)).lower().split(\" \")).value_counts()\n",
        "print(\"Number of people having various hair length in Train dataset:\")\n",
        "print(\"=============================================================\")\n",
        "train_hair.plot(kind='bar',stacked=True, colormap='RdGy')\n"
      ]
    },
    {
      "cell_type": "code",
      "execution_count": 10,
      "metadata": {
        "colab": {
          "base_uri": "https://localhost:8080/",
          "height": 527
        },
        "id": "a9Bii2gJjDDF",
        "outputId": "92acfc31-6cf7-4737-edf4-f9f0de33078a"
      },
      "outputs": [
        {
          "output_type": "stream",
          "name": "stdout",
          "text": [
            "Number of people having various hair length in Test dataset:\n",
            "============================================================\n"
          ]
        },
        {
          "output_type": "execute_result",
          "data": {
            "text/plain": [
              "<Axes: >"
            ]
          },
          "metadata": {},
          "execution_count": 10
        },
        {
          "output_type": "display_data",
          "data": {
            "text/plain": [
              "<Figure size 640x480 with 1 Axes>"
            ],
            "image/png": "[encoded data removed]"
          },
          "metadata": {}
        }
      ],
      "source": [
        "test_hair = pd.Series(' '.join(test_dataset['hair'].astype(str)).lower().split(\" \")).value_counts()\n",
        "print(\"Number of people having various hair length in Test dataset:\")\n",
        "print(\"============================================================\")\n",
        "test_hair.plot(kind='bar',stacked=True, colormap='plasma')"
      ]
    },
    {
      "cell_type": "code",
      "execution_count": 11,
      "metadata": {
        "colab": {
          "base_uri": "https://localhost:8080/",
          "height": 494
        },
        "id": "W6aG9RZJjDDG",
        "outputId": "9575f77b-a009-45cb-b78a-fa39d5b48ffe"
      },
      "outputs": [
        {
          "output_type": "stream",
          "name": "stdout",
          "text": [
            "Number of people have/haven't beard in Train dataset:\n",
            "====================================================\n"
          ]
        },
        {
          "output_type": "execute_result",
          "data": {
            "text/plain": [
              "<Axes: >"
            ]
          },
          "metadata": {},
          "execution_count": 11
        },
        {
          "output_type": "display_data",
          "data": {
            "text/plain": [
              "<Figure size 640x480 with 1 Axes>"
            ],
            "image/png": "[encoded data removed]"
          },
          "metadata": {}
        }
      ],
      "source": [
        "train_beard = pd.Series(' '.join(train_dataset['beard'].astype(str)).lower().split(\" \")).value_counts()\n",
        "print(\"Number of people have/haven't beard in Train dataset:\")\n",
        "print(\"====================================================\")\n",
        "train_beard.plot(kind='bar',stacked=True, colormap='RdGy_r')\n"
      ]
    },
    {
      "cell_type": "code",
      "execution_count": 12,
      "metadata": {
        "colab": {
          "base_uri": "https://localhost:8080/",
          "height": 494
        },
        "id": "KGmCZLDNjDDG",
        "outputId": "562c4688-2c5f-45ca-8a4e-0bcdd53c207a"
      },
      "outputs": [
        {
          "output_type": "stream",
          "name": "stdout",
          "text": [
            "Number of people have/haven't beard in Test dataset:\n",
            "====================================================\n"
          ]
        },
        {
          "output_type": "execute_result",
          "data": {
            "text/plain": [
              "<Axes: >"
            ]
          },
          "metadata": {},
          "execution_count": 12
        },
        {
          "output_type": "display_data",
          "data": {
            "text/plain": [
              "<Figure size 640x480 with 1 Axes>"
            ],
            "image/png": "[encoded data removed]"
          },
          "metadata": {}
        }
      ],
      "source": [
        "test_beard = pd.Series(' '.join(test_dataset['beard'].astype(str)).lower().split(\" \")).value_counts()\n",
        "print(\"Number of people have/haven't beard in Test dataset:\")\n",
        "print(\"====================================================\")\n",
        "test_beard.plot(kind='bar',stacked=True, colormap='plasma_r')\n"
      ]
    },
    {
      "cell_type": "markdown",
      "metadata": {
        "id": "rkgbJISejDDH"
      },
      "source": [
        "### Step 2.3: Pre-Process Data"
      ]
    },
    {
      "cell_type": "code",
      "execution_count": 13,
      "metadata": {
        "colab": {
          "base_uri": "https://localhost:8080/"
        },
        "id": "qykWnhEfjDDH",
        "outputId": "3fa49ae9-80de-4da0-97c4-17b578dae13d"
      },
      "outputs": [
        {
          "output_type": "stream",
          "name": "stdout",
          "text": [
            "Train dataset before pre-processing:\n",
            "===================================\n",
            "index    height  weight    hair beard scarf  gender\n",
            "0      180.3000     196    Bald   Yes    No    Male\n",
            "1      170.0000     120    Long    No    No  Female\n",
            "2      178.5000     200   Short    No    No    Male\n",
            "3      163.4000     110  Medium    No   Yes  Female\n",
            "4      175.2222     220   Short   Yes    No    Male\n",
            "5      165.0000     150  Medium    No   Yes  Female\n",
            "\n",
            "\n",
            "\n",
            "Train dataset after pre-processing:\n",
            "==================================\n",
            "index  height  weight    hair beard scarf  gender\n",
            "0      180.30     196    Bald   Yes    No    Male\n",
            "1      170.00     120    Long    No    No  Female\n",
            "2      178.50     200   Short    No    No    Male\n",
            "3      163.40     110  Medium    No   Yes  Female\n",
            "4      175.22     220   Short   Yes    No    Male\n",
            "5      165.00     150  Medium    No   Yes  Female\n"
          ]
        }
      ],
      "source": [
        "print(\"Train dataset before pre-processing:\")\n",
        "print(\"===================================\")\n",
        "print(train_dataset)\n",
        "train_dataset = train_dataset.fillna(' ')\n",
        "train_dataset.height = round(train_dataset.height,2)\n",
        "print(\"\\n\\n\\nTrain dataset after pre-processing:\")\n",
        "print(\"==================================\")\n",
        "print(train_dataset)\n",
        "\n"
      ]
    },
    {
      "cell_type": "markdown",
      "metadata": {
        "id": "cDJbkufvjDDH"
      },
      "source": [
        "# Step 3: Label Encoding for Test/Train Data"
      ]
    },
    {
      "cell_type": "markdown",
      "metadata": {
        "id": "ekwPV8s3jDDH"
      },
      "source": [
        "#### Label encoding train dataset"
      ]
    },
    {
      "cell_type": "code",
      "execution_count": 14,
      "metadata": {
        "colab": {
          "base_uri": "https://localhost:8080/"
        },
        "id": "wjXVEms-jDDI",
        "outputId": "e7229d03-92a2-46de-b68b-1e5feddbd1f9"
      },
      "outputs": [
        {
          "output_type": "stream",
          "name": "stdout",
          "text": [
            "Gender Attribute Encoding in Train Dataset:\n",
            "==========================================\n",
            "index  gender  encoded_gender\n",
            "0        Male               1\n",
            "1      Female               0\n",
            "2        Male               1\n",
            "3      Female               0\n",
            "4        Male               1\n",
            "5      Female               0\n",
            "\n",
            "\n",
            "\n",
            "Scarf Attribute Encoding in Train Dataset:\n",
            "==========================================\n",
            "index scarf  encoded_scarf\n",
            "0        No              0\n",
            "1        No              0\n",
            "2        No              0\n",
            "3       Yes              1\n",
            "4        No              0\n",
            "5       Yes              1\n",
            "\n",
            "\n",
            "\n",
            "Beard Attribute Encoding in Train Dataset:\n",
            "==========================================\n",
            "index beard  encoded_beard\n",
            "0       Yes              1\n",
            "1        No              0\n",
            "2        No              0\n",
            "3        No              0\n",
            "4       Yes              1\n",
            "5        No              0\n",
            "\n",
            "\n",
            "\n",
            "Hair Attribute Encoding in Train Dataset:\n",
            "========================================\n",
            "index    hair  encoded_hair\n",
            "0        Bald             0\n",
            "1        Long             1\n",
            "2       Short             3\n",
            "3      Medium             2\n",
            "4       Short             3\n",
            "5      Medium             2\n"
          ]
        }
      ],
      "source": [
        "labelEncoder_gender = LabelEncoder()\n",
        "labelEncoder_scarf = LabelEncoder()\n",
        "labelEncoder_hair = LabelEncoder()\n",
        "labelEncoder_beard = LabelEncoder()\n",
        "gender = ['Female','Male']\n",
        "scarf = ['Yes','No']\n",
        "beard = ['Yes','No']\n",
        "hairLength = ['Bald','Long','Short','Medium']\n",
        "labelEncoder_gender.fit(gender)\n",
        "labelEncoder_scarf.fit(scarf)\n",
        "labelEncoder_beard.fit(beard)\n",
        "labelEncoder_hair.fit(hairLength)\n",
        "print(\"Gender Attribute Encoding in Train Dataset:\")\n",
        "print(\"==========================================\")\n",
        "train_gender_encoding =pd.DataFrame(labelEncoder_gender.transform(train_dataset.gender))\n",
        "encoded_gender = train_dataset[['gender']]\n",
        "encoded_gender = encoded_gender.assign(encoded_gender =train_gender_encoding)\n",
        "print(encoded_gender)\n",
        "print(\"\\n\\n\\nScarf Attribute Encoding in Train Dataset:\")\n",
        "print(\"==========================================\")\n",
        "train_scarf_encoding =pd.DataFrame(labelEncoder_scarf.transform(train_dataset.scarf))\n",
        "encoded_scarf = train_dataset[['scarf']]\n",
        "encoded_scarf = encoded_scarf.assign(encoded_scarf =\n",
        "train_scarf_encoding)\n",
        "print(encoded_scarf)\n",
        "print(\"\\n\\n\\nBeard Attribute Encoding in Train Dataset:\")\n",
        "print(\"==========================================\")\n",
        "train_beard_encoding =pd.DataFrame(labelEncoder_beard.transform(train_dataset.beard))\n",
        "encoded_beard = train_dataset[['beard']]\n",
        "encoded_beard = encoded_beard.assign(encoded_beard =train_beard_encoding)\n",
        "print(encoded_beard)\n",
        "print(\"\\n\\n\\nHair Attribute Encoding in Train Dataset:\")\n",
        "print(\"========================================\")\n",
        "train_hair_encoding =pd.DataFrame(labelEncoder_hair.transform(train_dataset.hair))\n",
        "encoded_hair = train_dataset[['hair']]\n",
        "encoded_hair = encoded_hair.assign(encoded_hair =train_hair_encoding)\n",
        "print(encoded_hair)\n"
      ]
    },
    {
      "cell_type": "code",
      "execution_count": 15,
      "metadata": {
        "colab": {
          "base_uri": "https://localhost:8080/"
        },
        "id": "lCq3wH4FjDDI",
        "outputId": "a7e81e1f-83c1-492f-ee9a-b0d9dc0bd953"
      },
      "outputs": [
        {
          "output_type": "stream",
          "name": "stdout",
          "text": [
            "Original Train Data:\n",
            "====================\n",
            "index  height  weight    hair beard scarf  gender\n",
            "0      180.30     196    Bald   Yes    No    Male\n",
            "1      170.00     120    Long    No    No  Female\n",
            "2      178.50     200   Short    No    No    Male\n",
            "3      163.40     110  Medium    No   Yes  Female\n",
            "4      175.22     220   Short   Yes    No    Male\n",
            "5      165.00     150  Medium    No   Yes  Female\n",
            "\n",
            "\n",
            "\n",
            "Train Data after Label Encoding:\n",
            "================================\n",
            "index  height  weight  hair  beard  scarf  gender\n",
            "0      180.30     196     0      1      0       1\n",
            "1      170.00     120     1      0      0       0\n",
            "2      178.50     200     2      0      0       1\n",
            "3      163.40     110     3      0      1       0\n",
            "4      175.22     220     2      1      0       1\n",
            "5      165.00     150     3      0      1       0\n"
          ]
        },
        {
          "output_type": "stream",
          "name": "stderr",
          "text": [
            "<ipython-input-15-e8e3bb68c0b9>:3: FutureWarning: Downcasting behavior in `replace` is deprecated and will be removed in a future version. To retain the old behavior, explicitly call `result.infer_objects(copy=False)`. To opt-in to the future behavior, set `pd.set_option('future.no_silent_downcasting', True)`\n",
            "  encoded_train.gender =encoded_train.gender.replace(['Female','Male'], [0,1])\n",
            "<ipython-input-15-e8e3bb68c0b9>:4: FutureWarning: Downcasting behavior in `replace` is deprecated and will be removed in a future version. To retain the old behavior, explicitly call `result.infer_objects(copy=False)`. To opt-in to the future behavior, set `pd.set_option('future.no_silent_downcasting', True)`\n",
            "  encoded_train.hair =encoded_train.hair.replace(['Bald','Long','Short','Medium'],[0,1,2,3])\n",
            "<ipython-input-15-e8e3bb68c0b9>:5: FutureWarning: Downcasting behavior in `replace` is deprecated and will be removed in a future version. To retain the old behavior, explicitly call `result.infer_objects(copy=False)`. To opt-in to the future behavior, set `pd.set_option('future.no_silent_downcasting', True)`\n",
            "  encoded_train.scarf =encoded_train.scarf.replace(['Yes','No'],[1,0])\n",
            "<ipython-input-15-e8e3bb68c0b9>:6: FutureWarning: Downcasting behavior in `replace` is deprecated and will be removed in a future version. To retain the old behavior, explicitly call `result.infer_objects(copy=False)`. To opt-in to the future behavior, set `pd.set_option('future.no_silent_downcasting', True)`\n",
            "  encoded_train.beard =encoded_train.beard.replace(['Yes','No'],[1,0])\n",
            "<ipython-input-15-e8e3bb68c0b9>:7: FutureWarning: Downcasting behavior in `replace` is deprecated and will be removed in a future version. To retain the old behavior, explicitly call `result.infer_objects(copy=False)`. To opt-in to the future behavior, set `pd.set_option('future.no_silent_downcasting', True)`\n",
            "  encoded_test.gender =encoded_test.gender.replace(['Female','Male'], [0,1])\n",
            "<ipython-input-15-e8e3bb68c0b9>:8: FutureWarning: Downcasting behavior in `replace` is deprecated and will be removed in a future version. To retain the old behavior, explicitly call `result.infer_objects(copy=False)`. To opt-in to the future behavior, set `pd.set_option('future.no_silent_downcasting', True)`\n",
            "  encoded_test.hair =encoded_test.hair.replace(['Bald','Long','Short','Medium'],[0,1,2,3])\n",
            "<ipython-input-15-e8e3bb68c0b9>:9: FutureWarning: Downcasting behavior in `replace` is deprecated and will be removed in a future version. To retain the old behavior, explicitly call `result.infer_objects(copy=False)`. To opt-in to the future behavior, set `pd.set_option('future.no_silent_downcasting', True)`\n",
            "  encoded_test.scarf =encoded_test.scarf.replace(['Yes','No'],[1,0])\n",
            "<ipython-input-15-e8e3bb68c0b9>:10: FutureWarning: Downcasting behavior in `replace` is deprecated and will be removed in a future version. To retain the old behavior, explicitly call `result.infer_objects(copy=False)`. To opt-in to the future behavior, set `pd.set_option('future.no_silent_downcasting', True)`\n",
            "  encoded_test.beard =encoded_test.beard.replace(['Yes','No'],[1,0])\n"
          ]
        }
      ],
      "source": [
        "encoded_train = train_dataset.copy()\n",
        "encoded_test = test_dataset.copy()\n",
        "encoded_train.gender =encoded_train.gender.replace(['Female','Male'], [0,1])\n",
        "encoded_train.hair =encoded_train.hair.replace(['Bald','Long','Short','Medium'],[0,1,2,3])\n",
        "encoded_train.scarf =encoded_train.scarf.replace(['Yes','No'],[1,0])\n",
        "encoded_train.beard =encoded_train.beard.replace(['Yes','No'],[1,0])\n",
        "encoded_test.gender =encoded_test.gender.replace(['Female','Male'], [0,1])\n",
        "encoded_test.hair =encoded_test.hair.replace(['Bald','Long','Short','Medium'],[0,1,2,3])\n",
        "encoded_test.scarf =encoded_test.scarf.replace(['Yes','No'],[1,0])\n",
        "encoded_test.beard =encoded_test.beard.replace(['Yes','No'],[1,0])\n",
        "print(\"Original Train Data:\")\n",
        "print(\"====================\")\n",
        "print(train_dataset)\n",
        "print(\"\\n\\n\\nTrain Data after Label Encoding:\")\n",
        "print(\"================================\")\n",
        "print(train_dataset[['height','weight']].assign(hair =encoded_train.hair).assign(beard =encoded_train.beard).assign(scarf = encoded_train.scarf).assign(gender =encoded_train.gender))"
      ]
    },
    {
      "cell_type": "markdown",
      "metadata": {
        "id": "4dnFgfpYjDDI"
      },
      "source": [
        "#### Label encoding test dataset"
      ]
    },
    {
      "cell_type": "code",
      "execution_count": 16,
      "metadata": {
        "colab": {
          "base_uri": "https://localhost:8080/"
        },
        "id": "zSRBOsmHjDDI",
        "outputId": "a455cf83-b8a0-42bb-dd90-a7fdba0b49c3"
      },
      "outputs": [
        {
          "output_type": "stream",
          "name": "stdout",
          "text": [
            "\n",
            "\n",
            "\n",
            "Original Test Data:\n",
            "===================\n",
            "index  height  weight    hair beard scarf  gender\n",
            "0       179.1     185    Long   Yes    No    Male\n",
            "1       160.5     130   Short    No    No  Female\n",
            "2       177.8     160    Bald    No    No    Male\n",
            "3       161.1     100  Medium    No    No  Female\n",
            "\n",
            "\n",
            "\n",
            "Test Data after Label Encoding:\n",
            "===============================\n",
            "index  height  weight  hair  beard  scarf  gender\n",
            "0       179.1     185     1      1      0       1\n",
            "1       160.5     130     2      0      0       0\n",
            "2       177.8     160     0      0      0       1\n",
            "3       161.1     100     3      0      0       0\n"
          ]
        }
      ],
      "source": [
        "print(\"\\n\\n\\nOriginal Test Data:\")\n",
        "print(\"===================\")\n",
        "print(test_dataset)\n",
        "print(\"\\n\\n\\nTest Data after Label Encoding:\")\n",
        "print(\"===============================\")\n",
        "print(test_dataset[['height','weight']].assign(hair =encoded_test.hair).assign(beard =encoded_test.beard).assign(scarf = encoded_test.scarf).assign(gender =encoded_test.gender))\n"
      ]
    },
    {
      "cell_type": "markdown",
      "metadata": {
        "id": "x1gVOHaIjDDI"
      },
      "source": [
        "# Step 4: Feature Extraction – Changing Representation of Data “from String to Vector”"
      ]
    },
    {
      "cell_type": "markdown",
      "metadata": {
        "id": "OPy-ONZ5jDDJ"
      },
      "source": [
        "TODO: YOUR CODE GOES HERE"
      ]
    },
    {
      "cell_type": "markdown",
      "metadata": {
        "id": "I6tKlVa1jDDJ"
      },
      "source": [
        "# Step 5: Train Machine Learning Algorithms using Training Data"
      ]
    },
    {
      "cell_type": "code",
      "execution_count": 17,
      "metadata": {
        "colab": {
          "base_uri": "https://localhost:8080/"
        },
        "id": "FbjDwZ9KjDDJ",
        "outputId": "cad2889e-2434-4e96-9868-c0005faaf6c5"
      },
      "outputs": [
        {
          "output_type": "stream",
          "name": "stdout",
          "text": [
            "Parameters and their values:\n",
            "\n",
            "LogisticRegression()\n"
          ]
        }
      ],
      "source": [
        "train = encoded_train[['height','weight','hair','beard','scarf']]\n",
        "test = encoded_test[['height','weight','hair','beard','scarf']]\n",
        "sparse_train_features = scipy.sparse.csr_matrix(train.values)\n",
        "sparse_test_features = scipy.sparse.csr_matrix(test.values)\n",
        "model_names = []\n",
        "logistic_regression = LogisticRegression()\n",
        "print(\"Parameters and their values:\\n\")\n",
        "print(logistic_regression)\n",
        "logistic_regression.fit(sparse_train_features,np.ravel(encoded_train.gender))\n",
        "model_names.append('LogisticRegression')\n"
      ]
    },
    {
      "cell_type": "code",
      "execution_count": 18,
      "metadata": {
        "colab": {
          "base_uri": "https://localhost:8080/"
        },
        "id": "ImviScE9jDDJ",
        "outputId": "2a72c368-2974-4dff-faba-1a840a8cea1c"
      },
      "outputs": [
        {
          "output_type": "stream",
          "name": "stdout",
          "text": [
            "Parameters and their values:\n",
            "\n",
            "RandomForestClassifier()\n"
          ]
        }
      ],
      "source": [
        "random_forest_classifier = RandomForestClassifier()\n",
        "print(\"Parameters and their values:\\n\")\n",
        "print(random_forest_classifier)\n",
        "random_forest_classifier.fit(sparse_train_features,np.ravel(encoded_train.gender))\n",
        "model_names.append('RandomForestClassifier')\n"
      ]
    },
    {
      "cell_type": "code",
      "execution_count": 19,
      "metadata": {
        "colab": {
          "base_uri": "https://localhost:8080/"
        },
        "id": "WKpFPFzejDDJ",
        "outputId": "03bfcebc-34d2-4967-b955-576a1a370646"
      },
      "outputs": [
        {
          "output_type": "stream",
          "name": "stdout",
          "text": [
            "Parameters and their values:\n",
            "\n",
            "LinearSVC()\n"
          ]
        }
      ],
      "source": [
        "linear_svc = LinearSVC()\n",
        "print(\"Parameters and their values:\\n\")\n",
        "print(linear_svc)\n",
        "linear_svc.fit(sparse_train_features,np.ravel(encoded_train.gender))\n",
        "model_names.append('LinearSVC')\n"
      ]
    },
    {
      "cell_type": "code",
      "execution_count": 20,
      "metadata": {
        "colab": {
          "base_uri": "https://localhost:8080/"
        },
        "id": "MCzvVnijjDDK",
        "outputId": "f01b88be-4748-4672-f324-71e9b29d116f"
      },
      "outputs": [
        {
          "output_type": "stream",
          "name": "stdout",
          "text": [
            "Parameters and their values:\n",
            "\n",
            "BernoulliNB()\n"
          ]
        }
      ],
      "source": [
        "bernoulli_nb = BernoulliNB()\n",
        "print(\"Parameters and their values:\\n\")\n",
        "print(bernoulli_nb)\n",
        "bernoulli_nb.fit(sparse_train_features,np.ravel(encoded_train.gender))\n",
        "model_names.append('BernoulliNB')"
      ]
    },
    {
      "cell_type": "markdown",
      "metadata": {
        "id": "ECtm5TifjDDK"
      },
      "source": [
        "# Step 6: Evaluate Machine Learning Algorithms using Test Data"
      ]
    },
    {
      "cell_type": "code",
      "execution_count": 21,
      "metadata": {
        "colab": {
          "base_uri": "https://localhost:8080/"
        },
        "id": "igd2MmWFjDDK",
        "outputId": "c43f39cb-4060-4e88-d252-244864d78f3c"
      },
      "outputs": [
        {
          "output_type": "stream",
          "name": "stdout",
          "text": [
            "\n",
            "\n",
            "\n",
            "Prediction using Logistic Regression:\n",
            "=====================================\n",
            "index  height  weight    hair beard scarf  gender predicted_gender\n",
            "0       179.1     185    Long   Yes    No    Male             Male\n",
            "1       160.5     130   Short    No    No  Female           Female\n",
            "2       177.8     160    Bald    No    No    Male           Female\n",
            "3       161.1     100  Medium    No    No  Female           Female\n",
            "\n",
            "\n",
            "Accuracy score =  0.75\n"
          ]
        }
      ],
      "source": [
        "scores=[]\n",
        "y_true = encoded_test[['gender']]\n",
        "y_pred = logistic_regression.predict(sparse_test_features)\n",
        "score = round(accuracy_score(y_true, y_pred),2)\n",
        "inverse_transform =labelEncoder_gender.inverse_transform(y_pred)\n",
        "print(\"\\n\\n\\nPrediction using Logistic Regression:\")\n",
        "print(\"=====================================\")\n",
        "print(test_dataset.assign(predicted_gender =inverse_transform))\n",
        "print(\"\\n\\nAccuracy score = \", score)\n",
        "scores.append(score)\n"
      ]
    },
    {
      "cell_type": "code",
      "execution_count": 22,
      "metadata": {
        "colab": {
          "base_uri": "https://localhost:8080/"
        },
        "id": "hf02edGGjDDL",
        "outputId": "1ac75878-ba16-4a6e-9ee3-d41c757e1142"
      },
      "outputs": [
        {
          "output_type": "stream",
          "name": "stdout",
          "text": [
            "\n",
            "\n",
            "Prediction using RandomForestClassifier:\n",
            "========================================\n",
            "index  height  weight    hair beard scarf  gender predicted_gender\n",
            "0       179.1     185    Long   Yes    No    Male             Male\n",
            "1       160.5     130   Short    No    No  Female           Female\n",
            "2       177.8     160    Bald    No    No    Male             Male\n",
            "3       161.1     100  Medium    No    No  Female           Female\n",
            "\n",
            "\n",
            "Accuracy score =  1.0\n"
          ]
        }
      ],
      "source": [
        "y_true = encoded_test[['gender']]\n",
        "y_pred =random_forest_classifier.predict(sparse_test_features)\n",
        "score = round(accuracy_score(y_true, y_pred),2)\n",
        "inverse_transform =labelEncoder_gender.inverse_transform(y_pred)\n",
        "print(\"\\n\\nPrediction using RandomForestClassifier:\")\n",
        "print(\"========================================\")\n",
        "print(test_dataset.assign(predicted_gender =inverse_transform))\n",
        "print(\"\\n\\nAccuracy score = \", score)\n",
        "scores.append(score)\n"
      ]
    },
    {
      "cell_type": "code",
      "execution_count": 23,
      "metadata": {
        "colab": {
          "base_uri": "https://localhost:8080/"
        },
        "id": "jpBmIdsXjDDL",
        "outputId": "fa86be53-ba74-4a8c-d7cf-098d7e6ef121"
      },
      "outputs": [
        {
          "output_type": "stream",
          "name": "stdout",
          "text": [
            "\n",
            "\n",
            "Prediction using LinearSVC:\n",
            "==========================\n",
            "index  height  weight    hair beard scarf  gender predicted_gender\n",
            "0       179.1     185    Long   Yes    No    Male             Male\n",
            "1       160.5     130   Short    No    No  Female           Female\n",
            "2       177.8     160    Bald    No    No    Male           Female\n",
            "3       161.1     100  Medium    No    No  Female           Female\n",
            "\n",
            "\n",
            "Accuracy score =  0.75\n"
          ]
        }
      ],
      "source": [
        "y_true = encoded_test[['gender']]\n",
        "y_pred = linear_svc.predict(sparse_test_features)\n",
        "score = round(accuracy_score(y_true, y_pred),2)\n",
        "inverse_transform =labelEncoder_gender.inverse_transform(y_pred)\n",
        "print(\"\\n\\nPrediction using LinearSVC:\")\n",
        "print(\"==========================\")\n",
        "print(test_dataset.assign(predicted_gender =inverse_transform))\n",
        "print(\"\\n\\nAccuracy score = \", score)\n",
        "scores.append(score)"
      ]
    },
    {
      "cell_type": "code",
      "execution_count": 24,
      "metadata": {
        "colab": {
          "base_uri": "https://localhost:8080/"
        },
        "id": "NawZWQVVjDDL",
        "outputId": "8848870f-69f1-43fb-9d9a-4a931155aea4"
      },
      "outputs": [
        {
          "output_type": "stream",
          "name": "stdout",
          "text": [
            "\n",
            "\n",
            "Prediction using BernoulliNB:\n",
            "=============================\n",
            "index  height  weight    hair beard scarf  gender predicted_gender\n",
            "0       179.1     185    Long   Yes    No    Male             Male\n",
            "1       160.5     130   Short    No    No  Female           Female\n",
            "2       177.8     160    Bald    No    No    Male             Male\n",
            "3       161.1     100  Medium    No    No  Female           Female\n",
            "\n",
            "\n",
            "Accuracy score =  1.0\n"
          ]
        }
      ],
      "source": [
        "y_true = encoded_test[['gender']]\n",
        "y_pred = bernoulli_nb.predict(sparse_test_features)\n",
        "score = round(accuracy_score(y_true, y_pred),2)\n",
        "inverse_transform =labelEncoder_gender.inverse_transform(y_pred)\n",
        "print(\"\\n\\nPrediction using BernoulliNB:\")\n",
        "print(\"=============================\")\n",
        "print(test_dataset.assign(predicted_gender =inverse_transform))\n",
        "print(\"\\n\\nAccuracy score = \", score)\n",
        "scores.append(score)\n"
      ]
    },
    {
      "cell_type": "markdown",
      "metadata": {
        "id": "ps7NFyV1jDDL"
      },
      "source": [
        "# Step 7: Selection of Best Model"
      ]
    },
    {
      "cell_type": "code",
      "execution_count": 25,
      "metadata": {
        "colab": {
          "base_uri": "https://localhost:8080/"
        },
        "id": "wn5Y55DFjDDM",
        "outputId": "aea4f061-9ba4-4f1a-e1b7-5611dfd9f9bc"
      },
      "outputs": [
        {
          "output_type": "stream",
          "name": "stdout",
          "text": [
            "\n",
            "\n",
            "Detailed Performance of all the models.\n",
            "=======================================\n",
            "+------------------------+----------+\n",
            "|         Model          | Accuracy |\n",
            "+------------------------+----------+\n",
            "|   LogisticRegression   |   0.75   |\n",
            "| RandomForestClassifier |   1.0    |\n",
            "+------------------------+----------+\n",
            "\n",
            "\n",
            "Best Model.\n",
            "=======================================\n",
            "+------------------------+----------+\n",
            "|         Model          | Accuracy |\n",
            "+------------------------+----------+\n",
            "| RandomForestClassifier |   1.0    |\n",
            "+------------------------+----------+\n"
          ]
        }
      ],
      "source": [
        "print('\\n\\nDetailed Performance of all the models.')\n",
        "print(\"=======================================\")\n",
        "t = PrettyTable(['Model', 'Accuracy'])\n",
        "maximum = 0\n",
        "for i in range(0, 4):\n",
        "    model = model_names[i]\n",
        "    score = scores[i]\n",
        "    if(maximum < score):\n",
        "        maximum = score\n",
        "        index = i\n",
        "        t.add_row([model,score])\n",
        "print(t)\n",
        "print('\\n\\nBest Model.')\n",
        "print(\"=======================================\")\n",
        "t = PrettyTable(['Model', 'Accuracy'])\n",
        "t.add_row([model_names[index], scores[index]])\n",
        "print(t)"
      ]
    },
    {
      "cell_type": "markdown",
      "metadata": {
        "id": "uH7ldJFJjDDT"
      },
      "source": [
        "# PHASE 3: APPLICATION PHASE"
      ]
    },
    {
      "cell_type": "markdown",
      "metadata": {
        "id": "-ESADm-wjDDU"
      },
      "source": [
        "# Step 8: Application Phase"
      ]
    },
    {
      "cell_type": "markdown",
      "metadata": {
        "id": "4QUIIZ8XjDDU"
      },
      "source": [
        "### Step 8.1: Combine Data (Train+Test)"
      ]
    },
    {
      "cell_type": "code",
      "execution_count": 26,
      "metadata": {
        "colab": {
          "base_uri": "https://localhost:8080/"
        },
        "id": "xw041Xs0jDDV",
        "outputId": "3c610d17-26f0-4718-f8b3-b48688e0b421"
      },
      "outputs": [
        {
          "output_type": "stream",
          "name": "stdout",
          "text": [
            "Train Features in form of Dataframe:\n",
            "\n",
            "index  height  weight  hair  beard  hair  gender\n",
            "0      180.30   196.0   0.0    1.0   0.0       1\n",
            "1      170.00   120.0   1.0    0.0   0.0       0\n",
            "2      178.50   200.0   2.0    0.0   0.0       1\n",
            "3      163.40   110.0   3.0    0.0   1.0       0\n",
            "4      175.22   220.0   2.0    1.0   0.0       1\n",
            "5      165.00   150.0   3.0    0.0   1.0       0\n"
          ]
        }
      ],
      "source": [
        "train_features_df =pd.DataFrame(sparse_train_features.toarray(), columns =['height','weight','hair','beard','hair'])\n",
        "test_features_df =pd.DataFrame(sparse_test_features.toarray() , columns =['height','weight','hair','beard','hair'])\n",
        "print(\"Train Features in form of Dataframe:\\n\")\n",
        "train_features_df.index.names = ['index']\n",
        "train_features_df.columns.name =train_features_df.index.name\n",
        "train_features_df.index.name = None\n",
        "print(train_features_df.assign(gender = encoded_train.gender))\n"
      ]
    },
    {
      "cell_type": "code",
      "execution_count": 27,
      "metadata": {
        "colab": {
          "base_uri": "https://localhost:8080/"
        },
        "id": "_8v7fL5DjDDW",
        "outputId": "596522ca-ebf5-4808-864f-c5949612e619"
      },
      "outputs": [
        {
          "output_type": "stream",
          "name": "stdout",
          "text": [
            "\n",
            "\n",
            "\n",
            "Test Features in form of Dataframe:\n",
            "==================================\n",
            "index  height  weight  hair  beard  hair  gender\n",
            "0       179.1   185.0   1.0    1.0   0.0       1\n",
            "1       160.5   130.0   2.0    0.0   0.0       0\n",
            "2       177.8   160.0   0.0    0.0   0.0       1\n",
            "3       161.1   100.0   3.0    0.0   0.0       0\n"
          ]
        }
      ],
      "source": [
        "print(\"\\n\\n\\nTest Features in form of Dataframe:\")\n",
        "print(\"==================================\")\n",
        "test_features_df.index.names = ['index']\n",
        "test_features_df.columns.name = test_features_df.index.name\n",
        "test_features_df.index.name = None\n",
        "print(test_features_df.assign(gender = encoded_test.gender))\n"
      ]
    },
    {
      "cell_type": "code",
      "execution_count": 28,
      "metadata": {
        "colab": {
          "base_uri": "https://localhost:8080/"
        },
        "id": "gMn3JHqRjDDW",
        "outputId": "7433f45e-85f7-4862-be58-0d78e8bb8892"
      },
      "outputs": [
        {
          "output_type": "stream",
          "name": "stdout",
          "text": [
            "\n",
            "\n",
            "\n",
            "All Features in form of DataFrame:\n",
            "==================================\n",
            "index  height  weight  hair  beard  hair  gender\n",
            "0      180.30   196.0   0.0    1.0   0.0       1\n",
            "1      170.00   120.0   1.0    0.0   0.0       0\n",
            "2      178.50   200.0   2.0    0.0   0.0       1\n",
            "3      163.40   110.0   3.0    0.0   1.0       0\n",
            "4      175.22   220.0   2.0    1.0   0.0       1\n",
            "5      165.00   150.0   3.0    0.0   1.0       0\n",
            "0      179.10   185.0   1.0    1.0   0.0       1\n",
            "1      160.50   130.0   2.0    0.0   0.0       0\n",
            "2      177.80   160.0   0.0    0.0   0.0       1\n",
            "3      161.10   100.0   3.0    0.0   0.0       0\n"
          ]
        }
      ],
      "source": [
        "all_features_df = pd.concat([train_features_df,test_features_df])\n",
        "print(\"\\n\\n\\nAll Features in form of DataFrame:\")\n",
        "print(\"==================================\")\n",
        "print(all_features_df.assign(gender =\n",
        "pd.concat([encoded_train.gender,encoded_test.gender])))\n",
        "all_features = scipy.sparse.csr_matrix(all_features_df.values)"
      ]
    },
    {
      "cell_type": "markdown",
      "metadata": {
        "id": "TjXgjeKyjDDX"
      },
      "source": [
        "### Step 8.2: Train Best Model (see Step 7) on all features (Train+Test)"
      ]
    },
    {
      "cell_type": "code",
      "execution_count": 29,
      "metadata": {
        "colab": {
          "base_uri": "https://localhost:8080/",
          "height": 80
        },
        "id": "GQYoIMU7jDDX",
        "outputId": "f28367f3-7d65-4568-86a8-761412745452"
      },
      "outputs": [
        {
          "output_type": "execute_result",
          "data": {
            "text/plain": [
              "RandomForestClassifier()"
            ],
            "text/html": [
              "<style>#sk-container-id-1 {\n",
              "  /* Definition of color scheme common for light and dark mode */\n",
              "  --sklearn-color-text: #000;\n",
              "  --sklearn-color-text-muted: #666;\n",
              "  --sklearn-color-line: gray;\n",
              "  /* Definition of color scheme for unfitted estimators */\n",
              "  --sklearn-color-unfitted-level-0: #fff5e6;\n",
              "  --sklearn-color-unfitted-level-1: #f6e4d2;\n",
              "  --sklearn-color-unfitted-level-2: #ffe0b3;\n",
              "  --sklearn-color-unfitted-level-3: chocolate;\n",
              "  /* Definition of color scheme for fitted estimators */\n",
              "  --sklearn-color-fitted-level-0: #f0f8ff;\n",
              "  --sklearn-color-fitted-level-1: #d4ebff;\n",
              "  --sklearn-color-fitted-level-2: #b3dbfd;\n",
              "  --sklearn-color-fitted-level-3: cornflowerblue;\n",
              "\n",
              "  /* Specific color for light theme */\n",
              "  --sklearn-color-text-on-default-background: var(--sg-text-color, var(--theme-code-foreground, var(--jp-content-font-color1, black)));\n",
              "  --sklearn-color-background: var(--sg-background-color, var(--theme-background, var(--jp-layout-color0, white)));\n",
              "  --sklearn-color-border-box: var(--sg-text-color, var(--theme-code-foreground, var(--jp-content-font-color1, black)));\n",
              "  --sklearn-color-icon: #696969;\n",
              "\n",
              "  @media (prefers-color-scheme: dark) {\n",
              "    /* Redefinition of color scheme for dark theme */\n",
              "    --sklearn-color-text-on-default-background: var(--sg-text-color, var(--theme-code-foreground, var(--jp-content-font-color1, white)));\n",
              "    --sklearn-color-background: var(--sg-background-color, var(--theme-background, var(--jp-layout-color0, #111)));\n",
              "    --sklearn-color-border-box: var(--sg-text-color, var(--theme-code-foreground, var(--jp-content-font-color1, white)));\n",
              "    --sklearn-color-icon: #878787;\n",
              "  }\n",
              "}\n",
              "\n",
              "#sk-container-id-1 {\n",
              "  color: var(--sklearn-color-text);\n",
              "}\n",
              "\n",
              "#sk-container-id-1 pre {\n",
              "  padding: 0;\n",
              "}\n",
              "\n",
              "#sk-container-id-1 input.sk-hidden--visually {\n",
              "  border: 0;\n",
              "  clip: rect(1px 1px 1px 1px);\n",
              "  clip: rect(1px, 1px, 1px, 1px);\n",
              "  height: 1px;\n",
              "  margin: -1px;\n",
              "  overflow: hidden;\n",
              "  padding: 0;\n",
              "  position: absolute;\n",
              "  width: 1px;\n",
              "}\n",
              "\n",
              "#sk-container-id-1 div.sk-dashed-wrapped {\n",
              "  border: 1px dashed var(--sklearn-color-line);\n",
              "  margin: 0 0.4em 0.5em 0.4em;\n",
              "  box-sizing: border-box;\n",
              "  padding-bottom: 0.4em;\n",
              "  background-color: var(--sklearn-color-background);\n",
              "}\n",
              "\n",
              "#sk-container-id-1 div.sk-container {\n",
              "  /* jupyter's `normalize.less` sets `[hidden] { display: none; }`\n",
              "     but bootstrap.min.css set `[hidden] { display: none !important; }`\n",
              "     so we also need the `!important` here to be able to override the\n",
              "     default hidden behavior on the sphinx rendered scikit-learn.org.\n",
              "     See: https://github.com/scikit-learn/scikit-learn/issues/21755 */\n",
              "  display: inline-block !important;\n",
              "  position: relative;\n",
              "}\n",
              "\n",
              "#sk-container-id-1 div.sk-text-repr-fallback {\n",
              "  display: none;\n",
              "}\n",
              "\n",
              "div.sk-parallel-item,\n",
              "div.sk-serial,\n",
              "div.sk-item {\n",
              "  /* draw centered vertical line to link estimators */\n",
              "  background-image: linear-gradient(var(--sklearn-color-text-on-default-background), var(--sklearn-color-text-on-default-background));\n",
              "  background-size: 2px 100%;\n",
              "  background-repeat: no-repeat;\n",
              "  background-position: center center;\n",
              "}\n",
              "\n",
              "/* Parallel-specific style estimator block */\n",
              "\n",
              "#sk-container-id-1 div.sk-parallel-item::after {\n",
              "  content: \"\";\n",
              "  width: 100%;\n",
              "  border-bottom: 2px solid var(--sklearn-color-text-on-default-background);\n",
              "  flex-grow: 1;\n",
              "}\n",
              "\n",
              "#sk-container-id-1 div.sk-parallel {\n",
              "  display: flex;\n",
              "  align-items: stretch;\n",
              "  justify-content: center;\n",
              "  background-color: var(--sklearn-color-background);\n",
              "  position: relative;\n",
              "}\n",
              "\n",
              "#sk-container-id-1 div.sk-parallel-item {\n",
              "  display: flex;\n",
              "  flex-direction: column;\n",
              "}\n",
              "\n",
              "#sk-container-id-1 div.sk-parallel-item:first-child::after {\n",
              "  align-self: flex-end;\n",
              "  width: 50%;\n",
              "}\n",
              "\n",
              "#sk-container-id-1 div.sk-parallel-item:last-child::after {\n",
              "  align-self: flex-start;\n",
              "  width: 50%;\n",
              "}\n",
              "\n",
              "#sk-container-id-1 div.sk-parallel-item:only-child::after {\n",
              "  width: 0;\n",
              "}\n",
              "\n",
              "/* Serial-specific style estimator block */\n",
              "\n",
              "#sk-container-id-1 div.sk-serial {\n",
              "  display: flex;\n",
              "  flex-direction: column;\n",
              "  align-items: center;\n",
              "  background-color: var(--sklearn-color-background);\n",
              "  padding-right: 1em;\n",
              "  padding-left: 1em;\n",
              "}\n",
              "\n",
              "\n",
              "/* Toggleable style: style used for estimator/Pipeline/ColumnTransformer box that is\n",
              "clickable and can be expanded/collapsed.\n",
              "- Pipeline and ColumnTransformer use this feature and define the default style\n",
              "- Estimators will overwrite some part of the style using the `sk-estimator` class\n",
              "*/\n",
              "\n",
              "/* Pipeline and ColumnTransformer style (default) */\n",
              "\n",
              "#sk-container-id-1 div.sk-toggleable {\n",
              "  /* Default theme specific background. It is overwritten whether we have a\n",
              "  specific estimator or a Pipeline/ColumnTransformer */\n",
              "  background-color: var(--sklearn-color-background);\n",
              "}\n",
              "\n",
              "/* Toggleable label */\n",
              "#sk-container-id-1 label.sk-toggleable__label {\n",
              "  cursor: pointer;\n",
              "  display: flex;\n",
              "  width: 100%;\n",
              "  margin-bottom: 0;\n",
              "  padding: 0.5em;\n",
              "  box-sizing: border-box;\n",
              "  text-align: center;\n",
              "  align-items: start;\n",
              "  justify-content: space-between;\n",
              "  gap: 0.5em;\n",
              "}\n",
              "\n",
              "#sk-container-id-1 label.sk-toggleable__label .caption {\n",
              "  font-size: 0.6rem;\n",
              "  font-weight: lighter;\n",
              "  color: var(--sklearn-color-text-muted);\n",
              "}\n",
              "\n",
              "#sk-container-id-1 label.sk-toggleable__label-arrow:before {\n",
              "  /* Arrow on the left of the label */\n",
              "  content: \"▸\";\n",
              "  float: left;\n",
              "  margin-right: 0.25em;\n",
              "  color: var(--sklearn-color-icon);\n",
              "}\n",
              "\n",
              "#sk-container-id-1 label.sk-toggleable__label-arrow:hover:before {\n",
              "  color: var(--sklearn-color-text);\n",
              "}\n",
              "\n",
              "/* Toggleable content - dropdown */\n",
              "\n",
              "#sk-container-id-1 div.sk-toggleable__content {\n",
              "  max-height: 0;\n",
              "  max-width: 0;\n",
              "  overflow: hidden;\n",
              "  text-align: left;\n",
              "  /* unfitted */\n",
              "  background-color: var(--sklearn-color-unfitted-level-0);\n",
              "}\n",
              "\n",
              "#sk-container-id-1 div.sk-toggleable__content.fitted {\n",
              "  /* fitted */\n",
              "  background-color: var(--sklearn-color-fitted-level-0);\n",
              "}\n",
              "\n",
              "#sk-container-id-1 div.sk-toggleable__content pre {\n",
              "  margin: 0.2em;\n",
              "  border-radius: 0.25em;\n",
              "  color: var(--sklearn-color-text);\n",
              "  /* unfitted */\n",
              "  background-color: var(--sklearn-color-unfitted-level-0);\n",
              "}\n",
              "\n",
              "#sk-container-id-1 div.sk-toggleable__content.fitted pre {\n",
              "  /* unfitted */\n",
              "  background-color: var(--sklearn-color-fitted-level-0);\n",
              "}\n",
              "\n",
              "#sk-container-id-1 input.sk-toggleable__control:checked~div.sk-toggleable__content {\n",
              "  /* Expand drop-down */\n",
              "  max-height: 200px;\n",
              "  max-width: 100%;\n",
              "  overflow: auto;\n",
              "}\n",
              "\n",
              "#sk-container-id-1 input.sk-toggleable__control:checked~label.sk-toggleable__label-arrow:before {\n",
              "  content: \"▾\";\n",
              "}\n",
              "\n",
              "/* Pipeline/ColumnTransformer-specific style */\n",
              "\n",
              "#sk-container-id-1 div.sk-label input.sk-toggleable__control:checked~label.sk-toggleable__label {\n",
              "  color: var(--sklearn-color-text);\n",
              "  background-color: var(--sklearn-color-unfitted-level-2);\n",
              "}\n",
              "\n",
              "#sk-container-id-1 div.sk-label.fitted input.sk-toggleable__control:checked~label.sk-toggleable__label {\n",
              "  background-color: var(--sklearn-color-fitted-level-2);\n",
              "}\n",
              "\n",
              "/* Estimator-specific style */\n",
              "\n",
              "/* Colorize estimator box */\n",
              "#sk-container-id-1 div.sk-estimator input.sk-toggleable__control:checked~label.sk-toggleable__label {\n",
              "  /* unfitted */\n",
              "  background-color: var(--sklearn-color-unfitted-level-2);\n",
              "}\n",
              "\n",
              "#sk-container-id-1 div.sk-estimator.fitted input.sk-toggleable__control:checked~label.sk-toggleable__label {\n",
              "  /* fitted */\n",
              "  background-color: var(--sklearn-color-fitted-level-2);\n",
              "}\n",
              "\n",
              "#sk-container-id-1 div.sk-label label.sk-toggleable__label,\n",
              "#sk-container-id-1 div.sk-label label {\n",
              "  /* The background is the default theme color */\n",
              "  color: var(--sklearn-color-text-on-default-background);\n",
              "}\n",
              "\n",
              "/* On hover, darken the color of the background */\n",
              "#sk-container-id-1 div.sk-label:hover label.sk-toggleable__label {\n",
              "  color: var(--sklearn-color-text);\n",
              "  background-color: var(--sklearn-color-unfitted-level-2);\n",
              "}\n",
              "\n",
              "/* Label box, darken color on hover, fitted */\n",
              "#sk-container-id-1 div.sk-label.fitted:hover label.sk-toggleable__label.fitted {\n",
              "  color: var(--sklearn-color-text);\n",
              "  background-color: var(--sklearn-color-fitted-level-2);\n",
              "}\n",
              "\n",
              "/* Estimator label */\n",
              "\n",
              "#sk-container-id-1 div.sk-label label {\n",
              "  font-family: monospace;\n",
              "  font-weight: bold;\n",
              "  display: inline-block;\n",
              "  line-height: 1.2em;\n",
              "}\n",
              "\n",
              "#sk-container-id-1 div.sk-label-container {\n",
              "  text-align: center;\n",
              "}\n",
              "\n",
              "/* Estimator-specific */\n",
              "#sk-container-id-1 div.sk-estimator {\n",
              "  font-family: monospace;\n",
              "  border: 1px dotted var(--sklearn-color-border-box);\n",
              "  border-radius: 0.25em;\n",
              "  box-sizing: border-box;\n",
              "  margin-bottom: 0.5em;\n",
              "  /* unfitted */\n",
              "  background-color: var(--sklearn-color-unfitted-level-0);\n",
              "}\n",
              "\n",
              "#sk-container-id-1 div.sk-estimator.fitted {\n",
              "  /* fitted */\n",
              "  background-color: var(--sklearn-color-fitted-level-0);\n",
              "}\n",
              "\n",
              "/* on hover */\n",
              "#sk-container-id-1 div.sk-estimator:hover {\n",
              "  /* unfitted */\n",
              "  background-color: var(--sklearn-color-unfitted-level-2);\n",
              "}\n",
              "\n",
              "#sk-container-id-1 div.sk-estimator.fitted:hover {\n",
              "  /* fitted */\n",
              "  background-color: var(--sklearn-color-fitted-level-2);\n",
              "}\n",
              "\n",
              "/* Specification for estimator info (e.g. \"i\" and \"?\") */\n",
              "\n",
              "/* Common style for \"i\" and \"?\" */\n",
              "\n",
              ".sk-estimator-doc-link,\n",
              "a:link.sk-estimator-doc-link,\n",
              "a:visited.sk-estimator-doc-link {\n",
              "  float: right;\n",
              "  font-size: smaller;\n",
              "  line-height: 1em;\n",
              "  font-family: monospace;\n",
              "  background-color: var(--sklearn-color-background);\n",
              "  border-radius: 1em;\n",
              "  height: 1em;\n",
              "  width: 1em;\n",
              "  text-decoration: none !important;\n",
              "  margin-left: 0.5em;\n",
              "  text-align: center;\n",
              "  /* unfitted */\n",
              "  border: var(--sklearn-color-unfitted-level-1) 1pt solid;\n",
              "  color: var(--sklearn-color-unfitted-level-1);\n",
              "}\n",
              "\n",
              ".sk-estimator-doc-link.fitted,\n",
              "a:link.sk-estimator-doc-link.fitted,\n",
              "a:visited.sk-estimator-doc-link.fitted {\n",
              "  /* fitted */\n",
              "  border: var(--sklearn-color-fitted-level-1) 1pt solid;\n",
              "  color: var(--sklearn-color-fitted-level-1);\n",
              "}\n",
              "\n",
              "/* On hover */\n",
              "div.sk-estimator:hover .sk-estimator-doc-link:hover,\n",
              ".sk-estimator-doc-link:hover,\n",
              "div.sk-label-container:hover .sk-estimator-doc-link:hover,\n",
              ".sk-estimator-doc-link:hover {\n",
              "  /* unfitted */\n",
              "  background-color: var(--sklearn-color-unfitted-level-3);\n",
              "  color: var(--sklearn-color-background);\n",
              "  text-decoration: none;\n",
              "}\n",
              "\n",
              "div.sk-estimator.fitted:hover .sk-estimator-doc-link.fitted:hover,\n",
              ".sk-estimator-doc-link.fitted:hover,\n",
              "div.sk-label-container:hover .sk-estimator-doc-link.fitted:hover,\n",
              ".sk-estimator-doc-link.fitted:hover {\n",
              "  /* fitted */\n",
              "  background-color: var(--sklearn-color-fitted-level-3);\n",
              "  color: var(--sklearn-color-background);\n",
              "  text-decoration: none;\n",
              "}\n",
              "\n",
              "/* Span, style for the box shown on hovering the info icon */\n",
              ".sk-estimator-doc-link span {\n",
              "  display: none;\n",
              "  z-index: 9999;\n",
              "  position: relative;\n",
              "  font-weight: normal;\n",
              "  right: .2ex;\n",
              "  padding: .5ex;\n",
              "  margin: .5ex;\n",
              "  width: min-content;\n",
              "  min-width: 20ex;\n",
              "  max-width: 50ex;\n",
              "  color: var(--sklearn-color-text);\n",
              "  box-shadow: 2pt 2pt 4pt #999;\n",
              "  /* unfitted */\n",
              "  background: var(--sklearn-color-unfitted-level-0);\n",
              "  border: .5pt solid var(--sklearn-color-unfitted-level-3);\n",
              "}\n",
              "\n",
              ".sk-estimator-doc-link.fitted span {\n",
              "  /* fitted */\n",
              "  background: var(--sklearn-color-fitted-level-0);\n",
              "  border: var(--sklearn-color-fitted-level-3);\n",
              "}\n",
              "\n",
              ".sk-estimator-doc-link:hover span {\n",
              "  display: block;\n",
              "}\n",
              "\n",
              "/* \"?\"-specific style due to the `<a>` HTML tag */\n",
              "\n",
              "#sk-container-id-1 a.estimator_doc_link {\n",
              "  float: right;\n",
              "  font-size: 1rem;\n",
              "  line-height: 1em;\n",
              "  font-family: monospace;\n",
              "  background-color: var(--sklearn-color-background);\n",
              "  border-radius: 1rem;\n",
              "  height: 1rem;\n",
              "  width: 1rem;\n",
              "  text-decoration: none;\n",
              "  /* unfitted */\n",
              "  color: var(--sklearn-color-unfitted-level-1);\n",
              "  border: var(--sklearn-color-unfitted-level-1) 1pt solid;\n",
              "}\n",
              "\n",
              "#sk-container-id-1 a.estimator_doc_link.fitted {\n",
              "  /* fitted */\n",
              "  border: var(--sklearn-color-fitted-level-1) 1pt solid;\n",
              "  color: var(--sklearn-color-fitted-level-1);\n",
              "}\n",
              "\n",
              "/* On hover */\n",
              "#sk-container-id-1 a.estimator_doc_link:hover {\n",
              "  /* unfitted */\n",
              "  background-color: var(--sklearn-color-unfitted-level-3);\n",
              "  color: var(--sklearn-color-background);\n",
              "  text-decoration: none;\n",
              "}\n",
              "\n",
              "#sk-container-id-1 a.estimator_doc_link.fitted:hover {\n",
              "  /* fitted */\n",
              "  background-color: var(--sklearn-color-fitted-level-3);\n",
              "}\n",
              "</style><div id=\"sk-container-id-1\" class=\"sk-top-container\"><div class=\"sk-text-repr-fallback\"><pre>RandomForestClassifier()</pre><b>In a Jupyter environment, please rerun this cell to show the HTML representation or trust the notebook. <br />On GitHub, the HTML representation is unable to render, please try loading this page with nbviewer.org.</b></div><div class=\"sk-container\" hidden><div class=\"sk-item\"><div class=\"sk-estimator fitted sk-toggleable\"><input class=\"sk-toggleable__control sk-hidden--visually\" id=\"sk-estimator-id-1\" type=\"checkbox\" checked><label for=\"sk-estimator-id-1\" class=\"sk-toggleable__label fitted sk-toggleable__label-arrow\"><div><div>RandomForestClassifier</div></div><div><a class=\"sk-estimator-doc-link fitted\" rel=\"noreferrer\" target=\"_blank\" href=\"https://scikit-learn.org/1.6/modules/generated/sklearn.ensemble.RandomForestClassifier.html\">?<span>Documentation for RandomForestClassifier</span></a><span class=\"sk-estimator-doc-link fitted\">i<span>Fitted</span></span></div></label><div class=\"sk-toggleable__content fitted\"><pre>RandomForestClassifier()</pre></div> </div></div></div></div>"
            ]
          },
          "metadata": {},
          "execution_count": 29
        }
      ],
      "source": [
        "random_forest_classifier.fit(all_features,np.ravel(pd.concat(\n",
        "[encoded_train.gender,encoded_test.gender])))\n"
      ]
    },
    {
      "cell_type": "markdown",
      "metadata": {
        "id": "hhngFMpyjDDY"
      },
      "source": [
        "### Step 8.3: Save the trained model in Pickle file"
      ]
    },
    {
      "cell_type": "code",
      "execution_count": 30,
      "metadata": {
        "id": "CwaoW2Z1jDDY"
      },
      "outputs": [],
      "source": [
        "pickle.dump(random_forest_classifier,\n",
        "open('RandomForestClassifier.pkl', 'wb'))"
      ]
    },
    {
      "cell_type": "markdown",
      "metadata": {
        "id": "pOoniZcUjDDY"
      },
      "source": [
        "# Step 9: Make prediction on unseen/new data"
      ]
    },
    {
      "cell_type": "markdown",
      "metadata": {
        "id": "VpoX1ltbjDDY"
      },
      "source": [
        "### Step 9.1: Load the Trained Model (saved in Step 8.3)"
      ]
    },
    {
      "cell_type": "code",
      "execution_count": 31,
      "metadata": {
        "id": "c5KFz4wAjDDY"
      },
      "outputs": [],
      "source": [
        "classifier = pickle.load(open('RandomForestClassifier.pkl', 'rb'))\n",
        "\n"
      ]
    },
    {
      "cell_type": "markdown",
      "metadata": {
        "id": "GKCnmu0qjDDZ"
      },
      "source": [
        "### Step 9.2: Take Input from User"
      ]
    },
    {
      "cell_type": "code",
      "execution_count": 32,
      "metadata": {
        "colab": {
          "base_uri": "https://localhost:8080/"
        },
        "id": "Q8a5pKW4jDDZ",
        "outputId": "16ca7b87-aa5f-4113-cc03-44363c443db9"
      },
      "outputs": [
        {
          "name": "stdout",
          "output_type": "stream",
          "text": [
            "Please enter your Height here (centimeter):6\n",
            "Please enter your Weight here(kg): 67\n",
            "Please enter your Hair Length here (Bald/Long/Short/Medium): Short\n",
            "Do you have beard? (Yes/No): Yes\n",
            "Do you wear Scarf? (Yes/No): No\n"
          ]
        }
      ],
      "source": [
        "height = float(input(\"Please enter your Height here (centimeter):\").strip())\n",
        "weight = int(input(\"Please enter your Weight here(kg): \").strip())\n",
        "hair = input(\"Please enter your Hair Length here (Bald/Long/Short/Medium): \").strip()\n",
        "beard = input(\"Do you have beard? (Yes/No): \").strip()\n",
        "scarf = input(\"Do you wear Scarf? (Yes/No): \").strip()"
      ]
    },
    {
      "cell_type": "markdown",
      "metadata": {
        "id": "_xJiQWNTjDDZ"
      },
      "source": [
        "### Step 9.3: Convert User Input into Feature Vector (Same as Feature Vector of Trained Model)"
      ]
    },
    {
      "cell_type": "code",
      "execution_count": 33,
      "metadata": {
        "colab": {
          "base_uri": "https://localhost:8080/"
        },
        "id": "oXeC_pZYjDDa",
        "outputId": "fdde6772-7466-48d4-d436-4d85778b30e4"
      },
      "outputs": [
        {
          "output_type": "stream",
          "name": "stdout",
          "text": [
            "User input in Actual DataFrame form:\n",
            "\n",
            "   Height  Weight   Hair Beard Scarf\n",
            "0     6.0      67  Short   Yes    No\n"
          ]
        }
      ],
      "source": [
        "user_input_df = pd.DataFrame({'Height':[height],'Weight':[weight],'Hair': [hair],'Beard': [beard],'Scarf': [scarf]})\n",
        "user_input_df = user_input_df[['Height', 'Weight','Hair','Beard','Scarf']]\n",
        "print(\"User input in Actual DataFrame form:\\n\")\n",
        "print(user_input_df)"
      ]
    },
    {
      "cell_type": "code",
      "execution_count": 34,
      "metadata": {
        "colab": {
          "base_uri": "https://localhost:8080/"
        },
        "id": "F0PhSEh1jDDa",
        "outputId": "5d00153e-9d8a-4e88-cb5c-9fd7a077485c"
      },
      "outputs": [
        {
          "output_type": "stream",
          "name": "stdout",
          "text": [
            "\n",
            "\n",
            "\n",
            "User input in Encoded DataFrame form:\n",
            "\n",
            "   Height  Weight  Hair  Beard  Scarf\n",
            "0     6.0      67     2      1      0\n"
          ]
        },
        {
          "output_type": "stream",
          "name": "stderr",
          "text": [
            "<ipython-input-34-4cc7d5476a0c>:1: FutureWarning: Downcasting behavior in `replace` is deprecated and will be removed in a future version. To retain the old behavior, explicitly call `result.infer_objects(copy=False)`. To opt-in to the future behavior, set `pd.set_option('future.no_silent_downcasting', True)`\n",
            "  user_input_df.Hair =user_input_df.Hair.replace(['Bald','Long','Short','Medium'],[0,1,2,3])\n",
            "<ipython-input-34-4cc7d5476a0c>:2: FutureWarning: Downcasting behavior in `replace` is deprecated and will be removed in a future version. To retain the old behavior, explicitly call `result.infer_objects(copy=False)`. To opt-in to the future behavior, set `pd.set_option('future.no_silent_downcasting', True)`\n",
            "  user_input_df.Scarf =user_input_df.Scarf.replace(['Yes','No'],[1,0])\n",
            "<ipython-input-34-4cc7d5476a0c>:3: FutureWarning: Downcasting behavior in `replace` is deprecated and will be removed in a future version. To retain the old behavior, explicitly call `result.infer_objects(copy=False)`. To opt-in to the future behavior, set `pd.set_option('future.no_silent_downcasting', True)`\n",
            "  user_input_df.Beard =user_input_df.Beard.replace(['Yes','No'],[1,0])\n"
          ]
        }
      ],
      "source": [
        "user_input_df.Hair =user_input_df.Hair.replace(['Bald','Long','Short','Medium'],[0,1,2,3])\n",
        "user_input_df.Scarf =user_input_df.Scarf.replace(['Yes','No'],[1,0])\n",
        "user_input_df.Beard =user_input_df.Beard.replace(['Yes','No'],[1,0])\n",
        "print(\"\\n\\n\\nUser input in Encoded DataFrame form:\\n\")\n",
        "print(user_input_df)\n",
        "sparse_matrix =scipy.sparse.csr_matrix(user_input_df.values)\n",
        "\n",
        "\n",
        "\n",
        "\n"
      ]
    },
    {
      "cell_type": "markdown",
      "metadata": {
        "id": "gtQVaZdnjDDa"
      },
      "source": [
        "### Step 9.4: Apply Trained Model on Feature Vector of Unseen Data and Output Prediction (Male/Female) to User"
      ]
    },
    {
      "cell_type": "code",
      "execution_count": 35,
      "metadata": {
        "colab": {
          "base_uri": "https://localhost:8080/"
        },
        "id": "Sm2u0bqyjDDa",
        "outputId": "e9923c1e-afd8-43a5-a6cb-a65c287d86b0"
      },
      "outputs": [
        {
          "output_type": "stream",
          "name": "stdout",
          "text": [
            "\n",
            "\n",
            "Prediction:  Female\n"
          ]
        }
      ],
      "source": [
        "print(\"\\n\\nPrediction: \", end=' ')\n",
        "pred = classifier.predict(sparse_matrix)\n",
        "if(pred == 1):\n",
        "    print(\"Male\")\n",
        "if(pred == 0):\n",
        "    print(\"Female\")"
      ]
    },
    {
      "cell_type": "markdown",
      "metadata": {
        "id": "h03pjfeKjDDb"
      },
      "source": [
        "<center><h3> End of the Tutorial </h3></center>"
      ]
    }
  ],
  "metadata": {
    "colab": {
      "provenance": []
    },
    "kernelspec": {
      "display_name": "Python 3 (ipykernel)",
      "language": "python",
      "name": "python3"
    },
    "language_info": {
      "codemirror_mode": {
        "name": "ipython",
        "version": 3
      },
      "file_extension": ".py",
      "mimetype": "text/x-python",
      "name": "python",
      "nbconvert_exporter": "python",
      "pygments_lexer": "ipython3",
      "version": "3.12.3"
    }
  },
  "nbformat": 4,
  "nbformat_minor": 0
}
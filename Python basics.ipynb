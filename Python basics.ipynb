{
  "cells": [
    {
      "cell_type": "markdown",
      "metadata": {
        "id": "06T0T7oLdFpN"
      },
      "source": [
        "# Assignment: Machine Learning\n",
        "\n",
        "### Topic: Python Learning\n",
        "\n",
        "**Due Date:** 27-03-2025\n",
        "\n",
        "---\n",
        "\n",
        "## Instructions:\n",
        "\n",
        "1. This assignment is focused on exploring and practicing Python fundamentals.\n",
        "2. Please ensure you follow best practices for coding and commenting and add atleast 2 examples of each concepts (make changes in the existing examples as well).\n",
        "3. Submit your Jupyter notebook with all code cells executed and outputs clearly visible.\n",
        "4. Your code should handle exceptions and errors gracefully.\n",
        "5. Ensure proper formatting of the notebook using Markdown for explanations and code cells for Python code.\n",
        "6. Use this ipynb file and extend it by adding new examples.\n",
        "\n",
        "## Guidelines:\n",
        "\n",
        "- Use appropriate Python libraries such as `numpy`, `pandas`, `matplotlib` where needed.\n",
        "- Make sure to test your code thoroughly and include examples where necessary.\n",
        "- The assignment will be graded on:\n",
        "  - Correctness of code\n",
        "  - Code readability and commenting\n",
        "  - Proper use of Python data structures (lists, dictionaries, etc.)\n",
        "  - Creativity in problem-solving\n",
        "  - Clarity of markdown explanations\n",
        "\n",
        "---\n",
        "\n",
        "## Deliverables:\n",
        "\n",
        "- Jupyter Notebook (.ipynb) file\n",
        "- If necessary, any supporting datasets or files\n",
        "\n",
        "**Note:** Late submissions may incur a penalty, so please manage your time accordingly. Reach out if you have any questions!\n"
      ]
    },
    {
      "cell_type": "markdown",
      "metadata": {
        "id": "7ZOemJwSdFpO"
      },
      "source": [
        "<br>\n",
        "\n",
        "# Table of contents\n",
        "### 1. Python Introduction\n",
        "    1.1. Why Python?\n",
        "    1.2. Where it is used?\n",
        "    \n",
        "### 2. Data Types\n",
        "    2.1 Variables\n",
        "      2.1.1. Local variable\n",
        "      2.1.2. Global Variables\n",
        "      2.1.3. Global keyword\n",
        "    2.2 Numbers\n",
        "      2.2.1. Integer\n",
        "      2.2.2. Floating point\n",
        "      2.2.3. Complex\n",
        "    2.3 Strings\n",
        "      2.3.1. String Length\n",
        "      2.3.2. String Methods\n",
        "      2.3.3. Accesing the value of string\n",
        "      2.3.4. Update the String\n",
        "      2.3.5. String Special operators\n",
        "      2.3.6. String Formatting operators\n",
        "    2.4 Lists\n",
        "      2.4.1. Create a List\n",
        "      2.4.2. Access values of List\n",
        "      2.4.3. Update the List\n",
        "      2.4.4. Addition in List\n",
        "      2.4.5. Deletion  Methods in List\n",
        "      2.4.6. Reverse the List\n",
        "      2.4.7. List sorting\n",
        "###### Data types Continue...\n",
        "    2.5 Dictionaries\n",
        "      2.5.1. Create a Dictionaries\n",
        "      2.5.2. Access the value of Dictionary\n",
        "      2.5.3. UPdate the Dictionary\n",
        "      2.5.4. Delete the Dictionary (All Methods)\n",
        "      2.5.5. Length of Dictionary\n",
        "    2.6 Tuples\n",
        "      2.6.1. Create a Tuples\n",
        "      2.6.2. Access the value of Tuples\n",
        "      2.6.3. UPdate the Tuples\n",
        "      2.6.4. Delete the Tuples (All Methods)\n",
        "      2.6.5. Length of Tuple\n",
        "    2.7 Sets\n",
        "      2.7.1. Create a Sets\n",
        "      2.7.2. Access the items of Sets\n",
        "      2.7.3. Add and Update items in Sets\n",
        "      2.7.4. Delete the Sets (All Methods)\n",
        "\n",
        "### 3. Operators\n",
        "    3.1. Arithmetic Operators\n",
        "    3.2. Comarison Operators\n",
        "    3.3. Logical Operators\n",
        "    3.4. Assignment Operators\n",
        "### 4. Conditional statements\n",
        "    4.1. If statement\n",
        "    4.2. if-else statement\n",
        "    4.3. if-else-if statement (Elif)\n",
        "\n",
        "\n",
        "### 5. Loops\n",
        "    5.1. For loop\n",
        "    5.2. Break statement\n",
        "    5.3. Continue statement\n",
        "    5.4. While loop\n",
        "    5.5. Nested loops\n",
        "### 6. Functions\n",
        "    6.1. Create a Function\n",
        "    6.2. Calling a Function\n",
        "    6.3. Parameters in a Function\n",
        "    6.4. Default parameter in Function\n",
        "    6.5. Return in Function\n",
        "### 7. Lambda Functions\n",
        "    7.1. Syntax of Lambda Function\n",
        "    7.2. Map()\n",
        "    7.3. filter()\n",
        "    7.4. Why, When and where it is used?\n",
        "### 8. Arrays\n",
        "    8.1. Create, Access and Update Array\n",
        "### 9. Class and objects\n",
        "    9.1. Create class and objects\n",
        "### 10. File I/O\n",
        "    10.1. Reading input from keyboard\n",
        "    10.2.I/O from text file\n",
        "       10.2.1. Create a text file\n",
        "       10.2.2. Reading a file\n",
        "       10.2.3. write into a file\n",
        "    10.3. File position\n",
        "    10.4. Why, When and where File I/O is used?\n",
        "### 11. Pandas Library Introduction\n",
        "    11.1. Read Dataset using Pandas\n",
        "    11.2. Why, When and where it is used?\n",
        "### 12. Series\n",
        "    12.1. Create a series\n",
        "    12.2. From ndarray\n",
        "    12.3. From dict\n",
        "    12.4. From Scalar Value\n",
        "    12.5. series is ndarray-like\n",
        "    12.6. series is dict-like\n",
        "    12.7. vectorized operations and label alignment with series\n",
        "    18.8. Why, When and where Series is used?\n",
        "### 13. Data Frames\n",
        "    13.1. From dict of series or dicts\n",
        "    13.2. From dict of ndarrays /lists\n",
        "    13.3. From a list of dicts\n",
        "    13.4. From a dict of tuples\n",
        "    13.5. Alternate constructors\n",
        "    13.6. Cloumn Selection, Addition, and Deletion\n",
        "       16.6.1. Column Selection\n",
        "       16.6.2. Column Deletion\n",
        "       16.6.3. Column Insertion\n",
        "    13.7. Indexing/ Seletion\n",
        "    13.8. Data Allignment and arithmetic\n",
        "    13.9. Transposing\n",
        "    13.10 Why, When and where DataFrames is used?\n",
        "### 14. Veiwing Data\n",
        "    14.1. Data viewing Methods"
      ]
    },
    {
      "cell_type": "markdown",
      "metadata": {
        "id": "udpkUz2_dFpP"
      },
      "source": [
        "## 1. Python Introduction\n",
        "- Python is powerful HIgh level programming language.In 1991 Guido van Rossum create this language.\n",
        "* Syntax of python language is very easy.\n",
        "* Python is a general purpose language.\n",
        "* It is used for the development of server side web development.\n",
        "* its object oriented langague\n",
        "* it is very easy language for very simple and complex applications\n",
        "* Debugging is very easy in python\n",
        "* Python is very user friendly language\n",
        "<br>\n",
        "\n",
        "### 1.1. Why Python?\n",
        "* Python operate on multiple platforms like windows, Linux and Mac etc.\n",
        "* It is more powerful language then other languages, it allows programmers to write programs with fewer lines.\n",
        "* it is very quick in terms of code execution\n",
        "<br>\n",
        "\n",
        "### 1.2. Where it is used?\n",
        "\n",
        "* It is used in web Applications\n",
        "* Used to handle Big data\n",
        "* it is used in complex mathematical systmes\n",
        "* Used in 3D Applications\n",
        "* Used in Network programming and different business applications\n",
        "* Used in Games\n",
        "* Used in scientific applications\n",
        "* Used in real time data applications"
      ]
    },
    {
      "cell_type": "markdown",
      "metadata": {
        "id": "pFzPIo8YdFpP"
      },
      "source": [
        "# 2. Data Types\n",
        "These are the basic data types in python. These are explained below\n",
        "## 2.1. Variables\n",
        "* Variables are just like a containers used for storing data.\n",
        "* The type of variable is not decleared before use\n",
        "* In Python, each variable is a object"
      ]
    },
    {
      "cell_type": "markdown",
      "metadata": {
        "id": "BqeX_ekodFpP"
      },
      "source": [
        "**_Example 1_**\n",
        "* The following syntax is used to declare variables"
      ]
    },
    {
      "cell_type": "code",
      "execution_count": 1,
      "metadata": {
        "colab": {
          "base_uri": "https://localhost:8080/",
          "height": 0
        },
        "id": "82iROWBKdFpQ",
        "outputId": "ebd5be87-c67f-4018-e560-82f3b5fbe26b"
      },
      "outputs": [
        {
          "name": "stdout",
          "output_type": "stream",
          "text": [
            "33.33\n",
            "33\n",
            "tahir\n"
          ]
        }
      ],
      "source": [
        "mfloat = 33.33 #variable type is flaot\n",
        "myint = 33 #variable type is integer\n",
        "fname = \"tahir\" #variable type is string\n",
        "\n",
        "#Print the values stored in variables\n",
        "\n",
        "print(mfloat)\n",
        "print(myint)\n",
        "print(fname)"
      ]
    },
    {
      "cell_type": "code",
      "execution_count": 6,
      "metadata": {},
      "outputs": [
        {
          "name": "stdout",
          "output_type": "stream",
          "text": [
            "5.8\n",
            "32\n",
            "Brown\n",
            "58\n",
            "Miraj khan\n",
            "12\n"
          ]
        }
      ],
      "source": [
        "## Example 1\n",
        "height=5.8\n",
        "age=32\n",
        "eye_color=\"Brown\"\n",
        "\n",
        "print(height)\n",
        "print(age)\n",
        "print(eye_color)\n",
        "\n",
        "## Example 2\n",
        "weight=58\n",
        "father_name=\"Miraj khan\"\n",
        "birth_date=12\n",
        "\n",
        "print(weight)\n",
        "print(father_name)\n",
        "print(birth_date)\n"
      ]
    },
    {
      "cell_type": "markdown",
      "metadata": {
        "id": "4w81MCffdFpR"
      },
      "source": [
        "**_Example 2_**\n",
        "* Assign values to multiple variables in single line"
      ]
    },
    {
      "cell_type": "code",
      "execution_count": null,
      "metadata": {
        "id": "qYgPDSx-dFpR",
        "outputId": "fe038a4f-011e-4d6c-f02d-77a5eb389f83"
      },
      "outputs": [
        {
          "name": "stdout",
          "output_type": "stream",
          "text": [
            "33.33\n",
            "33\n",
            "Bilal\n"
          ]
        }
      ],
      "source": [
        "mfloat, myint, fname = 33.33, 33, \"Bilal\"\n",
        "print(mfloat)\n",
        "print(myint)\n",
        "print(fname)"
      ]
    },
    {
      "cell_type": "code",
      "execution_count": 5,
      "metadata": {},
      "outputs": [
        {
          "name": "stdout",
          "output_type": "stream",
          "text": [
            "6.1\n",
            "21\n",
            "Amna miraj\n",
            "Amna miraj\n",
            "Lahore cantt\n",
            "amnamiraj@gmail.com\n"
          ]
        }
      ],
      "source": [
        "## Example 1\n",
        "height,age,name=6.1,21,\"Amna miraj\"\n",
        "print(height)\n",
        "print(age)\n",
        "print(name)\n",
        "\n",
        "## Example 2\n",
        "name,address,gmail=\"Amna miraj\",\"Lahore cantt\",\"amnamiraj@gmail.com\"\n",
        "print(name)\n",
        "print(address)\n",
        "print(gmail)"
      ]
    },
    {
      "cell_type": "markdown",
      "metadata": {
        "id": "gdG17ceAdFpR"
      },
      "source": [
        "**_Example 3_**\n",
        "* Assign single value to multiple variables"
      ]
    },
    {
      "cell_type": "code",
      "execution_count": 2,
      "metadata": {
        "colab": {
          "base_uri": "https://localhost:8080/",
          "height": 0
        },
        "id": "SeT0YGTgdFpR",
        "outputId": "81cd59a8-f7fe-485d-b4fe-bbb32992f83b"
      },
      "outputs": [
        {
          "name": "stdout",
          "output_type": "stream",
          "text": [
            "sohail\n",
            "sohail\n",
            "sohail\n"
          ]
        }
      ],
      "source": [
        "mfloat = myint= fname = \"sohail\"\n",
        "print(mfloat)\n",
        "print(myint)\n",
        "print(fname)"
      ]
    },
    {
      "cell_type": "code",
      "execution_count": 4,
      "metadata": {},
      "outputs": [
        {
          "name": "stdout",
          "output_type": "stream",
          "text": [
            "Amna miraj\n",
            "Amna miraj\n",
            "Amna miraj\n",
            "32\n",
            "32\n",
            "32\n"
          ]
        }
      ],
      "source": [
        "## Example 1\n",
        "first_name=last_name=name=\"Amna miraj\"\n",
        "print(first_name)\n",
        "print(last_name)\n",
        "print(name)\n",
        "\n",
        "## Example 2\n",
        "age=weight=height=32\n",
        "print(age)\n",
        "print(weight)\n",
        "print(height)"
      ]
    },
    {
      "cell_type": "markdown",
      "metadata": {
        "id": "KKL7SP4ZdFpR"
      },
      "source": [
        "**_Example 4_**\n",
        "* Output variable declaration\n",
        "* In Python + character is used to combine the output of text and a varaiable."
      ]
    },
    {
      "cell_type": "code",
      "execution_count": null,
      "metadata": {
        "id": "loVD5b5DdFpS",
        "outputId": "d306887c-7fb4-433e-fd86-f832a017e9a2"
      },
      "outputs": [
        {
          "name": "stdout",
          "output_type": "stream",
          "text": [
            "Machince learning is Interesting\n"
          ]
        }
      ],
      "source": [
        "x = \"Interesting\"\n",
        "print(\"Machince learning is \" + x)"
      ]
    },
    {
      "cell_type": "code",
      "execution_count": 8,
      "metadata": {},
      "outputs": [
        {
          "name": "stdout",
          "output_type": "stream",
          "text": [
            "My name is Amna Miraj\n",
            "I am a computer science student\n"
          ]
        }
      ],
      "source": [
        "## Example 1\n",
        "a=\"Amna Miraj\"\n",
        "print(\"My name is \"+ a)\n",
        "\n",
        "## Example 2\n",
        "y=\"computer science student\"\n",
        "print(\"I am a \"+ y)"
      ]
    },
    {
      "cell_type": "markdown",
      "metadata": {
        "id": "3vWrYXaRdFpS"
      },
      "source": [
        "### 2.1.1. Local Variable  \n",
        "* Scope of the variables is limited, within function is called local variable.\n",
        "<br>\n",
        "\n",
        "**_Example_**\n",
        "* Local variable declaration"
      ]
    },
    {
      "cell_type": "code",
      "execution_count": null,
      "metadata": {
        "id": "c7r_RCfzdFpS",
        "outputId": "0b758a4b-9fde-4533-d94e-577bb5e01bfa"
      },
      "outputs": [
        {
          "name": "stdout",
          "output_type": "stream",
          "text": [
            "Machine Learning is Interesting\n"
          ]
        }
      ],
      "source": [
        "def myfunction():\n",
        "    var = \"Machine Learning is Interesting\"\n",
        "    print(var)\n",
        "myfunction()"
      ]
    },
    {
      "cell_type": "code",
      "execution_count": 11,
      "metadata": {},
      "outputs": [
        {
          "name": "stdout",
          "output_type": "stream",
          "text": [
            "My name is amna miraj\n",
            "My age is 21\n"
          ]
        }
      ],
      "source": [
        "## Example 1\n",
        "def introduction():\n",
        "    intro=\"My name is amna miraj\"\n",
        "    print(intro)\n",
        "introduction()\n",
        "\n",
        "## Example 2\n",
        "def my_age():\n",
        "    age=21\n",
        "    print(\"My age is\",age)\n",
        "my_age()\n"
      ]
    },
    {
      "cell_type": "markdown",
      "metadata": {
        "id": "5iVCF3OAdFpS"
      },
      "source": [
        "### 2.1.2. Global Variables\n",
        "* The variables declare outside the function is called Global variable.\n",
        "* Scope of Global variable is within function and outside function.()\n",
        "<br>\n",
        "\n",
        "**_Example_**\n",
        "* Global variable declaration"
      ]
    },
    {
      "cell_type": "code",
      "execution_count": 15,
      "metadata": {
        "id": "QCz7qbNfdFpS",
        "outputId": "f3bf3ba3-1b33-48bb-8c76-9fbf814fefcf"
      },
      "outputs": [
        {
          "name": "stdout",
          "output_type": "stream",
          "text": [
            "Machine learning Logical\n",
            "Python is interesting\n"
          ]
        }
      ],
      "source": [
        "var = \"interesting\"\n",
        "\n",
        "def myfunction():\n",
        "  var1 = \"Logical\"\n",
        "  print(\"Machine learning \" + var1)\n",
        "\n",
        "myfunction()\n",
        "\n",
        "print(\"Python is \" + var)"
      ]
    },
    {
      "cell_type": "code",
      "execution_count": 17,
      "metadata": {},
      "outputs": [
        {
          "name": "stdout",
          "output_type": "stream",
          "text": [
            "My favourite color is Blue\n",
            "My favourite color is Black\n"
          ]
        }
      ],
      "source": [
        "color=\"Black\"\n",
        "def favourite_color():\n",
        "    color1=\"Blue\"\n",
        "    print(\"My favourite color is\",color1)\n",
        "favourite_color()\n",
        "\n",
        "print(\"My favourite color is\",color)"
      ]
    },
    {
      "cell_type": "markdown",
      "metadata": {
        "id": "6aJWLv6UdFpS"
      },
      "source": [
        "### 2.1.3. Use of Global keyword\n",
        "* We use Global keyword with any variable to make it Global\n",
        "<br>\n",
        "\n",
        "**_Example_**\n",
        "* Use of Global keyword"
      ]
    },
    {
      "cell_type": "code",
      "execution_count": null,
      "metadata": {
        "id": "Ep4LARGMdFpS",
        "outputId": "175416fc-c896-4fe6-97c1-f73ecf238f75"
      },
      "outputs": [
        {
          "name": "stdout",
          "output_type": "stream",
          "text": [
            "Machine learning interesting\n",
            "Python is Logical\n"
          ]
        }
      ],
      "source": [
        "var = \"interesting\"\n",
        "\n",
        "def myfunction():\n",
        "    global var1\n",
        "    var1= \"Logical\"\n",
        "    print(\"Machine learning \" + var) #print the Global variable\n",
        "\n",
        "myfunction()\n",
        "\n",
        "print(\"Python is \" + var1) #Print the Local variable after make it Global using Global keyword"
      ]
    },
    {
      "cell_type": "code",
      "execution_count": 24,
      "metadata": {},
      "outputs": [
        {
          "name": "stdout",
          "output_type": "stream",
          "text": [
            "My favourite color is Black\n",
            "My favourite color is Blue\n",
            "My age is: 20\n",
            "My age is: 21\n"
          ]
        }
      ],
      "source": [
        "## Example 1\n",
        "color=\"Black\"\n",
        "def favourite_color():\n",
        "    global color1\n",
        "    color1=\"Blue\"\n",
        "    print(\"My favourite color is \"+ color)\n",
        "favourite_color()\n",
        "\n",
        "print(\"My favourite color is \"+ color1)\n",
        "\n",
        "\n",
        "## Example 2\n",
        "age=20\n",
        "def my_age():\n",
        "    global age1\n",
        "    age1=21\n",
        "    print(\"My age is:\",age)\n",
        "my_age()\n",
        "print(\"My age is:\",age1)"
      ]
    },
    {
      "cell_type": "markdown",
      "metadata": {
        "id": "sj_6AFJsdFpT"
      },
      "source": [
        "## 2.2. Numbers\n",
        "* It stores numerical data of different types\n",
        "* Python supports three types of numbers or numerical data\n",
        "  * Integer\n",
        "  * Floating point\n",
        "  * Complex numbers"
      ]
    },
    {
      "cell_type": "markdown",
      "metadata": {
        "id": "lvg2KKdpdFpT"
      },
      "source": [
        "### 2.2.1 Integer number\n",
        "* Int or integer is a whole number without decimals\n",
        "* positive or negative\n",
        "* Unlimited length of integer\n",
        "<br>\n",
        "\n",
        "**_Example 1_**"
      ]
    },
    {
      "cell_type": "code",
      "execution_count": null,
      "metadata": {
        "id": "uaj77NBIdFpT",
        "outputId": "bf5b38e7-5ffe-49fe-f8d0-fb89a3270753"
      },
      "outputs": [
        {
          "name": "stdout",
          "output_type": "stream",
          "text": [
            "33\n"
          ]
        }
      ],
      "source": [
        "myint = 33\n",
        "print(myint)"
      ]
    },
    {
      "cell_type": "code",
      "execution_count": null,
      "metadata": {
        "id": "RRUHH3IAdFpT",
        "outputId": "8bc731d4-bb88-4d12-fffe-2c6439452564"
      },
      "outputs": [
        {
          "data": {
            "text/plain": [
              "33"
            ]
          },
          "execution_count": 68,
          "metadata": {},
          "output_type": "execute_result"
        }
      ],
      "source": [
        "33 #integer number"
      ]
    },
    {
      "cell_type": "code",
      "execution_count": null,
      "metadata": {
        "id": "9ocfWivKdFpT",
        "outputId": "bacb4e3d-4713-4031-c2c7-10146a993c69"
      },
      "outputs": [
        {
          "data": {
            "text/plain": [
              "6"
            ]
          },
          "execution_count": 69,
          "metadata": {},
          "output_type": "execute_result"
        }
      ],
      "source": [
        "3+3 #Add two integers"
      ]
    },
    {
      "cell_type": "code",
      "execution_count": 29,
      "metadata": {},
      "outputs": [
        {
          "name": "stdout",
          "output_type": "stream",
          "text": [
            "45\n",
            "67\n"
          ]
        }
      ],
      "source": [
        "## Example 1\n",
        "number=45\n",
        "print(number)\n",
        "\n",
        "## Example 2\n",
        "variable=67\n",
        "print(variable)\n"
      ]
    },
    {
      "cell_type": "code",
      "execution_count": null,
      "metadata": {},
      "outputs": [
        {
          "data": {
            "text/plain": [
              "45"
            ]
          },
          "execution_count": 31,
          "metadata": {},
          "output_type": "execute_result"
        }
      ],
      "source": [
        "## integer number \n",
        "45"
      ]
    },
    {
      "cell_type": "code",
      "execution_count": null,
      "metadata": {},
      "outputs": [
        {
          "data": {
            "text/plain": [
              "67"
            ]
          },
          "execution_count": 32,
          "metadata": {},
          "output_type": "execute_result"
        }
      ],
      "source": [
        "## integer number \n",
        "67"
      ]
    },
    {
      "cell_type": "code",
      "execution_count": null,
      "metadata": {},
      "outputs": [
        {
          "data": {
            "text/plain": [
              "9"
            ]
          },
          "execution_count": 28,
          "metadata": {},
          "output_type": "execute_result"
        }
      ],
      "source": [
        "## sum of integers\n",
        "4+5"
      ]
    },
    {
      "cell_type": "code",
      "execution_count": null,
      "metadata": {},
      "outputs": [
        {
          "data": {
            "text/plain": [
              "13"
            ]
          },
          "execution_count": 33,
          "metadata": {},
          "output_type": "execute_result"
        }
      ],
      "source": [
        "## sum of integers \n",
        "6+7"
      ]
    },
    {
      "cell_type": "markdown",
      "metadata": {
        "id": "Ir-dAYLjdFpT"
      },
      "source": [
        "**_Example 2_**\n",
        "* Print the datatype"
      ]
    },
    {
      "cell_type": "code",
      "execution_count": null,
      "metadata": {
        "id": "J8vseVpudFpU",
        "outputId": "57081210-670d-4a51-e461-447a4fe8a22e"
      },
      "outputs": [
        {
          "name": "stdout",
          "output_type": "stream",
          "text": [
            "33\n",
            "<class 'int'>\n"
          ]
        }
      ],
      "source": [
        "myint = 33\n",
        "print(myint)\n",
        "print(type(myint))"
      ]
    },
    {
      "cell_type": "code",
      "execution_count": 35,
      "metadata": {},
      "outputs": [
        {
          "name": "stdout",
          "output_type": "stream",
          "text": [
            "32\n",
            "<class 'int'>\n",
            "58\n",
            "<class 'int'>\n"
          ]
        }
      ],
      "source": [
        "## Example 1\n",
        "age=32\n",
        "print(age)\n",
        "print(type(age))\n",
        "\n",
        "## Example 2\n",
        "weight=58\n",
        "print(weight)\n",
        "print(type(weight))"
      ]
    },
    {
      "cell_type": "markdown",
      "metadata": {
        "id": "EIAylcEWdFpU"
      },
      "source": [
        "### 2.2.2. Floating point number\n",
        "* Float, or \"floating point number\"\n",
        "* Number should be positive or negative\n",
        "* Number containing one or more decimals.\n",
        "<br>\n",
        "\n",
        "**_Example 1_**"
      ]
    },
    {
      "cell_type": "code",
      "execution_count": null,
      "metadata": {
        "id": "KpGmvTnEdFpU",
        "outputId": "d2586af7-c11a-4b37-c43d-def13c4f0344"
      },
      "outputs": [
        {
          "name": "stdout",
          "output_type": "stream",
          "text": [
            "33.33\n",
            "<class 'float'>\n"
          ]
        }
      ],
      "source": [
        "myfloat = 33.33\n",
        "print(myfloat)\n",
        "print(type(myfloat))"
      ]
    },
    {
      "cell_type": "code",
      "execution_count": 37,
      "metadata": {},
      "outputs": [
        {
          "name": "stdout",
          "output_type": "stream",
          "text": [
            "6.1\n",
            "<class 'float'>\n",
            "45.89\n",
            "<class 'float'>\n"
          ]
        }
      ],
      "source": [
        "## Example 1\n",
        "height=6.1\n",
        "print(height)\n",
        "print(type(height))\n",
        "\n",
        "## Example 2\n",
        "variable=45.89\n",
        "print(variable)\n",
        "print(type(variable))"
      ]
    },
    {
      "cell_type": "code",
      "execution_count": null,
      "metadata": {
        "id": "_XRYYiCUdFpU",
        "outputId": "34e93e81-ea4f-4059-d9f8-bd9cd477a283"
      },
      "outputs": [
        {
          "data": {
            "text/plain": [
              "33.33"
            ]
          },
          "execution_count": 73,
          "metadata": {},
          "output_type": "execute_result"
        }
      ],
      "source": [
        "33.33"
      ]
    },
    {
      "cell_type": "code",
      "execution_count": null,
      "metadata": {},
      "outputs": [
        {
          "data": {
            "text/plain": [
              "6.1"
            ]
          },
          "execution_count": 38,
          "metadata": {},
          "output_type": "execute_result"
        }
      ],
      "source": [
        "## float_number \n",
        "6.1"
      ]
    },
    {
      "cell_type": "code",
      "execution_count": null,
      "metadata": {
        "id": "LV1kuEEVdFpU",
        "outputId": "f40badde-42d4-46d9-90fc-468354475c90"
      },
      "outputs": [
        {
          "data": {
            "text/plain": [
              "66.66"
            ]
          },
          "execution_count": 75,
          "metadata": {},
          "output_type": "execute_result"
        }
      ],
      "source": [
        "33.33+33.33"
      ]
    },
    {
      "cell_type": "code",
      "execution_count": 39,
      "metadata": {},
      "outputs": [
        {
          "data": {
            "text/plain": [
              "12.2"
            ]
          },
          "execution_count": 39,
          "metadata": {},
          "output_type": "execute_result"
        }
      ],
      "source": [
        "## Sum of two float numbers \n",
        "6.1+6.1"
      ]
    },
    {
      "cell_type": "code",
      "execution_count": null,
      "metadata": {
        "id": "pyuatli_dFpU",
        "outputId": "3766368e-3e83-47eb-d89e-92a114c8a741"
      },
      "outputs": [
        {
          "data": {
            "text/plain": [
              "33.0"
            ]
          },
          "execution_count": 78,
          "metadata": {},
          "output_type": "execute_result"
        }
      ],
      "source": [
        "33."
      ]
    },
    {
      "cell_type": "code",
      "execution_count": null,
      "metadata": {},
      "outputs": [
        {
          "data": {
            "text/plain": [
              "6.0"
            ]
          },
          "execution_count": 40,
          "metadata": {},
          "output_type": "execute_result"
        }
      ],
      "source": [
        "## float number\n",
        "6."
      ]
    },
    {
      "cell_type": "code",
      "execution_count": null,
      "metadata": {
        "id": "adYBqDdmdFpU",
        "outputId": "47369eb6-0880-40b1-fb0c-a3eeb787d2c9"
      },
      "outputs": [
        {
          "data": {
            "text/plain": [
              "0.33"
            ]
          },
          "execution_count": 79,
          "metadata": {},
          "output_type": "execute_result"
        }
      ],
      "source": [
        ".33"
      ]
    },
    {
      "cell_type": "code",
      "execution_count": 41,
      "metadata": {},
      "outputs": [
        {
          "data": {
            "text/plain": [
              "0.1"
            ]
          },
          "execution_count": 41,
          "metadata": {},
          "output_type": "execute_result"
        }
      ],
      "source": [
        "## float number \n",
        ".1"
      ]
    },
    {
      "cell_type": "markdown",
      "metadata": {
        "id": "wlyFJMExdFpV"
      },
      "source": [
        "### 2.2.3. Complex number\n",
        "* **\"j\"** is written as the imaginary part in complex numbers.\n",
        "<br>\n",
        "\n",
        "**_Example 1_**"
      ]
    },
    {
      "cell_type": "code",
      "execution_count": null,
      "metadata": {
        "id": "z086TjXldFpV",
        "outputId": "bccae0f7-5fc0-4851-be04-01f34d6be825"
      },
      "outputs": [
        {
          "name": "stdout",
          "output_type": "stream",
          "text": [
            "<class 'complex'>\n",
            "<class 'complex'>\n",
            "<class 'complex'>\n"
          ]
        }
      ],
      "source": [
        "var = 3+3j\n",
        "var1 = 3j\n",
        "var2 = -5j\n",
        "\n",
        "print(type(var))\n",
        "print(type(var1))\n",
        "print(type(var2))"
      ]
    },
    {
      "cell_type": "code",
      "execution_count": null,
      "metadata": {},
      "outputs": [
        {
          "name": "stdout",
          "output_type": "stream",
          "text": [
            "8j\n",
            "(-0-7j)\n",
            "(4+5j)\n",
            "<class 'complex'>\n",
            "<class 'complex'>\n",
            "<class 'complex'>\n"
          ]
        }
      ],
      "source": [
        "## Example 1\n",
        "num=8j\n",
        "num1=-7j\n",
        "num2=4+5j\n",
        "print(num)\n",
        "print(num1)\n",
        "print(num2)\n",
        "print(type(num))\n",
        "print(type(num1))\n",
        "print(type(num2))"
      ]
    },
    {
      "cell_type": "markdown",
      "metadata": {
        "id": "PMo6nfNMdFpV"
      },
      "source": [
        "## 2.3. Strings\n",
        "* In Python string is written in single quot or double quot.\n",
        "* 'Python' is the same as \"Python\".\n",
        "* String contain sequence of charachers and used to store words that contain letters, numbers and special characters.\n",
        "<br>\n",
        "\n",
        "**_Example_**\n",
        "<br>\n",
        "* Print a string"
      ]
    },
    {
      "cell_type": "code",
      "execution_count": 3,
      "metadata": {
        "colab": {
          "base_uri": "https://localhost:8080/",
          "height": 0
        },
        "id": "rImKGsZwdFpV",
        "outputId": "1ac49e2f-a979-4c21-959d-0ac242f82001"
      },
      "outputs": [
        {
          "name": "stdout",
          "output_type": "stream",
          "text": [
            "Tahir Sohail\n"
          ]
        }
      ],
      "source": [
        "Fname = \"Tahir\"\n",
        "Lname = 'Sohail'\n",
        "print(Fname,Lname)"
      ]
    },
    {
      "cell_type": "code",
      "execution_count": 50,
      "metadata": {},
      "outputs": [
        {
          "name": "stdout",
          "output_type": "stream",
          "text": [
            "BS Computer Science\n",
            "My age is 21\n"
          ]
        }
      ],
      "source": [
        "## Example 1\n",
        "degree=\"BS\"\n",
        "discipline=\"Computer Science\"\n",
        "print(degree+\" \"+discipline)\n",
        "\n",
        "## Example 2\n",
        "string=\"My age is \"\n",
        "age=\"21\"\n",
        "print(string+age)"
      ]
    },
    {
      "cell_type": "markdown",
      "metadata": {
        "id": "4DW6OdwzdFpV"
      },
      "source": [
        "### 2.3.1. String Length\n",
        "* The Funcation len() is used to count the length of a string.\n",
        "<br>\n",
        "\n",
        "**_Example_**"
      ]
    },
    {
      "cell_type": "code",
      "execution_count": 4,
      "metadata": {
        "colab": {
          "base_uri": "https://localhost:8080/",
          "height": 0
        },
        "id": "z2mLK9z0dFpV",
        "outputId": "09b19d93-5eee-497a-a7b3-b50e765c7fe8"
      },
      "outputs": [
        {
          "name": "stdout",
          "output_type": "stream",
          "text": [
            "15\n"
          ]
        }
      ],
      "source": [
        "Name = \"Tahir, Sohail !\"\n",
        "print(len(Name))"
      ]
    },
    {
      "cell_type": "code",
      "execution_count": 45,
      "metadata": {},
      "outputs": [
        {
          "name": "stdout",
          "output_type": "stream",
          "text": [
            "The lenght of the string is: 31\n",
            "The lenght of the string is: 5\n"
          ]
        }
      ],
      "source": [
        "## Example 1\n",
        "string_python=\"The string definition in python\"\n",
        "print(\"The lenght of the string is:\",len(string_python))\n",
        "\n",
        "## Example 2\n",
        "expression=\"A+B/C\"\n",
        "print(\"The lenght of the string is:\",len(expression))"
      ]
    },
    {
      "cell_type": "markdown",
      "metadata": {
        "id": "yvKepsORdFpV"
      },
      "source": [
        "### 2.3.2. String Methods\n",
        "* There are some built-in methods of string.\n",
        "  * strip()\n",
        "  * lower()\n",
        "  * upper()\n",
        "  * replace()\n",
        "  * split()\n",
        "<br>\n",
        "\n",
        "**_Example_**\n",
        "* **Strip()** that remove the white space from the start and end of a string"
      ]
    },
    {
      "cell_type": "code",
      "execution_count": null,
      "metadata": {
        "id": "Pzd7DspBdFpW",
        "outputId": "7116237a-6c9e-411e-cb94-37f33c6261c3"
      },
      "outputs": [
        {
          "name": "stdout",
          "output_type": "stream",
          "text": [
            "Machine, Learning!\n"
          ]
        }
      ],
      "source": [
        "string = \" Machine, Learning! \"\n",
        "print(string.strip()) # returns \"Machine, Learning!\""
      ]
    },
    {
      "cell_type": "code",
      "execution_count": 52,
      "metadata": {},
      "outputs": [
        {
          "name": "stdout",
          "output_type": "stream",
          "text": [
            "My name is Amna miraj\n",
            "Python programming\n"
          ]
        }
      ],
      "source": [
        "## Example 1\n",
        "my_string=\" My name is Amna miraj \"\n",
        "print(my_string.strip()) \n",
        "\n",
        "## Example 2\n",
        "String=\"  Python programming \"\n",
        "print(String.strip()) "
      ]
    },
    {
      "cell_type": "markdown",
      "metadata": {
        "id": "Gu2I9utydFpe"
      },
      "source": [
        "\n",
        "**_Example_**\n",
        "* **Lower()** function is used to convert the string into lower case"
      ]
    },
    {
      "cell_type": "code",
      "execution_count": null,
      "metadata": {
        "id": "cOoSudtrdFpe",
        "outputId": "4454ab6b-ba21-48a0-c7ce-d595bdcd3198"
      },
      "outputs": [
        {
          "name": "stdout",
          "output_type": "stream",
          "text": [
            " machine, learning! \n"
          ]
        }
      ],
      "source": [
        "string = \" Machine, Learning! \"\n",
        "print(string.lower()) # returns \"machine, learning!\""
      ]
    },
    {
      "cell_type": "code",
      "execution_count": 54,
      "metadata": {},
      "outputs": [
        {
          "name": "stdout",
          "output_type": "stream",
          "text": [
            "my name is amna miraj\n",
            "python programming\n"
          ]
        }
      ],
      "source": [
        "## Example 1\n",
        "my_string=\"My name is Amna miraj\"\n",
        "print(my_string.lower()) \n",
        "\n",
        "## Example 2\n",
        "String=\"Python programming\"\n",
        "print(String.lower()) "
      ]
    },
    {
      "cell_type": "markdown",
      "metadata": {
        "id": "HY60cHD5dFpe"
      },
      "source": [
        "**_Example_**\n",
        "* **Upper()** function is used to convert the string into upper case"
      ]
    },
    {
      "cell_type": "code",
      "execution_count": null,
      "metadata": {
        "id": "MR_OImIVdFpe",
        "outputId": "4ecdf024-cd48-4ca6-8678-aa19c99d37bc"
      },
      "outputs": [
        {
          "name": "stdout",
          "output_type": "stream",
          "text": [
            " MACHINE, LEARNING! \n"
          ]
        }
      ],
      "source": [
        "string = \" machine, learning! \"\n",
        "print(string.upper()) # returns \"Machine, Learning!\"\n"
      ]
    },
    {
      "cell_type": "code",
      "execution_count": 55,
      "metadata": {},
      "outputs": [
        {
          "name": "stdout",
          "output_type": "stream",
          "text": [
            "MY NAME IS AMNA MIRAJ\n",
            "PYTHON PROGRAMMING\n"
          ]
        }
      ],
      "source": [
        "## Example 1\n",
        "my_string=\"My name is Amna miraj\"\n",
        "print(my_string.upper()) \n",
        "\n",
        "## Example 2\n",
        "String=\"Python programming\"\n",
        "print(String.upper()) "
      ]
    },
    {
      "cell_type": "markdown",
      "metadata": {
        "id": "gA32FxYgdFpf"
      },
      "source": [
        "**_Example_**\n",
        "* **replace()** function is used to replace the string with other string"
      ]
    },
    {
      "cell_type": "code",
      "execution_count": null,
      "metadata": {
        "id": "5iXS1CFOdFpf",
        "outputId": "6e8c583f-773f-4322-ce06-3de6e3930b19"
      },
      "outputs": [
        {
          "name": "stdout",
          "output_type": "stream",
          "text": [
            "Python, Learning!\n"
          ]
        }
      ],
      "source": [
        "string = \"Machine, Learning!\"\n",
        "print(string.replace(\"Machine\", \"Python\"))"
      ]
    },
    {
      "cell_type": "code",
      "execution_count": 56,
      "metadata": {},
      "outputs": [
        {
          "name": "stdout",
          "output_type": "stream",
          "text": [
            "My name is fatima ali\n",
            "c++ programming\n"
          ]
        }
      ],
      "source": [
        "## Example 1\n",
        "my_string=\"My name is Amna miraj\"\n",
        "print(my_string.replace(\"Amna miraj\", \"fatima ali\")) \n",
        "\n",
        "## Example 2\n",
        "String=\"Python programming\"\n",
        "print(String.replace(\"Python\", \"c++\")) "
      ]
    },
    {
      "cell_type": "markdown",
      "metadata": {
        "id": "wRlajVn0dFpf"
      },
      "source": [
        "**_Example_**\n",
        "* **split()** function is used to splits the string into instances"
      ]
    },
    {
      "cell_type": "code",
      "execution_count": null,
      "metadata": {
        "id": "g9q9DF47dFpf",
        "outputId": "8159f155-7b4a-4318-c588-8d37b602b7b6"
      },
      "outputs": [
        {
          "name": "stdout",
          "output_type": "stream",
          "text": [
            "['Machine', ' Learning!']\n"
          ]
        }
      ],
      "source": [
        "string = \"Machine, Learning!\"\n",
        "print(string.split(\",\"))"
      ]
    },
    {
      "cell_type": "code",
      "execution_count": 59,
      "metadata": {},
      "outputs": [
        {
          "name": "stdout",
          "output_type": "stream",
          "text": [
            "['My name ', ' is Amna miraj']\n",
            "['Python ', ' programming']\n"
          ]
        }
      ],
      "source": [
        "## Example 1\n",
        "my_string=\"My name , is Amna miraj\"\n",
        "print(my_string.split(\",\")) \n",
        "\n",
        "## Example 2\n",
        "String=\"Python , programming\"\n",
        "print(String.split(\",\")) "
      ]
    },
    {
      "cell_type": "markdown",
      "metadata": {
        "id": "4ORvgyo7dFpf"
      },
      "source": [
        "### 2.3.3  Acess values in String\n",
        "<br>\n",
        "\n",
        "* Python doesn't support Character data type. These are treated as Strings of length one.\n",
        "* Square brackets are used to access substrings.\n",
        "* We can access a specific character or range of characters from string.\n",
        "\n",
        "**_Examle_**"
      ]
    },
    {
      "cell_type": "code",
      "execution_count": null,
      "metadata": {
        "id": "p6PhDzjjdFpf",
        "outputId": "a6e262aa-66cc-4fce-83a4-4b965b371204"
      },
      "outputs": [
        {
          "name": "stdout",
          "output_type": "stream",
          "text": [
            "string_type_variable[1]: a\n",
            "string_type_variable[2:6]: chin\n"
          ]
        }
      ],
      "source": [
        "string_type_variable = 'Machine Learning'\n",
        "print(\"string_type_variable[1]:\", string_type_variable[1])\n",
        "print(\"string_type_variable[2:6]:\", string_type_variable[2:6])"
      ]
    },
    {
      "cell_type": "code",
      "execution_count": 63,
      "metadata": {},
      "outputs": [
        {
          "name": "stdout",
          "output_type": "stream",
          "text": [
            "string[2]: a\n",
            "string_name[3:7]: name\n"
          ]
        }
      ],
      "source": [
        "## Example 1\n",
        "string=\"I am currently studying in UMT\"\n",
        "print(\"string[2]:\",string[2])\n",
        "\n",
        "## Example 2\n",
        "string_name=\"My name is amna miraj\"\n",
        "print(\"string_name[3:7]:\",string_name[3:7])"
      ]
    },
    {
      "cell_type": "markdown",
      "metadata": {
        "id": "Zz8iKi96dFpf"
      },
      "source": [
        "### 2.3.4 Updating the String\n",
        "* Value of the string can be updated by assigning a new value to it. New value will be replaced with older.\n",
        "* New value must be related (having same data type) to previous value of the string.\n",
        "* '+' operator will be used for this purpose like as follows:\n",
        "\n",
        "**_Example_**"
      ]
    },
    {
      "cell_type": "code",
      "execution_count": null,
      "metadata": {
        "id": "Cvl5ae9EdFpg",
        "outputId": "586336ac-091e-4997-d754-30aae8d06b41"
      },
      "outputs": [
        {
          "name": "stdout",
          "output_type": "stream",
          "text": [
            "Updated string:  Machine Traning\n"
          ]
        }
      ],
      "source": [
        "string_type_variable = \"Machine Learning\"\n",
        "string_type_variable = string_type_variable[:8] + \"Traning\"\n",
        "print(\"Updated string: \", string_type_variable)"
      ]
    },
    {
      "cell_type": "code",
      "execution_count": 76,
      "metadata": {},
      "outputs": [
        {
          "name": "stdout",
          "output_type": "stream",
          "text": [
            "Updated string: I am currently studying in Compsats\n",
            "Updated string: My name is Fatima Ali\n"
          ]
        }
      ],
      "source": [
        "## Example 1\n",
        "string=\"I am currently studying in UMT\"\n",
        "string=string[:27]+ \"Compsats\"\n",
        "print(\"Updated string:\",string)\n",
        "\n",
        "## Example 2\n",
        "string_name=\"My name is amna miraj\"\n",
        "string_name=string_name[:11]+ \"Fatima Ali\"\n",
        "print(\"Updated string:\",string_name)"
      ]
    },
    {
      "cell_type": "markdown",
      "metadata": {
        "id": "c26nWOMddFpg"
      },
      "source": [
        "### 2.3.5  String special operators <br>\n",
        "* Some special operators are used in Python to assist the user. These are the followings given bellow.\n",
        "  * String Concatenation **\"+\"**\n",
        "  * String Repetition **\"*\"**\n",
        "  * Get Range of character **\"[]\"**\n",
        "  * Existance of character in a string **\"In\"**\n",
        "  * No Existance of character in a string **\"not In\"**\n",
        "<br>\n",
        "\n",
        "**_Example_** <br>\n",
        "* To **concatenate** the string **\"+\"** operator is used"
      ]
    },
    {
      "cell_type": "code",
      "execution_count": null,
      "metadata": {
        "id": "0q1eTV03dFpg",
        "outputId": "641d3356-5885-4be6-b069-e7ee778d2473"
      },
      "outputs": [
        {
          "name": "stdout",
          "output_type": "stream",
          "text": [
            "MachineLearning\n"
          ]
        }
      ],
      "source": [
        "string_variable = \"Machine\"\n",
        "print(string_variable+\"Learning\")"
      ]
    },
    {
      "cell_type": "code",
      "execution_count": 82,
      "metadata": {},
      "outputs": [
        {
          "name": "stdout",
          "output_type": "stream",
          "text": [
            "Python Programming.\n",
            "Machine Learning is my technical elective for this semester.\n"
          ]
        }
      ],
      "source": [
        "## Example 1\n",
        "string=\"Python\"\n",
        "print(string+\" \"+\"Programming.\")\n",
        "\n",
        "## Example 2\n",
        "string_name=\"Machine Learning\"\n",
        "print(string_name+\" \"+\"is my technical elective for this semester.\")"
      ]
    },
    {
      "cell_type": "markdown",
      "metadata": {
        "id": "UzrQNJpNdFpg"
      },
      "source": [
        "**_Example_** <br>\n",
        "* For the **Repetition** of string **\"*\"** operator is used"
      ]
    },
    {
      "cell_type": "code",
      "execution_count": null,
      "metadata": {
        "id": "PDK9kz-ddFpg",
        "outputId": "3a6df6a5-6852-4649-9259-9111e6e1c4fb"
      },
      "outputs": [
        {
          "name": "stdout",
          "output_type": "stream",
          "text": [
            "Machine Machine Machine Machine Machine \n"
          ]
        }
      ],
      "source": [
        "string_variable = \"Machine \"\n",
        "print(string_variable*5)"
      ]
    },
    {
      "cell_type": "code",
      "execution_count": 85,
      "metadata": {},
      "outputs": [
        {
          "name": "stdout",
          "output_type": "stream",
          "text": [
            "Amna Amna Amna Amna Amna \n",
            "Miraj Miraj Miraj Miraj Miraj \n"
          ]
        }
      ],
      "source": [
        "## Example 1\n",
        "string=\"Amna \"\n",
        "print(string*5)\n",
        "\n",
        "## Example 2\n",
        "string1=\"Miraj \"\n",
        "print(string1*5)"
      ]
    },
    {
      "cell_type": "markdown",
      "metadata": {
        "id": "n4GSNbm4dFpg"
      },
      "source": [
        "**_Example_** <br>\n",
        "* Get the **range** of characters from string **'[]'** is used"
      ]
    },
    {
      "cell_type": "code",
      "execution_count": null,
      "metadata": {
        "id": "wP-IYwvOdFph",
        "outputId": "e4165fe8-59f4-4617-bb77-2cb4adeb5594"
      },
      "outputs": [
        {
          "name": "stdout",
          "output_type": "stream",
          "text": [
            "achin\n"
          ]
        }
      ],
      "source": [
        "string_variable = \"Machine\"\n",
        "print(string_variable[1:6])"
      ]
    },
    {
      "cell_type": "code",
      "execution_count": 89,
      "metadata": {},
      "outputs": [
        {
          "name": "stdout",
          "output_type": "stream",
          "text": [
            "The range of character from string is: na M\n",
            "The range of character from string is: aj Kh\n"
          ]
        }
      ],
      "source": [
        "## Example 1\n",
        "string=\"Amna Miraj\"\n",
        "print(\"The range of character from string is:\",string[2:6])\n",
        "\n",
        "## Example 2\n",
        "string1=\"Miraj Khan\"\n",
        "print(\"The range of character from string is:\",string1[3:8])"
      ]
    },
    {
      "cell_type": "markdown",
      "metadata": {
        "id": "i4OjvP0qdFph"
      },
      "source": [
        "**_Example_** <br>\n",
        "* Existance of character in a string **\"In\"** is used\n",
        "* If character exists it returns true otherwise it returns false"
      ]
    },
    {
      "cell_type": "code",
      "execution_count": null,
      "metadata": {
        "id": "jTE83oNDdFph",
        "outputId": "77f615ce-ad73-4ef1-c9bc-814372513259"
      },
      "outputs": [
        {
          "name": "stdout",
          "output_type": "stream",
          "text": [
            "True\n"
          ]
        }
      ],
      "source": [
        "string_variable = \"Machine\"\n",
        "print('M' in string_variable)"
      ]
    },
    {
      "cell_type": "code",
      "execution_count": null,
      "metadata": {
        "id": "OZKwTR05dFph",
        "outputId": "13fd17ab-2e8c-487c-c1b3-e20bc6e17f91"
      },
      "outputs": [
        {
          "name": "stdout",
          "output_type": "stream",
          "text": [
            "False\n"
          ]
        }
      ],
      "source": [
        "string_variable = \"Machine\"\n",
        "print('K' in string_variable)"
      ]
    },
    {
      "cell_type": "code",
      "execution_count": 91,
      "metadata": {},
      "outputs": [
        {
          "name": "stdout",
          "output_type": "stream",
          "text": [
            "True\n"
          ]
        }
      ],
      "source": [
        "## Example 1\n",
        "string=\"University of managment and technology\"\n",
        "print(\"U\" in string)"
      ]
    },
    {
      "cell_type": "code",
      "execution_count": 93,
      "metadata": {},
      "outputs": [
        {
          "name": "stdout",
          "output_type": "stream",
          "text": [
            "False\n"
          ]
        }
      ],
      "source": [
        "## Example 2\n",
        "string1=\"University of central punjab\"\n",
        "print(\"I\"in string1)"
      ]
    },
    {
      "cell_type": "markdown",
      "metadata": {
        "id": "4xk6vx4QdFph"
      },
      "source": [
        "**_Example_** <br>\n",
        "* No Existance of character in a string **\"not In\"** is used\n",
        "* In this case if charachter not exist in a string it returns true otherwise it returns Fale"
      ]
    },
    {
      "cell_type": "code",
      "execution_count": null,
      "metadata": {
        "id": "CIsJ9K6XdFph",
        "outputId": "795fc722-805f-4572-99fa-45f3a09ff4f9"
      },
      "outputs": [
        {
          "name": "stdout",
          "output_type": "stream",
          "text": [
            "True\n"
          ]
        }
      ],
      "source": [
        "string_variable = \"Machine\"\n",
        "print('K' not in string_variable)"
      ]
    },
    {
      "cell_type": "code",
      "execution_count": null,
      "metadata": {
        "id": "atlI6eNudFpi",
        "outputId": "ed2356a0-3a96-4c40-feb4-76bec4516beb"
      },
      "outputs": [
        {
          "name": "stdout",
          "output_type": "stream",
          "text": [
            "False\n"
          ]
        }
      ],
      "source": [
        "string_variable = \"Machine\"\n",
        "print('M' not in string_variable)"
      ]
    },
    {
      "cell_type": "code",
      "execution_count": null,
      "metadata": {},
      "outputs": [
        {
          "name": "stdout",
          "output_type": "stream",
          "text": [
            "False\n"
          ]
        }
      ],
      "source": [
        "## Example 1\n",
        "string=\"Amna Miraj\"\n",
        "print(\"a\" not in string)"
      ]
    },
    {
      "cell_type": "code",
      "execution_count": 95,
      "metadata": {},
      "outputs": [
        {
          "name": "stdout",
          "output_type": "stream",
          "text": [
            "True\n"
          ]
        }
      ],
      "source": [
        "## Example 2\n",
        "string1=\"UMT\"\n",
        "print(\"s\" not in string1)"
      ]
    },
    {
      "cell_type": "markdown",
      "metadata": {
        "id": "s2bcDPcFdFpi"
      },
      "source": [
        "### 2.3.6  String formatting operator\n",
        "* String formatting operator used within the print statement.\n",
        "<br>\n",
        "\n",
        "**_Example_**\n",
        "* **%s** for string and **%d** for number"
      ]
    },
    {
      "cell_type": "code",
      "execution_count": null,
      "metadata": {
        "id": "Rgp3SLmddFpi",
        "outputId": "1fd24523-4e61-49f6-d93b-267a30e3b125"
      },
      "outputs": [
        {
          "name": "stdout",
          "output_type": "stream",
          "text": [
            "Python is Powerful Language and released in 1991 !\n"
          ]
        }
      ],
      "source": [
        "print (\"Python is %s Language and released in %d !\" % (\"Powerful\",1991))"
      ]
    },
    {
      "cell_type": "code",
      "execution_count": 97,
      "metadata": {},
      "outputs": [
        {
          "name": "stdout",
          "output_type": "stream",
          "text": [
            "My name is Amna miraj My birth date is 12 march 2004.\n"
          ]
        }
      ],
      "source": [
        "## Example 1\n",
        "print(\"My name is %s My birth date is %d march %d.\"%(\"Amna miraj\",12,2004))"
      ]
    },
    {
      "cell_type": "code",
      "execution_count": 99,
      "metadata": {},
      "outputs": [
        {
          "name": "stdout",
          "output_type": "stream",
          "text": [
            "I am studing BS CS as in batch 2023.\n"
          ]
        }
      ],
      "source": [
        "## Example 2\n",
        "print(\"I am studing %s as in batch %d.\"%(\"BS CS\",2023))"
      ]
    },
    {
      "cell_type": "markdown",
      "metadata": {
        "id": "NvTRDWyndFpi"
      },
      "source": [
        "## 2.4 Lists\n",
        "* In python list is a ordered and changeable collection of values.  \n",
        "* List Allows to contain duplicate values.\n",
        "* In List Different types of data can be stored .\n",
        "* First index in list is 0."
      ]
    },
    {
      "cell_type": "markdown",
      "metadata": {
        "id": "7kynVy5AdFpi"
      },
      "source": [
        "### 2.4.1 Create a List\n",
        "**_Example_**\n",
        "* Creation of a List\n",
        "* List can be created as follows"
      ]
    },
    {
      "cell_type": "code",
      "execution_count": 6,
      "metadata": {
        "colab": {
          "base_uri": "https://localhost:8080/",
          "height": 0
        },
        "id": "KuP642BzdFpi",
        "outputId": "5af4f850-8e5e-46a1-8735-48c75b135f21"
      },
      "outputs": [
        {
          "name": "stdout",
          "output_type": "stream",
          "text": [
            "['Tahir', 'Sohail', 'Bilal']\n"
          ]
        }
      ],
      "source": [
        "My_list = [\"Tahir\", \"Sohail\", \"Bilal\"]\n",
        "print(My_list)"
      ]
    },
    {
      "cell_type": "code",
      "execution_count": 100,
      "metadata": {},
      "outputs": [
        {
          "name": "stdout",
          "output_type": "stream",
          "text": [
            "['Apple', 'Banana', 'Cherry', 'Rasberry']\n"
          ]
        }
      ],
      "source": [
        "## Example 1\n",
        "list=[\"Apple\",\"Banana\",\"Cherry\",\"Rasberry\"]\n",
        "print(list)"
      ]
    },
    {
      "cell_type": "code",
      "execution_count": 101,
      "metadata": {},
      "outputs": [
        {
          "name": "stdout",
          "output_type": "stream",
          "text": [
            "['Potato', 'Tomato', 'Beetroot', 'Salad leaves']\n"
          ]
        }
      ],
      "source": [
        "## Example 2\n",
        "list1=[\"Potato\",\"Tomato\",\"Beetroot\",\"Salad leaves\"]\n",
        "print(list1)"
      ]
    },
    {
      "cell_type": "markdown",
      "metadata": {
        "id": "2zZfvsIwdFpj"
      },
      "source": [
        "### 2.4.2 Accessing values of a Lists\n",
        "* In Python list items can be access by using index number\n",
        "* specific range of values also be accessed in python List\n",
        "<br>\n",
        "\n",
        "**_Example 1_**\n",
        "* Print the third value of list"
      ]
    },
    {
      "cell_type": "code",
      "execution_count": 11,
      "metadata": {
        "colab": {
          "base_uri": "https://localhost:8080/",
          "height": 0
        },
        "id": "v6Id52rgdFpj",
        "outputId": "66a8827a-ca0b-4ed7-cc5c-7884141db2cd"
      },
      "outputs": [
        {
          "name": "stdout",
          "output_type": "stream",
          "text": [
            "Bilal\n"
          ]
        }
      ],
      "source": [
        "My_list = [\"Tahir\", \"Sohail\", \"Bilal\"]\n",
        "print(My_list[2])"
      ]
    },
    {
      "cell_type": "code",
      "execution_count": 102,
      "metadata": {},
      "outputs": [
        {
          "name": "stdout",
          "output_type": "stream",
          "text": [
            "Rasberry\n"
          ]
        }
      ],
      "source": [
        "## Example 1\n",
        "list=[\"Apple\",\"Banana\",\"Cherry\",\"Rasberry\"]\n",
        "print(list[3])"
      ]
    },
    {
      "cell_type": "code",
      "execution_count": 103,
      "metadata": {},
      "outputs": [
        {
          "name": "stdout",
          "output_type": "stream",
          "text": [
            "Beetroot\n"
          ]
        }
      ],
      "source": [
        "## Example 2\n",
        "list1=[\"Potato\",\"Tomato\",\"Beetroot\",\"Salad leaves\"]\n",
        "print(list1[2])"
      ]
    },
    {
      "cell_type": "markdown",
      "metadata": {
        "id": "bwX8x7M0dFpj"
      },
      "source": [
        "**_Example 2_**\n",
        "* List start from 0 Index"
      ]
    },
    {
      "cell_type": "code",
      "execution_count": 12,
      "metadata": {
        "colab": {
          "base_uri": "https://localhost:8080/",
          "height": 0
        },
        "id": "wCJL_0iQdFpj",
        "outputId": "c6a01132-e937-4377-c1e4-8408d7d27397"
      },
      "outputs": [
        {
          "name": "stdout",
          "output_type": "stream",
          "text": [
            "List first value is:  Tahir\n"
          ]
        }
      ],
      "source": [
        "My_list = [\"Tahir\", \"Sohail\", \"Bilal\",\"1198\",\"2000\",\"2002\"]\n",
        "print (\"List first value is: \", My_list[0])"
      ]
    },
    {
      "cell_type": "code",
      "execution_count": 105,
      "metadata": {},
      "outputs": [
        {
          "name": "stdout",
          "output_type": "stream",
          "text": [
            "The first value of my list is: Apple\n"
          ]
        }
      ],
      "source": [
        "## Example 1\n",
        "list=[\"Apple\",\"Banana\",\"Cherry\",\"Rasberry\",\"Stawberry\",\"Kiwi\"]\n",
        "print(\"The first value of my list is:\",list[0])"
      ]
    },
    {
      "cell_type": "code",
      "execution_count": 106,
      "metadata": {},
      "outputs": [
        {
          "name": "stdout",
          "output_type": "stream",
          "text": [
            "The first value of my list is: 10\n"
          ]
        }
      ],
      "source": [
        "## Example 2\n",
        "list1=[10,20,40,55,23,44,11,34,55]\n",
        "print(\"The first value of my list is:\",list1[0])"
      ]
    },
    {
      "cell_type": "markdown",
      "metadata": {
        "id": "qyqhSk2ldFpj"
      },
      "source": [
        "**_Example 3_**\n",
        "* Range of list values"
      ]
    },
    {
      "cell_type": "code",
      "execution_count": 13,
      "metadata": {
        "colab": {
          "base_uri": "https://localhost:8080/",
          "height": 0
        },
        "id": "IrDajfuBdFpj",
        "outputId": "4909cf47-f517-412c-97be-1616cea27bd6"
      },
      "outputs": [
        {
          "name": "stdout",
          "output_type": "stream",
          "text": [
            "List all values:\n",
            "['Tahir', 'Waqas', 'Bilal', '1198', '2000', '2002']\n",
            "\n",
            "\n",
            "List values from [1:5] is: \n",
            "['Waqas', 'Bilal', '1198', '2000']\n"
          ]
        }
      ],
      "source": [
        "My_list = [\"Tahir\", \"Waqas\", \"Bilal\",\"1198\",\"2000\",\"2002\"]\n",
        "print (\"List all values:\")\n",
        "print (My_list)\n",
        "print(\"\\n\")\n",
        "print (\"List values from [1:5] is: \")\n",
        "print (My_list[1:5])"
      ]
    },
    {
      "cell_type": "code",
      "execution_count": 110,
      "metadata": {},
      "outputs": [
        {
          "name": "stdout",
          "output_type": "stream",
          "text": [
            "List of all fruits:\n",
            "['Apple', 'Banana', 'Cherry', 'Rasberry', 'Stawberry', 'Kiwi']\n",
            "\n",
            "\n",
            "List fruits from [2:6] is: \n",
            "['Cherry', 'Rasberry', 'Stawberry', 'Kiwi']\n"
          ]
        }
      ],
      "source": [
        "## Example 1\n",
        "Fruits=[\"Apple\",\"Banana\",\"Cherry\",\"Rasberry\",\"Stawberry\",\"Kiwi\"]\n",
        "print(\"List of all fruits:\")\n",
        "print(Fruits)\n",
        "print(\"\\n\")\n",
        "print(\"List fruits from [2:6] is: \")\n",
        "print(Fruits[2:6])\n"
      ]
    },
    {
      "cell_type": "code",
      "execution_count": 111,
      "metadata": {},
      "outputs": [
        {
          "name": "stdout",
          "output_type": "stream",
          "text": [
            "List of all integers:\n",
            "[10, 20, 40, 55, 23, 44, 11, 34, 55]\n",
            "\n",
            "\n",
            "List of integers from [0:5] is: \n",
            "[10, 20, 40, 55, 23]\n"
          ]
        }
      ],
      "source": [
        "## Example 2\n",
        "list1=[10,20,40,55,23,44,11,34,55]\n",
        "print(\"List of all integers:\")\n",
        "print(list1)\n",
        "print(\"\\n\")\n",
        "print(\"List of integers from [0:5] is: \")\n",
        "print(list1[0:5])"
      ]
    },
    {
      "cell_type": "markdown",
      "metadata": {
        "id": "iDT9JuujdFpk"
      },
      "source": [
        "### 2.4.3 Update the values of a Lists\n",
        "* In Python we can update single of multiple values of list\n",
        "* In Python we can update the lists without function\n",
        "<br>\n",
        "\n",
        "**_Example_**\n",
        "* Update the list without any function (simple way)"
      ]
    },
    {
      "cell_type": "code",
      "execution_count": 14,
      "metadata": {
        "colab": {
          "base_uri": "https://localhost:8080/",
          "height": 0
        },
        "id": "7EYbUjMBdFpk",
        "outputId": "ec5afd20-23e0-493a-e2cd-d004775876df"
      },
      "outputs": [
        {
          "name": "stdout",
          "output_type": "stream",
          "text": [
            "List before update: \n",
            "['Tahir', 'Sohail', 'Bilal', '1198', '2000', '2002']\n",
            "\n",
            "\n",
            "List after updation: \n",
            "['Tahir', 'Muhammad Waqas', 'Bilal', '1198', '2000', '2002']\n"
          ]
        }
      ],
      "source": [
        "My_list = [\"Tahir\", \"Sohail\", \"Bilal\",\"1198\",\"2000\",\"2002\"];\n",
        "print (\"List before update: \")\n",
        "print (My_list)\n",
        "print(\"\\n\")\n",
        "My_list[1]= \"Muhammad Waqas\"\n",
        "print (\"List after updation: \")\n",
        "print (My_list)"
      ]
    },
    {
      "cell_type": "code",
      "execution_count": 112,
      "metadata": {},
      "outputs": [
        {
          "name": "stdout",
          "output_type": "stream",
          "text": [
            "List of all fruits before updation: \n",
            "['Apple', 'Banana', 'Cherry', 'Rasberry', 'Stawberry', 'Kiwi']\n",
            "\n",
            "\n",
            "List of all fruits after updation: \n",
            "['Apple', 'Banana', 'Water melon', 'Rasberry', 'Stawberry', 'Kiwi']\n"
          ]
        }
      ],
      "source": [
        "## Example 1\n",
        "Fruits=[\"Apple\",\"Banana\",\"Cherry\",\"Rasberry\",\"Stawberry\",\"Kiwi\"]\n",
        "print(\"List of all fruits before updation: \")\n",
        "print(Fruits)\n",
        "print(\"\\n\")\n",
        "Fruits[2]=\"Water melon\"\n",
        "print(\"List of all fruits after updation: \")\n",
        "print(Fruits)"
      ]
    },
    {
      "cell_type": "code",
      "execution_count": 113,
      "metadata": {},
      "outputs": [
        {
          "name": "stdout",
          "output_type": "stream",
          "text": [
            "List of all integers before updation: \n",
            "[10, 20, 40, 55, 23, 44, 11, 34, 55]\n",
            "\n",
            "\n",
            "List of all integers after updation: \n",
            "[10, 20, 40, 400, 23, 44, 11, 34, 55]\n"
          ]
        }
      ],
      "source": [
        "## Example 2\n",
        "list1=[10,20,40,55,23,44,11,34,55]\n",
        "print(\"List of all integers before updation: \")\n",
        "print(list1)\n",
        "print(\"\\n\")\n",
        "list1[3]=400\n",
        "print(\"List of all integers after updation: \")\n",
        "print(list1)"
      ]
    },
    {
      "cell_type": "markdown",
      "metadata": {
        "id": "lKOWEWLLdFpk"
      },
      "source": [
        "### 2.4.4 Add the values of a Lists\n",
        "* Add the new values in a list using **append()** method\n",
        "* Add value in a specific location using **insert()** method\n",
        "<br>\n",
        "\n",
        "**_Example_**\n",
        "* New value interst in the end of the List using **append()**"
      ]
    },
    {
      "cell_type": "code",
      "execution_count": 15,
      "metadata": {
        "colab": {
          "base_uri": "https://localhost:8080/",
          "height": 0
        },
        "id": "AyFl6BD5dFpk",
        "outputId": "b7e33856-8288-4d06-8975-2e29c3edc648"
      },
      "outputs": [
        {
          "name": "stdout",
          "output_type": "stream",
          "text": [
            "List before new value addition: \n",
            "['Tahir', 'Waqas', 'Bilal', '1198']\n",
            "\n",
            "\n",
            "List after new value addition: \n",
            "['Tahir', 'Waqas', 'Bilal', '1198', 'iqra']\n"
          ]
        }
      ],
      "source": [
        "My_list = [\"Tahir\", \"Waqas\", \"Bilal\",\"1198\"]\n",
        "print (\"List before new value addition: \")\n",
        "print (My_list)\n",
        "print(\"\\n\")\n",
        "My_list.append(\"iqra\")\n",
        "print (\"List after new value addition: \")\n",
        "print (My_list)"
      ]
    },
    {
      "cell_type": "code",
      "execution_count": 114,
      "metadata": {},
      "outputs": [
        {
          "name": "stdout",
          "output_type": "stream",
          "text": [
            "List before new value addition: \n",
            "['Apple', 'Banana', 'Cherry', 'Rasberry', 'Stawberry', 'Kiwi']\n",
            "\n",
            "\n",
            "List after new value addition: \n",
            "['Apple', 'Banana', 'Cherry', 'Rasberry', 'Stawberry', 'Kiwi', 'Orange']\n"
          ]
        }
      ],
      "source": [
        "## Example 1\n",
        "Fruits=[\"Apple\",\"Banana\",\"Cherry\",\"Rasberry\",\"Stawberry\",\"Kiwi\"]\n",
        "print(\"List before new value addition: \")\n",
        "print(Fruits)\n",
        "print(\"\\n\")\n",
        "Fruits.append(\"Orange\")\n",
        "print(\"List after new value addition: \")\n",
        "print(Fruits)"
      ]
    },
    {
      "cell_type": "code",
      "execution_count": 115,
      "metadata": {},
      "outputs": [
        {
          "name": "stdout",
          "output_type": "stream",
          "text": [
            "List before new value addition: \n",
            "[10, 20, 40, 55, 23, 44, 11, 34, 55]\n",
            "\n",
            "\n",
            "List after new value addition: \n",
            "[10, 20, 40, 55, 23, 44, 11, 34, 55, 657]\n"
          ]
        }
      ],
      "source": [
        "## Example 2\n",
        "list1=[10,20,40,55,23,44,11,34,55]\n",
        "print(\"List before new value addition: \")\n",
        "print(list1)\n",
        "print(\"\\n\")\n",
        "list1.append(657)\n",
        "print(\"List after new value addition: \")\n",
        "print(list1)"
      ]
    },
    {
      "cell_type": "code",
      "execution_count": 116,
      "metadata": {
        "colab": {
          "base_uri": "https://localhost:8080/",
          "height": 0
        },
        "id": "2u-gMObvdFpk",
        "outputId": "28fa5557-5782-4771-f992-71a166340aa9"
      },
      "outputs": [
        {
          "name": "stdout",
          "output_type": "stream",
          "text": [
            "List before new value addition: \n",
            "['Tahir', 'Waqas', 'Bilal', '1198']\n",
            "\n",
            "\n",
            "List after new value addition: \n",
            "['Tahir', 'iqra', 'Waqas', 'Bilal', '1198']\n"
          ]
        }
      ],
      "source": [
        "My_list = [\"Tahir\", \"Waqas\", \"Bilal\",\"1198\"];\n",
        "print (\"List before new value addition: \")\n",
        "print (My_list)\n",
        "print(\"\\n\")\n",
        "My_list.insert(1,\"iqra\")\n",
        "print (\"List after new value addition: \")\n",
        "print (My_list)"
      ]
    },
    {
      "cell_type": "code",
      "execution_count": 117,
      "metadata": {},
      "outputs": [
        {
          "name": "stdout",
          "output_type": "stream",
          "text": [
            "List before new value addition: \n",
            "['Apple', 'Banana', 'Cherry', 'Rasberry', 'Stawberry', 'Kiwi']\n",
            "\n",
            "\n",
            "List after new value addition: \n",
            "['Apple', 'Banana', 'Cherry', 'Orange', 'Rasberry', 'Stawberry', 'Kiwi']\n"
          ]
        }
      ],
      "source": [
        "## Example 1\n",
        "Fruits=[\"Apple\",\"Banana\",\"Cherry\",\"Rasberry\",\"Stawberry\",\"Kiwi\"]\n",
        "print(\"List before new value addition: \")\n",
        "print(Fruits)\n",
        "print(\"\\n\")\n",
        "Fruits.insert(3,\"Orange\")\n",
        "print(\"List after new value addition: \")\n",
        "print(Fruits)"
      ]
    },
    {
      "cell_type": "code",
      "execution_count": 118,
      "metadata": {},
      "outputs": [
        {
          "name": "stdout",
          "output_type": "stream",
          "text": [
            "List before new value addition: \n",
            "[10, 20, 40, 55, 23, 44, 11, 34, 55]\n",
            "\n",
            "\n",
            "List after new value addition: \n",
            "[10, 20, 40, 55, 23, 657, 44, 11, 34, 55]\n"
          ]
        }
      ],
      "source": [
        "## Example 2\n",
        "list1=[10,20,40,55,23,44,11,34,55]\n",
        "print(\"List before new value addition: \")\n",
        "print(list1)\n",
        "print(\"\\n\")\n",
        "list1.insert(5,657)\n",
        "print(\"List after new value addition: \")\n",
        "print(list1)"
      ]
    },
    {
      "cell_type": "markdown",
      "metadata": {
        "id": "gyUoHik_dFpk"
      },
      "source": [
        "### 2.4.5 Delete the values of a Lists\n",
        "* There are multiple methods to delete the values of a list. These are the followings\n",
        "  * **del** keyword is used to delete the any value when you know the index of that value .\n",
        "  * **remove()** method can be used delete any specific value or item\n",
        "  * **pop()** is used to delete specified index, if the index of value is not known it removes the last item from the list\n",
        "  * **clear()** method is use to delete all itmes from the list\n",
        "<br>\n",
        "\n",
        "**_Example 1_**\n",
        "* Delete item from List using **\"del\"** keyword"
      ]
    },
    {
      "cell_type": "code",
      "execution_count": 17,
      "metadata": {
        "colab": {
          "base_uri": "https://localhost:8080/",
          "height": 0
        },
        "id": "NHJe0HoEdFpl",
        "outputId": "1d660630-fc56-4915-c95d-0295806dfe9c"
      },
      "outputs": [
        {
          "name": "stdout",
          "output_type": "stream",
          "text": [
            "List before delete the value: \n",
            "['Tahir', 'Waqas', 'Bilal', '1198']\n",
            "\n",
            "\n",
            "List after delete the value: \n",
            "['Tahir', 'Waqas', 'Bilal']\n"
          ]
        }
      ],
      "source": [
        "My_list = [\"Tahir\", \"Waqas\", \"Bilal\",\"1198\"];\n",
        "print (\"List before delete the value: \")\n",
        "print (My_list)\n",
        "print(\"\\n\")\n",
        "del My_list[3]\n",
        "print (\"List after delete the value: \")\n",
        "print (My_list)"
      ]
    },
    {
      "cell_type": "code",
      "execution_count": 119,
      "metadata": {},
      "outputs": [
        {
          "name": "stdout",
          "output_type": "stream",
          "text": [
            "List before delete the value: \n",
            "['Apple', 'Banana', 'Cherry', 'Rasberry', 'Stawberry', 'Kiwi']\n",
            "\n",
            "\n",
            "List after delete the value: \n",
            "['Apple', 'Banana', 'Rasberry', 'Stawberry', 'Kiwi']\n"
          ]
        }
      ],
      "source": [
        "## Example 1\n",
        "Fruits=[\"Apple\",\"Banana\",\"Cherry\",\"Rasberry\",\"Stawberry\",\"Kiwi\"]\n",
        "print(\"List before delete the value: \")\n",
        "print(Fruits)\n",
        "print(\"\\n\")\n",
        "del Fruits[2]\n",
        "print(\"List after delete the value: \")\n",
        "print(Fruits)"
      ]
    },
    {
      "cell_type": "markdown",
      "metadata": {
        "id": "v53werPrdFpl"
      },
      "source": [
        "**_Example_**\n",
        "* Delete item from List using **remove()** method"
      ]
    },
    {
      "cell_type": "code",
      "execution_count": 120,
      "metadata": {},
      "outputs": [
        {
          "name": "stdout",
          "output_type": "stream",
          "text": [
            "List before delete the value: \n",
            "[10, 20, 40, 55, 23, 44, 11, 34, 55]\n",
            "\n",
            "\n",
            "List after delete the value: \n",
            "[10, 20, 40, 55, 23, 44, 34, 55]\n"
          ]
        }
      ],
      "source": [
        "## Example 2\n",
        "list1=[10,20,40,55,23,44,11,34,55]\n",
        "print(\"List before delete the value: \")\n",
        "print(list1)\n",
        "print(\"\\n\")\n",
        "del list1[6]\n",
        "print(\"List after delete the value: \")\n",
        "print(list1)"
      ]
    },
    {
      "cell_type": "code",
      "execution_count": 18,
      "metadata": {
        "colab": {
          "base_uri": "https://localhost:8080/",
          "height": 0
        },
        "id": "iybo1m8VdFpl",
        "outputId": "66062da4-8ef1-4296-d2c8-fadaec29df4c"
      },
      "outputs": [
        {
          "name": "stdout",
          "output_type": "stream",
          "text": [
            "List before delete the item: \n",
            "['Tahir', 'Waqas', 'Bilal', '1198']\n",
            "\n",
            "\n",
            "List after delete the item: \n",
            "['Tahir', 'Waqas', '1198']\n"
          ]
        }
      ],
      "source": [
        "My_list = [\"Tahir\", \"Waqas\", \"Bilal\",\"1198\"];\n",
        "print (\"List before delete the item: \")\n",
        "print (My_list)\n",
        "print(\"\\n\")\n",
        "My_list.remove('Bilal')\n",
        "print (\"List after delete the item: \")\n",
        "print (My_list)"
      ]
    },
    {
      "cell_type": "code",
      "execution_count": 121,
      "metadata": {},
      "outputs": [
        {
          "name": "stdout",
          "output_type": "stream",
          "text": [
            "List before delete the value: \n",
            "['Apple', 'Banana', 'Cherry', 'Rasberry', 'Stawberry', 'Kiwi']\n",
            "\n",
            "\n",
            "List after delete the value: \n",
            "['Apple', 'Banana', 'Cherry', 'Stawberry', 'Kiwi']\n"
          ]
        }
      ],
      "source": [
        "## Example 1\n",
        "Fruits=[\"Apple\",\"Banana\",\"Cherry\",\"Rasberry\",\"Stawberry\",\"Kiwi\"]\n",
        "print(\"List before delete the value: \")\n",
        "print(Fruits)\n",
        "print(\"\\n\")\n",
        "Fruits.remove(\"Rasberry\")\n",
        "print(\"List after delete the value: \")\n",
        "print(Fruits)"
      ]
    },
    {
      "cell_type": "code",
      "execution_count": 122,
      "metadata": {},
      "outputs": [
        {
          "name": "stdout",
          "output_type": "stream",
          "text": [
            "List before delete the value: \n",
            "[10, 20, 40, 55, 23, 44, 11, 34, 55]\n",
            "\n",
            "\n",
            "List after delete the value: \n",
            "[10, 40, 55, 23, 44, 11, 34, 55]\n"
          ]
        }
      ],
      "source": [
        "## Example 2\n",
        "list1=[10,20,40,55,23,44,11,34,55]\n",
        "print(\"List before delete the value: \")\n",
        "print(list1)\n",
        "print(\"\\n\")\n",
        "list1.remove(20)\n",
        "print(\"List after delete the value: \")\n",
        "print(list1)"
      ]
    },
    {
      "cell_type": "markdown",
      "metadata": {
        "id": "EWlFZq9rdFpl"
      },
      "source": [
        "**_Example_**\n",
        "* Delete item from List using **pop()** method"
      ]
    },
    {
      "cell_type": "code",
      "execution_count": 19,
      "metadata": {
        "colab": {
          "base_uri": "https://localhost:8080/",
          "height": 0
        },
        "id": "ordJO4FNdFpl",
        "outputId": "d7b3818c-78e0-41f0-dde3-67d5c8c78ba4"
      },
      "outputs": [
        {
          "name": "stdout",
          "output_type": "stream",
          "text": [
            "My_list before delete the item: \n",
            "['Tahir', 'Waqas', 'Bilal', '1198']\n",
            "\n",
            "\n",
            "My_list after delete the item: \n",
            "['Tahir', 'Waqas', 'Bilal']\n"
          ]
        }
      ],
      "source": [
        "My_list = [\"Tahir\", \"Waqas\", \"Bilal\",\"1198\"];\n",
        "print (\"My_list before delete the item: \")\n",
        "print (My_list)\n",
        "print(\"\\n\")\n",
        "My_list.pop()\n",
        "print (\"My_list after delete the item: \")\n",
        "print (My_list)"
      ]
    },
    {
      "cell_type": "code",
      "execution_count": 123,
      "metadata": {},
      "outputs": [
        {
          "name": "stdout",
          "output_type": "stream",
          "text": [
            "List before delete the value: \n",
            "['Apple', 'Banana', 'Cherry', 'Rasberry', 'Stawberry', 'Kiwi']\n",
            "\n",
            "\n",
            "List after delete the value: \n",
            "['Apple', 'Banana', 'Cherry', 'Rasberry', 'Stawberry']\n"
          ]
        }
      ],
      "source": [
        "## Example 1\n",
        "Fruits=[\"Apple\",\"Banana\",\"Cherry\",\"Rasberry\",\"Stawberry\",\"Kiwi\"]\n",
        "print(\"List before delete the value: \")\n",
        "print(Fruits)\n",
        "print(\"\\n\")\n",
        "Fruits.pop()\n",
        "print(\"List after delete the value: \")\n",
        "print(Fruits)"
      ]
    },
    {
      "cell_type": "code",
      "execution_count": 124,
      "metadata": {},
      "outputs": [
        {
          "name": "stdout",
          "output_type": "stream",
          "text": [
            "List before delete the value: \n",
            "[10, 20, 40, 55, 23, 44, 11, 34, 55]\n",
            "\n",
            "\n",
            "List after delete the value: \n",
            "[10, 20, 40, 55, 23, 44, 11, 34]\n"
          ]
        }
      ],
      "source": [
        "## Example 2\n",
        "list1=[10,20,40,55,23,44,11,34,55]\n",
        "print(\"List before delete the value: \")\n",
        "print(list1)\n",
        "print(\"\\n\")\n",
        "list1.pop()\n",
        "print(\"List after delete the value: \")\n",
        "print(list1)"
      ]
    },
    {
      "cell_type": "markdown",
      "metadata": {
        "id": "30sFzToAdFpl"
      },
      "source": [
        "**_Example 4_**\n",
        "* Delete the List using **clear()** method, it removes all itmes"
      ]
    },
    {
      "cell_type": "code",
      "execution_count": 20,
      "metadata": {
        "colab": {
          "base_uri": "https://localhost:8080/",
          "height": 0
        },
        "id": "h9cWlsPQdFpm",
        "outputId": "adfbefca-b824-45a8-d0a6-a20103ce34ab"
      },
      "outputs": [
        {
          "name": "stdout",
          "output_type": "stream",
          "text": [
            "My_list before delete the item: \n",
            "['Tahir', 'Waqas', 'Bilal', '1198']\n",
            "\n",
            "\n",
            "My_list after delete the item: \n",
            "[]\n"
          ]
        }
      ],
      "source": [
        "My_list = [\"Tahir\", \"Waqas\", \"Bilal\",\"1198\"];\n",
        "print (\"My_list before delete the item: \")\n",
        "print (My_list)\n",
        "print(\"\\n\")\n",
        "My_list.clear()\n",
        "print (\"My_list after delete the item: \")\n",
        "print (My_list)"
      ]
    },
    {
      "cell_type": "code",
      "execution_count": 125,
      "metadata": {},
      "outputs": [
        {
          "name": "stdout",
          "output_type": "stream",
          "text": [
            "List before delete the value: \n",
            "['Apple', 'Banana', 'Cherry', 'Rasberry', 'Stawberry', 'Kiwi']\n",
            "\n",
            "\n",
            "List after delete the value: \n",
            "[]\n"
          ]
        }
      ],
      "source": [
        "## Example 1\n",
        "Fruits=[\"Apple\",\"Banana\",\"Cherry\",\"Rasberry\",\"Stawberry\",\"Kiwi\"]\n",
        "print(\"List before delete the value: \")\n",
        "print(Fruits)\n",
        "print(\"\\n\")\n",
        "Fruits.clear()\n",
        "print(\"List after delete the value: \")\n",
        "print(Fruits)"
      ]
    },
    {
      "cell_type": "code",
      "execution_count": 126,
      "metadata": {},
      "outputs": [
        {
          "name": "stdout",
          "output_type": "stream",
          "text": [
            "List before delete the value: \n",
            "[10, 20, 40, 55, 23, 44, 11, 34, 55]\n",
            "\n",
            "\n",
            "List after delete the value: \n",
            "[]\n"
          ]
        }
      ],
      "source": [
        "## Example 2\n",
        "list1=[10,20,40,55,23,44,11,34,55]\n",
        "print(\"List before delete the value: \")\n",
        "print(list1)\n",
        "print(\"\\n\")\n",
        "list1.clear()\n",
        "print(\"List after delete the value: \")\n",
        "print(list1)"
      ]
    },
    {
      "cell_type": "markdown",
      "metadata": {
        "id": "rkXwNYmOdFpm"
      },
      "source": [
        "### 2.4.6 Reverse the List\n",
        "* The **reverse()** method is used to reverse the order of the list\n",
        "<br>\n",
        "\n",
        "**_Example_**\n",
        "* Reverse the order of list"
      ]
    },
    {
      "cell_type": "code",
      "execution_count": 21,
      "metadata": {
        "colab": {
          "base_uri": "https://localhost:8080/",
          "height": 0
        },
        "id": "sYZJH3CXdFpm",
        "outputId": "d8adf1ed-778b-4d2d-89a3-4efef7d11398"
      },
      "outputs": [
        {
          "name": "stdout",
          "output_type": "stream",
          "text": [
            "My_list in origional form: \n",
            "['Tahir', 'Waqas', 'Bilal', '1198']\n",
            "\n",
            "\n",
            "My_list after reverse order: \n",
            "['1198', 'Bilal', 'Waqas', 'Tahir']\n"
          ]
        }
      ],
      "source": [
        "My_list = [\"Tahir\", \"Waqas\", \"Bilal\",\"1198\"];\n",
        "print (\"My_list in origional form: \")\n",
        "print (My_list)\n",
        "print(\"\\n\")\n",
        "My_list.reverse()\n",
        "print (\"My_list after reverse order: \")\n",
        "print (My_list)"
      ]
    },
    {
      "cell_type": "code",
      "execution_count": 127,
      "metadata": {},
      "outputs": [
        {
          "name": "stdout",
          "output_type": "stream",
          "text": [
            "My list in origional form: \n",
            "['Apple', 'Banana', 'Cherry', 'Rasberry', 'Stawberry', 'Kiwi']\n",
            "\n",
            "\n",
            "My list after reverse order: \n",
            "['Kiwi', 'Stawberry', 'Rasberry', 'Cherry', 'Banana', 'Apple']\n"
          ]
        }
      ],
      "source": [
        "## Example 1\n",
        "Fruits=[\"Apple\",\"Banana\",\"Cherry\",\"Rasberry\",\"Stawberry\",\"Kiwi\"]\n",
        "print(\"My list in origional form: \")\n",
        "print(Fruits)\n",
        "print(\"\\n\")\n",
        "Fruits.reverse()\n",
        "print(\"My list after reverse order: \")\n",
        "print(Fruits)"
      ]
    },
    {
      "cell_type": "code",
      "execution_count": 128,
      "metadata": {},
      "outputs": [
        {
          "name": "stdout",
          "output_type": "stream",
          "text": [
            "My list in origional form: \n",
            "[10, 20, 40, 55, 23, 44, 11, 34, 55]\n",
            "\n",
            "\n",
            "My list after reverse order: \n",
            "[55, 34, 11, 44, 23, 55, 40, 20, 10]\n"
          ]
        }
      ],
      "source": [
        "## Example 2\n",
        "list1=[10,20,40,55,23,44,11,34,55]\n",
        "print(\"My list in origional form: \")\n",
        "print(list1)\n",
        "print(\"\\n\")\n",
        "list1.reverse()\n",
        "print(\"My list after reverse order: \")\n",
        "print(list1)"
      ]
    },
    {
      "cell_type": "markdown",
      "metadata": {
        "id": "1Wg8dYJxdFpm"
      },
      "source": [
        "### 2.4.7 List Sorting\n",
        "* The **sort()** method is used to sort the list alphabetically\n",
        "<br>\n",
        "\n",
        "**_Example_**\n",
        "* sort the given list"
      ]
    },
    {
      "cell_type": "code",
      "execution_count": 22,
      "metadata": {
        "colab": {
          "base_uri": "https://localhost:8080/",
          "height": 0
        },
        "id": "To5BgftadFpm",
        "outputId": "00ae9ebf-b872-4e9d-bdd7-c63f4566fb1a"
      },
      "outputs": [
        {
          "name": "stdout",
          "output_type": "stream",
          "text": [
            "My_list before sorting: \n",
            "['Tahir', 'Waqas', 'Bilal', '1199']\n",
            "\n",
            "\n",
            "My_list after sorting: \n",
            "['1199', 'Bilal', 'Tahir', 'Waqas']\n"
          ]
        }
      ],
      "source": [
        "My_list = [\"Tahir\", \"Waqas\", \"Bilal\",\"1199\"];\n",
        "print (\"My_list before sorting: \")\n",
        "print (My_list)\n",
        "print(\"\\n\")\n",
        "My_list.sort()\n",
        "print (\"My_list after sorting: \")\n",
        "print (My_list)"
      ]
    },
    {
      "cell_type": "code",
      "execution_count": null,
      "metadata": {},
      "outputs": [
        {
          "name": "stdout",
          "output_type": "stream",
          "text": [
            "My_list before sorting: \n",
            "['Apple', 'Banana', 'Cherry', 'Rasberry', 'Stawberry', 'Kiwi']\n",
            "\n",
            "\n",
            "My_list after sorting: \n",
            "['Apple', 'Banana', 'Cherry', 'Kiwi', 'Rasberry', 'Stawberry']\n"
          ]
        }
      ],
      "source": [
        "## Example 1\n",
        "Fruits=[\"Apple\",\"Banana\",\"Cherry\",\"Rasberry\",\"Stawberry\",\"Kiwi\"]\n",
        "print(\"My list before sorting: \")\n",
        "print(Fruits)\n",
        "print(\"\\n\")\n",
        "Fruits.sort()\n",
        "print(\"My list after sorting: \")\n",
        "print(Fruits)"
      ]
    },
    {
      "cell_type": "code",
      "execution_count": 131,
      "metadata": {},
      "outputs": [
        {
          "name": "stdout",
          "output_type": "stream",
          "text": [
            "My list before sorting: \n",
            "[10, 20, 40, 55, 23, 44, 11, 34, 55]\n",
            "\n",
            "\n",
            "My list after sorting: \n",
            "[10, 11, 20, 23, 34, 40, 44, 55, 55]\n"
          ]
        }
      ],
      "source": [
        "## Example 2\n",
        "int=[10,20,40,55,23,44,11,34,55]\n",
        "print(\"My list before sorting: \")\n",
        "print(int)\n",
        "print(\"\\n\")\n",
        "int.sort()\n",
        "print(\"My list after sorting: \")\n",
        "print(int)"
      ]
    },
    {
      "cell_type": "markdown",
      "metadata": {
        "id": "EJ7oypj6dFpm"
      },
      "source": [
        "### 2.4.7 List Count\n",
        "* The **count()** method is used to count the number of times any specific word occur in list  \n",
        "<br>\n",
        "\n",
        "**_Example_**\n",
        "* Count word in List"
      ]
    },
    {
      "cell_type": "code",
      "execution_count": 23,
      "metadata": {
        "colab": {
          "base_uri": "https://localhost:8080/",
          "height": 0
        },
        "id": "f8FNVfIfdFpm",
        "outputId": "b22ed2c2-c8fc-48c7-a2e5-ab18c95fc4b3"
      },
      "outputs": [
        {
          "name": "stdout",
          "output_type": "stream",
          "text": [
            "No. of times Tahir occur in List:  1\n"
          ]
        }
      ],
      "source": [
        "My_list = [\"Tahir\", \"Waqas\", \"Bilal\",\"1199\"];\n",
        "\n",
        "variable_x=My_list.count(\"Tahir\")\n",
        "print (\"No. of times Tahir occur in List: \", variable_x)\n"
      ]
    },
    {
      "cell_type": "code",
      "execution_count": 133,
      "metadata": {},
      "outputs": [
        {
          "name": "stdout",
          "output_type": "stream",
          "text": [
            "Number of times potato occurs in the list: 2\n"
          ]
        }
      ],
      "source": [
        "vegetables=[\"Potato\",\"Beet root\",\"Spinach\",\"Salad leaves\",\"Tomato\",\"Potato\"]\n",
        "x=vegetables.count(\"Potato\")\n",
        "print(\"Number of times potato occurs in the list:\",x)"
      ]
    },
    {
      "cell_type": "code",
      "execution_count": 134,
      "metadata": {},
      "outputs": [
        {
          "name": "stdout",
          "output_type": "stream",
          "text": [
            "Number of times 10 occurs in the list: 4\n"
          ]
        }
      ],
      "source": [
        "## Example 2\n",
        "int=[10,20,40,55,23,44,11,34,55,10,10,20,10,20]\n",
        "var=int.count(10)\n",
        "print(\"Number of times 10 occurs in the list:\",var)"
      ]
    },
    {
      "cell_type": "markdown",
      "metadata": {
        "id": "ii88KNsPdFpn"
      },
      "source": [
        "## 2.5 Dictionaries\n",
        "<br>\n",
        "\n",
        "* It is similar to array, which is unordered collection\n",
        "* Dictionaries have keys and values\n",
        "* Dictionaries are written with curly brackets\n",
        "* **colon(:)** is used as separator between key and values\n",
        "* **comma(,)** is used to separate the keys\n",
        "* Keys must be unique in dictionaries but no restrictions on values\n",
        "* **{}** represents empty dictionary\n",
        "* Any data type value can be stored in a dictionary and can be repeated\n",
        "* The keys must of an Immutable data type such as Strings, Integers and tuples"
      ]
    },
    {
      "cell_type": "markdown",
      "metadata": {
        "id": "BYUEjh8CdFpn"
      },
      "source": [
        "### 2.5.1 Create a Dictionary\n",
        "**_Example_**\n",
        "* Creation of a dictionary is as follows"
      ]
    },
    {
      "cell_type": "code",
      "execution_count": 24,
      "metadata": {
        "colab": {
          "base_uri": "https://localhost:8080/",
          "height": 0
        },
        "id": "PHpNBdTfdFpn",
        "outputId": "17f850f0-ae74-4d00-fde1-41bf1debae00"
      },
      "outputs": [
        {
          "name": "stdout",
          "output_type": "stream",
          "text": [
            "{'First_Name': 'Tahir', 'Last_name': 'Sohail', 'DOB': 1998}\n"
          ]
        }
      ],
      "source": [
        "My_dictionary = {\n",
        "  \"First_Name\": \"Tahir\",\n",
        "  \"Last_name\": \"Sohail\",\n",
        "  \"DOB\": 1998\n",
        "}\n",
        "print(My_dictionary)"
      ]
    },
    {
      "cell_type": "code",
      "execution_count": 135,
      "metadata": {},
      "outputs": [
        {
          "name": "stdout",
          "output_type": "stream",
          "text": [
            "{'Name': 'Amna Miraj', 'Age': '21', 'Email Address': 'amnamiraj@gmail.com'}\n"
          ]
        }
      ],
      "source": [
        "## Example 1\n",
        "dictionary={\n",
        "    \"Name\":\"Amna Miraj\",\n",
        "    \"Age\":\"21\",\n",
        "    \"Email Address\":\"amnamiraj@gmail.com\"\n",
        "}\n",
        "print(dictionary)"
      ]
    },
    {
      "cell_type": "code",
      "execution_count": 136,
      "metadata": {},
      "outputs": [
        {
          "name": "stdout",
          "output_type": "stream",
          "text": [
            "{'Car_name': 'Mercedes', 'Color': 'Black', 'Model': 2012}\n"
          ]
        }
      ],
      "source": [
        "## Example 2\n",
        "car_dictionary={\n",
        "    \"Car_name\":\"Mercedes\",\n",
        "    \"Color\":\"Black\",\n",
        "    \"Model\":2012\n",
        "}\n",
        "print(car_dictionary)"
      ]
    },
    {
      "cell_type": "markdown",
      "metadata": {
        "id": "KxcbWzfwdFpn"
      },
      "source": [
        "### 2.5.2 Accessing values in a Dictionary\n",
        "* In Python Dictionary items can be access by using specfied key\n",
        "* **get()** method is also used to access the value\n",
        "<br>\n",
        "\n",
        "**_Example_**\n",
        "* Access and print the Key First_name"
      ]
    },
    {
      "cell_type": "code",
      "execution_count": 25,
      "metadata": {
        "colab": {
          "base_uri": "https://localhost:8080/",
          "height": 0
        },
        "id": "jHGFJjrzdFpn",
        "outputId": "317281d5-f414-478a-d2cb-ecdf1bfb6ea7"
      },
      "outputs": [
        {
          "name": "stdout",
          "output_type": "stream",
          "text": [
            "The value of key First_Name is:  Tahir\n"
          ]
        }
      ],
      "source": [
        "My_dictionary = {\n",
        "  \"First_Name\": \"Tahir\",\n",
        "  \"Last_name\": \"Sohail\",\n",
        "  \"DOB\": 1998\n",
        "}\n",
        "print(\"The value of key First_Name is: \", My_dictionary['First_Name'])"
      ]
    },
    {
      "cell_type": "code",
      "execution_count": null,
      "metadata": {},
      "outputs": [
        {
          "name": "stdout",
          "output_type": "stream",
          "text": [
            "The value of key Name is: Amna Miraj\n",
            "The value of key Email Address is: amnamiraj@gmail.com\n"
          ]
        }
      ],
      "source": [
        "## Example 1\n",
        "dictionary={\n",
        "    \"Name\":\"Amna Miraj\",\n",
        "    \"Age\":\"21\",\n",
        "    \"Email Address\":\"amnamiraj@gmail.com\"\n",
        "}\n",
        "print(\"The value of key Name is:\",dictionary['Name'])\n",
        "print(\"The value of key Email Address is:\",dictionary['Email Address'])"
      ]
    },
    {
      "cell_type": "code",
      "execution_count": 141,
      "metadata": {},
      "outputs": [
        {
          "name": "stdout",
          "output_type": "stream",
          "text": [
            "The value of key Car Name is: Mercedes\n",
            "The value of key model is: 2012\n"
          ]
        }
      ],
      "source": [
        "## Example 2\n",
        "car_dictionary={\n",
        "    \"Car_name\":\"Mercedes\",\n",
        "    \"Color\":\"Black\",\n",
        "    \"Model\":2012\n",
        "}\n",
        "print(\"The value of key Car Name is:\",car_dictionary['Car_name'])\n",
        "print(\"The value of key model is:\",car_dictionary['Model'])"
      ]
    },
    {
      "cell_type": "markdown",
      "metadata": {
        "id": "t1aj0POudFpn"
      },
      "source": [
        "**_Example_**\n",
        "* Access and print the Key First_name by using **get()** method"
      ]
    },
    {
      "cell_type": "code",
      "execution_count": 26,
      "metadata": {
        "colab": {
          "base_uri": "https://localhost:8080/",
          "height": 0
        },
        "id": "oVrloLjzdFpo",
        "outputId": "77d4d547-785c-439e-9100-0fc910ea4568"
      },
      "outputs": [
        {
          "name": "stdout",
          "output_type": "stream",
          "text": [
            "The value of key First_Name is:  Tahir\n"
          ]
        }
      ],
      "source": [
        "My_dictionary = {\n",
        "  \"First_Name\": \"Tahir\",\n",
        "  \"Last_name\": \"Sohail\",\n",
        "  \"DOB\": 1998\n",
        "}\n",
        "variable_x=My_dictionary.get(\"First_Name\")\n",
        "print(\"The value of key First_Name is: \", variable_x)"
      ]
    },
    {
      "cell_type": "code",
      "execution_count": 143,
      "metadata": {},
      "outputs": [
        {
          "name": "stdout",
          "output_type": "stream",
          "text": [
            "The value of key Name is: Amna Miraj\n",
            "The value of key Email Address is: amnamiraj@gmail.com\n"
          ]
        }
      ],
      "source": [
        "## Example 1\n",
        "dictionary={\n",
        "    \"Name\":\"Amna Miraj\",\n",
        "    \"Age\":\"21\",\n",
        "    \"Email Address\":\"amnamiraj@gmail.com\"\n",
        "}\n",
        "x=dictionary.get(\"Name\")\n",
        "y=dictionary.get(\"Email Address\")\n",
        "print(\"The value of key Name is:\",x)\n",
        "print(\"The value of key Email Address is:\",y)"
      ]
    },
    {
      "cell_type": "code",
      "execution_count": 144,
      "metadata": {},
      "outputs": [
        {
          "name": "stdout",
          "output_type": "stream",
          "text": [
            "The value of key Car Name is: Mercedes\n",
            "The value of key model is: Black\n"
          ]
        }
      ],
      "source": [
        "## Example 2\n",
        "car_dictionary={\n",
        "    \"Car_name\":\"Mercedes\",\n",
        "    \"Color\":\"Black\",\n",
        "    \"Model\":2012\n",
        "}\n",
        "var1=car_dictionary.get(\"Car_name\")\n",
        "var2=car_dictionary.get(\"Color\")\n",
        "print(\"The value of key Car Name is:\",var1)\n",
        "print(\"The value of key model is:\",var2)"
      ]
    },
    {
      "cell_type": "markdown",
      "metadata": {
        "id": "OiccOu4tdFpo"
      },
      "source": [
        "### 2.5.3 Updating the values in a Dictionary\n",
        "* In Python Dictionary we can update existing values\n",
        "* we can add new more entries\n",
        "<br>\n",
        "\n",
        "**_Example 1_**\n",
        "* Update existing value of a key"
      ]
    },
    {
      "cell_type": "code",
      "execution_count": 27,
      "metadata": {
        "colab": {
          "base_uri": "https://localhost:8080/",
          "height": 0
        },
        "id": "guhOzKmGdFpo",
        "outputId": "93369938-9246-47f3-cc25-31ea9be82557"
      },
      "outputs": [
        {
          "name": "stdout",
          "output_type": "stream",
          "text": [
            "My Dictionary before update: \n",
            "{'First_Name': 'Tahir', 'Last_name': 'Sohail', 'DOB': 1998}\n",
            "\n",
            "\n",
            "My Dictionary before update: \n",
            "{'First_Name': 'Tahir', 'Last_name': 'Sohail', 'DOB': '22-02-1998'}\n"
          ]
        }
      ],
      "source": [
        "My_dictionary = {\n",
        "  \"First_Name\": \"Tahir\",\n",
        "  \"Last_name\": \"Sohail\",\n",
        "  \"DOB\": 1998\n",
        "}\n",
        "print(\"My Dictionary before update: \")\n",
        "print(My_dictionary)\n",
        "print(\"\\n\")\n",
        "My_dictionary['DOB']=\"22-02-1998\"\n",
        "print(\"My Dictionary before update: \")\n",
        "print(My_dictionary)"
      ]
    },
    {
      "cell_type": "code",
      "execution_count": null,
      "metadata": {},
      "outputs": [
        {
          "name": "stdout",
          "output_type": "stream",
          "text": [
            "My Dictionary before update: \n",
            "{'Name': 'Amna Miraj', 'Age': '21', 'Email Address': 'amnamiraj@gmail.com'}\n",
            "\n",
            "\n",
            "My Dictionary before update: \n",
            "{'Name': 'Amna Miraj', 'Age': '20', 'Email Address': 'amnamiraj@gmail.com'}\n"
          ]
        }
      ],
      "source": [
        "## Example 1\n",
        "dictionary={\n",
        "    \"Name\":\"Amna Miraj\",\n",
        "    \"Age\":\"21\",\n",
        "    \"Email Address\":\"amnamiraj@gmail.com\"\n",
        "}\n",
        "print(\"My Dictionary before update: \")\n",
        "print(dictionary)\n",
        "print(\"\\n\")\n",
        "dictionary['Age']=\"20\"\n",
        "print(\"My Dictionary after update: \")\n",
        "print(dictionary)"
      ]
    },
    {
      "cell_type": "code",
      "execution_count": 147,
      "metadata": {},
      "outputs": [
        {
          "name": "stdout",
          "output_type": "stream",
          "text": [
            "My Dictionary before update: \n",
            "{'Car_name': 'Mercedes', 'Color': 'Black', 'Model': 2012}\n",
            "\n",
            "\n",
            "My Dictionary after update: \n",
            "{'Car_name': 'Mercedes', 'Color': 'White', 'Model': 2012}\n"
          ]
        }
      ],
      "source": [
        "## Example 2\n",
        "car_dictionary={\n",
        "    \"Car_name\":\"Mercedes\",\n",
        "    \"Color\":\"Black\",\n",
        "    \"Model\":2012\n",
        "}\n",
        "print(\"My Dictionary before update: \")\n",
        "print(car_dictionary)\n",
        "print(\"\\n\")\n",
        "car_dictionary['Color']=\"White\"\n",
        "print(\"My Dictionary after update: \")\n",
        "print(car_dictionary)"
      ]
    },
    {
      "cell_type": "markdown",
      "metadata": {
        "id": "YvSUGoPvdFpo"
      },
      "source": [
        "**_Example 2_**\n",
        "* Add the new key value pair in Dictionary"
      ]
    },
    {
      "cell_type": "code",
      "execution_count": 28,
      "metadata": {
        "colab": {
          "base_uri": "https://localhost:8080/",
          "height": 0
        },
        "id": "JcMNCSpudFpo",
        "outputId": "82148ed9-e0fa-4cdc-c6d1-35172c820c90"
      },
      "outputs": [
        {
          "name": "stdout",
          "output_type": "stream",
          "text": [
            "My Dictionary before update: \n",
            "{'First_Name': 'Tahir', 'Last_name': 'Sohail', 'DOB': 1998}\n",
            "\n",
            "\n",
            "My Dictionary before update: \n",
            "{'First_Name': 'Tahir', 'Last_name': 'Sohail', 'DOB': 1998, 'City': 'Vehari'}\n"
          ]
        }
      ],
      "source": [
        "My_dictionary = {\n",
        "  \"First_Name\": \"Tahir\",\n",
        "  \"Last_name\": \"Sohail\",\n",
        "  \"DOB\": 1998\n",
        "}\n",
        "print(\"My Dictionary before update: \")\n",
        "print(My_dictionary)\n",
        "print(\"\\n\")\n",
        "My_dictionary['City']=\"Vehari\"\n",
        "print(\"My Dictionary before update: \")\n",
        "print(My_dictionary)"
      ]
    },
    {
      "cell_type": "code",
      "execution_count": 148,
      "metadata": {},
      "outputs": [
        {
          "name": "stdout",
          "output_type": "stream",
          "text": [
            "My Dictionary before update: \n",
            "{'Name': 'Amna Miraj', 'Age': '21', 'Email Address': 'amnamiraj@gmail.com'}\n",
            "\n",
            "\n",
            "My Dictionary after update: \n",
            "{'Name': 'Amna Miraj', 'Age': '21', 'Email Address': 'amnamiraj@gmail.com', 'City': 'Lahore'}\n"
          ]
        }
      ],
      "source": [
        "## Example 1\n",
        "dictionary={\n",
        "    \"Name\":\"Amna Miraj\",\n",
        "    \"Age\":\"21\",\n",
        "    \"Email Address\":\"amnamiraj@gmail.com\"\n",
        "}\n",
        "print(\"My Dictionary before update: \")\n",
        "print(dictionary)\n",
        "print(\"\\n\")\n",
        "dictionary['City']=\"Lahore\"\n",
        "print(\"My Dictionary after update: \")\n",
        "print(dictionary)"
      ]
    },
    {
      "cell_type": "code",
      "execution_count": 149,
      "metadata": {},
      "outputs": [
        {
          "name": "stdout",
          "output_type": "stream",
          "text": [
            "My Dictionary before update: \n",
            "{'Car_name': 'Mercedes', 'Color': 'Black', 'Model': 2012}\n",
            "\n",
            "\n",
            "My Dictionary after update: \n",
            "{'Car_name': 'Mercedes', 'Color': 'Black', 'Model': 2012, 'Body_style': 'sedan'}\n"
          ]
        }
      ],
      "source": [
        "## Example 2\n",
        "car_dictionary={\n",
        "    \"Car_name\":\"Mercedes\",\n",
        "    \"Color\":\"Black\",\n",
        "    \"Model\":2012\n",
        "}\n",
        "print(\"My Dictionary before update: \")\n",
        "print(car_dictionary)\n",
        "print(\"\\n\")\n",
        "car_dictionary['Body_style']=\"sedan\"\n",
        "print(\"My Dictionary after update: \")\n",
        "print(car_dictionary)"
      ]
    },
    {
      "cell_type": "markdown",
      "metadata": {
        "id": "QyVDGyOodFpo"
      },
      "source": [
        "### 2.5.4 Delete the values of a Dictionary\n",
        "* We can delete single item from dictionary\n",
        "* we can delete the complete dictionary\n",
        "* There are two ways to delete given below\n",
        "  * **del** keyword is used to delete single item with key name\n",
        "  * **del** keyword can also delete the complete dictionary\n",
        "  * **pop()** method is used to delete single item with key name\n",
        "  * **popitem()** method is used to remove last key-value pair\n",
        "  * **clear()\"** method is used to remove complete dictionary\n",
        "  \n",
        "<br>\n",
        "\n",
        "**_Example 1_**\n",
        "* Delete single item from dictionary using **del**"
      ]
    },
    {
      "cell_type": "code",
      "execution_count": 29,
      "metadata": {
        "colab": {
          "base_uri": "https://localhost:8080/",
          "height": 0
        },
        "id": "T2219_wIdFpp",
        "outputId": "c1dcd3a5-0138-412d-8da4-51c80fe61dd2"
      },
      "outputs": [
        {
          "name": "stdout",
          "output_type": "stream",
          "text": [
            "Dictionary before delete key-value pair: \n",
            "{'First_Name': 'Tahir', 'Last_name': 'Sohail', 'DOB': 1998}\n",
            "\n",
            "\n",
            "Dictionary after delete key-value pair: \n",
            "{'First_Name': 'Tahir', 'Last_name': 'Sohail'}\n"
          ]
        }
      ],
      "source": [
        "My_dictionary = {\n",
        "  \"First_Name\": \"Tahir\",\n",
        "  \"Last_name\": \"Sohail\",\n",
        "  \"DOB\": 1998\n",
        "}\n",
        "print(\"Dictionary before delete key-value pair: \")\n",
        "print(My_dictionary)\n",
        "print(\"\\n\")\n",
        "del My_dictionary['DOB']\n",
        "print(\"Dictionary after delete key-value pair: \")\n",
        "print(My_dictionary)"
      ]
    },
    {
      "cell_type": "code",
      "execution_count": 152,
      "metadata": {},
      "outputs": [
        {
          "name": "stdout",
          "output_type": "stream",
          "text": [
            "Dictionary before delete key-value pair: \n",
            "{'Name': 'Amna Miraj', 'Age': '21', 'Email Address': 'amnamiraj@gmail.com'}\n",
            "\n",
            "\n",
            "Dictionary after delete key-value pair: \n",
            "{'Name': 'Amna Miraj', 'Age': '21'}\n"
          ]
        }
      ],
      "source": [
        "## Example 1\n",
        "dictionary={\n",
        "    \"Name\":\"Amna Miraj\",\n",
        "    \"Age\":\"21\",\n",
        "    \"Email Address\":\"amnamiraj@gmail.com\"\n",
        "}\n",
        "print(\"Dictionary before delete key-value pair: \")\n",
        "print(dictionary)\n",
        "print(\"\\n\")\n",
        "del dictionary['Email Address']\n",
        "print(\"Dictionary after delete key-value pair: \")\n",
        "print(dictionary)"
      ]
    },
    {
      "cell_type": "code",
      "execution_count": 153,
      "metadata": {},
      "outputs": [
        {
          "name": "stdout",
          "output_type": "stream",
          "text": [
            "Dictionary before delete key-value pair: \n",
            "{'Car_name': 'Mercedes', 'Color': 'Black', 'Model': 2012}\n",
            "\n",
            "\n",
            "Dictionary after delete key-value pair: \n",
            "{'Car_name': 'Mercedes', 'Model': 2012}\n"
          ]
        }
      ],
      "source": [
        "## Example 2\n",
        "car_dictionary={\n",
        "    \"Car_name\":\"Mercedes\",\n",
        "    \"Color\":\"Black\",\n",
        "    \"Model\":2012\n",
        "}\n",
        "print(\"Dictionary before delete key-value pair: \")\n",
        "print(car_dictionary)\n",
        "print(\"\\n\")\n",
        "del car_dictionary['Color']\n",
        "print(\"Dictionary after delete key-value pair: \")\n",
        "print(car_dictionary)"
      ]
    },
    {
      "cell_type": "markdown",
      "metadata": {
        "id": "iRnIFxpjdFpp"
      },
      "source": [
        "**_Example 2_**\n",
        "* Delete single item from dictionary using **pop()** method"
      ]
    },
    {
      "cell_type": "code",
      "execution_count": 30,
      "metadata": {
        "colab": {
          "base_uri": "https://localhost:8080/",
          "height": 0
        },
        "id": "roscsE70dFpp",
        "outputId": "82bf5a40-0ee2-4b41-99f5-c1b83b286d88"
      },
      "outputs": [
        {
          "name": "stdout",
          "output_type": "stream",
          "text": [
            "Dictionary before delete key-value pair: \n",
            "{'First_Name': 'Tahir', 'Last_name': 'Sohail', 'DOB': 1998}\n",
            "\n",
            "\n",
            "Dictionary after delete key-value pair: \n",
            "{'First_Name': 'Tahir', 'Last_name': 'Sohail'}\n"
          ]
        }
      ],
      "source": [
        "My_dictionary = {\n",
        "  \"First_Name\": \"Tahir\",\n",
        "  \"Last_name\": \"Sohail\",\n",
        "  \"DOB\": 1998\n",
        "}\n",
        "print(\"Dictionary before delete key-value pair: \")\n",
        "print(My_dictionary)\n",
        "print(\"\\n\")\n",
        "My_dictionary.pop(\"DOB\")\n",
        "print(\"Dictionary after delete key-value pair: \")\n",
        "print(My_dictionary)"
      ]
    },
    {
      "cell_type": "code",
      "execution_count": 155,
      "metadata": {},
      "outputs": [
        {
          "name": "stdout",
          "output_type": "stream",
          "text": [
            "Dictionary before delete key-value pair: \n",
            "{'Name': 'Amna Miraj', 'Age': '21', 'Email Address': 'amnamiraj@gmail.com'}\n",
            "\n",
            "\n",
            "Dictionary after delete key-value pair: \n",
            "{'Age': '21', 'Email Address': 'amnamiraj@gmail.com'}\n"
          ]
        }
      ],
      "source": [
        "## Example 1\n",
        "dictionary={\n",
        "    \"Name\":\"Amna Miraj\",\n",
        "    \"Age\":\"21\",\n",
        "    \"Email Address\":\"amnamiraj@gmail.com\"\n",
        "}\n",
        "print(\"Dictionary before delete key-value pair: \")\n",
        "print(dictionary)\n",
        "print(\"\\n\")\n",
        "dictionary.pop(\"Name\")\n",
        "print(\"Dictionary after delete key-value pair: \")\n",
        "print(dictionary)"
      ]
    },
    {
      "cell_type": "code",
      "execution_count": 156,
      "metadata": {},
      "outputs": [
        {
          "name": "stdout",
          "output_type": "stream",
          "text": [
            "Dictionary before delete key-value pair: \n",
            "{'Car_name': 'Mercedes', 'Color': 'Black', 'Model': 2012}\n",
            "\n",
            "\n",
            "Dictionary after delete key-value pair: \n",
            "{'Color': 'Black', 'Model': 2012}\n"
          ]
        }
      ],
      "source": [
        "## Example 2\n",
        "car_dictionary={\n",
        "    \"Car_name\":\"Mercedes\",\n",
        "    \"Color\":\"Black\",\n",
        "    \"Model\":2012\n",
        "}\n",
        "print(\"Dictionary before delete key-value pair: \")\n",
        "print(car_dictionary)\n",
        "print(\"\\n\")\n",
        "car_dictionary.pop(\"Car_name\")\n",
        "print(\"Dictionary after delete key-value pair: \")\n",
        "print(car_dictionary)"
      ]
    },
    {
      "cell_type": "markdown",
      "metadata": {
        "id": "4Q6WpfkddFpp"
      },
      "source": [
        "**_Example 3_**\n",
        "* Delete item from dictionary using **popitem()** method"
      ]
    },
    {
      "cell_type": "code",
      "execution_count": 31,
      "metadata": {
        "colab": {
          "base_uri": "https://localhost:8080/",
          "height": 0
        },
        "id": "hZ0_kB17dFpp",
        "outputId": "d4644321-b48b-4566-a2eb-7ff0294e5aee"
      },
      "outputs": [
        {
          "name": "stdout",
          "output_type": "stream",
          "text": [
            "Dictionary before delete key-value pair: \n",
            "{'First_Name': 'Tahir', 'Last_name': 'Sohail', 'DOB': 1998}\n",
            "\n",
            "\n",
            "Dictionary after delete key-value pair: \n",
            "{'First_Name': 'Tahir', 'Last_name': 'Sohail'}\n"
          ]
        }
      ],
      "source": [
        "My_dictionary = {\n",
        "  \"First_Name\": \"Tahir\",\n",
        "  \"Last_name\": \"Sohail\",\n",
        "  \"DOB\": 1998\n",
        "}\n",
        "print(\"Dictionary before delete key-value pair: \")\n",
        "print(My_dictionary)\n",
        "print(\"\\n\")\n",
        "My_dictionary.popitem()\n",
        "print(\"Dictionary after delete key-value pair: \")\n",
        "print(My_dictionary)"
      ]
    },
    {
      "cell_type": "code",
      "execution_count": 158,
      "metadata": {},
      "outputs": [
        {
          "name": "stdout",
          "output_type": "stream",
          "text": [
            "Dictionary before delete key-value pair: \n",
            "{'Name': 'Amna Miraj', 'Age': '21', 'Email Address': 'amnamiraj@gmail.com'}\n",
            "\n",
            "\n",
            "Dictionary after delete key-value pair: \n",
            "{'Name': 'Amna Miraj', 'Age': '21'}\n"
          ]
        }
      ],
      "source": [
        "## Example 1\n",
        "dictionary={\n",
        "    \"Name\":\"Amna Miraj\",\n",
        "    \"Age\":\"21\",\n",
        "    \"Email Address\":\"amnamiraj@gmail.com\"\n",
        "}\n",
        "print(\"Dictionary before delete key-value pair: \")\n",
        "print(dictionary)\n",
        "print(\"\\n\")\n",
        "dictionary.popitem()\n",
        "print(\"Dictionary after delete key-value pair: \")\n",
        "print(dictionary)"
      ]
    },
    {
      "cell_type": "code",
      "execution_count": 159,
      "metadata": {},
      "outputs": [
        {
          "name": "stdout",
          "output_type": "stream",
          "text": [
            "Dictionary before delete key-value pair: \n",
            "{'Car_name': 'Mercedes', 'Color': 'Black', 'Model': 2012}\n",
            "\n",
            "\n",
            "Dictionary after delete key-value pair: \n",
            "{'Car_name': 'Mercedes', 'Color': 'Black'}\n"
          ]
        }
      ],
      "source": [
        "## Example 2\n",
        "car_dictionary={\n",
        "    \"Car_name\":\"Mercedes\",\n",
        "    \"Color\":\"Black\",\n",
        "    \"Model\":2012\n",
        "}\n",
        "print(\"Dictionary before delete key-value pair: \")\n",
        "print(car_dictionary)\n",
        "print(\"\\n\")\n",
        "car_dictionary.popitem()\n",
        "print(\"Dictionary after delete key-value pair: \")\n",
        "print(car_dictionary)"
      ]
    },
    {
      "cell_type": "markdown",
      "metadata": {
        "id": "GGz0xzhxdFpp"
      },
      "source": [
        "**_Example 4_**\n",
        "* Delete the complete dictionary using **clear()** Method"
      ]
    },
    {
      "cell_type": "code",
      "execution_count": 32,
      "metadata": {
        "colab": {
          "base_uri": "https://localhost:8080/",
          "height": 0
        },
        "id": "bUzJSKQFdFpp",
        "outputId": "de1e4e3a-0ed8-41c3-df50-1fd3373996a2"
      },
      "outputs": [
        {
          "name": "stdout",
          "output_type": "stream",
          "text": [
            "Dictionary before clear: \n",
            "{'First_Name': 'Tahir', 'Last_name': 'Sohail', 'DOB': 1998}\n",
            "\n",
            "\n",
            "Dictionary after clear: \n",
            "{}\n"
          ]
        }
      ],
      "source": [
        "My_dictionary = {\n",
        "  \"First_Name\": \"Tahir\",\n",
        "  \"Last_name\": \"Sohail\",\n",
        "  \"DOB\": 1998\n",
        "}\n",
        "print(\"Dictionary before clear: \")\n",
        "print(My_dictionary)\n",
        "print(\"\\n\")\n",
        "My_dictionary.clear()\n",
        "print(\"Dictionary after clear: \")\n",
        "print(My_dictionary)"
      ]
    },
    {
      "cell_type": "code",
      "execution_count": 161,
      "metadata": {},
      "outputs": [
        {
          "name": "stdout",
          "output_type": "stream",
          "text": [
            "Dictionary before deleteing dictionary: \n",
            "{'Name': 'Amna Miraj', 'Age': '21', 'Email Address': 'amnamiraj@gmail.com'}\n",
            "\n",
            "\n",
            "Dictionary after deleteing dictionary: \n",
            "{}\n"
          ]
        }
      ],
      "source": [
        "## Example 1\n",
        "dictionary={\n",
        "    \"Name\":\"Amna Miraj\",\n",
        "    \"Age\":\"21\",\n",
        "    \"Email Address\":\"amnamiraj@gmail.com\"\n",
        "}\n",
        "print(\"Dictionary before deleteing dictionary: \")\n",
        "print(dictionary)\n",
        "print(\"\\n\")\n",
        "dictionary.clear()\n",
        "print(\"Dictionary after deleteing dictionary: \")\n",
        "print(dictionary)"
      ]
    },
    {
      "cell_type": "code",
      "execution_count": 162,
      "metadata": {},
      "outputs": [
        {
          "name": "stdout",
          "output_type": "stream",
          "text": [
            "Dictionary before deleteing dictionary: \n",
            "{'Car_name': 'Mercedes', 'Color': 'Black', 'Model': 2012}\n",
            "\n",
            "\n",
            "Dictionary after deleteing dictionary: \n",
            "{}\n"
          ]
        }
      ],
      "source": [
        "## Example 2\n",
        "car_dictionary={\n",
        "    \"Car_name\":\"Mercedes\",\n",
        "    \"Color\":\"Black\",\n",
        "    \"Model\":2012\n",
        "}\n",
        "print(\"Dictionary before deleteing dictionary: \")\n",
        "print(car_dictionary)\n",
        "print(\"\\n\")\n",
        "car_dictionary.clear()\n",
        "print(\"Dictionary after deleteing dictionary: \")\n",
        "print(car_dictionary)"
      ]
    },
    {
      "cell_type": "markdown",
      "metadata": {
        "id": "gIUeToCsdFpq"
      },
      "source": [
        "### 2.5.5 Dictionary Length\n",
        "* **len()** method is used to check the length of a string\n",
        "<br>\n",
        "\n",
        "**_Example_**"
      ]
    },
    {
      "cell_type": "code",
      "execution_count": 33,
      "metadata": {
        "colab": {
          "base_uri": "https://localhost:8080/",
          "height": 0
        },
        "id": "JVfk9UnUdFpq",
        "outputId": "ed2b655c-60ae-497a-a325-af0537998cf3"
      },
      "outputs": [
        {
          "name": "stdout",
          "output_type": "stream",
          "text": [
            "The length of a Dictionary is:  3\n"
          ]
        }
      ],
      "source": [
        "My_dictionary = {\n",
        "  \"First_Name\": \"Tahir\",\n",
        "  \"Last_name\": \"Sohail\",\n",
        "  \"DOB\": 1998\n",
        "}\n",
        "print(\"The length of a Dictionary is: \", len(My_dictionary))"
      ]
    },
    {
      "cell_type": "code",
      "execution_count": 165,
      "metadata": {},
      "outputs": [
        {
          "name": "stdout",
          "output_type": "stream",
          "text": [
            "The length of a Dictionary is:  4\n"
          ]
        }
      ],
      "source": [
        "## Example 1\n",
        "dictionary={\n",
        "    \"Name\":\"Amna Miraj\",\n",
        "    \"Age\":\"21\",\n",
        "    \"Email Address\":\"amnamiraj@gmail.com\",\n",
        "    \"Weight\":58\n",
        "}\n",
        "print(\"The length of a Dictionary is: \", len(dictionary))"
      ]
    },
    {
      "cell_type": "code",
      "execution_count": 163,
      "metadata": {},
      "outputs": [
        {
          "name": "stdout",
          "output_type": "stream",
          "text": [
            "The length of a Dictionary is:  3\n"
          ]
        }
      ],
      "source": [
        "## Example 2\n",
        "car_dictionary={\n",
        "    \"Car_name\":\"Mercedes\",\n",
        "    \"Color\":\"Black\",\n",
        "    \"Model\":2012\n",
        "}\n",
        "print(\"The length of a Dictionary is: \", len(car_dictionary))"
      ]
    },
    {
      "cell_type": "markdown",
      "metadata": {
        "id": "O5I15nLHdFpq"
      },
      "source": [
        "## 2.6 Tuples\n",
        "<br>\n",
        "\n",
        "* Tuples are the collection of objects like Lists but Tuple is immutable.\n",
        "* **comma (,)** is used as seperator between items in Tubple.\n",
        "* Tuples are written with round brackets().\n",
        "* **()** represents the empty Tuple.\n",
        "* **comma(,)** must include in a Tuple even you have only one value\n",
        "* Multiple datatypes should be used in Tuples\n",
        "\n",
        "<br>\n",
        "\n",
        "### 2.6.1 Create a Tuple\n",
        "**_Example_**\n",
        "* Creation of a Tuple is as follows"
      ]
    },
    {
      "cell_type": "code",
      "execution_count": 34,
      "metadata": {
        "colab": {
          "base_uri": "https://localhost:8080/",
          "height": 0
        },
        "id": "MVGdPloKdFpq",
        "outputId": "2fcf190f-99c9-4b86-9fca-baaff0cd4d50"
      },
      "outputs": [
        {
          "name": "stdout",
          "output_type": "stream",
          "text": [
            "('Tahir', 'Waqas', 'Bilal', 'iqra', '1998')\n"
          ]
        }
      ],
      "source": [
        "My_Tuple = (\"Tahir\", \"Waqas\", \"Bilal\", \"iqra\",\"1998\")\n",
        "print(My_Tuple)"
      ]
    },
    {
      "cell_type": "code",
      "execution_count": null,
      "metadata": {},
      "outputs": [
        {
          "name": "stdout",
          "output_type": "stream",
          "text": [
            "('Chemistry', 'Physics', 'Maths', 'Biology', 'English')\n"
          ]
        }
      ],
      "source": [
        "## Example 1\n",
        "First_tuple=(\"Chemistry\",\"Physics\",\"Maths\",\"Biology\",\"English\")\n",
        "print(First_tuple)"
      ]
    },
    {
      "cell_type": "code",
      "execution_count": 168,
      "metadata": {},
      "outputs": [
        {
          "name": "stdout",
          "output_type": "stream",
          "text": [
            "('CS', 'AI', 'DS', 'BT', 'IT', 'MB')\n"
          ]
        }
      ],
      "source": [
        "## Example 2\n",
        "Second_tuple=(\"CS\",\"AI\",\"DS\",\"BT\",\"IT\",\"MB\")\n",
        "print(Second_tuple)"
      ]
    },
    {
      "cell_type": "markdown",
      "metadata": {
        "id": "8pMtZxxddFpq"
      },
      "source": [
        "**_Example 2_**\n",
        "* **comma(,)** must include in a Tuple even you have only one value"
      ]
    },
    {
      "cell_type": "code",
      "execution_count": 170,
      "metadata": {
        "colab": {
          "base_uri": "https://localhost:8080/",
          "height": 0
        },
        "id": "bqB5LaTrdFpq",
        "outputId": "eeb8ff6a-1108-4265-9e67-b925655fa162"
      },
      "outputs": [
        {
          "name": "stdout",
          "output_type": "stream",
          "text": [
            "('Tahir',)\n"
          ]
        }
      ],
      "source": [
        "My_Tuple = (\"Tahir\",)\n",
        "print(My_Tuple)"
      ]
    },
    {
      "cell_type": "code",
      "execution_count": 171,
      "metadata": {},
      "outputs": [
        {
          "name": "stdout",
          "output_type": "stream",
          "text": [
            "('Chemistry',)\n"
          ]
        }
      ],
      "source": [
        "## Example 1\n",
        "First_tuple=(\"Chemistry\",)\n",
        "print(First_tuple)"
      ]
    },
    {
      "cell_type": "code",
      "execution_count": 172,
      "metadata": {},
      "outputs": [
        {
          "name": "stdout",
          "output_type": "stream",
          "text": [
            "('CS',)\n"
          ]
        }
      ],
      "source": [
        "## Example 2\n",
        "Second_tuple=(\"CS\",)\n",
        "print(Second_tuple)"
      ]
    },
    {
      "cell_type": "markdown",
      "metadata": {
        "id": "mSmRwuF0dFpr"
      },
      "source": [
        "### 2.6.2 Accessing values of a Tuple\n",
        "* In Python Tuple items can be access by using index number\n",
        "* specific range of values also be accessed in python Tuple\n",
        "<br>\n",
        "\n",
        "**_Example 1_**\n",
        "* Print the third value of Tuple"
      ]
    },
    {
      "cell_type": "code",
      "execution_count": 36,
      "metadata": {
        "colab": {
          "base_uri": "https://localhost:8080/",
          "height": 0
        },
        "id": "RTq6xBCEdFpr",
        "outputId": "6259eda0-46dd-4282-fb4d-dab864085b69"
      },
      "outputs": [
        {
          "name": "stdout",
          "output_type": "stream",
          "text": [
            "Tuple first value is:  Tahir\n"
          ]
        }
      ],
      "source": [
        "My_Tuple = (\"Tahir\", \"Waqas\", \"Bilal\", \"iqra\",\"1998\", \"2000\")\n",
        "\n",
        "print (\"Tuple first value is: \", My_Tuple[0])"
      ]
    },
    {
      "cell_type": "code",
      "execution_count": 174,
      "metadata": {},
      "outputs": [
        {
          "name": "stdout",
          "output_type": "stream",
          "text": [
            "Tuple first value is: Chemistry\n"
          ]
        }
      ],
      "source": [
        "## Example 1\n",
        "First_tuple=(\"Chemistry\",\"Physics\",\"Maths\",\"Biology\",\"English\")\n",
        "print(\"Tuple first value is:\",First_tuple[0])"
      ]
    },
    {
      "cell_type": "code",
      "execution_count": 177,
      "metadata": {},
      "outputs": [
        {
          "name": "stdout",
          "output_type": "stream",
          "text": [
            "Tuple third value is: DS\n"
          ]
        }
      ],
      "source": [
        "## Example 2\n",
        "Second_tuple=(\"CS\",\"AI\",\"DS\",\"BT\",\"IT\",\"MB\")\n",
        "print(\"Tuple third value is:\",Second_tuple[2])"
      ]
    },
    {
      "cell_type": "markdown",
      "metadata": {
        "id": "bkoHUuQxdFpr"
      },
      "source": [
        "**_Example 2_**\n",
        "* Access the Range of Tuple values"
      ]
    },
    {
      "cell_type": "code",
      "execution_count": 37,
      "metadata": {
        "colab": {
          "base_uri": "https://localhost:8080/",
          "height": 0
        },
        "id": "-s9CfYWgdFpr",
        "outputId": "27e2d89e-94c7-46cd-ced4-56f9632c7b46"
      },
      "outputs": [
        {
          "name": "stdout",
          "output_type": "stream",
          "text": [
            "Tuple all values:\n",
            "('Tahir', 'Waqas', 'Bilal', 'iqra', '1999', '1998')\n",
            "\n",
            "\n",
            "Tuple values from [1:5] is: \n",
            "('Waqas', 'Bilal', 'iqra', '1999')\n"
          ]
        }
      ],
      "source": [
        "My_Tuple = (\"Tahir\", \"Waqas\", \"Bilal\", \"iqra\",\"1999\", \"1998\")\n",
        "print (\"Tuple all values:\")\n",
        "print (My_Tuple)\n",
        "print(\"\\n\")\n",
        "print (\"Tuple values from [1:5] is: \")\n",
        "print (My_Tuple[1:5])"
      ]
    },
    {
      "cell_type": "code",
      "execution_count": 179,
      "metadata": {},
      "outputs": [
        {
          "name": "stdout",
          "output_type": "stream",
          "text": [
            "Tuple all values:\n",
            "('Chemistry', 'Physics', 'Maths', 'Biology', 'English')\n",
            "\n",
            "\n",
            "Tuple values from [0:4] is: \n",
            "('Chemistry', 'Physics', 'Maths', 'Biology')\n"
          ]
        }
      ],
      "source": [
        "## Example 1\n",
        "First_tuple=(\"Chemistry\",\"Physics\",\"Maths\",\"Biology\",\"English\")\n",
        "print (\"Tuple all values:\")\n",
        "print (First_tuple)\n",
        "print(\"\\n\")\n",
        "print (\"Tuple values from [0:4] is: \")\n",
        "print (First_tuple[0:4])"
      ]
    },
    {
      "cell_type": "code",
      "execution_count": 180,
      "metadata": {},
      "outputs": [
        {
          "name": "stdout",
          "output_type": "stream",
          "text": [
            "Tuple all values:\n",
            "('CS', 'AI', 'DS', 'BT', 'IT', 'MB', 'HR')\n",
            "\n",
            "\n",
            "Tuple values from [2:5] is: \n",
            "('DS', 'BT', 'IT')\n"
          ]
        }
      ],
      "source": [
        "## Example 2\n",
        "Second_tuple=(\"CS\",\"AI\",\"DS\",\"BT\",\"IT\",\"MB\",\"HR\")\n",
        "print (\"Tuple all values:\")\n",
        "print (Second_tuple)\n",
        "print(\"\\n\")\n",
        "print (\"Tuple values from [2:5] is: \")\n",
        "print (Second_tuple[2:5])"
      ]
    },
    {
      "cell_type": "markdown",
      "metadata": {
        "id": "GYJnSFSpdFpr"
      },
      "source": [
        "### 2.6.3 Updating the values of a Tuple\n",
        "* Tuples are read only\n",
        "* A tuple is ordered and immutable or unchangeable.\n",
        "* Tuple after convert into List is changeable\n",
        "\n",
        "**_Example_**\n",
        "* It gives an error when we try to item in a tuple"
      ]
    },
    {
      "cell_type": "code",
      "execution_count": 39,
      "metadata": {
        "colab": {
          "base_uri": "https://localhost:8080/",
          "height": 176
        },
        "id": "VDFIUVIGdFpr",
        "outputId": "3c7fa133-830e-4be8-eece-bce4011886b6"
      },
      "outputs": [
        {
          "ename": "TypeError",
          "evalue": "'tuple' object does not support item assignment",
          "output_type": "error",
          "traceback": [
            "\u001b[0;31m---------------------------------------------------------------------------\u001b[0m",
            "\u001b[0;31mTypeError\u001b[0m                                 Traceback (most recent call last)",
            "\u001b[0;32m<ipython-input-39-61a0f36af3cf>\u001b[0m in \u001b[0;36m<cell line: 0>\u001b[0;34m()\u001b[0m\n\u001b[1;32m      1\u001b[0m \u001b[0mMy_Tuple\u001b[0m \u001b[0;34m=\u001b[0m \u001b[0;34m(\u001b[0m\u001b[0;34m\"Tahir\"\u001b[0m\u001b[0;34m,\u001b[0m \u001b[0;34m\"Waqas\"\u001b[0m\u001b[0;34m,\u001b[0m \u001b[0;34m\"Bilal\"\u001b[0m\u001b[0;34m,\u001b[0m \u001b[0;34m\"iqra\"\u001b[0m\u001b[0;34m,\u001b[0m\u001b[0;34m\"1999\"\u001b[0m\u001b[0;34m,\u001b[0m \u001b[0;34m\"1998\"\u001b[0m\u001b[0;34m)\u001b[0m\u001b[0;34m\u001b[0m\u001b[0;34m\u001b[0m\u001b[0m\n\u001b[0;32m----> 2\u001b[0;31m \u001b[0mMy_Tuple\u001b[0m\u001b[0;34m[\u001b[0m\u001b[0;36m3\u001b[0m\u001b[0;34m]\u001b[0m \u001b[0;34m=\u001b[0m \u001b[0;34m\"sidra\"\u001b[0m \u001b[0;31m#This will gives an error\u001b[0m\u001b[0;34m\u001b[0m\u001b[0;34m\u001b[0m\u001b[0m\n\u001b[0m\u001b[1;32m      3\u001b[0m \u001b[0mprint\u001b[0m \u001b[0;34m(\u001b[0m\u001b[0mMy_Tuple\u001b[0m\u001b[0;34m)\u001b[0m\u001b[0;34m\u001b[0m\u001b[0;34m\u001b[0m\u001b[0m\n",
            "\u001b[0;31mTypeError\u001b[0m: 'tuple' object does not support item assignment"
          ]
        }
      ],
      "source": [
        "My_Tuple = (\"Tahir\", \"Waqas\", \"Bilal\", \"iqra\",\"1999\", \"1998\")\n",
        "My_Tuple[3] = \"sidra\" #This will gives an error\n",
        "print (My_Tuple)"
      ]
    },
    {
      "cell_type": "code",
      "execution_count": 181,
      "metadata": {},
      "outputs": [
        {
          "ename": "TypeError",
          "evalue": "'tuple' object does not support item assignment",
          "output_type": "error",
          "traceback": [
            "\u001b[31m---------------------------------------------------------------------------\u001b[39m",
            "\u001b[31mTypeError\u001b[39m                                 Traceback (most recent call last)",
            "\u001b[36mCell\u001b[39m\u001b[36m \u001b[39m\u001b[32mIn[181]\u001b[39m\u001b[32m, line 3\u001b[39m\n\u001b[32m      1\u001b[39m \u001b[38;5;66;03m## Example 1\u001b[39;00m\n\u001b[32m      2\u001b[39m First_tuple=(\u001b[33m\"\u001b[39m\u001b[33mChemistry\u001b[39m\u001b[33m\"\u001b[39m,\u001b[33m\"\u001b[39m\u001b[33mPhysics\u001b[39m\u001b[33m\"\u001b[39m,\u001b[33m\"\u001b[39m\u001b[33mMaths\u001b[39m\u001b[33m\"\u001b[39m,\u001b[33m\"\u001b[39m\u001b[33mBiology\u001b[39m\u001b[33m\"\u001b[39m,\u001b[33m\"\u001b[39m\u001b[33mEnglish\u001b[39m\u001b[33m\"\u001b[39m)\n\u001b[32m----> \u001b[39m\u001b[32m3\u001b[39m \u001b[43mFirst_tuple\u001b[49m\u001b[43m[\u001b[49m\u001b[32;43m3\u001b[39;49m\u001b[43m]\u001b[49m=\u001b[33m\"\u001b[39m\u001b[33mAlgebra\u001b[39m\u001b[33m\"\u001b[39m \u001b[38;5;66;03m## This will give an error\u001b[39;00m\n\u001b[32m      4\u001b[39m \u001b[38;5;28mprint\u001b[39m(First_tuple)\n",
            "\u001b[31mTypeError\u001b[39m: 'tuple' object does not support item assignment"
          ]
        }
      ],
      "source": [
        "## Example 1\n",
        "First_tuple=(\"Chemistry\",\"Physics\",\"Maths\",\"Biology\",\"English\")\n",
        "First_tuple[3]=\"Algebra\" ## This will give an error\n",
        "print(First_tuple)"
      ]
    },
    {
      "cell_type": "markdown",
      "metadata": {
        "id": "aeSBBVSBdFpr"
      },
      "source": [
        "### 2.6.4 Deleting the values of a Tuple\n",
        "* Single item from Tuple is not deleted because its not changeable\n",
        "* **del** keyword is used to delete the whole Tuple.\n",
        "\n",
        "**_Example_**\n",
        "\n",
        "* Delete the Tuple using **del** keyword"
      ]
    },
    {
      "cell_type": "code",
      "execution_count": 40,
      "metadata": {
        "colab": {
          "base_uri": "https://localhost:8080/",
          "height": 263
        },
        "id": "ri-aqy1VdFps",
        "outputId": "dee8f9f3-ace2-4e5b-ed9f-87a145eae9d0"
      },
      "outputs": [
        {
          "name": "stdout",
          "output_type": "stream",
          "text": [
            "Tuple all values:\n",
            "('Tahir', 'Waqas', 'Bilal', 'iqra', '1999', '2000')\n",
            "\n",
            "\n",
            "Tuple after deletion: \n"
          ]
        },
        {
          "ename": "NameError",
          "evalue": "name 'My_Tuple' is not defined",
          "output_type": "error",
          "traceback": [
            "\u001b[0;31m---------------------------------------------------------------------------\u001b[0m",
            "\u001b[0;31mNameError\u001b[0m                                 Traceback (most recent call last)",
            "\u001b[0;32m<ipython-input-40-993cd064a102>\u001b[0m in \u001b[0;36m<cell line: 0>\u001b[0;34m()\u001b[0m\n\u001b[1;32m      5\u001b[0m \u001b[0;32mdel\u001b[0m \u001b[0mMy_Tuple\u001b[0m\u001b[0;34m\u001b[0m\u001b[0;34m\u001b[0m\u001b[0m\n\u001b[1;32m      6\u001b[0m \u001b[0mprint\u001b[0m \u001b[0;34m(\u001b[0m\u001b[0;34m\"Tuple after deletion: \"\u001b[0m\u001b[0;34m)\u001b[0m\u001b[0;34m\u001b[0m\u001b[0;34m\u001b[0m\u001b[0m\n\u001b[0;32m----> 7\u001b[0;31m \u001b[0mprint\u001b[0m \u001b[0;34m(\u001b[0m\u001b[0mMy_Tuple\u001b[0m\u001b[0;34m)\u001b[0m\u001b[0;31m#This will Gives an error message because Tuple no longer exists\u001b[0m\u001b[0;34m\u001b[0m\u001b[0;34m\u001b[0m\u001b[0m\n\u001b[0m",
            "\u001b[0;31mNameError\u001b[0m: name 'My_Tuple' is not defined"
          ]
        }
      ],
      "source": [
        "My_Tuple = (\"Tahir\", \"Waqas\", \"Bilal\", \"iqra\",\"1999\", \"2000\")\n",
        "print (\"Tuple all values:\")\n",
        "print (My_Tuple)\n",
        "print(\"\\n\")\n",
        "del My_Tuple\n",
        "print (\"Tuple after deletion: \")\n",
        "print (My_Tuple)#This will Gives an error message because Tuple no longer exists"
      ]
    },
    {
      "cell_type": "code",
      "execution_count": 182,
      "metadata": {},
      "outputs": [
        {
          "name": "stdout",
          "output_type": "stream",
          "text": [
            "Tuple all values:\n",
            "('Chemistry', 'Physics', 'Maths', 'Biology', 'English')\n",
            "\n",
            "\n",
            "Tuple after deletion: \n"
          ]
        },
        {
          "ename": "NameError",
          "evalue": "name 'First_tuple' is not defined",
          "output_type": "error",
          "traceback": [
            "\u001b[31m---------------------------------------------------------------------------\u001b[39m",
            "\u001b[31mNameError\u001b[39m                                 Traceback (most recent call last)",
            "\u001b[36mCell\u001b[39m\u001b[36m \u001b[39m\u001b[32mIn[182]\u001b[39m\u001b[32m, line 8\u001b[39m\n\u001b[32m      6\u001b[39m \u001b[38;5;28;01mdel\u001b[39;00m First_tuple\n\u001b[32m      7\u001b[39m \u001b[38;5;28mprint\u001b[39m (\u001b[33m\"\u001b[39m\u001b[33mTuple after deletion: \u001b[39m\u001b[33m\"\u001b[39m)\n\u001b[32m----> \u001b[39m\u001b[32m8\u001b[39m \u001b[38;5;28mprint\u001b[39m (\u001b[43mFirst_tuple\u001b[49m)\u001b[38;5;66;03m#This will Gives an error message because Tuple no longer exists\u001b[39;00m\n",
            "\u001b[31mNameError\u001b[39m: name 'First_tuple' is not defined"
          ]
        }
      ],
      "source": [
        "## Example 1\n",
        "First_tuple=(\"Chemistry\",\"Physics\",\"Maths\",\"Biology\",\"English\")\n",
        "print (\"Tuple all values:\")\n",
        "print (First_tuple)\n",
        "print(\"\\n\")\n",
        "del First_tuple\n",
        "print (\"Tuple after deletion: \")\n",
        "print (First_tuple)#This will Gives an error message because Tuple no longer exists"
      ]
    },
    {
      "cell_type": "markdown",
      "metadata": {
        "id": "x-IwnIWPdFps"
      },
      "source": [
        "## 2.7 Sets\n",
        "\n",
        "* Collection of unordered, unindexed items called sets.\n",
        "* Sets are written with curly brackets {} in Python.\n",
        "* No dulpicate items exist in Sets every item is unique\n",
        "* Itmes are immutable (Not changeable), However, the set itself is unchangeab\n",
        "* More items can be add or remove.\n",
        "* **{}** represents empty set\n",
        "* **comma (,)** is used as seperator between items in sets.\n",
        "* Set is used to perform mathmatical operations\n",
        "* set() Method is used to create a set from a list\n",
        "* Two methods are used to delete the value from set\n",
        "  * discard() method will not show an error (When value doesn't exists in set.)\n",
        "  * remove() method will show an error(when value doesn't exists in set.)\n",
        "\n",
        "### 2.7.1 Create a set\n",
        "**_Example_**\n",
        "* Creation of a set is as follows"
      ]
    },
    {
      "cell_type": "code",
      "execution_count": 41,
      "metadata": {
        "colab": {
          "base_uri": "https://localhost:8080/",
          "height": 0
        },
        "id": "Z_yvFLDqdFps",
        "outputId": "c986f119-34f8-408c-a21f-9d862697cc35"
      },
      "outputs": [
        {
          "name": "stdout",
          "output_type": "stream",
          "text": [
            "{'Waqas', 'Tahir', 'Bilal'}\n"
          ]
        }
      ],
      "source": [
        "My_set = {\"Tahir\", \"Waqas\", \"Bilal\"}\n",
        "print(My_set)"
      ]
    },
    {
      "cell_type": "code",
      "execution_count": null,
      "metadata": {},
      "outputs": [
        {
          "name": "stdout",
          "output_type": "stream",
          "text": [
            "{1, 2, 3, 4, 5, 6, 7}\n"
          ]
        }
      ],
      "source": [
        "## Example 1\n",
        "set={1,2,3,4,5,6,7}\n",
        "print(set)"
      ]
    },
    {
      "cell_type": "code",
      "execution_count": 184,
      "metadata": {},
      "outputs": [
        {
          "name": "stdout",
          "output_type": "stream",
          "text": [
            "{'orange', 'blue', 'red', 'purple', 'yellow'}\n"
          ]
        }
      ],
      "source": [
        "## Example 2\n",
        "set1={\"red\",\"blue\",\"yellow\",\"orange\",\"purple\"}\n",
        "print(set1)"
      ]
    },
    {
      "cell_type": "markdown",
      "metadata": {
        "id": "iJsfft6rdFps"
      },
      "source": [
        "### 2.7.2 Accessing values of a Set\n",
        "* we can not access the value of a set because its unordered and unindexed\n",
        "<br>"
      ]
    },
    {
      "cell_type": "markdown",
      "metadata": {
        "id": "avj58sIqdFps"
      },
      "source": [
        "### 2.7.3 Add and Update items in a set\n",
        "* In Python there are two methods to add items in a set\n",
        "  * **add()** method is used to add single item\n",
        "  * **update()** method is used for add more then one items\n",
        "<br>\n",
        "\n",
        "**_Example 1_**\n",
        "* Add single item using **add()** method"
      ]
    },
    {
      "cell_type": "code",
      "execution_count": 42,
      "metadata": {
        "colab": {
          "base_uri": "https://localhost:8080/",
          "height": 0
        },
        "id": "_ScZLvRZdFps",
        "outputId": "e7600598-518e-4dc3-cce0-bff551928733"
      },
      "outputs": [
        {
          "name": "stdout",
          "output_type": "stream",
          "text": [
            "Set before addition of item:\n",
            "{'Waqas', 'Tahir', 'Bilal'}\n",
            "\n",
            "\n",
            "Set after addition of item:\n",
            "{'Waqas', 'Iqra', 'Tahir', 'Bilal'}\n"
          ]
        }
      ],
      "source": [
        "My_set = {\"Tahir\", \"Waqas\", \"Bilal\"}\n",
        "print(\"Set before addition of item:\")\n",
        "print(My_set)\n",
        "print(\"\\n\")\n",
        "My_set.add(\"Iqra\")\n",
        "print(\"Set after addition of item:\")\n",
        "print(My_set)"
      ]
    },
    {
      "cell_type": "code",
      "execution_count": 186,
      "metadata": {},
      "outputs": [
        {
          "name": "stdout",
          "output_type": "stream",
          "text": [
            "Set before addition of item:\n",
            "{1, 2, 3, 4, 5, 6, 7}\n",
            "\n",
            "\n",
            "Set after addition of item:\n",
            "{1, 2, 3, 4, 5, 6, 7, 8}\n"
          ]
        }
      ],
      "source": [
        "## Example 1\n",
        "set={1,2,3,4,5,6,7}\n",
        "print(\"Set before addition of item:\")\n",
        "print(set)\n",
        "print(\"\\n\")\n",
        "set.add(8)\n",
        "print(\"Set after addition of item:\")\n",
        "print(set)"
      ]
    },
    {
      "cell_type": "code",
      "execution_count": 187,
      "metadata": {},
      "outputs": [
        {
          "name": "stdout",
          "output_type": "stream",
          "text": [
            "Set before addition of item:\n",
            "{'orange', 'blue', 'red', 'purple', 'yellow'}\n",
            "\n",
            "\n",
            "Set after addition of item:\n",
            "{'indigo', 'orange', 'blue', 'red', 'purple', 'yellow'}\n"
          ]
        }
      ],
      "source": [
        "## Example 2\n",
        "set1={\"red\",\"blue\",\"yellow\",\"orange\",\"purple\"}\n",
        "print(\"Set before addition of item:\")\n",
        "print(set1)\n",
        "print(\"\\n\")\n",
        "set1.add(\"indigo\")\n",
        "print(\"Set after addition of item:\")\n",
        "print(set1)"
      ]
    },
    {
      "cell_type": "markdown",
      "metadata": {
        "id": "NjlfbYOfdFpt"
      },
      "source": [
        "**_Example 2_**\n",
        "* Add items using **update()** method"
      ]
    },
    {
      "cell_type": "code",
      "execution_count": 43,
      "metadata": {
        "colab": {
          "base_uri": "https://localhost:8080/",
          "height": 0
        },
        "id": "h-G0yjtPdFpt",
        "outputId": "c9e366d3-4ec4-47d0-c504-42b30c96259c"
      },
      "outputs": [
        {
          "name": "stdout",
          "output_type": "stream",
          "text": [
            "Set before addition of item:\n",
            "{'Waqas', 'Tahir', 'Bilal'}\n",
            "\n",
            "\n",
            "Set after addition of item:\n",
            "{'Tahir', 'Iqra', 'Bilal', 'Waqas', 'Sohail'}\n"
          ]
        }
      ],
      "source": [
        "My_set = {\"Tahir\", \"Waqas\", \"Bilal\"}\n",
        "print(\"Set before addition of item:\")\n",
        "print(My_set)\n",
        "print(\"\\n\")\n",
        "My_set.update([\"Iqra\", \"Sohail\"])\n",
        "print(\"Set after addition of item:\")\n",
        "print(My_set)"
      ]
    },
    {
      "cell_type": "code",
      "execution_count": 192,
      "metadata": {},
      "outputs": [
        {
          "name": "stdout",
          "output_type": "stream",
          "text": [
            "Set before addition of item:\n",
            "{1, 2, 3, 4, 5, 6, 7}\n",
            "\n",
            "\n",
            "Set after addition of item:\n",
            "{1, 2, 3, 4, 5, 6, 7, 8, 9}\n"
          ]
        }
      ],
      "source": [
        "## Example 1\n",
        "set1={1,2,3,4,5,6,7}\n",
        "print(\"Set before addition of item:\")\n",
        "print(set1)\n",
        "print(\"\\n\")\n",
        "set1.update([8,9])\n",
        "print(\"Set after addition of item:\")\n",
        "print(set1)"
      ]
    },
    {
      "cell_type": "code",
      "execution_count": 195,
      "metadata": {},
      "outputs": [
        {
          "name": "stdout",
          "output_type": "stream",
          "text": [
            "Set before addition of item:\n",
            "{'orange', 'blue', 'red', 'purple', 'yellow'}\n",
            "\n",
            "\n",
            "Set after addition of item:\n",
            "{'indigo', 'orange', 'silver', 'blue', 'red', 'purple', 'yellow', 'golden'}\n"
          ]
        }
      ],
      "source": [
        "## Example 2\n",
        "set1={\"red\",\"blue\",\"yellow\",\"orange\",\"purple\"}\n",
        "print(\"Set before addition of item:\")\n",
        "print(set1)\n",
        "print(\"\\n\")\n",
        "set1.update([\"indigo\",\"golden\",\"silver\"])\n",
        "print(\"Set after addition of item:\")\n",
        "print(set1)"
      ]
    },
    {
      "cell_type": "markdown",
      "metadata": {
        "id": "yFh9qRWVdFpt"
      },
      "source": [
        "### 2.7.4 Delete items in a set\n",
        "* In Python there are two methods to delete items from a set\n",
        "  * **remove()** method is used to delete the item\n",
        "  * **discard()** method is used to delete the item\n",
        "  * **pop()** method is also use to remove item\n",
        "  * **clear()** method is also use to remove all items from set\n",
        "  * **del** keyword also use to remove all items from sets\n",
        "<br>\n",
        "\n",
        "**_Example 1_**\n",
        "* Delete item using **remove()** method"
      ]
    },
    {
      "cell_type": "code",
      "execution_count": 198,
      "metadata": {
        "colab": {
          "base_uri": "https://localhost:8080/",
          "height": 280
        },
        "id": "zvI0HkS9dFpt",
        "outputId": "8d0eed20-f9ad-47ad-e80c-1e06bf445b54"
      },
      "outputs": [
        {
          "name": "stdout",
          "output_type": "stream",
          "text": [
            "Set of items:\n",
            "{'Tahir', 'Bilal', 'Waqas'}\n",
            "\n",
            "\n"
          ]
        },
        {
          "ename": "KeyError",
          "evalue": "'waqas'",
          "output_type": "error",
          "traceback": [
            "\u001b[31m---------------------------------------------------------------------------\u001b[39m",
            "\u001b[31mKeyError\u001b[39m                                  Traceback (most recent call last)",
            "\u001b[36mCell\u001b[39m\u001b[36m \u001b[39m\u001b[32mIn[198]\u001b[39m\u001b[32m, line 5\u001b[39m\n\u001b[32m      3\u001b[39m \u001b[38;5;28mprint\u001b[39m(My_set)\n\u001b[32m      4\u001b[39m \u001b[38;5;28mprint\u001b[39m(\u001b[33m\"\u001b[39m\u001b[38;5;130;01m\\n\u001b[39;00m\u001b[33m\"\u001b[39m)\n\u001b[32m----> \u001b[39m\u001b[32m5\u001b[39m \u001b[43mMy_set\u001b[49m\u001b[43m.\u001b[49m\u001b[43mremove\u001b[49m\u001b[43m(\u001b[49m\u001b[33;43m\"\u001b[39;49m\u001b[33;43mwaqas\u001b[39;49m\u001b[33;43m\"\u001b[39;49m\u001b[43m)\u001b[49m\n\u001b[32m      6\u001b[39m \u001b[38;5;28mprint\u001b[39m(\u001b[33m\"\u001b[39m\u001b[33mSet after deletion of item:\u001b[39m\u001b[33m\"\u001b[39m)\n\u001b[32m      7\u001b[39m \u001b[38;5;28mprint\u001b[39m(My_set) \u001b[38;5;66;03m#it will gives an error because no longer item exist in a set.\u001b[39;00m\n",
            "\u001b[31mKeyError\u001b[39m: 'waqas'"
          ]
        }
      ],
      "source": [
        "My_set = {\"Tahir\", \"Waqas\", \"Bilal\"}\n",
        "print(\"Set of items:\")\n",
        "print(My_set)\n",
        "print(\"\\n\")\n",
        "My_set.remove(\"waqas\")\n",
        "print(\"Set after deletion of item:\")\n",
        "print(My_set) #it will gives an error because no longer item exist in a set."
      ]
    },
    {
      "cell_type": "markdown",
      "metadata": {
        "id": "Rdx7LXPadFpt"
      },
      "source": [
        "**_Example 2_**\n",
        "* Delete item using **discard()** method"
      ]
    },
    {
      "cell_type": "code",
      "execution_count": 202,
      "metadata": {
        "colab": {
          "base_uri": "https://localhost:8080/",
          "height": 0
        },
        "id": "DWjZFq0odFpt",
        "outputId": "5787f8ce-d415-4f84-a46f-fcdfe6b5f9b8"
      },
      "outputs": [
        {
          "name": "stdout",
          "output_type": "stream",
          "text": [
            "Set of items:\n",
            "{'Tahir', 'Bilal', 'Waqas'}\n",
            "\n",
            "\n",
            "Set after deletion of item:\n",
            "{'Tahir', 'Bilal'}\n"
          ]
        }
      ],
      "source": [
        "My_set = {\"Tahir\", \"Waqas\", \"Bilal\"}\n",
        "print(\"Set of items:\")\n",
        "print(My_set)\n",
        "print(\"\\n\")\n",
        "My_set.discard(\"Waqas\")\n",
        "print(\"Set after deletion of item:\")\n",
        "print(My_set) #it will gives an error because no longer item exist in a set."
      ]
    },
    {
      "cell_type": "markdown",
      "metadata": {
        "id": "mVtRVtMudFpt"
      },
      "source": [
        "**_Example 3_**\n",
        "* Delete item using **pop()** method"
      ]
    },
    {
      "cell_type": "code",
      "execution_count": 46,
      "metadata": {
        "colab": {
          "base_uri": "https://localhost:8080/",
          "height": 0
        },
        "id": "LYB7cjE9dFpu",
        "outputId": "b8e85933-d994-4086-d318-af1c013a87e2"
      },
      "outputs": [
        {
          "name": "stdout",
          "output_type": "stream",
          "text": [
            "Set of items:\n",
            "{'Waqas', 'Tahir', 'Bilal'}\n",
            "\n",
            "\n",
            "Set after deletion of item:\n",
            "{'Tahir', 'Bilal'}\n"
          ]
        }
      ],
      "source": [
        "My_set = {\"Tahir\", \"Waqas\", \"Bilal\"}\n",
        "print(\"Set of items:\")\n",
        "print(My_set)\n",
        "print(\"\\n\")\n",
        "My_set.pop()\n",
        "print(\"Set after deletion of item:\")\n",
        "print(My_set) #it will gives an error because no longer item exist in a set."
      ]
    },
    {
      "cell_type": "markdown",
      "metadata": {
        "id": "89t-qMysdFpu"
      },
      "source": [
        "**_Example 4_**\n",
        "* Remove items using **clear()** method"
      ]
    },
    {
      "cell_type": "code",
      "execution_count": 47,
      "metadata": {
        "colab": {
          "base_uri": "https://localhost:8080/",
          "height": 0
        },
        "id": "f3tQxTLEdFpu",
        "outputId": "c4e68335-9ebe-44a8-b333-6c6ba2481685"
      },
      "outputs": [
        {
          "name": "stdout",
          "output_type": "stream",
          "text": [
            "Set of items:\n",
            "{'Waqas', 'Tahir', 'Bilal'}\n",
            "\n",
            "\n",
            "Set after deletion of item:\n",
            "set()\n"
          ]
        }
      ],
      "source": [
        "My_set = {\"Tahir\", \"Waqas\", \"Bilal\"}\n",
        "print(\"Set of items:\")\n",
        "print(My_set)\n",
        "print(\"\\n\")\n",
        "My_set.clear()\n",
        "print(\"Set after deletion of item:\")\n",
        "print(My_set)"
      ]
    },
    {
      "cell_type": "markdown",
      "metadata": {
        "id": "zp0KbxrWdFpu"
      },
      "source": [
        "**_Example 5_**\n",
        "* Delete items using **del** keyword from sets"
      ]
    },
    {
      "cell_type": "code",
      "execution_count": 48,
      "metadata": {
        "colab": {
          "base_uri": "https://localhost:8080/",
          "height": 263
        },
        "id": "NuLEsz_jdFpu",
        "outputId": "bca03c6f-74da-4fef-ed94-7474816ab9bf"
      },
      "outputs": [
        {
          "name": "stdout",
          "output_type": "stream",
          "text": [
            "Set of items:\n",
            "{'Waqas', 'Tahir', 'Bilal'}\n",
            "\n",
            "\n",
            "Set after deletion of item:\n"
          ]
        },
        {
          "ename": "NameError",
          "evalue": "name 'My_set' is not defined",
          "output_type": "error",
          "traceback": [
            "\u001b[0;31m---------------------------------------------------------------------------\u001b[0m",
            "\u001b[0;31mNameError\u001b[0m                                 Traceback (most recent call last)",
            "\u001b[0;32m<ipython-input-48-f158c8af9570>\u001b[0m in \u001b[0;36m<cell line: 0>\u001b[0;34m()\u001b[0m\n\u001b[1;32m      5\u001b[0m \u001b[0;32mdel\u001b[0m \u001b[0mMy_set\u001b[0m\u001b[0;34m\u001b[0m\u001b[0;34m\u001b[0m\u001b[0m\n\u001b[1;32m      6\u001b[0m \u001b[0mprint\u001b[0m\u001b[0;34m(\u001b[0m\u001b[0;34m\"Set after deletion of item:\"\u001b[0m\u001b[0;34m)\u001b[0m\u001b[0;34m\u001b[0m\u001b[0;34m\u001b[0m\u001b[0m\n\u001b[0;32m----> 7\u001b[0;31m \u001b[0mprint\u001b[0m\u001b[0;34m(\u001b[0m\u001b[0mMy_set\u001b[0m\u001b[0;34m)\u001b[0m \u001b[0;31m#it will gives an error because no longer item exist in a set.\u001b[0m\u001b[0;34m\u001b[0m\u001b[0;34m\u001b[0m\u001b[0m\n\u001b[0m",
            "\u001b[0;31mNameError\u001b[0m: name 'My_set' is not defined"
          ]
        }
      ],
      "source": [
        "My_set = {\"Tahir\", \"Waqas\", \"Bilal\"}\n",
        "print(\"Set of items:\")\n",
        "print(My_set)\n",
        "print(\"\\n\")\n",
        "del My_set\n",
        "print(\"Set after deletion of item:\")\n",
        "print(My_set) #it will gives an error because no longer item exist in a set."
      ]
    },
    {
      "cell_type": "code",
      "execution_count": 206,
      "metadata": {},
      "outputs": [
        {
          "name": "stdout",
          "output_type": "stream",
          "text": [
            "Set of items:\n",
            "{1, 2, 3, 4, 5, 6, 7}\n",
            "\n",
            "\n",
            "Set after deletion of item:\n",
            "{1, 2, 3, 5, 6, 7}\n"
          ]
        }
      ],
      "source": [
        "## Example 1\n",
        "set1={1,2,3,4,5,6,7}\n",
        "print(\"Set of items:\")\n",
        "print(set1)\n",
        "print(\"\\n\")\n",
        "set1.remove(4)\n",
        "print(\"Set after deletion of item:\")\n",
        "print(set1) "
      ]
    },
    {
      "cell_type": "code",
      "execution_count": 208,
      "metadata": {},
      "outputs": [
        {
          "name": "stdout",
          "output_type": "stream",
          "text": [
            "Set of items:\n",
            "{'orange', 'blue', 'red', 'purple', 'yellow'}\n",
            "\n",
            "\n",
            "Set after clering of all items:\n",
            "set()\n"
          ]
        }
      ],
      "source": [
        "## Example 2\n",
        "set1={\"red\",\"blue\",\"yellow\",\"orange\",\"purple\"}\n",
        "print(\"Set of items:\")\n",
        "print(set1)\n",
        "print(\"\\n\")\n",
        "set1.clear()\n",
        "print(\"Set after clering of all items:\")\n",
        "print(set1) "
      ]
    },
    {
      "cell_type": "markdown",
      "metadata": {
        "id": "Xx64RLH9dFpu"
      },
      "source": [
        "# 3. Operators\n",
        "* Operators are used for different conditions on variables and values to perform multiple operations.\n",
        "* Python support these group of operators given below\n",
        "  * Arithmetic operators\n",
        "  * Assignment operators\n",
        "  * Comparison operators\n",
        "  * Logical operators\n",
        "  * Identity operators\n",
        "  * Membership operators\n",
        "  * Bitwise operators\n",
        "  \n",
        "## 3.1. Arithmetic operators\n",
        "* Arithmetic operators are used to perform mathematical operations on numeric values.\n",
        "\n",
        "**_Examples_**\n",
        "* The operators perform common operations including addition, subtraction, multiplication, division and mod etc."
      ]
    },
    {
      "cell_type": "code",
      "execution_count": 49,
      "metadata": {
        "colab": {
          "base_uri": "https://localhost:8080/",
          "height": 0
        },
        "id": "JLwq2m_wdFpu",
        "outputId": "6c28cc46-b4b7-45ab-a00f-266cff4edd31"
      },
      "outputs": [
        {
          "name": "stdout",
          "output_type": "stream",
          "text": [
            "16\n"
          ]
        }
      ],
      "source": [
        "Number1 = 10\n",
        "Number2 = 6\n",
        "sum = Number1 + Number2 # Addition of numbers\n",
        "print(sum)"
      ]
    },
    {
      "cell_type": "code",
      "execution_count": 50,
      "metadata": {
        "colab": {
          "base_uri": "https://localhost:8080/",
          "height": 0
        },
        "id": "8IvX-RCvdFpv",
        "outputId": "89cf4f68-9ea5-4348-b884-579f1fbacd07"
      },
      "outputs": [
        {
          "name": "stdout",
          "output_type": "stream",
          "text": [
            "4\n"
          ]
        }
      ],
      "source": [
        "Number1 = 10\n",
        "Number2 = 6\n",
        "sub = Number1 - Number2 # subtraction of numbers\n",
        "print(sub)"
      ]
    },
    {
      "cell_type": "code",
      "execution_count": null,
      "metadata": {
        "id": "ljqyaVpddFpv",
        "outputId": "6be96dfe-cc7f-4b31-98d4-bd21ef92a68d"
      },
      "outputs": [
        {
          "name": "stdout",
          "output_type": "stream",
          "text": [
            "60\n"
          ]
        }
      ],
      "source": [
        "Number1 = 10\n",
        "Number2 = 6\n",
        "Mul = Number1 * Number2 # Multiplication of numbers\n",
        "print(Mul)"
      ]
    },
    {
      "cell_type": "code",
      "execution_count": null,
      "metadata": {
        "id": "Lmr_iDf3dFpv",
        "outputId": "66fd4ff2-287d-46c0-c57d-02fed9272f7d"
      },
      "outputs": [
        {
          "name": "stdout",
          "output_type": "stream",
          "text": [
            "1.6666666666666667\n"
          ]
        }
      ],
      "source": [
        "Number1 = 10\n",
        "Number2 = 6\n",
        "Div = Number1 / Number2 # Division of numbers\n",
        "print(Div)"
      ]
    },
    {
      "cell_type": "code",
      "execution_count": null,
      "metadata": {
        "id": "IeRrBhrpdFpv",
        "outputId": "e3e37097-3e5a-4538-b00f-2534ed5cb6c7"
      },
      "outputs": [
        {
          "name": "stdout",
          "output_type": "stream",
          "text": [
            "1\n"
          ]
        }
      ],
      "source": [
        "Number1 = 10\n",
        "Number2 = 6\n",
        "Floor_div = Number1 // Number2 # Floor division of numbers\n",
        "print(Floor_div)"
      ]
    },
    {
      "cell_type": "code",
      "execution_count": null,
      "metadata": {
        "id": "GJy6M7jydFpv",
        "outputId": "a7d314e7-1e53-46e8-e0ec-fe2fd96010cc"
      },
      "outputs": [
        {
          "name": "stdout",
          "output_type": "stream",
          "text": [
            "4\n"
          ]
        }
      ],
      "source": [
        "Number1 = 10\n",
        "Number2 = 6\n",
        "Mod = Number1 % Number2 # Modulo of numbers\n",
        "print(Mod)"
      ]
    },
    {
      "cell_type": "code",
      "execution_count": null,
      "metadata": {
        "id": "P00VmdoQdFpw",
        "outputId": "40b64290-46df-410e-a1e7-357dfdbe6a43"
      },
      "outputs": [
        {
          "name": "stdout",
          "output_type": "stream",
          "text": [
            "1000000\n"
          ]
        }
      ],
      "source": [
        "Number1 = 10\n",
        "Number2 = 6\n",
        "Exp = Number1 ** Number2 # Exponentiation of numbers\n",
        "print(Exp)"
      ]
    },
    {
      "cell_type": "code",
      "execution_count": 210,
      "metadata": {},
      "outputs": [
        {
          "name": "stdout",
          "output_type": "stream",
          "text": [
            "The sum of variables is: 190\n",
            "The subraction of variables is: 10\n",
            "The multiplication of variables is: 9000\n",
            "The division of variables is: 1.1111111111111112\n"
          ]
        }
      ],
      "source": [
        "## Example 1\n",
        "variable1=100\n",
        "variable2=90\n",
        "sum=variable1+variable2\n",
        "sub=variable1-variable2\n",
        "mul=variable1*variable2\n",
        "div=variable1/variable2\n",
        "print(\"The sum of variables is:\",sum)\n",
        "print(\"The subraction of variables is:\",sub)\n",
        "print(\"The multiplication of variables is:\",mul)\n",
        "print(\"The division of variables is:\",div)\n"
      ]
    },
    {
      "cell_type": "code",
      "execution_count": 211,
      "metadata": {},
      "outputs": [
        {
          "name": "stdout",
          "output_type": "stream",
          "text": [
            "The sum of variables is: 133.78\n",
            "The subraction of variables is: 20.020000000000003\n",
            "The multiplication of variables is: 4374.072\n",
            "The division of variables is: 1.3519690576652603\n",
            "The floor division of variables is: 1.0\n",
            "The modulus of variables is: 20.020000000000003\n",
            "The exponent of variables is: 1.868487547747309e+107\n"
          ]
        }
      ],
      "source": [
        "## Example 2\n",
        "num1=76.90\n",
        "num2=56.88\n",
        "sum=num1+num2\n",
        "sub=num1-num2\n",
        "mul=num1*num2\n",
        "div=num1/num2\n",
        "Floor_div =num1//num2\n",
        "Mod=num1 % num2\n",
        "Exp=num1 **num2 \n",
        "print(\"The sum of variables is:\",sum)\n",
        "print(\"The subraction of variables is:\",sub)\n",
        "print(\"The multiplication of variables is:\",mul)\n",
        "print(\"The division of variables is:\",div)\n",
        "print(\"The floor division of variables is:\",Floor_div)\n",
        "print(\"The modulus of variables is:\",Mod)\n",
        "print(\"The exponent of variables is:\",Exp)\n"
      ]
    },
    {
      "cell_type": "markdown",
      "metadata": {
        "id": "Rw_2j4ncdFpw"
      },
      "source": [
        "## 3.2. Comparison operators\n",
        "* Comparison operators are used to compare the two values either string or a number and return the result True or False depend upon the condition.\n",
        "\n",
        "**_Example 1_**\n",
        "* These examples include Comparision of **numbers**\n",
        "* The comparision operators use to check some common conditions on string or numbers including **<,>,<=,>=,==,!=**"
      ]
    },
    {
      "cell_type": "code",
      "execution_count": null,
      "metadata": {
        "id": "_AGqjOHldFpw",
        "outputId": "77d018ed-7fe1-4349-cfc3-b45b70cdcfb9"
      },
      "outputs": [
        {
          "name": "stdout",
          "output_type": "stream",
          "text": [
            "False\n"
          ]
        }
      ],
      "source": [
        "value1 = 10\n",
        "value2 = 6\n",
        "result = value1 < value2\n",
        "print(result)"
      ]
    },
    {
      "cell_type": "code",
      "execution_count": null,
      "metadata": {
        "id": "uSYqysRDdFpw",
        "outputId": "49defef4-f26f-43f9-a757-94868efcb688"
      },
      "outputs": [
        {
          "name": "stdout",
          "output_type": "stream",
          "text": [
            "True\n"
          ]
        }
      ],
      "source": [
        "value1 = 10\n",
        "value2 = 6\n",
        "result = value1 > value2\n",
        "print(result)"
      ]
    },
    {
      "cell_type": "code",
      "execution_count": null,
      "metadata": {
        "id": "GxNdiuRIdFpw",
        "outputId": "17f22fc1-76ee-4c8b-add2-703f7193e3e0"
      },
      "outputs": [
        {
          "name": "stdout",
          "output_type": "stream",
          "text": [
            "False\n"
          ]
        }
      ],
      "source": [
        "value1 = 10\n",
        "value2 = 6\n",
        "result = value1 == value2\n",
        "print(result)"
      ]
    },
    {
      "cell_type": "code",
      "execution_count": null,
      "metadata": {
        "id": "1JBCsUX4dFpw",
        "outputId": "026cc6eb-8714-4467-cefd-4798a53716fc"
      },
      "outputs": [
        {
          "name": "stdout",
          "output_type": "stream",
          "text": [
            "True\n"
          ]
        }
      ],
      "source": [
        "value1 = 10\n",
        "value2 = 6\n",
        "result = value1 != value2\n",
        "print(result)"
      ]
    },
    {
      "cell_type": "code",
      "execution_count": null,
      "metadata": {
        "id": "Y4il0pBJdFpx",
        "outputId": "2db67bb5-7383-4263-d838-bfd4f46239fa"
      },
      "outputs": [
        {
          "name": "stdout",
          "output_type": "stream",
          "text": [
            "False\n"
          ]
        }
      ],
      "source": [
        "value1 = 10\n",
        "value2 = 6\n",
        "result = value1 <= value2\n",
        "print(result)"
      ]
    },
    {
      "cell_type": "code",
      "execution_count": null,
      "metadata": {
        "id": "5ADNOJDrdFpx",
        "outputId": "fd8450cf-4965-4acd-8862-0dc3507ea634"
      },
      "outputs": [
        {
          "name": "stdout",
          "output_type": "stream",
          "text": [
            "True\n"
          ]
        }
      ],
      "source": [
        "value1 = 10\n",
        "value2 = 6\n",
        "result = value1 >= value2\n",
        "print(result)"
      ]
    },
    {
      "cell_type": "markdown",
      "metadata": {
        "id": "yHIa9hEldFpx"
      },
      "source": [
        "**_Example 2_**\n",
        "* These examples include Comparision of **Strings**\n",
        "* The comparision operators use to check some common conditions on string or numbers including **<,>,<=,>=,==,!=**"
      ]
    },
    {
      "cell_type": "code",
      "execution_count": null,
      "metadata": {
        "id": "7TqMnXz-dFpx",
        "outputId": "9dc35a3e-566c-4df4-e8eb-48729df55bd1"
      },
      "outputs": [
        {
          "name": "stdout",
          "output_type": "stream",
          "text": [
            "False\n"
          ]
        }
      ],
      "source": [
        "String1 = \"Tahir\"\n",
        "String2 = \"Bilal\"\n",
        "result = String1 == String2\n",
        "print(result)"
      ]
    },
    {
      "cell_type": "code",
      "execution_count": null,
      "metadata": {
        "id": "yj1IAATBdFpx",
        "outputId": "6af24553-7509-47d5-a6c6-dd178ed3577e"
      },
      "outputs": [
        {
          "name": "stdout",
          "output_type": "stream",
          "text": [
            "True\n"
          ]
        }
      ],
      "source": [
        "String1 = \"Tahir\"\n",
        "String2 = \"Bilal\"\n",
        "result = String1 != String2\n",
        "print(result)"
      ]
    },
    {
      "cell_type": "markdown",
      "metadata": {
        "id": "R5B2tBbtdFpx"
      },
      "source": [
        "## 3.3. Logical operators\n",
        "* Logical operators are used to combine the multiple conditions.\n",
        "* **AND, OR, NOT** operators are logical\n",
        "\n",
        "**_Examples_**\n",
        "* The logical operators use to check multiple conditions by using **AND, OR, NOT**"
      ]
    },
    {
      "cell_type": "code",
      "execution_count": null,
      "metadata": {
        "id": "mFZdU8gzdFpy",
        "outputId": "e07c4e7d-a8e9-48cd-e82f-a070e00808b5"
      },
      "outputs": [
        {
          "name": "stdout",
          "output_type": "stream",
          "text": [
            "False\n"
          ]
        }
      ],
      "source": [
        "value1 = 10\n",
        "value2 = 6\n",
        "result = value1 <= value2 and Value1 ==10\n",
        "print(result)"
      ]
    },
    {
      "cell_type": "code",
      "execution_count": null,
      "metadata": {
        "id": "3lwLo4AQdFpy",
        "outputId": "89ad8dd4-f875-4430-9b4b-a6b8bed1e256"
      },
      "outputs": [
        {
          "name": "stdout",
          "output_type": "stream",
          "text": [
            "True\n"
          ]
        }
      ],
      "source": [
        "value1 = 10\n",
        "value2 = 6\n",
        "result = value1 <= 11 or Value2 >=11\n",
        "print(result)"
      ]
    },
    {
      "cell_type": "code",
      "execution_count": null,
      "metadata": {
        "id": "-zbFsLpidFpy",
        "outputId": "109b2f84-1a5f-48ab-c76c-51cc0e73c4fb"
      },
      "outputs": [
        {
          "name": "stdout",
          "output_type": "stream",
          "text": [
            "True\n"
          ]
        }
      ],
      "source": [
        "value1 = 10\n",
        "value2 = 6\n",
        "result = (not(value1 <= value2 and Value1>=10))\n",
        "print(result)"
      ]
    },
    {
      "cell_type": "markdown",
      "metadata": {
        "id": "P_XxJE9QdFpy"
      },
      "source": [
        "## 3.4. Assignment operators\n",
        "* Assignment operators are used simply assign the values to a variables.\n",
        "\n",
        "**_Examples_**\n",
        "* These are the folllowing examples of assignment operatores."
      ]
    },
    {
      "cell_type": "code",
      "execution_count": null,
      "metadata": {
        "id": "60YPj6vXdFpy",
        "outputId": "c78f11f5-a111-432c-ab98-96203ae7bddd"
      },
      "outputs": [
        {
          "name": "stdout",
          "output_type": "stream",
          "text": [
            "5\n"
          ]
        }
      ],
      "source": [
        "value = 5\n",
        "\n",
        "print(value)"
      ]
    },
    {
      "cell_type": "code",
      "execution_count": null,
      "metadata": {
        "id": "3zsMU8itdFpy",
        "outputId": "ba4d33ac-6c5a-4033-a454-231a7a773051"
      },
      "outputs": [
        {
          "name": "stdout",
          "output_type": "stream",
          "text": [
            "16\n"
          ]
        }
      ],
      "source": [
        "value = 10\n",
        "value += 6\n",
        "print(value)"
      ]
    },
    {
      "cell_type": "code",
      "execution_count": null,
      "metadata": {
        "id": "T-dZvKD2dFpy",
        "outputId": "94e15a1c-e259-426b-b268-b95a07fba27f"
      },
      "outputs": [
        {
          "name": "stdout",
          "output_type": "stream",
          "text": [
            "4\n"
          ]
        }
      ],
      "source": [
        "value = 10\n",
        "value -= 6\n",
        "print(value)"
      ]
    },
    {
      "cell_type": "code",
      "execution_count": null,
      "metadata": {
        "id": "nO3usei0dFpz",
        "outputId": "2509b035-f08d-4e07-9cb3-6b5a9ecc8e60"
      },
      "outputs": [
        {
          "name": "stdout",
          "output_type": "stream",
          "text": [
            "60\n"
          ]
        }
      ],
      "source": [
        "value = 10\n",
        "value *= 6\n",
        "print(value)"
      ]
    },
    {
      "cell_type": "code",
      "execution_count": null,
      "metadata": {
        "id": "CVxwT9eedFpz",
        "outputId": "826f23cc-069d-4025-a32e-77839b0a1d61"
      },
      "outputs": [
        {
          "name": "stdout",
          "output_type": "stream",
          "text": [
            "1.6666666666666667\n"
          ]
        }
      ],
      "source": [
        "value = 10\n",
        "value /= 6\n",
        "print(value)"
      ]
    },
    {
      "cell_type": "code",
      "execution_count": null,
      "metadata": {
        "id": "kQLgHJ5tdFpz",
        "outputId": "b40e62f7-8bc3-4d8f-9f9f-b93766236587"
      },
      "outputs": [
        {
          "name": "stdout",
          "output_type": "stream",
          "text": [
            "4\n"
          ]
        }
      ],
      "source": [
        "value = 10\n",
        "value %= 6\n",
        "print(value)"
      ]
    },
    {
      "cell_type": "code",
      "execution_count": null,
      "metadata": {
        "id": "9xlXUXn4dFpz",
        "outputId": "bb1a30b8-4c4f-4639-8463-5ca0bfcb4b9c"
      },
      "outputs": [
        {
          "name": "stdout",
          "output_type": "stream",
          "text": [
            "1\n"
          ]
        }
      ],
      "source": [
        "value = 10\n",
        "value //= 6\n",
        "print(value)"
      ]
    },
    {
      "cell_type": "code",
      "execution_count": null,
      "metadata": {
        "id": "zd1hQyIOdFpz",
        "outputId": "8a3b9682-9741-4234-b571-277b8a05e550"
      },
      "outputs": [
        {
          "name": "stdout",
          "output_type": "stream",
          "text": [
            "1000000\n"
          ]
        }
      ],
      "source": [
        "value = 10\n",
        "value **= 6\n",
        "print(value)"
      ]
    },
    {
      "cell_type": "code",
      "execution_count": null,
      "metadata": {
        "id": "CfwvDzkkdFp0",
        "outputId": "299ee5a8-faca-4563-8739-6ce3e6fc8f61"
      },
      "outputs": [
        {
          "name": "stdout",
          "output_type": "stream",
          "text": [
            "2\n"
          ]
        }
      ],
      "source": [
        "value = 10\n",
        "value &= 6\n",
        "print(value)"
      ]
    },
    {
      "cell_type": "code",
      "execution_count": null,
      "metadata": {
        "id": "vRHajns1dFp0",
        "outputId": "2c7bd980-e048-44fe-aa39-d3df14043353"
      },
      "outputs": [
        {
          "name": "stdout",
          "output_type": "stream",
          "text": [
            "14\n"
          ]
        }
      ],
      "source": [
        "value = 10\n",
        "value |= 6\n",
        "print(value)"
      ]
    },
    {
      "cell_type": "code",
      "execution_count": null,
      "metadata": {
        "id": "y_DwfjCvdFp2",
        "outputId": "c771b889-3ddd-4b32-8a53-91f2fe1232c3"
      },
      "outputs": [
        {
          "name": "stdout",
          "output_type": "stream",
          "text": [
            "0\n"
          ]
        }
      ],
      "source": [
        "value = 10\n",
        "value >>= 6\n",
        "print(value)"
      ]
    },
    {
      "cell_type": "code",
      "execution_count": null,
      "metadata": {
        "id": "ZOA9Kr04dFp2",
        "outputId": "d9859414-fe4f-44b7-b5c8-5926d7841158"
      },
      "outputs": [
        {
          "name": "stdout",
          "output_type": "stream",
          "text": [
            "640\n"
          ]
        }
      ],
      "source": [
        "value = 10\n",
        "value <<= 6\n",
        "print(value)"
      ]
    },
    {
      "cell_type": "code",
      "execution_count": 220,
      "metadata": {},
      "outputs": [
        {
          "name": "stdout",
          "output_type": "stream",
          "text": [
            "The value of a is: 90\n",
            "The value of a is: 100\n",
            "The value of a is: 90\n",
            "The value of a is: 900\n",
            "The value of a is: 90.0\n",
            "The value of a is: 0.0\n",
            "The value of a is: 50\n",
            "The value of a is: 50\n"
          ]
        }
      ],
      "source": [
        "## Example 1\n",
        "a=90\n",
        "print(\"The value of a is:\",a)\n",
        "a+=10\n",
        "print(\"The value of a is:\",a)\n",
        "a-=10\n",
        "print(\"The value of a is:\",a)\n",
        "a*=10\n",
        "print(\"The value of a is:\",a)\n",
        "a/=10\n",
        "print(\"The value of a is:\",a)\n",
        "a%=10\n",
        "print(\"The value of a is:\",a)\n",
        "## Redefinition of a variable\n",
        "a=500\n",
        "a//=10\n",
        "print(\"The value of a is:\",a)\n",
        "a**10\n",
        "print(\"The value of a is:\",a)"
      ]
    },
    {
      "cell_type": "code",
      "execution_count": 229,
      "metadata": {},
      "outputs": [
        {
          "name": "stdout",
          "output_type": "stream",
          "text": [
            "The bitwise AND results in: 0\n",
            "The bitwise OR results in: 8\n",
            "The right shift results in: 0\n",
            "The left shift results in: 0\n"
          ]
        }
      ],
      "source": [
        "## Example 2\n",
        "x=50\n",
        "x&=8\n",
        "print(\"The bitwise AND results in:\",x)\n",
        "x|=8\n",
        "print(\"The bitwise OR results in:\",x)\n",
        "x>>=8\n",
        "print(\"The right shift results in:\",x)\n",
        "x<<=2\n",
        "print(\"The left shift results in:\",x)"
      ]
    },
    {
      "cell_type": "markdown",
      "metadata": {
        "id": "o-BkahqrdFp3"
      },
      "source": [
        "# 4. Conditional Statements\n",
        "* If-else control statements are used based on the conditions to execute the blocks of a program.\n",
        "* These are the following conditional statements\n",
        "  * if statement\n",
        "  * if-else statement\n",
        "  * if-else-statement\n",
        "  \n",
        "## 4.1. if Statement\n",
        "* It check the conditions and run blocks of code\n",
        "\n",
        "**_Examples_**\n",
        "* The example of **if** statement is as follows"
      ]
    },
    {
      "cell_type": "code",
      "execution_count": null,
      "metadata": {
        "id": "twHmOlohdFp3",
        "outputId": "2310bc4e-8faf-4b34-b654-857527fdcc1f"
      },
      "outputs": [
        {
          "name": "stdout",
          "output_type": "stream",
          "text": [
            "value2 is greater than value1\n"
          ]
        }
      ],
      "source": [
        "Value1 = 33\n",
        "value2 = 100\n",
        "if value2 > value1:\n",
        "    print(\"value2 is greater than value1\")"
      ]
    },
    {
      "cell_type": "markdown",
      "metadata": {
        "id": "mMeY058SdFp3"
      },
      "source": [
        "## 4.2. if-else Statement\n",
        "* It also check the conditions and run blocks of code\n",
        "* if condition is true it runs the blcok otherwise move to else block\n",
        "\n",
        "**_Example_**\n",
        "* The example of **if-else** statement is as follows"
      ]
    },
    {
      "cell_type": "code",
      "execution_count": null,
      "metadata": {
        "id": "-SfYDCksdFp3",
        "outputId": "308ad11c-b6dd-4b06-b76e-66a6fdfb0ba5"
      },
      "outputs": [
        {
          "name": "stdout",
          "output_type": "stream",
          "text": [
            "False\n"
          ]
        }
      ],
      "source": [
        "value1 = 200\n",
        "value2 = 33\n",
        "if value2 > value1:\n",
        "    print(\"True\")\n",
        "else:\n",
        "    print(\"False\")"
      ]
    },
    {
      "cell_type": "markdown",
      "metadata": {
        "id": "mefrcvxVdFp3"
      },
      "source": [
        "## 4.3. if-else-if Statement (Elif)\n",
        "* It also check the multiple conditions and run blocks of code\n",
        "* **Elif** when if conditions were not true, then try this condition\n",
        "* if condition is true it runs the blcok otherwise move to else block then move to if block\n",
        "\n",
        "**_Example_**\n",
        "* The example of **Elif** statement is as follows"
      ]
    },
    {
      "cell_type": "code",
      "execution_count": null,
      "metadata": {
        "id": "O1ruas2cdFp3",
        "outputId": "a4facfc0-8556-41c0-8d2b-4cbed926688c"
      },
      "outputs": [
        {
          "name": "stdout",
          "output_type": "stream",
          "text": [
            "False\n"
          ]
        }
      ],
      "source": [
        "value1 = 200\n",
        "value2 = 33\n",
        "if value2 > value1:\n",
        "    print(\"True\")\n",
        "elif value1 == value2:\n",
        "    print(\"True\")\n",
        "else:\n",
        "    print(\"False\")"
      ]
    },
    {
      "cell_type": "code",
      "execution_count": 231,
      "metadata": {},
      "outputs": [
        {
          "name": "stdout",
          "output_type": "stream",
          "text": [
            "It is a positive number!\n"
          ]
        }
      ],
      "source": [
        "## Example 1\n",
        "var=7\n",
        "if var>0:\n",
        "    print(\"It is a positive number!\")\n",
        "elif var<0:\n",
        "    print(\"It is a negative number!\")\n",
        "else:\n",
        "    print(\"The number is zero!\")"
      ]
    },
    {
      "cell_type": "code",
      "execution_count": 230,
      "metadata": {},
      "outputs": [
        {
          "name": "stdout",
          "output_type": "stream",
          "text": [
            "This is even number\n"
          ]
        }
      ],
      "source": [
        "## Example 2\n",
        "num=6\n",
        "if num%2==0:\n",
        "    print(\"This is even number\")\n",
        "else:\n",
        "    print(\"This is odd number\")"
      ]
    },
    {
      "cell_type": "markdown",
      "metadata": {
        "id": "A2uoJM47dFp3"
      },
      "source": [
        "# 5. Loops\n",
        "* A loop allows us to run a statement or condition multiple times.\n",
        "* These are the following loops given below\n",
        "  * **For** Loop\n",
        "  * **While** Loop\n",
        "  * **Nested** Loop\n",
        "  \n",
        "## 5.1 For Loop\n",
        "* For loop is itterative\n",
        "\n",
        "**_Examples_**\n",
        "* The example of **For** loop is as follows\n",
        "* Print all values in stored in varialbe name"
      ]
    },
    {
      "cell_type": "code",
      "execution_count": null,
      "metadata": {
        "id": "DcUbnOcZdFp4",
        "outputId": "cf107cc3-6235-451c-d268-f31c6c05c999"
      },
      "outputs": [
        {
          "name": "stdout",
          "output_type": "stream",
          "text": [
            "waqar\n",
            "waqas\n",
            "Bilal\n"
          ]
        }
      ],
      "source": [
        "Name = [\"Tahir\", \"waqas\", \"Bilal\"]\n",
        "for x in Name:\n",
        "    print(x)"
      ]
    },
    {
      "cell_type": "markdown",
      "metadata": {
        "id": "dbf4WD0jdFp4"
      },
      "source": [
        "## 5.2 Break statement\n",
        "* It is used to stop the loop\n",
        "\n",
        "**_Examples_**\n",
        "* The example of **Break** statement is as follows"
      ]
    },
    {
      "cell_type": "code",
      "execution_count": null,
      "metadata": {
        "id": "O2qrnfpqdFp4",
        "outputId": "28dac7e4-b797-4406-b1a1-a88805bdedad"
      },
      "outputs": [
        {
          "name": "stdout",
          "output_type": "stream",
          "text": [
            "waqar\n",
            "waqas\n"
          ]
        }
      ],
      "source": [
        "Name = [\"Tahir\", \"waqas\", \"Bilal\"]\n",
        "for x in Name:\n",
        "    print(x)\n",
        "    if x == \"waqas\":\n",
        "        break"
      ]
    },
    {
      "cell_type": "markdown",
      "metadata": {
        "id": "9HwVcBCrdFp4"
      },
      "source": [
        "## 5.3 Continue statement\n",
        "* It is used to stop the current itteration of a loop\n",
        "\n",
        "**_Examples_**\n",
        "* The example of **Break** statement is as follows"
      ]
    },
    {
      "cell_type": "code",
      "execution_count": null,
      "metadata": {
        "id": "sG3thBT0dFp4"
      },
      "outputs": [],
      "source": [
        "Name = [\"Tahir\", \"waqas\", \"Bilal\"]\n",
        "for x in Name:\n",
        "    if x == \"Tahir\":\n",
        "        continue\n",
        "        print(x)"
      ]
    },
    {
      "cell_type": "code",
      "execution_count": null,
      "metadata": {
        "id": "425v14n5dFp4"
      },
      "outputs": [],
      "source": [
        "for x in 'Python':\n",
        "      if (x == 'y'):\n",
        "        continue\n",
        "        print(x)"
      ]
    },
    {
      "cell_type": "markdown",
      "metadata": {
        "id": "njSDT_OrdFp4"
      },
      "source": [
        "## 5.4 While Loop\n",
        "* It exceute the code until the condition is statisfied\n",
        "\n",
        "**_Example_**\n",
        "* The example of **While** Loop is as follows"
      ]
    },
    {
      "cell_type": "code",
      "execution_count": null,
      "metadata": {
        "id": "alir5cI7dFp5",
        "outputId": "d9a4e251-9dfe-473e-a673-d09383c1f8f9"
      },
      "outputs": [
        {
          "name": "stdout",
          "output_type": "stream",
          "text": [
            "Machine Learning\n",
            "Machine Learning\n",
            "Machine Learning\n"
          ]
        }
      ],
      "source": [
        "value_count = 0\n",
        "while (value_count < 3):\n",
        "    value_count = value_count + 1\n",
        "    print(\"Machine Learning\")"
      ]
    },
    {
      "cell_type": "markdown",
      "metadata": {
        "id": "YbgjXxS0dFp5"
      },
      "source": [
        "**_Example_**\n",
        "* The example of **While loop and else** is as follows"
      ]
    },
    {
      "cell_type": "code",
      "execution_count": null,
      "metadata": {
        "id": "8guxqxAmdFp5",
        "outputId": "0346d814-3b8c-441b-9218-baa32d120b1d"
      },
      "outputs": [
        {
          "name": "stdout",
          "output_type": "stream",
          "text": [
            "Machine Learning\n",
            "Machine Learning\n",
            "Machine Learning\n",
            "In Else Block\n"
          ]
        }
      ],
      "source": [
        "value_count = 0\n",
        "while (value_count < 3):\n",
        "    value_count = value_count + 1\n",
        "    print(\"Machine Learning\")\n",
        "else:\n",
        "    print(\"In Else Block\")"
      ]
    },
    {
      "cell_type": "markdown",
      "metadata": {
        "id": "0M6I9y2FdFp5"
      },
      "source": [
        "## 5.5 Nested Loop\n",
        "*  Loops indise loops\n",
        "\n",
        "**_Example_**\n",
        "* The example of **Nested** Loops is as follows"
      ]
    },
    {
      "cell_type": "code",
      "execution_count": null,
      "metadata": {
        "id": "5TMmYhkEdFp5",
        "outputId": "ed1a9baa-a86b-4ec0-f83a-a72b220f7b58"
      },
      "outputs": [
        {
          "name": "stdout",
          "output_type": "stream",
          "text": [
            "Waqar 1998\n",
            "Waqar 2000\n",
            "Waqar 2002\n",
            "Waqas 1998\n",
            "Waqas 2000\n",
            "Waqas 2002\n",
            "Bilal 1998\n",
            "Bilal 2000\n",
            "Bilal 2002\n"
          ]
        }
      ],
      "source": [
        "Name = [\"Tahir\", \"Waqas\", \"Bilal\"]\n",
        "DOB = [\"1998\", \"2000\", \"2002\"]\n",
        "for x in Name:\n",
        "      for y in DOB:\n",
        "        print(x, y)"
      ]
    },
    {
      "cell_type": "code",
      "execution_count": null,
      "metadata": {},
      "outputs": [
        {
          "name": "stdout",
          "output_type": "stream",
          "text": [
            "5\n",
            "7\n",
            "8\n",
            "2\n",
            "3\n",
            "10\n"
          ]
        }
      ],
      "source": [
        "## Example 1\n",
        "integers=[5,7,8,2,3,10,65,22]\n",
        "for x in integers:\n",
        "    print(x)\n",
        "    if x==10:\n",
        "        break"
      ]
    },
    {
      "cell_type": "code",
      "execution_count": null,
      "metadata": {},
      "outputs": [
        {
          "name": "stdout",
          "output_type": "stream",
          "text": [
            "* * * * * \n",
            "* * * * * \n",
            "* * * * * \n",
            "* * * * * \n",
            "* * * * * \n"
          ]
        }
      ],
      "source": [
        "## Example 2\n",
        "## Nested loop\n",
        "for i in range(1,6):\n",
        "    for j in range(1,6):\n",
        "        print(\"*\",end=\" \")\n",
        "    print()\n"
      ]
    },
    {
      "cell_type": "markdown",
      "metadata": {
        "id": "HctIn3BndFp5"
      },
      "source": [
        "# 6. Functions\n",
        "* Reuseable block of code.\n",
        "* Some functions are built-in like len(),print() etc...\n",
        "* Functions created by yourself is called user defined function\n",
        "* Pass parameters to a function\n",
        "  \n",
        "## 6.1 Create a Function\n",
        "* In Python Function is created using **def** keyword\n",
        "\n",
        "**_Example_**\n",
        "* Creation of a function"
      ]
    },
    {
      "cell_type": "code",
      "execution_count": null,
      "metadata": {
        "id": "NNIbm06ldFp6"
      },
      "outputs": [],
      "source": [
        "def my_function():\n",
        "    print(\"Machine Learning\")"
      ]
    },
    {
      "cell_type": "markdown",
      "metadata": {
        "id": "GmuFMr2xdFp6"
      },
      "source": [
        "## 6.2 Calling a Function\n",
        "* When function is call then it perform its functionality\n",
        "\n",
        "**_Example_**\n",
        "* Creation of a function and calling a function"
      ]
    },
    {
      "cell_type": "code",
      "execution_count": null,
      "metadata": {
        "id": "DZccTLMDdFp6",
        "outputId": "ce84d75f-091d-471c-d56b-6db0b67d69bb"
      },
      "outputs": [
        {
          "name": "stdout",
          "output_type": "stream",
          "text": [
            "Machine Learning\n"
          ]
        }
      ],
      "source": [
        "def my_function():\n",
        "    print(\"Machine Learning\")\n",
        "\n",
        "my_function()"
      ]
    },
    {
      "cell_type": "markdown",
      "metadata": {
        "id": "pehPDivadFp6"
      },
      "source": [
        "## 6.3 Parameters in a Function\n",
        "* Any information pass to a function to perform its functionality\n",
        "* parameter is pass inside the parentheses\n",
        "\n",
        "**_Example_**\n",
        "* Creation of a function and calling a function and pass parameter to a function"
      ]
    },
    {
      "cell_type": "code",
      "execution_count": 244,
      "metadata": {
        "id": "jZ9564WTdFp6",
        "outputId": "0600e039-3e98-42ab-f389-adbda8782fda"
      },
      "outputs": [
        {
          "name": "stdout",
          "output_type": "stream",
          "text": [
            "Tahir Sohail\n",
            "Waqas Sohail\n",
            "Bilal Sohail\n"
          ]
        }
      ],
      "source": [
        "def my_function(first_name):\n",
        "  print(first_name + \" Sohail\")\n",
        "\n",
        "my_function(\"Tahir\")\n",
        "my_function(\"Waqas\")\n",
        "my_function(\"Bilal\")"
      ]
    },
    {
      "cell_type": "markdown",
      "metadata": {
        "id": "JoGVDhoFdFp6"
      },
      "source": [
        "## 6.4 Defeault parameter in a Function\n",
        "* when we call the function without parameter the pass the default parameter\n",
        "\n",
        "**_Example_**\n",
        "* Creation of a function and calling a function and pass parameter as default parameter"
      ]
    },
    {
      "cell_type": "code",
      "execution_count": 245,
      "metadata": {
        "id": "19CBTCeldFp7",
        "outputId": "97d74757-1de4-4a79-b6d9-f634b96c0af6"
      },
      "outputs": [
        {
          "name": "stdout",
          "output_type": "stream",
          "text": [
            "Tahir Sohail\n",
            "waqas Sohail\n",
            "Bilal Sohail\n"
          ]
        }
      ],
      "source": [
        "def my_function(first_name=\"waqas\"):\n",
        "  print(first_name + \" Sohail\")\n",
        "\n",
        "my_function(\"Tahir\")\n",
        "my_function()\n",
        "my_function(\"Bilal\")"
      ]
    },
    {
      "cell_type": "markdown",
      "metadata": {
        "id": "8eoVAergdFp7"
      },
      "source": [
        "  ## 6.5 Return in a Function\n",
        "* Return keyword is used to return the value\n",
        "\n",
        "**_Example_**\n",
        "* Creation of a function and calling a function and pass parameter to a function and return the value"
      ]
    },
    {
      "cell_type": "code",
      "execution_count": null,
      "metadata": {
        "id": "Y1o-i2AmdFp7",
        "outputId": "1a3ff046-7378-4680-b142-152b4484c300"
      },
      "outputs": [
        {
          "name": "stdout",
          "output_type": "stream",
          "text": [
            "10\n",
            "20\n",
            "40\n"
          ]
        }
      ],
      "source": [
        "def my_function(value):\n",
        "    return 5 * value\n",
        "\n",
        "print(my_function(2))\n",
        "print(my_function(4))\n",
        "print(my_function(8))"
      ]
    },
    {
      "cell_type": "code",
      "execution_count": 253,
      "metadata": {},
      "outputs": [
        {
          "name": "stdout",
          "output_type": "stream",
          "text": [
            "The addition of these numbers are: 166\n",
            "The subraction of these numbers are: 34\n",
            "The multiplication of these numbers are: 6600\n"
          ]
        }
      ],
      "source": [
        "## Example 1\n",
        "def add_function(num1,num2):\n",
        "    return num1+num2\n",
        "def sub_function(num1,num2):\n",
        "    return num1-num2\n",
        "def mul_function(num1,num2):\n",
        "    return num1*num2\n",
        "\n",
        "print(\"The addition of these numbers are:\",add_function(100,66))\n",
        "print(\"The subraction of these numbers are:\",sub_function(100,66))\n",
        "print(\"The multiplication of these numbers are:\",mul_function(100,66))"
      ]
    },
    {
      "cell_type": "code",
      "execution_count": 252,
      "metadata": {},
      "outputs": [
        {
          "name": "stdout",
          "output_type": "stream",
          "text": [
            "F20232661130\n",
            "F20232661131\n",
            "F20232661132\n",
            "F20232661133\n"
          ]
        }
      ],
      "source": [
        "## Example 2\n",
        "def student_ID(ID_code):\n",
        "    print(\"F2023266\"+ID_code)\n",
        "\n",
        "student_ID(\"1130\")\n",
        "student_ID(\"1131\")\n",
        "student_ID(\"1132\")\n",
        "student_ID(\"1133\")"
      ]
    },
    {
      "cell_type": "markdown",
      "metadata": {
        "id": "6bd23X3GdFp7"
      },
      "source": [
        "# 7. Lambda Function\n",
        "* Small anonymous function created at runtime.\n",
        "* Function created using the keyword callled **Lambda**\n",
        "* Take multiple arguments but sinle having only one expression\n",
        "* It doesn't include return statement\n",
        "* It returns always a expression\n",
        "\n",
        "## 7.1 Lambda Function syntax\n",
        "* lambda arguments : expression\n",
        "\n",
        "**_Example 1_**\n",
        "* This example shows the basic syntax of a Lambda Function\n"
      ]
    },
    {
      "cell_type": "code",
      "execution_count": null,
      "metadata": {
        "id": "YAAdmnYydFp7",
        "outputId": "5414c2e5-b42f-4a78-8616-b2f657b6a6c5"
      },
      "outputs": [
        {
          "name": "stdout",
          "output_type": "stream",
          "text": [
            "15\n"
          ]
        }
      ],
      "source": [
        "add = lambda value : value + 10\n",
        "print(add(5))"
      ]
    },
    {
      "cell_type": "markdown",
      "metadata": {
        "id": "I2XgDBtGdFp7"
      },
      "source": [
        "**_Example 2_**\n",
        "* This example shows the multiple arguments and single expression"
      ]
    },
    {
      "cell_type": "code",
      "execution_count": null,
      "metadata": {
        "id": "pcxqfyZBdFp7",
        "outputId": "e5616568-5f25-4ef9-8941-60d9fbfeaae7"
      },
      "outputs": [
        {
          "name": "stdout",
          "output_type": "stream",
          "text": [
            "30\n"
          ]
        }
      ],
      "source": [
        "mul = lambda value1, value2 : value1 * value2\n",
        "print(mul(5, 6))"
      ]
    },
    {
      "cell_type": "markdown",
      "metadata": {
        "id": "9C6ze-1-dFp8"
      },
      "source": [
        "## 7.2 Map()\n",
        "* it takes two arguments like: r = map(my_function, my_seqeuence)\n",
        "* The first argument in r = map(my_function, my_seqeuence) function name and second is sequence name (e.g. a list).\n",
        "\n",
        "**_Example_**\n",
        "* my_sequence map() apply to the function my_function to all the elements of the my_sequence.\n",
        "* New list is returned that all the elements changed by the my_function"
      ]
    },
    {
      "cell_type": "code",
      "execution_count": null,
      "metadata": {
        "id": "fsnpWWZGdFp8",
        "outputId": "7bb1a603-820f-47c1-ee2b-db900b5e42d9"
      },
      "outputs": [
        {
          "name": "stdout",
          "output_type": "stream",
          "text": [
            "['Machine', 'learning', 'is', 'a', 'interesting', 'course']\n"
          ]
        },
        {
          "data": {
            "text/plain": [
              "[7, 8, 2, 1, 11, 6]"
            ]
          },
          "execution_count": 38,
          "metadata": {},
          "output_type": "execute_result"
        }
      ],
      "source": [
        "my_sentence = 'Machine learning is a interesting course'\n",
        "sentence_words = my_sentence.split()\n",
        "print (sentence_words)\n",
        "words_length = map(lambda words: len(words), sentence_words)\n",
        "list(words_length)"
      ]
    },
    {
      "cell_type": "markdown",
      "metadata": {
        "id": "aGWsudmAdFp8"
      },
      "source": [
        "## 7.2 Filter()\n",
        "* There are two arguments of a Filter() method\n",
        "* Filter(my_function, my_list) method filter the values of a list.\n",
        "* Filter(my_function,l) method take one argument as parameter and my_function returns a Boolean value True/False.\n",
        "* This Method will be applied to every element of the list l only when my_function returns True value.\n",
        "\n",
        "**_Examples_**\n",
        "\n",
        "* The examples of Filter() method is given below"
      ]
    },
    {
      "cell_type": "code",
      "execution_count": null,
      "metadata": {
        "id": "0WnGsve5dFp8",
        "outputId": "1f7ad291-f6e1-4b64-c298-884e586561c9"
      },
      "outputs": [
        {
          "data": {
            "text/plain": [
              "[3, 9, 23, 57]"
            ]
          },
          "execution_count": 42,
          "metadata": {},
          "output_type": "execute_result"
        }
      ],
      "source": [
        "my_list = [0,2,2,2,3,6,9,14,23,34,57]\n",
        "result = filter(lambda value: value % 2, my_list)\n",
        "list(result)"
      ]
    },
    {
      "cell_type": "code",
      "execution_count": null,
      "metadata": {
        "id": "Js0sBCDRdFp8",
        "outputId": "66a0aa44-6032-4c82-c073-47f5b29d74d2"
      },
      "outputs": [
        {
          "data": {
            "text/plain": [
              "[0, 2, 2, 2, 6, 14, 34]"
            ]
          },
          "execution_count": 43,
          "metadata": {},
          "output_type": "execute_result"
        }
      ],
      "source": [
        "my_list = [0,2,2,2,3,6,9,14,23,34,57]\n",
        "result1 = filter(lambda value: value % 2 ==0, my_list)\n",
        "list(result1)"
      ]
    },
    {
      "cell_type": "code",
      "execution_count": 4,
      "metadata": {},
      "outputs": [
        {
          "name": "stdout",
          "output_type": "stream",
          "text": [
            "The squares of the numbers are: [1, 4, 9, 16, 25]\n"
          ]
        }
      ],
      "source": [
        "## Example 1\n",
        "numbers = [1, 2, 3, 4, 5]\n",
        "squared = list(map(lambda x: x ** 2, numbers))\n",
        "print(\"The squares of the numbers are:\",squared) "
      ]
    },
    {
      "cell_type": "code",
      "execution_count": 3,
      "metadata": {},
      "outputs": [
        {
          "name": "stdout",
          "output_type": "stream",
          "text": [
            "The elements greater than three are: [4, 5, 6]\n"
          ]
        }
      ],
      "source": [
        "## Example 2\n",
        "numbers = [1, 2, 3, 4, 5, 6]\n",
        "greater_than_three = list(filter(lambda x: x > 3, numbers))\n",
        "print(\"The elements greater than three are:\",greater_than_three)"
      ]
    },
    {
      "cell_type": "markdown",
      "metadata": {
        "id": "iTC66ZQTdFp8"
      },
      "source": [
        "## 10.4. Why, When and Where Lambda Function is used?\n",
        "\n",
        "**Why?**\n",
        "* Beccause its provide a facility to declare small anonymous functions.\n",
        "\n",
        "**When?**\n",
        "* Code reuseability\n",
        "* Conciseness and the reduction in code bloat\n",
        "\n",
        "**Where?**\n",
        "* Use in built-in methods map() and filter()."
      ]
    },
    {
      "cell_type": "markdown",
      "metadata": {
        "id": "gXVf9ybcdFp8"
      },
      "source": [
        "# 8. Arrays\n",
        "\n",
        "* Store number of values of same type in a single variable at a time\n",
        "* Location of values at memory\n",
        "* Index is start from zero in array\n",
        "\n",
        "## 8.1 Create, Access and Update Array\n",
        "\n",
        "**_Examples_**\n",
        "\n",
        "* The following example shows How to **Create** an array and print"
      ]
    },
    {
      "cell_type": "code",
      "execution_count": 254,
      "metadata": {
        "id": "S9NT7SlDdFp9",
        "outputId": "1a062074-ec48-4821-c13a-2311623623ae"
      },
      "outputs": [
        {
          "name": "stdout",
          "output_type": "stream",
          "text": [
            "['Tahir', 'Sohail', 'COMSATS']\n"
          ]
        }
      ],
      "source": [
        "Array_information = [\"Tahir\", \"Sohail\", \"COMSATS\"]\n",
        "print(Array_information)"
      ]
    },
    {
      "cell_type": "markdown",
      "metadata": {
        "id": "YjpZ7gWhdFp9"
      },
      "source": [
        "**_Example_**\n",
        "\n",
        "* The following example shows How to **Access** an array value and print"
      ]
    },
    {
      "cell_type": "code",
      "execution_count": 255,
      "metadata": {
        "id": "HuA_7wCgdFp9",
        "outputId": "61490547-e758-4d18-ff20-da91e5c4fa8f"
      },
      "outputs": [
        {
          "name": "stdout",
          "output_type": "stream",
          "text": [
            "Complete Array ['Tahir', 'Sohail', 'COMSATS']\n",
            "Array value at index 0: Tahir\n"
          ]
        }
      ],
      "source": [
        "Array_information = [\"Tahir\", \"Sohail\", \"COMSATS\"]\n",
        "print(\"Complete Array\", Array_information)\n",
        "value = Array_information[0]\n",
        "print(\"Array value at index 0:\",value)"
      ]
    },
    {
      "cell_type": "markdown",
      "metadata": {
        "id": "G0956ZSudFp9"
      },
      "source": [
        "**_Example_**\n",
        "\n",
        "* The following example shows How to **Modify** an array value and print"
      ]
    },
    {
      "cell_type": "code",
      "execution_count": null,
      "metadata": {
        "id": "HjcVq3RUdFp9",
        "outputId": "444fd6a7-cb56-4f9c-ee62-581d63ce1f49"
      },
      "outputs": [
        {
          "name": "stdout",
          "output_type": "stream",
          "text": [
            "Array before update ['Waqar', 'Ashiq', 'COMSATS']\n",
            "Array After update ['Bilal', 'Ashiq', 'COMSATS']\n"
          ]
        }
      ],
      "source": [
        "Array_information = [\"Tahir\", \"Sohail\", \"COMSATS\"]\n",
        "print(\"Array before update\", Array_information)\n",
        "Array_information[0] = \"Bilal\"\n",
        "print(\"Array After update\", Array_information)"
      ]
    },
    {
      "cell_type": "markdown",
      "metadata": {
        "id": "4q2063fodFp9"
      },
      "source": [
        "**_Example_**\n",
        "\n",
        "* The following example shows **Length** of an array and print"
      ]
    },
    {
      "cell_type": "code",
      "execution_count": 261,
      "metadata": {
        "id": "6uSp11UZdFp-",
        "outputId": "f6d9ce5e-cccf-46c3-f0dd-4678f674e75d"
      },
      "outputs": [
        {
          "name": "stdout",
          "output_type": "stream",
          "text": [
            "Complete Array ['Tahir', 'Sohail', 'COMSATS']\n",
            "Total Array length is: 3\n"
          ]
        }
      ],
      "source": [
        "Array_information = [\"Tahir\", \"Sohail\", \"COMSATS\"]\n",
        "print(\"Complete Array\", Array_information)\n",
        "value = len(Array_information)\n",
        "print(\"Total Array length is:\",value)"
      ]
    },
    {
      "cell_type": "code",
      "execution_count": 260,
      "metadata": {},
      "outputs": [
        {
          "name": "stdout",
          "output_type": "stream",
          "text": [
            "The name of multiple colors: ['Red', 'Orange', 'Yellow', 'Blue', 'Green']\n",
            "printing array after updating:\n",
            "The name of multiple colors: ['Red', 'Sea Green', 'Yellow', 'Blue', 'Green']\n",
            "lenght of array is: 5\n"
          ]
        }
      ],
      "source": [
        "## Example 1\n",
        "array=[\"Red\",\"Orange\",\"Yellow\",\"Blue\",\"Green\"]\n",
        "print(\"The name of multiple colors:\",array)\n",
        "## Updating the first index of the array\n",
        "print(\"printing array after updating:\")\n",
        "array[1]=\"Sea Green\"\n",
        "print(\"The name of multiple colors:\",array)\n",
        "val=len(array)\n",
        "print(\"lenght of array is:\",val)"
      ]
    },
    {
      "cell_type": "code",
      "execution_count": 264,
      "metadata": {},
      "outputs": [
        {
          "name": "stdout",
          "output_type": "stream",
          "text": [
            "The values of integers: [1, 2, 3, 4, 5, 6, 7, 8, 9, 10]\n",
            "printing array after updating:\n",
            "The values of integers: [1, 2, 3, 4, 5, 67, 7, 8, 9, 10]\n",
            "lenght of array is: 10\n"
          ]
        }
      ],
      "source": [
        "## Example 2\n",
        "array_int=[1,2,3,4,5,6,7,8,9,10]\n",
        "print(\"The values of integers:\",array_int)\n",
        "## Updating the first index of the array\n",
        "print(\"printing array after updating:\")\n",
        "array_int[5]=67\n",
        "print(\"The values of integers:\",array_int)\n",
        "length=len(array_int)\n",
        "print(\"lenght of array is:\",length)"
      ]
    },
    {
      "cell_type": "markdown",
      "metadata": {
        "id": "-Ol8lVCNdFp-"
      },
      "source": [
        "# 9. Classes and Objects\n",
        "\n",
        "* Classes are a template to create objects.\n",
        "* Everything in Python is an Object, because its object oriented language.\n",
        "* Object is the instance (variable and function) of a class\n",
        "\n",
        "## 9.1 Create Class and Object\n",
        "\n",
        "**Example**\n",
        "* Create a class with name, **my_class**\n",
        "* Property of class is **value**"
      ]
    },
    {
      "cell_type": "code",
      "execution_count": null,
      "metadata": {
        "id": "KbY-HcCqdFp-",
        "outputId": "d6b033d0-1feb-4db9-cbf3-50eb9f6adecc"
      },
      "outputs": [
        {
          "name": "stdout",
          "output_type": "stream",
          "text": [
            "10\n"
          ]
        }
      ],
      "source": [
        "class my_class:\n",
        "    value = 10\n",
        "    print(value)"
      ]
    },
    {
      "cell_type": "markdown",
      "metadata": {
        "id": "EgI-oWIqdFp-"
      },
      "source": [
        "**Example**\n",
        "\n",
        "* Create an object of a class **my_class**"
      ]
    },
    {
      "cell_type": "code",
      "execution_count": null,
      "metadata": {
        "id": "4JWY4MpudFp-",
        "outputId": "a88cc410-b5e3-4869-a608-be8533e932ea"
      },
      "outputs": [
        {
          "name": "stdout",
          "output_type": "stream",
          "text": [
            "10\n"
          ]
        }
      ],
      "source": [
        "class_object = my_class()\n",
        "print(class_object.value)"
      ]
    },
    {
      "cell_type": "code",
      "execution_count": 273,
      "metadata": {},
      "outputs": [
        {
          "name": "stdout",
          "output_type": "stream",
          "text": [
            "The name of the student is: Amna Miraj\n",
            "The ID of the student is: F20232661130\n"
          ]
        }
      ],
      "source": [
        "## Example 1\n",
        "class student:\n",
        "    Name=\"Amna Miraj\"\n",
        "    ID=\"F20232661130\"\n",
        "Student1=student()\n",
        "print(\"The name of the student is:\",Student1.Name)\n",
        "print(\"The ID of the student is:\",Student1.ID)\n",
        "\n"
      ]
    },
    {
      "cell_type": "code",
      "execution_count": 272,
      "metadata": {},
      "outputs": [
        {
          "name": "stdout",
          "output_type": "stream",
          "text": [
            "The name of the car is: Mercedes\n",
            "The color name is: Black\n"
          ]
        }
      ],
      "source": [
        "## Example 2\n",
        "class car:\n",
        "    car_name=\"Mercedes\"\n",
        "    car_color=\"Black\"\n",
        "Car=car()\n",
        "print(\"The name of the car is:\",Car.car_name)\n",
        "print(\"The color name is:\",Car.car_color)"
      ]
    },
    {
      "cell_type": "markdown",
      "metadata": {
        "id": "wj6VZYD9dFp-"
      },
      "source": [
        "# 10. File I/O\n",
        "* Python has number of functions for File I/O\n",
        "* creating, reading, updating, and deleting files methods are used.\n",
        "\n",
        "## 10.1 Reading input from Keyboard\n",
        "* **raw_input()** method is used to read input from keyboard.\n",
        "* Reads sinle line from standard input\n",
        "* It returns the input as string\n",
        "\n",
        "**_Example_**\n",
        "* This example takes input from user"
      ]
    },
    {
      "cell_type": "code",
      "execution_count": null,
      "metadata": {
        "id": "KTTE0ohvdFp-",
        "outputId": "a0f31e1e-9088-454d-aaac-7e860024d7f2"
      },
      "outputs": [
        {
          "name": "stdout",
          "output_type": "stream",
          "text": [
            "Enter your name: Waqar Ashiq\n",
            "Waqar Ashiq\n"
          ]
        }
      ],
      "source": [
        "from six.moves import input\n",
        "user_input_string = input(\"Enter your name: \");\n",
        "print(user_input_string)"
      ]
    },
    {
      "cell_type": "markdown",
      "metadata": {
        "id": "bIT28UzqdFp_"
      },
      "source": [
        "## 10.2 I/O from Text File\n",
        "* **Open()** Method is used to open the file\n",
        "* **Open()** Method takes two parameters first is the name of file, and second is file mode.\n",
        "* There are multiple modes or methods to handle the file given below\n",
        "  * **\"x\"** Create - Creates a new file, give error if exists already\n",
        "  * **\"r\"** Read : Default value opens for reading.\n",
        "  * **\"w\"** Write mode only.\n",
        "  * **\"a\"** Append mode\n",
        "  * **\"r+\"** Read and write mode.\n",
        "  * **\"a+\"** Append and read mode.\n",
        "  * **\"t\"** Text - Default value. Text mode\n",
        "  * **\"b\"** Binary - Binary mode\n",
        "  \n",
        "### 10.2.1 Create a Text File\n",
        "* **\"x\"** Creates a new file, give error if exists already\n",
        "\n",
        "**_Example_**\n",
        "\n",
        "* This example will show the file creation"
      ]
    },
    {
      "cell_type": "code",
      "execution_count": null,
      "metadata": {
        "id": "ibfsKf-2dFp_"
      },
      "outputs": [],
      "source": [
        "my_file = open(\"My_personal_file.txt\", \"x\")"
      ]
    },
    {
      "cell_type": "markdown",
      "metadata": {
        "id": "ungdMbHFdFp_"
      },
      "source": [
        "### 10.2.2 Read a Text File\n",
        "* **\"r\"** mode is used to read the file\n",
        "\n",
        "**_Example_**\n",
        "\n",
        "* This example will show the file information"
      ]
    },
    {
      "cell_type": "code",
      "execution_count": null,
      "metadata": {
        "id": "7JEvz0UNdFp_",
        "outputId": "e121b8bc-14c3-4123-ea38-aeac9253e014"
      },
      "outputs": [
        {
          "name": "stdout",
          "output_type": "stream",
          "text": [
            "Name: \n",
            "        Waqar Ashiq\n",
            "Registeration No.: \n",
            "        CUI/SP19-RCS-013/LHR\n",
            "Assignment: \n",
            "        Machine Learning\n"
          ]
        }
      ],
      "source": [
        "my_file = open(\"My_personal_file.txt\", \"r\")\n",
        "information=my_file.read()\n",
        "print(information)"
      ]
    },
    {
      "cell_type": "markdown",
      "metadata": {
        "id": "a06LPzHKdFp_"
      },
      "source": [
        "**_Example 2_**\n",
        "\n",
        "* This example will show the line one of file using **readline()** method"
      ]
    },
    {
      "cell_type": "code",
      "execution_count": null,
      "metadata": {
        "id": "lJzx8V66dFp_",
        "outputId": "b5eb4610-c671-4da7-fa7e-e60d4fb6a2af"
      },
      "outputs": [
        {
          "name": "stdout",
          "output_type": "stream",
          "text": [
            "Name: \n",
            "\n"
          ]
        }
      ],
      "source": [
        "my_file = open(\"My_personal_file.txt\", \"r\")\n",
        "information=my_file.readline()\n",
        "print(information)"
      ]
    },
    {
      "cell_type": "markdown",
      "metadata": {
        "id": "5RJUZ2wXdFp_"
      },
      "source": [
        "### 10.2.3 Write into a Text File\n",
        "* **\"w+\"** mode is used to write in to the file\n",
        "\n",
        "**_Example_**\n",
        "\n",
        "* This example will show the information write into the file and display the updated information"
      ]
    },
    {
      "cell_type": "code",
      "execution_count": null,
      "metadata": {
        "id": "WeUMOcjkdFqA",
        "outputId": "4ed90a89-5c1c-4d5c-f0f6-c0739f968939"
      },
      "outputs": [
        {
          "name": "stdout",
          "output_type": "stream",
          "text": [
            "Name: \n",
            "        Waqar Ashiq\n",
            "Registeration No.: \n",
            "        CUI/SP19-RCS-013/LHR\n",
            "Assignment: \n",
            "        Machine Learning University: COMSATS Lahore\n"
          ]
        }
      ],
      "source": [
        "my_file = open(\"My_personal_file.txt\", \"a+\")\n",
        "my_file = my_file.write(\"University: COMSATS Lahore\")\n",
        "\n",
        "my_file = open(\"My_personal_file.txt\", \"r+\")\n",
        "information=my_file.read()\n",
        "print(information)"
      ]
    },
    {
      "cell_type": "markdown",
      "metadata": {
        "id": "PnS8G3R5dFqA"
      },
      "source": [
        "## 10.3 File Position\n",
        "* There are multiple methods to check the position of a file and to change the location of a file\n",
        "* **tell()** method used to show currenct position within the file.\n",
        "* **seek()** method is used to change the location of a file."
      ]
    },
    {
      "cell_type": "code",
      "execution_count": 294,
      "metadata": {
        "id": "daYL8QkEdFqA",
        "outputId": "213f2a93-99f8-4c9e-f091-2e8fb74187cb"
      },
      "outputs": [
        {
          "ename": "FileNotFoundError",
          "evalue": "[Errno 2] No such file or directory: 'My_personal_file.txt'",
          "output_type": "error",
          "traceback": [
            "\u001b[31m---------------------------------------------------------------------------\u001b[39m",
            "\u001b[31mFileNotFoundError\u001b[39m                         Traceback (most recent call last)",
            "\u001b[36mCell\u001b[39m\u001b[36m \u001b[39m\u001b[32mIn[294]\u001b[39m\u001b[32m, line 1\u001b[39m\n\u001b[32m----> \u001b[39m\u001b[32m1\u001b[39m my_file = \u001b[38;5;28;43mopen\u001b[39;49m\u001b[43m(\u001b[49m\u001b[33;43m\"\u001b[39;49m\u001b[33;43mMy_personal_file.txt\u001b[39;49m\u001b[33;43m\"\u001b[39;49m\u001b[43m,\u001b[49m\u001b[43m \u001b[49m\u001b[33;43m\"\u001b[39;49m\u001b[33;43mr+\u001b[39;49m\u001b[33;43m\"\u001b[39;49m\u001b[43m)\u001b[49m\n\u001b[32m      2\u001b[39m string = my_file.read(\u001b[32m10\u001b[39m);\n\u001b[32m      3\u001b[39m \u001b[38;5;28mprint\u001b[39m (\u001b[33m\"\u001b[39m\u001b[33mReading String is : \u001b[39m\u001b[38;5;130;01m\\n\u001b[39;00m\u001b[33m\"\u001b[39m, string)\n",
            "\u001b[36mFile \u001b[39m\u001b[32m~\\AppData\\Local\\Packages\\PythonSoftwareFoundation.Python.3.12_qbz5n2kfra8p0\\LocalCache\\local-packages\\Python312\\site-packages\\IPython\\core\\interactiveshell.py:325\u001b[39m, in \u001b[36m_modified_open\u001b[39m\u001b[34m(file, *args, **kwargs)\u001b[39m\n\u001b[32m    318\u001b[39m \u001b[38;5;28;01mif\u001b[39;00m file \u001b[38;5;129;01min\u001b[39;00m {\u001b[32m0\u001b[39m, \u001b[32m1\u001b[39m, \u001b[32m2\u001b[39m}:\n\u001b[32m    319\u001b[39m     \u001b[38;5;28;01mraise\u001b[39;00m \u001b[38;5;167;01mValueError\u001b[39;00m(\n\u001b[32m    320\u001b[39m         \u001b[33mf\u001b[39m\u001b[33m\"\u001b[39m\u001b[33mIPython won\u001b[39m\u001b[33m'\u001b[39m\u001b[33mt let you open fd=\u001b[39m\u001b[38;5;132;01m{\u001b[39;00mfile\u001b[38;5;132;01m}\u001b[39;00m\u001b[33m by default \u001b[39m\u001b[33m\"\u001b[39m\n\u001b[32m    321\u001b[39m         \u001b[33m\"\u001b[39m\u001b[33mas it is likely to crash IPython. If you know what you are doing, \u001b[39m\u001b[33m\"\u001b[39m\n\u001b[32m    322\u001b[39m         \u001b[33m\"\u001b[39m\u001b[33myou can use builtins\u001b[39m\u001b[33m'\u001b[39m\u001b[33m open.\u001b[39m\u001b[33m\"\u001b[39m\n\u001b[32m    323\u001b[39m     )\n\u001b[32m--> \u001b[39m\u001b[32m325\u001b[39m \u001b[38;5;28;01mreturn\u001b[39;00m \u001b[43mio_open\u001b[49m\u001b[43m(\u001b[49m\u001b[43mfile\u001b[49m\u001b[43m,\u001b[49m\u001b[43m \u001b[49m\u001b[43m*\u001b[49m\u001b[43margs\u001b[49m\u001b[43m,\u001b[49m\u001b[43m \u001b[49m\u001b[43m*\u001b[49m\u001b[43m*\u001b[49m\u001b[43mkwargs\u001b[49m\u001b[43m)\u001b[49m\n",
            "\u001b[31mFileNotFoundError\u001b[39m: [Errno 2] No such file or directory: 'My_personal_file.txt'"
          ]
        }
      ],
      "source": [
        "my_file = open(\"My_personal_file.txt\", \"r+\")\n",
        "string = my_file.read(10);\n",
        "print (\"Reading String is : \\n\", string)\n",
        "\n",
        "# Check current position\n",
        "\n",
        "current_position = my_file.tell();\n",
        "print (\"Current position of the file is: \\n\", current_position)\n",
        "\n",
        "# Reposition pointer at the beginning once again\n",
        "\n",
        "current_position = my_file.seek(0, 0);\n",
        "string = my_file.read(10);\n",
        "print (\"Again reading String is : \\n\", string)"
      ]
    },
    {
      "cell_type": "code",
      "execution_count": 277,
      "metadata": {},
      "outputs": [
        {
          "name": "stdout",
          "output_type": "stream",
          "text": [
            "My university name is UMT\n"
          ]
        }
      ],
      "source": [
        "## Example 1\n",
        "string = input(\"Enter your university name: \");\n",
        "print(\"My university name is\",string)"
      ]
    },
    {
      "cell_type": "code",
      "execution_count": 2,
      "metadata": {},
      "outputs": [],
      "source": [
        "## Example 2\n",
        "file=open(\"student_file.txt\",\"x\")"
      ]
    },
    {
      "cell_type": "code",
      "execution_count": 3,
      "metadata": {},
      "outputs": [],
      "source": [
        "file=open(\"student_file.txt\",\"w\")\n",
        "info=file.write(\"Name: Amna Miraj \")\n",
        "info=file.write(\"Student ID: F20232661130 \")\n",
        "info=file.write(\"University Name: UMT \")"
      ]
    },
    {
      "cell_type": "code",
      "execution_count": 4,
      "metadata": {},
      "outputs": [
        {
          "name": "stdout",
          "output_type": "stream",
          "text": [
            "Name: Amna Miraj Student ID: F20232661130 University Name: UMT \n"
          ]
        }
      ],
      "source": [
        "file=open(\"student_file.txt\",\"r\")\n",
        "information=file.read()\n",
        "print(information)"
      ]
    },
    {
      "cell_type": "code",
      "execution_count": 5,
      "metadata": {},
      "outputs": [
        {
          "name": "stdout",
          "output_type": "stream",
          "text": [
            "Current position of the file is: \n",
            " 63\n",
            "Current position of the file is: \n",
            " 0\n"
          ]
        }
      ],
      "source": [
        "current_position =file.tell();\n",
        "print (\"Current position of the file is: \\n\", current_position)\n",
        "current_position =file.seek(0,0);\n",
        "print (\"Current position of the file is: \\n\", current_position)"
      ]
    },
    {
      "cell_type": "markdown",
      "metadata": {
        "id": "PdHBZk2ndFqA"
      },
      "source": [
        "## 10.4. Why, When and Where File I/O is used?\n",
        "\n",
        "**Why?**\n",
        "* Beccause its used to store data permanently in a hard disk\n",
        "* Data is lost in Ram so its File is used to store data in ROM\n",
        "\n",
        "**When?**\n",
        "* When data is large and not stored in RAM\n",
        "\n",
        "**Where?**\n",
        "* Where data is stored for long term use\n",
        "* For future use of daata File is created"
      ]
    },
    {
      "cell_type": "markdown",
      "metadata": {
        "id": "gRrot4JOdFqA"
      },
      "source": [
        "## 11. Pandas Introduction\n",
        "* Pandas is an open source data analysis library\n",
        "* It read the .CSV format file\n",
        "* There are two data structures of Pandas given below\n",
        "  * Series (1-dimensional)\n",
        "  * DataFrame (2-dimensional)\n",
        "* Pandas build on the top of Numpy library\n",
        "* Automatically allign the data\n",
        "* Easily reshape the dataset in Pandas\n",
        "\n",
        "## 11.1 Read the Dataset using Pandas\n",
        "* The following code read the dataset in Csv format and dispay"
      ]
    },
    {
      "cell_type": "code",
      "execution_count": 1,
      "metadata": {
        "id": "6ZYW7Nd2dFqA",
        "outputId": "4f95ea77-01ab-4a74-95b5-754f76b8676b"
      },
      "outputs": [
        {
          "name": "stdout",
          "output_type": "stream",
          "text": [
            "\n",
            " Dataset: \n",
            "\n"
          ]
        },
        {
          "data": {
            "text/html": [
              "<div>\n",
              "<style scoped>\n",
              "    .dataframe tbody tr th:only-of-type {\n",
              "        vertical-align: middle;\n",
              "    }\n",
              "\n",
              "    .dataframe tbody tr th {\n",
              "        vertical-align: top;\n",
              "    }\n",
              "\n",
              "    .dataframe thead th {\n",
              "        text-align: right;\n",
              "    }\n",
              "</style>\n",
              "<table border=\"1\" class=\"dataframe\">\n",
              "  <thead>\n",
              "    <tr style=\"text-align: right;\">\n",
              "      <th></th>\n",
              "      <th>text</th>\n",
              "      <th>selected_text</th>\n",
              "      <th>sentiment</th>\n",
              "    </tr>\n",
              "  </thead>\n",
              "  <tbody>\n",
              "    <tr>\n",
              "      <th>0</th>\n",
              "      <td>I`d have responded, if I were going</td>\n",
              "      <td>I`d have responded, if I were going</td>\n",
              "      <td>neutral</td>\n",
              "    </tr>\n",
              "    <tr>\n",
              "      <th>1</th>\n",
              "      <td>Sooo SAD I will miss you here in San Diego!!!</td>\n",
              "      <td>Sooo SAD</td>\n",
              "      <td>negative</td>\n",
              "    </tr>\n",
              "    <tr>\n",
              "      <th>2</th>\n",
              "      <td>my boss is bullying me...</td>\n",
              "      <td>bullying me</td>\n",
              "      <td>negative</td>\n",
              "    </tr>\n",
              "    <tr>\n",
              "      <th>3</th>\n",
              "      <td>what interview! leave me alone</td>\n",
              "      <td>leave me alone</td>\n",
              "      <td>negative</td>\n",
              "    </tr>\n",
              "    <tr>\n",
              "      <th>4</th>\n",
              "      <td>Sons of ****, why couldn`t they put them on t...</td>\n",
              "      <td>Sons of ****,</td>\n",
              "      <td>negative</td>\n",
              "    </tr>\n",
              "    <tr>\n",
              "      <th>5</th>\n",
              "      <td>http://www.dothebouncy.com/smf - some shameles...</td>\n",
              "      <td>http://www.dothebouncy.com/smf - some shameles...</td>\n",
              "      <td>neutral</td>\n",
              "    </tr>\n",
              "    <tr>\n",
              "      <th>6</th>\n",
              "      <td>2am feedings for the baby are fun when he is a...</td>\n",
              "      <td>fun</td>\n",
              "      <td>positive</td>\n",
              "    </tr>\n",
              "    <tr>\n",
              "      <th>7</th>\n",
              "      <td>Soooo high</td>\n",
              "      <td>Soooo high</td>\n",
              "      <td>neutral</td>\n",
              "    </tr>\n",
              "  </tbody>\n",
              "</table>\n",
              "</div>"
            ],
            "text/plain": [
              "                                                text  \\\n",
              "0                I`d have responded, if I were going   \n",
              "1      Sooo SAD I will miss you here in San Diego!!!   \n",
              "2                          my boss is bullying me...   \n",
              "3                     what interview! leave me alone   \n",
              "4   Sons of ****, why couldn`t they put them on t...   \n",
              "5  http://www.dothebouncy.com/smf - some shameles...   \n",
              "6  2am feedings for the baby are fun when he is a...   \n",
              "7                                         Soooo high   \n",
              "\n",
              "                                       selected_text sentiment  \n",
              "0                I`d have responded, if I were going   neutral  \n",
              "1                                           Sooo SAD  negative  \n",
              "2                                        bullying me  negative  \n",
              "3                                     leave me alone  negative  \n",
              "4                                      Sons of ****,  negative  \n",
              "5  http://www.dothebouncy.com/smf - some shameles...   neutral  \n",
              "6                                                fun  positive  \n",
              "7                                         Soooo high   neutral  "
            ]
          },
          "execution_count": 1,
          "metadata": {},
          "output_type": "execute_result"
        }
      ],
      "source": [
        "import pandas as pd\n",
        "print(\"\\n Dataset: \\n\")\n",
        "data = pd.read_csv('My_dataset.csv')\n",
        "data.head(8)"
      ]
    },
    {
      "cell_type": "code",
      "execution_count": null,
      "metadata": {
        "id": "0aYWg2DSdFqB",
        "outputId": "1c74dddd-6603-40f7-8722-5ee1e0c5a157"
      },
      "outputs": [
        {
          "data": {
            "text/plain": [
              "(30000, 2)"
            ]
          },
          "execution_count": 3,
          "metadata": {},
          "output_type": "execute_result"
        }
      ],
      "source": [
        "data.shape"
      ]
    },
    {
      "cell_type": "code",
      "execution_count": null,
      "metadata": {
        "id": "uhFgiYVedFqB",
        "outputId": "b8e867b1-f378-4d76-f697-4bced66c720d"
      },
      "outputs": [
        {
          "data": {
            "text/plain": [
              "worry         7433\n",
              "neutral       6340\n",
              "sadness       4828\n",
              "happiness     2986\n",
              "love          2068\n",
              "surprise      1613\n",
              "hate          1187\n",
              "fun           1088\n",
              "relief        1021\n",
              "empty          659\n",
              "enthusiasm     522\n",
              "boredom        157\n",
              "anger           98\n",
              "Name: Sentiment, dtype: int64"
            ]
          },
          "execution_count": 4,
          "metadata": {},
          "output_type": "execute_result"
        }
      ],
      "source": [
        "data.Sentiment.value_counts()"
      ]
    },
    {
      "cell_type": "code",
      "execution_count": 6,
      "metadata": {},
      "outputs": [
        {
          "data": {
            "text/html": [
              "<div>\n",
              "<style scoped>\n",
              "    .dataframe tbody tr th:only-of-type {\n",
              "        vertical-align: middle;\n",
              "    }\n",
              "\n",
              "    .dataframe tbody tr th {\n",
              "        vertical-align: top;\n",
              "    }\n",
              "\n",
              "    .dataframe thead th {\n",
              "        text-align: right;\n",
              "    }\n",
              "</style>\n",
              "<table border=\"1\" class=\"dataframe\">\n",
              "  <thead>\n",
              "    <tr style=\"text-align: right;\">\n",
              "      <th></th>\n",
              "      <th>text</th>\n",
              "      <th>selected_text</th>\n",
              "      <th>sentiment</th>\n",
              "    </tr>\n",
              "  </thead>\n",
              "  <tbody>\n",
              "    <tr>\n",
              "      <th>0</th>\n",
              "      <td>I`d have responded, if I were going</td>\n",
              "      <td>I`d have responded, if I were going</td>\n",
              "      <td>neutral</td>\n",
              "    </tr>\n",
              "    <tr>\n",
              "      <th>1</th>\n",
              "      <td>Sooo SAD I will miss you here in San Diego!!!</td>\n",
              "      <td>Sooo SAD</td>\n",
              "      <td>negative</td>\n",
              "    </tr>\n",
              "    <tr>\n",
              "      <th>2</th>\n",
              "      <td>my boss is bullying me...</td>\n",
              "      <td>bullying me</td>\n",
              "      <td>negative</td>\n",
              "    </tr>\n",
              "    <tr>\n",
              "      <th>3</th>\n",
              "      <td>what interview! leave me alone</td>\n",
              "      <td>leave me alone</td>\n",
              "      <td>negative</td>\n",
              "    </tr>\n",
              "    <tr>\n",
              "      <th>4</th>\n",
              "      <td>Sons of ****, why couldn`t they put them on t...</td>\n",
              "      <td>Sons of ****,</td>\n",
              "      <td>negative</td>\n",
              "    </tr>\n",
              "  </tbody>\n",
              "</table>\n",
              "</div>"
            ],
            "text/plain": [
              "                                                text  \\\n",
              "0                I`d have responded, if I were going   \n",
              "1      Sooo SAD I will miss you here in San Diego!!!   \n",
              "2                          my boss is bullying me...   \n",
              "3                     what interview! leave me alone   \n",
              "4   Sons of ****, why couldn`t they put them on t...   \n",
              "\n",
              "                         selected_text sentiment  \n",
              "0  I`d have responded, if I were going   neutral  \n",
              "1                             Sooo SAD  negative  \n",
              "2                          bullying me  negative  \n",
              "3                       leave me alone  negative  \n",
              "4                        Sons of ****,  negative  "
            ]
          },
          "execution_count": 6,
          "metadata": {},
          "output_type": "execute_result"
        }
      ],
      "source": [
        "## Example 1\n",
        "import pandas as pd\n",
        "data=pd.read_csv('My_dataset.csv')\n",
        "data.head(5)"
      ]
    },
    {
      "cell_type": "code",
      "execution_count": 7,
      "metadata": {},
      "outputs": [
        {
          "data": {
            "text/plain": [
              "(27481, 3)"
            ]
          },
          "execution_count": 7,
          "metadata": {},
          "output_type": "execute_result"
        }
      ],
      "source": [
        "data.shape"
      ]
    },
    {
      "cell_type": "code",
      "execution_count": 8,
      "metadata": {},
      "outputs": [
        {
          "data": {
            "text/plain": [
              "sentiment\n",
              "neutral     11118\n",
              "positive     8582\n",
              "negative     7781\n",
              "Name: count, dtype: int64"
            ]
          },
          "execution_count": 8,
          "metadata": {},
          "output_type": "execute_result"
        }
      ],
      "source": [
        "data.sentiment.value_counts()"
      ]
    },
    {
      "cell_type": "markdown",
      "metadata": {
        "id": "XxrySNGKdFqB"
      },
      "source": [
        "## 11.2. Why, When and Where Pandas used?\n",
        "\n",
        "**Why:**\n",
        "* Tool for data minning\n",
        "* Pandas consists of high-level data structures and data analysis tools\n",
        "* Pandas is designed for quick data analysis\n",
        "\n",
        "**When:**\n",
        "* When there is large ammount of data to handle and pandas used for data manipulation and data analysis\n",
        "* To handle big data\n",
        "* When we want to read data in Csv format\n",
        "* To handle the dataframes in python\n",
        "* Used for merging and joining\n",
        "* Used to reshape the datasets\n",
        "* Data Alignment and handle the missing data\n",
        "* Functionality of Time series\n",
        "* Slicing and subsetting of data\n",
        "\n",
        "**Where:**\n",
        "* Most widely used in Data Science\n",
        "* Data Modeling\n",
        "* High performance systems"
      ]
    },
    {
      "cell_type": "markdown",
      "metadata": {
        "id": "cQHAEo2PdFqB"
      },
      "source": [
        "## 12. Series  \n",
        "* Much similar to NumPy array.\n",
        "* Series is 1-D array labeled array\n",
        "* Series capable to hold any kind of data type.\n",
        "* series is indexed by a label its the major differnce with Numpy array\n",
        "* Index in a series are\n",
        "* Axis labels is a series are the index.\n",
        "\n",
        "## 12.1 Create a series\n",
        "\n",
        "* The syntax for creating a series is as follows given below\n",
        "* myseries= pd.Series(data,index = index)\n",
        "  * In above syntax include following thinds:\n",
        "  * Python dict\n",
        "  * ndarray\n",
        "  * Scalar value e.g. 5\n",
        "  \n",
        "**Example**\n",
        "\n",
        "* This will create a series from pandas of a given information"
      ]
    },
    {
      "cell_type": "code",
      "execution_count": 300,
      "metadata": {
        "id": "bU9EPTTOdFqB",
        "outputId": "e2785a17-5b16-4f6d-b7e4-63a6462a8d04"
      },
      "outputs": [
        {
          "name": "stdout",
          "output_type": "stream",
          "text": [
            "0    l\n",
            "1    m\n",
            "2    n\n",
            "3    o\n",
            "4    p\n",
            "dtype: object\n"
          ]
        }
      ],
      "source": [
        "import pandas as pd\n",
        "import numpy as np\n",
        "\n",
        "array_data = np.array(['l','m','n','o','p'])\n",
        "my_series = pd.Series(array_data)\n",
        "print(my_series)"
      ]
    },
    {
      "cell_type": "markdown",
      "metadata": {
        "id": "ue-geN7gdFqB"
      },
      "source": [
        "## 12.2 From ndarray\n",
        "* When data is narray, the length of the index and data is same.  \n",
        "* If no index is passed then it will be created from the following values\n",
        "  * Values [0, ..., len(data) - 1].\n",
        "\n",
        "**_Example_**\n",
        "\n",
        "* This will create a series from pandas of a given information.\n",
        "* Data information includes 5 random values and indexes are assigned from a-e"
      ]
    },
    {
      "cell_type": "code",
      "execution_count": null,
      "metadata": {
        "id": "Iwh7TJVEdFqB",
        "outputId": "f2636c0e-9232-450a-91a2-868aa9f90fd0"
      },
      "outputs": [
        {
          "name": "stdout",
          "output_type": "stream",
          "text": [
            "l   -0.653020\n",
            "m   -0.145922\n",
            "n   -1.226343\n",
            "o    0.064902\n",
            "p    0.217702\n",
            "dtype: float64\n"
          ]
        }
      ],
      "source": [
        "import pandas as pd\n",
        "import numpy as np\n",
        "import matplotlib.pyplot as plt\n",
        "\n",
        "myseries = pd.Series(np.random.randn(5), index=['l','m','n','o','p'])\n",
        "print(myseries)"
      ]
    },
    {
      "cell_type": "markdown",
      "metadata": {
        "id": "seByqIopdFqC"
      },
      "source": [
        "**_Example_**\n",
        "\n",
        "* **.index** is used to print the index of array and its datatype"
      ]
    },
    {
      "cell_type": "code",
      "execution_count": null,
      "metadata": {
        "id": "twI0Edp6dFqC",
        "outputId": "3cabc83f-6f67-4edd-8181-737fd8edbb50"
      },
      "outputs": [
        {
          "data": {
            "text/plain": [
              "Index(['l', 'm', 'n', 'o', 'p'], dtype='object')"
            ]
          },
          "execution_count": 3,
          "metadata": {},
          "output_type": "execute_result"
        }
      ],
      "source": [
        "myseries.index"
      ]
    },
    {
      "cell_type": "markdown",
      "metadata": {
        "id": "QMM75ZNpdFqC"
      },
      "source": [
        "**_Example_**\n",
        "\n",
        "* if we can't create a array of indexs then the length of index values will be **[0......len(data-1)]**"
      ]
    },
    {
      "cell_type": "code",
      "execution_count": null,
      "metadata": {
        "id": "vKT4uS-QdFqC",
        "outputId": "a5123775-4c28-4d2c-d10a-38545a22b15b"
      },
      "outputs": [
        {
          "data": {
            "text/plain": [
              "0    0.496761\n",
              "1   -0.377681\n",
              "2    0.570217\n",
              "3   -1.036331\n",
              "4    0.703891\n",
              "5    0.548018\n",
              "6   -0.357430\n",
              "7    0.806675\n",
              "8   -0.474379\n",
              "9    0.645977\n",
              "dtype: float64"
            ]
          },
          "execution_count": 4,
          "metadata": {},
          "output_type": "execute_result"
        }
      ],
      "source": [
        "pd.Series(np.random.randn(10))"
      ]
    },
    {
      "cell_type": "markdown",
      "metadata": {
        "id": "Dk5MVgq_dFqC"
      },
      "source": [
        "## 12.3 From dict\n",
        "\n",
        "* when information is dict and index is passed\n",
        "* The values corresponding to the labels in the index will be pulled out\n",
        "* when there is no index is passed then\n",
        "  * it will create from dict with keys that are sorted, if possible\n",
        "\n",
        "**_Example_**\n",
        "\n",
        "* In following example, no indexes are given\n",
        "* Its build from the keys of a dict which are sorted"
      ]
    },
    {
      "cell_type": "code",
      "execution_count": null,
      "metadata": {
        "id": "x-_w9NzqdFqC",
        "outputId": "646c7391-ce50-461a-e047-5e701662779f"
      },
      "outputs": [
        {
          "data": {
            "text/plain": [
              "l    0.0\n",
              "m    1.0\n",
              "n    2.0\n",
              "o    3.0\n",
              "p    4.0\n",
              "dtype: float64"
            ]
          },
          "execution_count": 5,
          "metadata": {},
          "output_type": "execute_result"
        }
      ],
      "source": [
        "my_dict = {'l' : 0., 'm' : 1., 'n' : 2., 'o' : 3.,'p' : 4.} # a python dict\n",
        "pd.Series(my_dict)"
      ]
    },
    {
      "cell_type": "markdown",
      "metadata": {
        "id": "1ZgSeuwCdFqD"
      },
      "source": [
        "**_Example_**\n",
        "* In this example, index are given\n",
        "* So values are displayed equivalent to index that will be pulled out"
      ]
    },
    {
      "cell_type": "code",
      "execution_count": null,
      "metadata": {
        "id": "6Vkfh0jRdFqD",
        "outputId": "380ce23b-218b-4f81-ca9c-5abb89cdd15c"
      },
      "outputs": [
        {
          "data": {
            "text/plain": [
              "l    0.0\n",
              "m    1.0\n",
              "n    2.0\n",
              "o    3.0\n",
              "p    4.0\n",
              "q    NaN\n",
              "dtype: float64"
            ]
          },
          "execution_count": 6,
          "metadata": {},
          "output_type": "execute_result"
        }
      ],
      "source": [
        "pd.Series(my_dict, index=['l', 'm', 'n', 'o', 'p','q'])"
      ]
    },
    {
      "cell_type": "markdown",
      "metadata": {
        "id": "N7x3LtlzdFqD"
      },
      "source": [
        "## 12.4 From a scalar value\n",
        "* Index must be given in scalar data. The value will be repeated to match the length of index\n",
        "* To match the length of the string values will be repeated\n",
        "\n",
        "**_Example_**\n",
        "\n",
        "* In this example, scalar data is given To match the length of the string values will be repeated"
      ]
    },
    {
      "cell_type": "code",
      "execution_count": null,
      "metadata": {
        "id": "bTJHShTrdFqD",
        "outputId": "85876b0a-47cf-4dea-a0f7-183dede6e907"
      },
      "outputs": [
        {
          "data": {
            "text/plain": [
              "l    5.0\n",
              "m    5.0\n",
              "n    5.0\n",
              "o    5.0\n",
              "p    5.0\n",
              "dtype: float64"
            ]
          },
          "execution_count": 7,
          "metadata": {},
          "output_type": "execute_result"
        }
      ],
      "source": [
        "pd.Series(5., index=['l', 'm', 'n', 'o', 'p'])"
      ]
    },
    {
      "cell_type": "markdown",
      "metadata": {
        "id": "xDi1VklKdFqD"
      },
      "source": [
        "## 12.5 Series is ndarray-like\n",
        "\n",
        "* Acts like much similar to ndarray.\n",
        "* Valid argumen in Numpy function\n",
        "* However, slice the indexes.\n",
        "\n",
        "**_Example_**\n",
        "* Access the value like ndarray\n",
        "* Access single value"
      ]
    },
    {
      "cell_type": "code",
      "execution_count": null,
      "metadata": {
        "id": "Mj0EX44ldFqD",
        "outputId": "9a13f9c9-ba07-4973-c669-9c74113ca828"
      },
      "outputs": [
        {
          "data": {
            "text/plain": [
              "-0.6530203170865407"
            ]
          },
          "execution_count": 8,
          "metadata": {},
          "output_type": "execute_result"
        }
      ],
      "source": [
        "myseries[0]"
      ]
    },
    {
      "cell_type": "markdown",
      "metadata": {
        "id": "eDMwSy2hdFqD"
      },
      "source": [
        "**_Example_**\n",
        "\n",
        "* In the following example, we can Access range of values"
      ]
    },
    {
      "cell_type": "code",
      "execution_count": null,
      "metadata": {
        "id": "oBAKWU3RdFqE",
        "outputId": "684c703f-71aa-4178-ae6d-6ad3a63f380d"
      },
      "outputs": [
        {
          "data": {
            "text/plain": [
              "l   -0.653020\n",
              "m   -0.145922\n",
              "n   -1.226343\n",
              "o    0.064902\n",
              "p    0.217702\n",
              "dtype: float64"
            ]
          },
          "execution_count": 9,
          "metadata": {},
          "output_type": "execute_result"
        }
      ],
      "source": [
        "myseries[:5]"
      ]
    },
    {
      "cell_type": "markdown",
      "metadata": {
        "id": "_xGTg7MadFqE"
      },
      "source": [
        "**_Example_**\n",
        "\n",
        "* This eaxmple will return the range of values in series\n",
        "* Reutrn those values whose series value is greater than the median of series value"
      ]
    },
    {
      "cell_type": "code",
      "execution_count": null,
      "metadata": {
        "id": "zLBlsqc3dFqE",
        "outputId": "422c7478-08f7-4e3d-ac5d-8705d4589b48"
      },
      "outputs": [
        {
          "data": {
            "text/plain": [
              "o    0.064902\n",
              "p    0.217702\n",
              "dtype: float64"
            ]
          },
          "execution_count": 10,
          "metadata": {},
          "output_type": "execute_result"
        }
      ],
      "source": [
        "myseries[myseries > myseries.median()]"
      ]
    },
    {
      "cell_type": "markdown",
      "metadata": {
        "id": "rRJCpgfrdFqE"
      },
      "source": [
        "**_Example_**\n",
        "\n",
        "* Following example is return the values in series with indexes\n",
        "* 3,2,0 represents the positions of a indexs\n",
        "* e.g. the index at 3,2,0 are o,n,l respectively"
      ]
    },
    {
      "cell_type": "code",
      "execution_count": null,
      "metadata": {
        "id": "ixOuyQn8dFqE",
        "outputId": "51d8fb3b-0a70-41ef-896f-34d48b8f56f1"
      },
      "outputs": [
        {
          "data": {
            "text/plain": [
              "o    0.064902\n",
              "n   -1.226343\n",
              "l   -0.653020\n",
              "dtype: float64"
            ]
          },
          "execution_count": 11,
          "metadata": {},
          "output_type": "execute_result"
        }
      ],
      "source": [
        "myseries[[3, 2, 0]]"
      ]
    },
    {
      "cell_type": "markdown",
      "metadata": {
        "id": "iuCw5lYTdFqE"
      },
      "source": [
        "**_Example_**\n",
        "* This example will returns the exponent values\n",
        "* Like e^o, here o is index and its respective data"
      ]
    },
    {
      "cell_type": "code",
      "execution_count": null,
      "metadata": {
        "id": "i2cNgb2mdFqE",
        "outputId": "66b8fe6b-261d-4238-b6b6-3911fd715bde"
      },
      "outputs": [
        {
          "data": {
            "text/plain": [
              "l    0.520471\n",
              "m    0.864225\n",
              "n    0.293364\n",
              "o    1.067055\n",
              "p    1.243216\n",
              "dtype: float64"
            ]
          },
          "execution_count": 12,
          "metadata": {},
          "output_type": "execute_result"
        }
      ],
      "source": [
        "np.exp(myseries)"
      ]
    },
    {
      "cell_type": "markdown",
      "metadata": {
        "id": "OkdrbDKZdFqF"
      },
      "source": [
        "**_Example_**\n",
        "\n",
        "* This example will return the data of specific given index"
      ]
    },
    {
      "cell_type": "code",
      "execution_count": null,
      "metadata": {
        "id": "0qTjr5lndFqF",
        "outputId": "20bdf9ae-5408-4c86-c039-39c81ecb2698"
      },
      "outputs": [
        {
          "data": {
            "text/plain": [
              "-1.2263426276652036"
            ]
          },
          "execution_count": 13,
          "metadata": {},
          "output_type": "execute_result"
        }
      ],
      "source": [
        "myseries['n']"
      ]
    },
    {
      "cell_type": "markdown",
      "metadata": {
        "id": "GCinXk8WdFqF"
      },
      "source": [
        "**_Example_**\n",
        "* Following example will update the data of the given index\n",
        "* Before updating 0=-0.552224 but after updating e = 12.000000"
      ]
    },
    {
      "cell_type": "code",
      "execution_count": null,
      "metadata": {
        "id": "CNT5KM0-dFqF",
        "outputId": "40ae2e0d-4854-4c2a-de40-bcbccdfa1319"
      },
      "outputs": [
        {
          "data": {
            "text/plain": [
              "l    -0.653020\n",
              "m    -0.145922\n",
              "n    -1.226343\n",
              "o    12.000000\n",
              "p     0.217702\n",
              "dtype: float64"
            ]
          },
          "execution_count": 14,
          "metadata": {},
          "output_type": "execute_result"
        }
      ],
      "source": [
        "myseries['o'] = 12.\n",
        "myseries"
      ]
    },
    {
      "cell_type": "markdown",
      "metadata": {
        "id": "nZtEb7BEdFqF"
      },
      "source": [
        "**_Example_**\n",
        "* Following will return true if 'm exists' in a indexes otherwise it returns false\n"
      ]
    },
    {
      "cell_type": "code",
      "execution_count": null,
      "metadata": {
        "id": "0Lg3DvcvdFqF",
        "outputId": "f7ead50a-562c-4044-941e-c0ea1e37143a"
      },
      "outputs": [
        {
          "data": {
            "text/plain": [
              "True"
            ]
          },
          "execution_count": 15,
          "metadata": {},
          "output_type": "execute_result"
        }
      ],
      "source": [
        "'m' in myseries"
      ]
    },
    {
      "cell_type": "markdown",
      "metadata": {
        "id": "8-R9wa9FdFqF"
      },
      "source": [
        "**_Example_**\n",
        "\n",
        "* This will create error in 'n' not exist in series."
      ]
    },
    {
      "cell_type": "code",
      "execution_count": null,
      "metadata": {
        "id": "K0c_JpkndFqG",
        "outputId": "bda6caea-6392-44a2-e74d-1b2498667d4f"
      },
      "outputs": [
        {
          "data": {
            "text/plain": [
              "-1.2263426276652036"
            ]
          },
          "execution_count": 16,
          "metadata": {},
          "output_type": "execute_result"
        }
      ],
      "source": [
        "myseries['n']"
      ]
    },
    {
      "cell_type": "markdown",
      "metadata": {
        "id": "RpUXqRaedFqG"
      },
      "source": [
        "**_Example_**\n",
        "* Using the get() method, no existing label will return nothing\n"
      ]
    },
    {
      "cell_type": "code",
      "execution_count": null,
      "metadata": {
        "id": "lwZPR6wydFqG"
      },
      "outputs": [],
      "source": [
        "myseries.get('s') #it will return none"
      ]
    },
    {
      "cell_type": "code",
      "execution_count": null,
      "metadata": {
        "id": "6Bx6xDzxdFqG",
        "outputId": "d88e724f-4715-4553-b43e-a073fbbbc17e"
      },
      "outputs": [
        {
          "data": {
            "text/plain": [
              "-0.14592179609047692"
            ]
          },
          "execution_count": 20,
          "metadata": {},
          "output_type": "execute_result"
        }
      ],
      "source": [
        "myseries.get('m', np.nan) #it will return default value"
      ]
    },
    {
      "cell_type": "markdown",
      "metadata": {
        "id": "kdrgPb10dFqG"
      },
      "source": [
        "## 12.7 Vectorized operations and label alignment with Series\n",
        "\n",
        "* In data analysis,by using NumPy arrays it is not required to get Series values through looping\n",
        "* Series data can be passed into most NumPy methods\n",
        "* series is not passed into  an ndarray.\n",
        "\n",
        "**_Example_**\n",
        "\n",
        "* Following example will add the data of series with series, of equivalent indexes and print the result\n"
      ]
    },
    {
      "cell_type": "code",
      "execution_count": null,
      "metadata": {
        "id": "lmKB7GvPdFqG",
        "outputId": "b5dcdc80-e283-4a95-c389-fd36eb8690e0"
      },
      "outputs": [
        {
          "name": "stdout",
          "output_type": "stream",
          "text": [
            "l    -1.306041\n",
            "m    -0.291844\n",
            "n    -2.452685\n",
            "o    24.000000\n",
            "p     0.435403\n",
            "dtype: float64\n"
          ]
        }
      ],
      "source": [
        "l = myseries['l'] + myseries['l']\n",
        "m = myseries['m'] + myseries['m']\n",
        "n = myseries['n'] + myseries['n']\n",
        "o = myseries['o'] + myseries['o']\n",
        "p = myseries['p'] + myseries['p']\n",
        "\n",
        "Total=myseries+myseries\n",
        "print(Total)"
      ]
    },
    {
      "cell_type": "markdown",
      "metadata": {
        "id": "_JxD4lk3dFqH"
      },
      "source": [
        "**_Example_**\n",
        "\n",
        "* Following example will multiply the series indexes values with 2 and print the result"
      ]
    },
    {
      "cell_type": "code",
      "execution_count": null,
      "metadata": {
        "id": "kVMUkRgzdFqH",
        "outputId": "75f505d2-52d4-4c76-8a03-404592545111"
      },
      "outputs": [
        {
          "name": "stdout",
          "output_type": "stream",
          "text": [
            "l    -1.498539\n",
            "m     3.246002\n",
            "n    -1.534587\n",
            "o    24.000000\n",
            "p     1.254392\n",
            "dtype: float64\n"
          ]
        }
      ],
      "source": [
        "\n",
        "l = myseries['l'] * 2\n",
        "m = myseries['m'] * 2\n",
        "n = myseries['n'] * 2\n",
        "o = myseries['o'] * 2\n",
        "p = myseries['p'] * 2\n",
        "\n",
        "result=myseries * 2\n",
        "print(result)\n"
      ]
    },
    {
      "cell_type": "code",
      "execution_count": null,
      "metadata": {
        "id": "hMqCxtdrdFqH",
        "outputId": "dd9934a2-7bf8-4c0b-d519-4210d635e66b"
      },
      "outputs": [
        {
          "name": "stdout",
          "output_type": "stream",
          "text": [
            "0   -0.655625\n",
            "1    0.942512\n",
            "2   -0.332767\n",
            "3    0.590877\n",
            "4   -0.208293\n",
            "Name: Nothing, dtype: float64\n"
          ]
        }
      ],
      "source": [
        "myseries = pd.Series(np.random.randn(5), name='Nothing')\n",
        "print(myseries)"
      ]
    },
    {
      "cell_type": "code",
      "execution_count": null,
      "metadata": {
        "id": "3NubUX2zdFqH",
        "outputId": "641e478b-b30f-4c26-c247-5b638caf79d2"
      },
      "outputs": [
        {
          "data": {
            "text/plain": [
              "'Nothing'"
            ]
          },
          "execution_count": 23,
          "metadata": {},
          "output_type": "execute_result"
        }
      ],
      "source": [
        "myseries.name #print the name attribute of series"
      ]
    },
    {
      "cell_type": "code",
      "execution_count": 10,
      "metadata": {},
      "outputs": [],
      "source": [
        "## Example 1\n",
        "import pandas as pd"
      ]
    },
    {
      "cell_type": "code",
      "execution_count": 11,
      "metadata": {},
      "outputs": [
        {
          "data": {
            "text/plain": [
              "a    1\n",
              "b    2\n",
              "c    3\n",
              "d    4\n",
              "e    5\n",
              "f    6\n",
              "dtype: int64"
            ]
          },
          "execution_count": 11,
          "metadata": {},
          "output_type": "execute_result"
        }
      ],
      "source": [
        "s=pd.Series([1,2,3,4,5,6],index=['a','b','c','d','e','f'])\n",
        "s"
      ]
    },
    {
      "cell_type": "code",
      "execution_count": 12,
      "metadata": {},
      "outputs": [
        {
          "name": "stdout",
          "output_type": "stream",
          "text": [
            "Name       Ali\n",
            "Age         21\n",
            "Marks     85.5\n",
            "Passed    True\n",
            "dtype: object\n"
          ]
        }
      ],
      "source": [
        "s4 = pd.Series([\"Ali\", 21, 85.5, True], index=[\"Name\", \"Age\", \"Marks\", \"Passed\"])\n",
        "print(s4)"
      ]
    },
    {
      "cell_type": "code",
      "execution_count": 13,
      "metadata": {},
      "outputs": [
        {
          "name": "stdout",
          "output_type": "stream",
          "text": [
            "Manual Doubling of Each Value:\n",
            "a: 10, b: 20, c: 30, d: 40, e: 50\n",
            "\n",
            "Doubling All Values at Once:\n",
            "a    10\n",
            "b    20\n",
            "c    30\n",
            "d    40\n",
            "e    50\n",
            "dtype: int64\n"
          ]
        }
      ],
      "source": [
        "import pandas as pd\n",
        "values = pd.Series({'a': 5, 'b': 10, 'c': 15, 'd': 20, 'e': 25})\n",
        "double_a = values['a'] * 2\n",
        "double_b = values['b'] * 2\n",
        "double_c = values['c'] * 2\n",
        "double_d = values['d'] * 2\n",
        "double_e = values['e'] * 2\n",
        "double_values = values * 2\n",
        "print(\"Manual Doubling of Each Value:\")\n",
        "print(f\"a: {double_a}, b: {double_b}, c: {double_c}, d: {double_d}, e: {double_e}\")\n",
        "print(\"\\nDoubling All Values at Once:\")\n",
        "print(double_values)\n"
      ]
    },
    {
      "cell_type": "markdown",
      "metadata": {
        "id": "meAVycY5dFqH"
      },
      "source": [
        "## 12.8 Why, When and Where series is used?\n",
        "\n",
        "**Why?**\n",
        "* series is aone-dimensional array\n",
        "* Series is used to handle and manipulate date\n",
        "* Used to perform mathematical operations\n",
        "* Requires a less memory space\n",
        "\n",
        "**WHen?**\n",
        "\n",
        "* When you need to store data in the form to tables\n",
        "* When you need to predict values based on previous information\n",
        "* When the size of data is large and stored in the form of tables for analysis\n",
        "* When you perform analisys on Weather predition analysis, stock price analysis\n",
        "\n",
        "**Where?**\n",
        "\n",
        "* Mostly used for the non-stationary data\n",
        "* Mostly used in Data science\n",
        "* Used in Machine learning algorithms for data analysis\n",
        "* Used in Prediction systems"
      ]
    },
    {
      "cell_type": "markdown",
      "metadata": {
        "id": "XQMD1sgXdFqH"
      },
      "source": [
        "## 13. Data Frames\n",
        "\n",
        "* Data Frames is a data structure with axes (rows and columns) which are labeled.\n",
        "* Its a two-dimensional size mutable\n",
        "* Data is represented in a tabular form in rows and columns.\n",
        "* DataFrame includes three basic components\n",
        "  * The data\n",
        "  * Rows, and columns.\n",
        "* Like Series, DataFrame accepts many several types of inputs\n",
        "* Dataframe can be created using\n",
        "  * ndarrays\n",
        "  * lists\n",
        "  * dicts\n",
        "  * Series\n",
        "* By calling the column name we can access the column in dataframe to slect the column\n",
        "* The main purpose of indexing is to slect the particular rows and columns data from the dataframe\n",
        "* Data Frame contains rows and columns so, if you want to iterate over dataframe, you must have to iterate the dataframe just like an dictionary.\n",
        "\n",
        "\n",
        "## 13.1 From dict of Series or dicts\n",
        "\n",
        "* The resultant index is the union of the indexes in a Series.\n",
        "* when dicts are nested, then it must convert into the series.\n",
        "* when there is no column is pass, the columns will be the sorted list of dict keys\n",
        "\n",
        "**_Example_**\n",
        "\n",
        "* Create Dict\n",
        "* Create a dataframe. row label will be the index of a series.\n",
        "* As the coloum labels are not provides so it will be sorted list of dict values"
      ]
    },
    {
      "cell_type": "code",
      "execution_count": null,
      "metadata": {
        "id": "qIjf_U_jdFqH",
        "outputId": "2c4c8f2a-ed03-4db2-8f76-707b4f5f7606"
      },
      "outputs": [
        {
          "name": "stdout",
          "output_type": "stream",
          "text": [
            "   column_one  column_two\n",
            "l         1.0         1.0\n",
            "m         2.0         2.0\n",
            "n         3.0         3.0\n",
            "o         NaN         4.0\n"
          ]
        }
      ],
      "source": [
        "import pandas as pd\n",
        "new_dict = {\n",
        "'column_one' : pd.Series([1., 2., 3.], index=['l', 'm', 'n']),\n",
        "'column_two' : pd.Series([1., 2., 3., 4.], index=['l', 'm', 'n', 'o'])\n",
        "}\n",
        "dataframe = pd.DataFrame(new_dict)\n",
        "print(dataframe)"
      ]
    },
    {
      "cell_type": "markdown",
      "metadata": {
        "id": "TLd7VX5ndFqI"
      },
      "source": [
        "**_Example_**\n",
        "* In the following example Data frame will be created for given row labels o, m, l"
      ]
    },
    {
      "cell_type": "code",
      "execution_count": null,
      "metadata": {
        "id": "8R5WJpAGdFqI",
        "outputId": "3be56033-a756-46f6-cf70-814cc8325314"
      },
      "outputs": [
        {
          "data": {
            "text/html": [
              "<div>\n",
              "<style scoped>\n",
              "    .dataframe tbody tr th:only-of-type {\n",
              "        vertical-align: middle;\n",
              "    }\n",
              "\n",
              "    .dataframe tbody tr th {\n",
              "        vertical-align: top;\n",
              "    }\n",
              "\n",
              "    .dataframe thead th {\n",
              "        text-align: right;\n",
              "    }\n",
              "</style>\n",
              "<table border=\"1\" class=\"dataframe\">\n",
              "  <thead>\n",
              "    <tr style=\"text-align: right;\">\n",
              "      <th></th>\n",
              "      <th>column_one</th>\n",
              "      <th>column_two</th>\n",
              "    </tr>\n",
              "  </thead>\n",
              "  <tbody>\n",
              "    <tr>\n",
              "      <th>o</th>\n",
              "      <td>NaN</td>\n",
              "      <td>4.0</td>\n",
              "    </tr>\n",
              "    <tr>\n",
              "      <th>m</th>\n",
              "      <td>2.0</td>\n",
              "      <td>2.0</td>\n",
              "    </tr>\n",
              "    <tr>\n",
              "      <th>l</th>\n",
              "      <td>1.0</td>\n",
              "      <td>1.0</td>\n",
              "    </tr>\n",
              "  </tbody>\n",
              "</table>\n",
              "</div>"
            ],
            "text/plain": [
              "   column_one  column_two\n",
              "o         NaN         4.0\n",
              "m         2.0         2.0\n",
              "l         1.0         1.0"
            ]
          },
          "execution_count": 3,
          "metadata": {},
          "output_type": "execute_result"
        }
      ],
      "source": [
        "\n",
        "pd.DataFrame(new_dict, index=['o', 'm', 'l'])"
      ]
    },
    {
      "cell_type": "markdown",
      "metadata": {
        "id": "0y4y5akCdFqI"
      },
      "source": [
        "**_Example_**\n",
        "* Following example will display a data frame when we give coloumn names"
      ]
    },
    {
      "cell_type": "code",
      "execution_count": null,
      "metadata": {
        "id": "sikqXJd6dFqI",
        "outputId": "c9545bd2-b60d-4a8e-c7cf-3466d57d4d0a"
      },
      "outputs": [
        {
          "data": {
            "text/html": [
              "<div>\n",
              "<style scoped>\n",
              "    .dataframe tbody tr th:only-of-type {\n",
              "        vertical-align: middle;\n",
              "    }\n",
              "\n",
              "    .dataframe tbody tr th {\n",
              "        vertical-align: top;\n",
              "    }\n",
              "\n",
              "    .dataframe thead th {\n",
              "        text-align: right;\n",
              "    }\n",
              "</style>\n",
              "<table border=\"1\" class=\"dataframe\">\n",
              "  <thead>\n",
              "    <tr style=\"text-align: right;\">\n",
              "      <th></th>\n",
              "      <th>column_two</th>\n",
              "      <th>Three</th>\n",
              "    </tr>\n",
              "  </thead>\n",
              "  <tbody>\n",
              "    <tr>\n",
              "      <th>o</th>\n",
              "      <td>4.0</td>\n",
              "      <td>NaN</td>\n",
              "    </tr>\n",
              "    <tr>\n",
              "      <th>m</th>\n",
              "      <td>2.0</td>\n",
              "      <td>NaN</td>\n",
              "    </tr>\n",
              "    <tr>\n",
              "      <th>l</th>\n",
              "      <td>1.0</td>\n",
              "      <td>NaN</td>\n",
              "    </tr>\n",
              "  </tbody>\n",
              "</table>\n",
              "</div>"
            ],
            "text/plain": [
              "   column_two Three\n",
              "o         4.0   NaN\n",
              "m         2.0   NaN\n",
              "l         1.0   NaN"
            ]
          },
          "execution_count": 4,
          "metadata": {},
          "output_type": "execute_result"
        }
      ],
      "source": [
        "pd.DataFrame(new_dict, index=['o', 'm', 'l'], columns=['column_two', 'Three'])"
      ]
    },
    {
      "cell_type": "code",
      "execution_count": null,
      "metadata": {
        "id": "BrVACFxvdFqI",
        "outputId": "1a1b8c06-97cb-4167-f719-26404dff5e11"
      },
      "outputs": [
        {
          "data": {
            "text/plain": [
              "Index(['column_one', 'column_two'], dtype='object')"
            ]
          },
          "execution_count": 5,
          "metadata": {},
          "output_type": "execute_result"
        }
      ],
      "source": [
        "dataframe.columns"
      ]
    },
    {
      "cell_type": "markdown",
      "metadata": {
        "id": "-zHJiGPwdFqI"
      },
      "source": [
        "## 13.2 From dict of ndarrays / lists\n",
        "\n",
        "* The length of all ndarry must be same.\n",
        "* length is same as arrays when index is passed\n",
        "* Result will be range(m), where m is the array length when index is not passed.\n",
        "\n",
        "**_Example_**\n",
        "\n",
        "* Following examples shows that ndarray having the lengths are same"
      ]
    },
    {
      "cell_type": "code",
      "execution_count": null,
      "metadata": {
        "id": "Hdrq66VcdFqI",
        "outputId": "cbd2b3b4-339f-4d82-ba81-521a438557bf"
      },
      "outputs": [
        {
          "data": {
            "text/html": [
              "<div>\n",
              "<style scoped>\n",
              "    .dataframe tbody tr th:only-of-type {\n",
              "        vertical-align: middle;\n",
              "    }\n",
              "\n",
              "    .dataframe tbody tr th {\n",
              "        vertical-align: top;\n",
              "    }\n",
              "\n",
              "    .dataframe thead th {\n",
              "        text-align: right;\n",
              "    }\n",
              "</style>\n",
              "<table border=\"1\" class=\"dataframe\">\n",
              "  <thead>\n",
              "    <tr style=\"text-align: right;\">\n",
              "      <th></th>\n",
              "      <th>Col_One</th>\n",
              "      <th>Col_Two</th>\n",
              "    </tr>\n",
              "  </thead>\n",
              "  <tbody>\n",
              "    <tr>\n",
              "      <th>0</th>\n",
              "      <td>1.0</td>\n",
              "      <td>4.0</td>\n",
              "    </tr>\n",
              "    <tr>\n",
              "      <th>1</th>\n",
              "      <td>2.0</td>\n",
              "      <td>3.0</td>\n",
              "    </tr>\n",
              "    <tr>\n",
              "      <th>2</th>\n",
              "      <td>3.0</td>\n",
              "      <td>2.0</td>\n",
              "    </tr>\n",
              "    <tr>\n",
              "      <th>3</th>\n",
              "      <td>4.0</td>\n",
              "      <td>1.0</td>\n",
              "    </tr>\n",
              "  </tbody>\n",
              "</table>\n",
              "</div>"
            ],
            "text/plain": [
              "   Col_One  Col_Two\n",
              "0      1.0      4.0\n",
              "1      2.0      3.0\n",
              "2      3.0      2.0\n",
              "3      4.0      1.0"
            ]
          },
          "execution_count": 6,
          "metadata": {},
          "output_type": "execute_result"
        }
      ],
      "source": [
        "my_data = {\n",
        "'Col_One' : [1., 2., 3., 4.],\n",
        "'Col_Two' : [4., 3., 2., 1.]\n",
        "}\n",
        "\n",
        "pd.DataFrame(my_data)"
      ]
    },
    {
      "cell_type": "markdown",
      "metadata": {
        "id": "OvoxH9jddFqJ"
      },
      "source": [
        "**_Example_**\n",
        "* when indexs are given the length will same of both arrays\n"
      ]
    },
    {
      "cell_type": "code",
      "execution_count": null,
      "metadata": {
        "id": "oL3xQWwKdFqJ",
        "outputId": "dcfefbf9-3666-45f0-fcc2-a7b23e5e80ab"
      },
      "outputs": [
        {
          "data": {
            "text/html": [
              "<div>\n",
              "<style scoped>\n",
              "    .dataframe tbody tr th:only-of-type {\n",
              "        vertical-align: middle;\n",
              "    }\n",
              "\n",
              "    .dataframe tbody tr th {\n",
              "        vertical-align: top;\n",
              "    }\n",
              "\n",
              "    .dataframe thead th {\n",
              "        text-align: right;\n",
              "    }\n",
              "</style>\n",
              "<table border=\"1\" class=\"dataframe\">\n",
              "  <thead>\n",
              "    <tr style=\"text-align: right;\">\n",
              "      <th></th>\n",
              "      <th>Col_One</th>\n",
              "      <th>Col_Two</th>\n",
              "    </tr>\n",
              "  </thead>\n",
              "  <tbody>\n",
              "    <tr>\n",
              "      <th>l</th>\n",
              "      <td>1.0</td>\n",
              "      <td>4.0</td>\n",
              "    </tr>\n",
              "    <tr>\n",
              "      <th>m</th>\n",
              "      <td>2.0</td>\n",
              "      <td>3.0</td>\n",
              "    </tr>\n",
              "    <tr>\n",
              "      <th>n</th>\n",
              "      <td>3.0</td>\n",
              "      <td>2.0</td>\n",
              "    </tr>\n",
              "    <tr>\n",
              "      <th>o</th>\n",
              "      <td>4.0</td>\n",
              "      <td>1.0</td>\n",
              "    </tr>\n",
              "  </tbody>\n",
              "</table>\n",
              "</div>"
            ],
            "text/plain": [
              "   Col_One  Col_Two\n",
              "l      1.0      4.0\n",
              "m      2.0      3.0\n",
              "n      3.0      2.0\n",
              "o      4.0      1.0"
            ]
          },
          "execution_count": 7,
          "metadata": {},
          "output_type": "execute_result"
        }
      ],
      "source": [
        "pd.DataFrame(my_data, index=['l', 'm', 'n', 'o'])"
      ]
    },
    {
      "cell_type": "markdown",
      "metadata": {
        "id": "GSeunPmGdFqJ"
      },
      "source": [
        "## 13.3 From a list of dicts\n",
        "\n",
        "**_Example_**\n",
        "\n",
        "* Creating a DataFrame from list of dicts"
      ]
    },
    {
      "cell_type": "code",
      "execution_count": null,
      "metadata": {
        "id": "-4UIct4ddFqJ",
        "outputId": "9a4b6cb9-cf24-48ab-b4f3-e6721b84b9ca"
      },
      "outputs": [
        {
          "data": {
            "text/html": [
              "<div>\n",
              "<style scoped>\n",
              "    .dataframe tbody tr th:only-of-type {\n",
              "        vertical-align: middle;\n",
              "    }\n",
              "\n",
              "    .dataframe tbody tr th {\n",
              "        vertical-align: top;\n",
              "    }\n",
              "\n",
              "    .dataframe thead th {\n",
              "        text-align: right;\n",
              "    }\n",
              "</style>\n",
              "<table border=\"1\" class=\"dataframe\">\n",
              "  <thead>\n",
              "    <tr style=\"text-align: right;\">\n",
              "      <th></th>\n",
              "      <th>l</th>\n",
              "      <th>m</th>\n",
              "      <th>n</th>\n",
              "    </tr>\n",
              "  </thead>\n",
              "  <tbody>\n",
              "    <tr>\n",
              "      <th>0</th>\n",
              "      <td>1</td>\n",
              "      <td>2</td>\n",
              "      <td>NaN</td>\n",
              "    </tr>\n",
              "    <tr>\n",
              "      <th>1</th>\n",
              "      <td>5</td>\n",
              "      <td>10</td>\n",
              "      <td>20.0</td>\n",
              "    </tr>\n",
              "  </tbody>\n",
              "</table>\n",
              "</div>"
            ],
            "text/plain": [
              "   l   m     n\n",
              "0  1   2   NaN\n",
              "1  5  10  20.0"
            ]
          },
          "execution_count": 8,
          "metadata": {},
          "output_type": "execute_result"
        }
      ],
      "source": [
        "my_data2 = [{'l': 1, 'm': 2}, {'l': 5, 'm': 10, 'n': 20}]\n",
        "pd.DataFrame(my_data2)"
      ]
    },
    {
      "cell_type": "markdown",
      "metadata": {
        "id": "VhcxalSydFqJ"
      },
      "source": [
        "**_Example_**\n",
        "\n",
        "* In the following example, Passing list of dicts data and indexes as row labels"
      ]
    },
    {
      "cell_type": "code",
      "execution_count": null,
      "metadata": {
        "id": "dY8oFmjSdFqJ",
        "outputId": "32745e9a-8f2e-4075-e644-984cfdbbd150"
      },
      "outputs": [
        {
          "data": {
            "text/html": [
              "<div>\n",
              "<style scoped>\n",
              "    .dataframe tbody tr th:only-of-type {\n",
              "        vertical-align: middle;\n",
              "    }\n",
              "\n",
              "    .dataframe tbody tr th {\n",
              "        vertical-align: top;\n",
              "    }\n",
              "\n",
              "    .dataframe thead th {\n",
              "        text-align: right;\n",
              "    }\n",
              "</style>\n",
              "<table border=\"1\" class=\"dataframe\">\n",
              "  <thead>\n",
              "    <tr style=\"text-align: right;\">\n",
              "      <th></th>\n",
              "      <th>l</th>\n",
              "      <th>m</th>\n",
              "      <th>n</th>\n",
              "    </tr>\n",
              "  </thead>\n",
              "  <tbody>\n",
              "    <tr>\n",
              "      <th>first_row</th>\n",
              "      <td>1</td>\n",
              "      <td>2</td>\n",
              "      <td>NaN</td>\n",
              "    </tr>\n",
              "    <tr>\n",
              "      <th>second_row</th>\n",
              "      <td>5</td>\n",
              "      <td>10</td>\n",
              "      <td>20.0</td>\n",
              "    </tr>\n",
              "  </tbody>\n",
              "</table>\n",
              "</div>"
            ],
            "text/plain": [
              "            l   m     n\n",
              "first_row   1   2   NaN\n",
              "second_row  5  10  20.0"
            ]
          },
          "execution_count": 9,
          "metadata": {},
          "output_type": "execute_result"
        }
      ],
      "source": [
        "pd.DataFrame(my_data2, index=['first_row', 'second_row'])"
      ]
    },
    {
      "cell_type": "markdown",
      "metadata": {
        "id": "fBruXmE-dFqK"
      },
      "source": [
        "**_Example_**\n",
        "\n",
        "* In this example passing list of dicts as data and columns labels"
      ]
    },
    {
      "cell_type": "code",
      "execution_count": null,
      "metadata": {
        "id": "v6QHUZtNdFqK",
        "outputId": "04cdbc19-b60c-4b8d-9af2-0303ad5b5781"
      },
      "outputs": [
        {
          "data": {
            "text/html": [
              "<div>\n",
              "<style scoped>\n",
              "    .dataframe tbody tr th:only-of-type {\n",
              "        vertical-align: middle;\n",
              "    }\n",
              "\n",
              "    .dataframe tbody tr th {\n",
              "        vertical-align: top;\n",
              "    }\n",
              "\n",
              "    .dataframe thead th {\n",
              "        text-align: right;\n",
              "    }\n",
              "</style>\n",
              "<table border=\"1\" class=\"dataframe\">\n",
              "  <thead>\n",
              "    <tr style=\"text-align: right;\">\n",
              "      <th></th>\n",
              "      <th>l</th>\n",
              "      <th>m</th>\n",
              "    </tr>\n",
              "  </thead>\n",
              "  <tbody>\n",
              "    <tr>\n",
              "      <th>0</th>\n",
              "      <td>1</td>\n",
              "      <td>2</td>\n",
              "    </tr>\n",
              "    <tr>\n",
              "      <th>1</th>\n",
              "      <td>5</td>\n",
              "      <td>10</td>\n",
              "    </tr>\n",
              "  </tbody>\n",
              "</table>\n",
              "</div>"
            ],
            "text/plain": [
              "   l   m\n",
              "0  1   2\n",
              "1  5  10"
            ]
          },
          "execution_count": 10,
          "metadata": {},
          "output_type": "execute_result"
        }
      ],
      "source": [
        "pd.DataFrame(my_data2, columns=['l', 'm'])"
      ]
    },
    {
      "cell_type": "markdown",
      "metadata": {
        "id": "PsAj9cjZdFqK"
      },
      "source": [
        "## 13.4 From a dict of tuples\n",
        "\n",
        "* When you pass an tuples dictionary you can automatically create multi_indexed data frame\n",
        "\n",
        "**_Example_**\n",
        "\n",
        "* NaN represents as missing data"
      ]
    },
    {
      "cell_type": "code",
      "execution_count": null,
      "metadata": {
        "id": "Gk_7J0UrdFqK",
        "outputId": "4b9601af-5ad4-43c5-c13a-99bc4dc98f45"
      },
      "outputs": [
        {
          "data": {
            "text/html": [
              "<div>\n",
              "<style scoped>\n",
              "    .dataframe tbody tr th:only-of-type {\n",
              "        vertical-align: middle;\n",
              "    }\n",
              "\n",
              "    .dataframe tbody tr th {\n",
              "        vertical-align: top;\n",
              "    }\n",
              "\n",
              "    .dataframe thead tr th {\n",
              "        text-align: left;\n",
              "    }\n",
              "</style>\n",
              "<table border=\"1\" class=\"dataframe\">\n",
              "  <thead>\n",
              "    <tr>\n",
              "      <th></th>\n",
              "      <th></th>\n",
              "      <th colspan=\"3\" halign=\"left\">a</th>\n",
              "      <th colspan=\"2\" halign=\"left\">b</th>\n",
              "    </tr>\n",
              "    <tr>\n",
              "      <th></th>\n",
              "      <th></th>\n",
              "      <th>b</th>\n",
              "      <th>a</th>\n",
              "      <th>c</th>\n",
              "      <th>a</th>\n",
              "      <th>b</th>\n",
              "    </tr>\n",
              "  </thead>\n",
              "  <tbody>\n",
              "    <tr>\n",
              "      <th rowspan=\"3\" valign=\"top\">A</th>\n",
              "      <th>B</th>\n",
              "      <td>1.0</td>\n",
              "      <td>4.0</td>\n",
              "      <td>5.0</td>\n",
              "      <td>8.0</td>\n",
              "      <td>10.0</td>\n",
              "    </tr>\n",
              "    <tr>\n",
              "      <th>C</th>\n",
              "      <td>2.0</td>\n",
              "      <td>3.0</td>\n",
              "      <td>6.0</td>\n",
              "      <td>7.0</td>\n",
              "      <td>NaN</td>\n",
              "    </tr>\n",
              "    <tr>\n",
              "      <th>D</th>\n",
              "      <td>NaN</td>\n",
              "      <td>NaN</td>\n",
              "      <td>NaN</td>\n",
              "      <td>NaN</td>\n",
              "      <td>9.0</td>\n",
              "    </tr>\n",
              "  </tbody>\n",
              "</table>\n",
              "</div>"
            ],
            "text/plain": [
              "       a              b      \n",
              "       b    a    c    a     b\n",
              "A B  1.0  4.0  5.0  8.0  10.0\n",
              "  C  2.0  3.0  6.0  7.0   NaN\n",
              "  D  NaN  NaN  NaN  NaN   9.0"
            ]
          },
          "execution_count": 11,
          "metadata": {},
          "output_type": "execute_result"
        }
      ],
      "source": [
        "pd.DataFrame({('a', 'b'): {('A', 'B'): 1, ('A', 'C'): 2},\n",
        "('a', 'a'): {('A', 'C'): 3, ('A', 'B'): 4},\n",
        "('a', 'c'): {('A', 'B'): 5, ('A', 'C'): 6},\n",
        "('b', 'a'): {('A', 'C'): 7, ('A', 'B'): 8},\n",
        "('b', 'b'): {('A', 'D'): 9, ('A', 'B'): 10}})\n"
      ]
    },
    {
      "cell_type": "markdown",
      "metadata": {
        "id": "p8ibpPOZdFqK"
      },
      "source": [
        "## 13.5 Alternate Constructors\n",
        "\n",
        "* These are the following alternate constructors given below\n",
        "  * DataFrame.from_dict\n",
        "  * DataFrame.from_records\n",
        "  \n",
        "**DataFrame.from_dict**\n",
        "\n",
        "* DataFrame.from_dict takes a sequence of dicts values and returns a DataFrame.\n",
        "* It is just like a DataFrame constructor except for 'columns' parameter\n",
        "* it can be set to 'index' to use the dict values as row labels.\n",
        "\n",
        "**DataFrame.from_records**\n",
        "\n",
        "* DataFrame.from_records takes a list of tuples\n",
        "* Or its takes an ndarray with any type.\n",
        "\n",
        "**_Example_**\n",
        "* Given below an example"
      ]
    },
    {
      "cell_type": "code",
      "execution_count": null,
      "metadata": {
        "id": "Pz8G7oYWdFqK",
        "outputId": "e0b1c98f-7a1a-4432-d4c3-5feca648e645"
      },
      "outputs": [
        {
          "name": "stdout",
          "output_type": "stream",
          "text": [
            "[(0, 0., b'') (0, 0., b'')]\n"
          ]
        }
      ],
      "source": [
        "import numpy as np\n",
        "mydata = np.zeros((2,), dtype=[('A', 'i4'),('B', 'f4'),('C', 'a10')])\n",
        "print(mydata)"
      ]
    },
    {
      "cell_type": "code",
      "execution_count": null,
      "metadata": {
        "id": "m8KC_laVdFqK",
        "outputId": "0cb0b89d-f236-46d6-af2d-d4a4fd6b2b9a"
      },
      "outputs": [
        {
          "data": {
            "text/html": [
              "<div>\n",
              "<style scoped>\n",
              "    .dataframe tbody tr th:only-of-type {\n",
              "        vertical-align: middle;\n",
              "    }\n",
              "\n",
              "    .dataframe tbody tr th {\n",
              "        vertical-align: top;\n",
              "    }\n",
              "\n",
              "    .dataframe thead th {\n",
              "        text-align: right;\n",
              "    }\n",
              "</style>\n",
              "<table border=\"1\" class=\"dataframe\">\n",
              "  <thead>\n",
              "    <tr style=\"text-align: right;\">\n",
              "      <th></th>\n",
              "      <th>A</th>\n",
              "      <th>B</th>\n",
              "    </tr>\n",
              "    <tr>\n",
              "      <th>C</th>\n",
              "      <th></th>\n",
              "      <th></th>\n",
              "    </tr>\n",
              "  </thead>\n",
              "  <tbody>\n",
              "    <tr>\n",
              "      <th>b''</th>\n",
              "      <td>0</td>\n",
              "      <td>0.0</td>\n",
              "    </tr>\n",
              "    <tr>\n",
              "      <th>b''</th>\n",
              "      <td>0</td>\n",
              "      <td>0.0</td>\n",
              "    </tr>\n",
              "  </tbody>\n",
              "</table>\n",
              "</div>"
            ],
            "text/plain": [
              "     A    B\n",
              "C          \n",
              "b''  0  0.0\n",
              "b''  0  0.0"
            ]
          },
          "execution_count": 17,
          "metadata": {},
          "output_type": "execute_result"
        }
      ],
      "source": [
        "pd.DataFrame.from_records(mydata, index='C')"
      ]
    },
    {
      "cell_type": "markdown",
      "metadata": {
        "id": "KsCtzjm0dFqL"
      },
      "source": [
        "## 13.6 Column selection, addition, deletion\n",
        "\n",
        "* DataFrame can be worked semantically\n",
        "* DataFrame is a dict of lindexed Series of the objects\n",
        "* Column selecting,addition, and deletion columns works as same syntax as the analogous dict operations.\n",
        "\n",
        "### 13.6.1 Column selection\n",
        "\n",
        "**_Example_**\n",
        "\n",
        "* Given below example selects and show data under coloumn 'column_one'"
      ]
    },
    {
      "cell_type": "code",
      "execution_count": null,
      "metadata": {
        "id": "bNFacytMdFqL",
        "outputId": "f9eab469-652a-46ae-e6fe-b8f3e36d21ce"
      },
      "outputs": [
        {
          "data": {
            "text/plain": [
              "l    1.0\n",
              "m    2.0\n",
              "n    3.0\n",
              "o    NaN\n",
              "Name: column_one, dtype: float64"
            ]
          },
          "execution_count": 18,
          "metadata": {},
          "output_type": "execute_result"
        }
      ],
      "source": [
        "dataframe['column_one']"
      ]
    },
    {
      "cell_type": "markdown",
      "metadata": {
        "id": "8fR9mcSDdFqL"
      },
      "source": [
        "**_Example_**\n",
        "*  Assigning values to a column named 'colmun_three' after perform calculation"
      ]
    },
    {
      "cell_type": "code",
      "execution_count": null,
      "metadata": {
        "id": "dNBw3zj1dFqL",
        "outputId": "34108f7c-274e-4c51-caa3-9681e1cfd3df"
      },
      "outputs": [
        {
          "name": "stdout",
          "output_type": "stream",
          "text": [
            "   column_one  column_two  column_three\n",
            "l         1.0         1.0           1.0\n",
            "m         2.0         2.0           4.0\n",
            "n         3.0         3.0           9.0\n",
            "o         NaN         4.0           NaN\n"
          ]
        }
      ],
      "source": [
        "dataframe['column_three'] = dataframe['column_one'] * dataframe['column_two']\n",
        "print(dataframe)"
      ]
    },
    {
      "cell_type": "markdown",
      "metadata": {
        "id": "-onqmOatdFqL"
      },
      "source": [
        "**_Example_**\n",
        "*  Assigning values to a column named 'colmun_three' after perform calculation\n",
        "*  check if value of \"column_one' is > 2 then assign True otherwise false"
      ]
    },
    {
      "cell_type": "code",
      "execution_count": null,
      "metadata": {
        "id": "6oBuptMpdFqL",
        "outputId": "2f74e9fe-3a8f-449d-b0a8-48ae13d2be9b"
      },
      "outputs": [
        {
          "name": "stdout",
          "output_type": "stream",
          "text": [
            "   column_one  column_two  column_three   flag\n",
            "l         1.0         1.0           1.0  False\n",
            "m         2.0         2.0           4.0  False\n",
            "n         3.0         3.0           9.0   True\n",
            "o         NaN         4.0           NaN  False\n"
          ]
        }
      ],
      "source": [
        "dataframe['flag'] = dataframe['column_one'] > 2\n",
        "print(dataframe)"
      ]
    },
    {
      "cell_type": "markdown",
      "metadata": {
        "id": "AxB6UGEsdFqL"
      },
      "source": [
        "### 13.6.2 Column Deletion\n",
        "\n",
        "* Columns can be deleted or popped like with a dict\n",
        "\n",
        "**_Example_**\n",
        "* The following example shows Delete 'column_two' from data frame"
      ]
    },
    {
      "cell_type": "code",
      "execution_count": null,
      "metadata": {
        "id": "ZBEAGKlfdFqM"
      },
      "outputs": [],
      "source": [
        "del dataframe['column_two']"
      ]
    },
    {
      "cell_type": "code",
      "execution_count": null,
      "metadata": {
        "id": "W0HS8LoTdFqM"
      },
      "outputs": [],
      "source": [
        "three = dataframe.pop('column_three') #pop a complete coloumn 'three' from dataframe"
      ]
    },
    {
      "cell_type": "code",
      "execution_count": null,
      "metadata": {
        "id": "rV56m5z_dFqM",
        "outputId": "cfe7239d-5d76-44a6-c466-ae4eb6956cbb"
      },
      "outputs": [
        {
          "name": "stdout",
          "output_type": "stream",
          "text": [
            "   column_one   flag\n",
            "l         1.0  False\n",
            "m         2.0  False\n",
            "n         3.0   True\n",
            "o         NaN  False\n"
          ]
        }
      ],
      "source": [
        "print(dataframe)"
      ]
    },
    {
      "cell_type": "markdown",
      "metadata": {
        "id": "P1nYlLlddFqM"
      },
      "source": [
        "### 13.6.3 Column Inerstion\n",
        "\n",
        "* When inserting a scalar value, it means thats fill the comlumn\n",
        "\n",
        "**_Example_**\n",
        "\n",
        "* In the following example new coloumn named 'Machine' will be assigned with 'learning'"
      ]
    },
    {
      "cell_type": "code",
      "execution_count": null,
      "metadata": {
        "id": "YnJ4K8-rdFqM"
      },
      "outputs": [],
      "source": [
        "dataframe['Machine'] = 'learning'"
      ]
    },
    {
      "cell_type": "code",
      "execution_count": null,
      "metadata": {
        "id": "gdr53Z4DdFqM",
        "outputId": "f8b21d0c-7438-4914-ee70-1cf9d325387c"
      },
      "outputs": [
        {
          "name": "stdout",
          "output_type": "stream",
          "text": [
            "   column_one   flag   Machine\n",
            "l         1.0  False  learning\n",
            "m         2.0  False  learning\n",
            "n         3.0   True  learning\n",
            "o         NaN  False  learning\n"
          ]
        }
      ],
      "source": [
        "print(dataframe)"
      ]
    },
    {
      "cell_type": "markdown",
      "metadata": {
        "id": "njT6cBm6dFqM"
      },
      "source": [
        "**_Example_**\n",
        "* When inserting a Series that does not have the same index as the DataFrame\n",
        "* It will be confirmed to the index of a DataFrame’s\n",
        "* In the following example will take values from column_one its give range and create a new column\n"
      ]
    },
    {
      "cell_type": "code",
      "execution_count": null,
      "metadata": {
        "id": "5bdk4illdFqN"
      },
      "outputs": [],
      "source": [
        "dataframe['one_trunc'] = dataframe['column_one'][:2]"
      ]
    },
    {
      "cell_type": "code",
      "execution_count": null,
      "metadata": {
        "id": "5z828gy1dFqN",
        "outputId": "91ef32ef-3f51-4f5d-fff1-e1207d6da866"
      },
      "outputs": [
        {
          "name": "stdout",
          "output_type": "stream",
          "text": [
            "   column_one   flag   Machine  one_trunc\n",
            "l         1.0  False  learning        1.0\n",
            "m         2.0  False  learning        2.0\n",
            "n         3.0   True  learning        NaN\n",
            "o         NaN  False  learning        NaN\n"
          ]
        }
      ],
      "source": [
        "print(dataframe)"
      ]
    },
    {
      "cell_type": "markdown",
      "metadata": {
        "id": "4UpAJFJndFqN"
      },
      "source": [
        "**_Example_**\n",
        "* The new column inserted at the end by default.\n",
        "* By using insert methods to insert a new column at a particular location"
      ]
    },
    {
      "cell_type": "code",
      "execution_count": null,
      "metadata": {
        "id": "YrFmRP7idFqN"
      },
      "outputs": [],
      "source": [
        "\"\"\"following function has three arguments.\n",
        "Argument 1: index where new column will be inserted.\n",
        "Argument 2: Heading or title of a new clomun\n",
        "Argument 3: copy the vales of specific existing comlun\"\"\"\n",
        "\n",
        "dataframe.insert(1, 'python', dataframe['column_one'])"
      ]
    },
    {
      "cell_type": "code",
      "execution_count": null,
      "metadata": {
        "id": "7VZLzgmjdFqN",
        "outputId": "ee5d44c9-8935-4647-da5d-9c4d1761f2dc"
      },
      "outputs": [
        {
          "name": "stdout",
          "output_type": "stream",
          "text": [
            "   column_one  python   flag   Machine  one_trunc\n",
            "l         1.0     1.0  False  learning        1.0\n",
            "m         2.0     2.0  False  learning        2.0\n",
            "n         3.0     3.0   True  learning        NaN\n",
            "o         NaN     NaN  False  learning        NaN\n"
          ]
        }
      ],
      "source": [
        "print(dataframe)"
      ]
    },
    {
      "cell_type": "markdown",
      "metadata": {
        "id": "eY2sbGVcdFqO"
      },
      "source": [
        "## 13.7 Indexing / Selection\n",
        "\n",
        "* Row selection, for example, returns a Series whose index is the columns of the DataFrame:\n",
        "\n",
        "**_Example_**\n",
        "\n",
        "* The following example will return labels of a column and row **'l'** values"
      ]
    },
    {
      "cell_type": "code",
      "execution_count": null,
      "metadata": {
        "id": "3NABOFY-dFqO",
        "outputId": "6a5f7aaf-dd74-4cd0-aa5e-41eda3d25fb7"
      },
      "outputs": [
        {
          "data": {
            "text/plain": [
              "column_one           1\n",
              "python               1\n",
              "flag             False\n",
              "Machine       learning\n",
              "one_trunc            1\n",
              "Name: l, dtype: object"
            ]
          },
          "execution_count": 32,
          "metadata": {},
          "output_type": "execute_result"
        }
      ],
      "source": [
        "dataframe.loc['l']"
      ]
    },
    {
      "cell_type": "markdown",
      "metadata": {
        "id": "oPjp4qL2dFqO"
      },
      "source": [
        "**_Example_**\n",
        "\n",
        "* The following example  will return the values of a coloumns that is > than 3"
      ]
    },
    {
      "cell_type": "code",
      "execution_count": null,
      "metadata": {
        "id": "fx_RHuDCdFqO",
        "outputId": "35f7f575-8dfc-45ff-be2d-2c64bb063a63"
      },
      "outputs": [
        {
          "data": {
            "text/plain": [
              "column_one         NaN\n",
              "python             NaN\n",
              "flag             False\n",
              "Machine       learning\n",
              "one_trunc          NaN\n",
              "Name: o, dtype: object"
            ]
          },
          "execution_count": 33,
          "metadata": {},
          "output_type": "execute_result"
        }
      ],
      "source": [
        "dataframe.iloc[3]"
      ]
    },
    {
      "cell_type": "markdown",
      "metadata": {
        "id": "tDbFROjMdFqO"
      },
      "source": [
        "## 13.8 Data alignment and arithmetic\n",
        "\n",
        "* Data alignment between DataFrame objects automatically align\n",
        "* Data alignment is done on both the columns and rows.\n",
        "* Resulting column will be the union of the columns and rows."
      ]
    },
    {
      "cell_type": "code",
      "execution_count": null,
      "metadata": {
        "id": "qyEe4a42dFqO"
      },
      "outputs": [],
      "source": [
        "dataframe = pd.DataFrame(np.random.randn(10, 4), columns=['A', 'B', 'C', 'D'])"
      ]
    },
    {
      "cell_type": "code",
      "execution_count": null,
      "metadata": {
        "id": "uWAY2rxndFqO"
      },
      "outputs": [],
      "source": [
        "dataframe2 = pd.DataFrame(np.random.randn(7, 3), columns=['A', 'B', 'C'])"
      ]
    },
    {
      "cell_type": "code",
      "execution_count": null,
      "metadata": {
        "id": "lw_djR7udFqP",
        "outputId": "f765442a-2d11-4987-c6dc-49e7eb67255b"
      },
      "outputs": [
        {
          "data": {
            "text/html": [
              "<div>\n",
              "<style scoped>\n",
              "    .dataframe tbody tr th:only-of-type {\n",
              "        vertical-align: middle;\n",
              "    }\n",
              "\n",
              "    .dataframe tbody tr th {\n",
              "        vertical-align: top;\n",
              "    }\n",
              "\n",
              "    .dataframe thead th {\n",
              "        text-align: right;\n",
              "    }\n",
              "</style>\n",
              "<table border=\"1\" class=\"dataframe\">\n",
              "  <thead>\n",
              "    <tr style=\"text-align: right;\">\n",
              "      <th></th>\n",
              "      <th>A</th>\n",
              "      <th>B</th>\n",
              "      <th>C</th>\n",
              "      <th>D</th>\n",
              "    </tr>\n",
              "  </thead>\n",
              "  <tbody>\n",
              "    <tr>\n",
              "      <th>0</th>\n",
              "      <td>-1.121929</td>\n",
              "      <td>1.744645</td>\n",
              "      <td>-0.863721</td>\n",
              "      <td>NaN</td>\n",
              "    </tr>\n",
              "    <tr>\n",
              "      <th>1</th>\n",
              "      <td>-1.089901</td>\n",
              "      <td>-1.961978</td>\n",
              "      <td>-0.113647</td>\n",
              "      <td>NaN</td>\n",
              "    </tr>\n",
              "    <tr>\n",
              "      <th>2</th>\n",
              "      <td>2.046469</td>\n",
              "      <td>1.409829</td>\n",
              "      <td>-0.276194</td>\n",
              "      <td>NaN</td>\n",
              "    </tr>\n",
              "    <tr>\n",
              "      <th>3</th>\n",
              "      <td>0.164436</td>\n",
              "      <td>0.825876</td>\n",
              "      <td>-4.061967</td>\n",
              "      <td>NaN</td>\n",
              "    </tr>\n",
              "    <tr>\n",
              "      <th>4</th>\n",
              "      <td>0.400977</td>\n",
              "      <td>-1.255831</td>\n",
              "      <td>0.628578</td>\n",
              "      <td>NaN</td>\n",
              "    </tr>\n",
              "    <tr>\n",
              "      <th>5</th>\n",
              "      <td>0.823784</td>\n",
              "      <td>-0.727144</td>\n",
              "      <td>-0.079637</td>\n",
              "      <td>NaN</td>\n",
              "    </tr>\n",
              "    <tr>\n",
              "      <th>6</th>\n",
              "      <td>0.738490</td>\n",
              "      <td>-1.063634</td>\n",
              "      <td>-1.852572</td>\n",
              "      <td>NaN</td>\n",
              "    </tr>\n",
              "    <tr>\n",
              "      <th>7</th>\n",
              "      <td>NaN</td>\n",
              "      <td>NaN</td>\n",
              "      <td>NaN</td>\n",
              "      <td>NaN</td>\n",
              "    </tr>\n",
              "    <tr>\n",
              "      <th>8</th>\n",
              "      <td>NaN</td>\n",
              "      <td>NaN</td>\n",
              "      <td>NaN</td>\n",
              "      <td>NaN</td>\n",
              "    </tr>\n",
              "    <tr>\n",
              "      <th>9</th>\n",
              "      <td>NaN</td>\n",
              "      <td>NaN</td>\n",
              "      <td>NaN</td>\n",
              "      <td>NaN</td>\n",
              "    </tr>\n",
              "  </tbody>\n",
              "</table>\n",
              "</div>"
            ],
            "text/plain": [
              "          A         B         C   D\n",
              "0 -1.121929  1.744645 -0.863721 NaN\n",
              "1 -1.089901 -1.961978 -0.113647 NaN\n",
              "2  2.046469  1.409829 -0.276194 NaN\n",
              "3  0.164436  0.825876 -4.061967 NaN\n",
              "4  0.400977 -1.255831  0.628578 NaN\n",
              "5  0.823784 -0.727144 -0.079637 NaN\n",
              "6  0.738490 -1.063634 -1.852572 NaN\n",
              "7       NaN       NaN       NaN NaN\n",
              "8       NaN       NaN       NaN NaN\n",
              "9       NaN       NaN       NaN NaN"
            ]
          },
          "execution_count": 36,
          "metadata": {},
          "output_type": "execute_result"
        }
      ],
      "source": [
        "dataframe + dataframe2 # add values of columns"
      ]
    },
    {
      "cell_type": "markdown",
      "metadata": {
        "id": "M2CtwYZZdFqP"
      },
      "source": [
        " **Example:**\n",
        "* When we apply any operation on the DataFrame and Series, the by default result is the series index allignment based on the columns of the Dataframe."
      ]
    },
    {
      "cell_type": "code",
      "execution_count": null,
      "metadata": {
        "id": "6O9cHmzmdFqP",
        "outputId": "1924692b-2055-412e-f1af-6bd3ac304133"
      },
      "outputs": [
        {
          "data": {
            "text/html": [
              "<div>\n",
              "<style scoped>\n",
              "    .dataframe tbody tr th:only-of-type {\n",
              "        vertical-align: middle;\n",
              "    }\n",
              "\n",
              "    .dataframe tbody tr th {\n",
              "        vertical-align: top;\n",
              "    }\n",
              "\n",
              "    .dataframe thead th {\n",
              "        text-align: right;\n",
              "    }\n",
              "</style>\n",
              "<table border=\"1\" class=\"dataframe\">\n",
              "  <thead>\n",
              "    <tr style=\"text-align: right;\">\n",
              "      <th></th>\n",
              "      <th>A</th>\n",
              "      <th>B</th>\n",
              "      <th>C</th>\n",
              "      <th>D</th>\n",
              "    </tr>\n",
              "  </thead>\n",
              "  <tbody>\n",
              "    <tr>\n",
              "      <th>0</th>\n",
              "      <td>0.000000</td>\n",
              "      <td>0.000000</td>\n",
              "      <td>0.000000</td>\n",
              "      <td>0.000000</td>\n",
              "    </tr>\n",
              "    <tr>\n",
              "      <th>1</th>\n",
              "      <td>0.790430</td>\n",
              "      <td>-2.087295</td>\n",
              "      <td>0.747898</td>\n",
              "      <td>-0.989315</td>\n",
              "    </tr>\n",
              "    <tr>\n",
              "      <th>2</th>\n",
              "      <td>2.212405</td>\n",
              "      <td>0.135500</td>\n",
              "      <td>0.600998</td>\n",
              "      <td>0.449223</td>\n",
              "    </tr>\n",
              "    <tr>\n",
              "      <th>3</th>\n",
              "      <td>1.231922</td>\n",
              "      <td>-1.102885</td>\n",
              "      <td>-1.620103</td>\n",
              "      <td>-0.698399</td>\n",
              "    </tr>\n",
              "    <tr>\n",
              "      <th>4</th>\n",
              "      <td>1.664772</td>\n",
              "      <td>-2.528630</td>\n",
              "      <td>1.618770</td>\n",
              "      <td>-0.313366</td>\n",
              "    </tr>\n",
              "    <tr>\n",
              "      <th>5</th>\n",
              "      <td>1.588224</td>\n",
              "      <td>-2.048711</td>\n",
              "      <td>1.162802</td>\n",
              "      <td>-1.496273</td>\n",
              "    </tr>\n",
              "    <tr>\n",
              "      <th>6</th>\n",
              "      <td>2.070819</td>\n",
              "      <td>-2.663549</td>\n",
              "      <td>-0.161339</td>\n",
              "      <td>-2.108780</td>\n",
              "    </tr>\n",
              "    <tr>\n",
              "      <th>7</th>\n",
              "      <td>0.333184</td>\n",
              "      <td>-1.812612</td>\n",
              "      <td>0.450103</td>\n",
              "      <td>-0.807971</td>\n",
              "    </tr>\n",
              "    <tr>\n",
              "      <th>8</th>\n",
              "      <td>0.749355</td>\n",
              "      <td>-2.027687</td>\n",
              "      <td>1.311143</td>\n",
              "      <td>-2.287670</td>\n",
              "    </tr>\n",
              "    <tr>\n",
              "      <th>9</th>\n",
              "      <td>1.876433</td>\n",
              "      <td>0.392438</td>\n",
              "      <td>1.010123</td>\n",
              "      <td>-1.138007</td>\n",
              "    </tr>\n",
              "  </tbody>\n",
              "</table>\n",
              "</div>"
            ],
            "text/plain": [
              "          A         B         C         D\n",
              "0  0.000000  0.000000  0.000000  0.000000\n",
              "1  0.790430 -2.087295  0.747898 -0.989315\n",
              "2  2.212405  0.135500  0.600998  0.449223\n",
              "3  1.231922 -1.102885 -1.620103 -0.698399\n",
              "4  1.664772 -2.528630  1.618770 -0.313366\n",
              "5  1.588224 -2.048711  1.162802 -1.496273\n",
              "6  2.070819 -2.663549 -0.161339 -2.108780\n",
              "7  0.333184 -1.812612  0.450103 -0.807971\n",
              "8  0.749355 -2.027687  1.311143 -2.287670\n",
              "9  1.876433  0.392438  1.010123 -1.138007"
            ]
          },
          "execution_count": 37,
          "metadata": {},
          "output_type": "execute_result"
        }
      ],
      "source": [
        "dataframe - dataframe.iloc[0]"
      ]
    },
    {
      "cell_type": "code",
      "execution_count": null,
      "metadata": {
        "id": "SKN7sUpddFqP",
        "outputId": "57ac9155-2d43-4ffb-af36-3e3fc3a1f667"
      },
      "outputs": [
        {
          "data": {
            "text/html": [
              "<div>\n",
              "<style scoped>\n",
              "    .dataframe tbody tr th:only-of-type {\n",
              "        vertical-align: middle;\n",
              "    }\n",
              "\n",
              "    .dataframe tbody tr th {\n",
              "        vertical-align: top;\n",
              "    }\n",
              "\n",
              "    .dataframe thead th {\n",
              "        text-align: right;\n",
              "    }\n",
              "</style>\n",
              "<table border=\"1\" class=\"dataframe\">\n",
              "  <thead>\n",
              "    <tr style=\"text-align: right;\">\n",
              "      <th></th>\n",
              "      <th>A</th>\n",
              "      <th>B</th>\n",
              "      <th>C</th>\n",
              "      <th>D</th>\n",
              "    </tr>\n",
              "  </thead>\n",
              "  <tbody>\n",
              "    <tr>\n",
              "      <th>0</th>\n",
              "      <td>-5.864636</td>\n",
              "      <td>8.575990</td>\n",
              "      <td>-1.306343</td>\n",
              "      <td>5.525362</td>\n",
              "    </tr>\n",
              "    <tr>\n",
              "      <th>1</th>\n",
              "      <td>-1.912483</td>\n",
              "      <td>-1.860483</td>\n",
              "      <td>2.433148</td>\n",
              "      <td>0.578788</td>\n",
              "    </tr>\n",
              "    <tr>\n",
              "      <th>2</th>\n",
              "      <td>5.197389</td>\n",
              "      <td>9.253490</td>\n",
              "      <td>1.698646</td>\n",
              "      <td>7.771479</td>\n",
              "    </tr>\n",
              "    <tr>\n",
              "      <th>3</th>\n",
              "      <td>0.294976</td>\n",
              "      <td>3.061565</td>\n",
              "      <td>-9.406858</td>\n",
              "      <td>2.033365</td>\n",
              "    </tr>\n",
              "    <tr>\n",
              "      <th>4</th>\n",
              "      <td>2.459224</td>\n",
              "      <td>-4.067159</td>\n",
              "      <td>6.787505</td>\n",
              "      <td>3.958533</td>\n",
              "    </tr>\n",
              "    <tr>\n",
              "      <th>5</th>\n",
              "      <td>2.076483</td>\n",
              "      <td>-1.667567</td>\n",
              "      <td>4.507668</td>\n",
              "      <td>-1.956003</td>\n",
              "    </tr>\n",
              "    <tr>\n",
              "      <th>6</th>\n",
              "      <td>4.489460</td>\n",
              "      <td>-4.741757</td>\n",
              "      <td>-2.113040</td>\n",
              "      <td>-5.018540</td>\n",
              "    </tr>\n",
              "    <tr>\n",
              "      <th>7</th>\n",
              "      <td>-4.198717</td>\n",
              "      <td>-0.487072</td>\n",
              "      <td>0.944171</td>\n",
              "      <td>1.485508</td>\n",
              "    </tr>\n",
              "    <tr>\n",
              "      <th>8</th>\n",
              "      <td>-2.117863</td>\n",
              "      <td>-1.562444</td>\n",
              "      <td>5.249374</td>\n",
              "      <td>-5.912989</td>\n",
              "    </tr>\n",
              "    <tr>\n",
              "      <th>9</th>\n",
              "      <td>3.517529</td>\n",
              "      <td>10.538180</td>\n",
              "      <td>3.744274</td>\n",
              "      <td>-0.164671</td>\n",
              "    </tr>\n",
              "  </tbody>\n",
              "</table>\n",
              "</div>"
            ],
            "text/plain": [
              "          A          B         C         D\n",
              "0 -5.864636   8.575990 -1.306343  5.525362\n",
              "1 -1.912483  -1.860483  2.433148  0.578788\n",
              "2  5.197389   9.253490  1.698646  7.771479\n",
              "3  0.294976   3.061565 -9.406858  2.033365\n",
              "4  2.459224  -4.067159  6.787505  3.958533\n",
              "5  2.076483  -1.667567  4.507668 -1.956003\n",
              "6  4.489460  -4.741757 -2.113040 -5.018540\n",
              "7 -4.198717  -0.487072  0.944171  1.485508\n",
              "8 -2.117863  -1.562444  5.249374 -5.912989\n",
              "9  3.517529  10.538180  3.744274 -0.164671"
            ]
          },
          "execution_count": 38,
          "metadata": {},
          "output_type": "execute_result"
        }
      ],
      "source": [
        "dataframe * 5 + 2"
      ]
    },
    {
      "cell_type": "code",
      "execution_count": null,
      "metadata": {
        "id": "EKrcdEFHdFqP",
        "outputId": "ddd7d3cb-4008-4789-c525-5b4aebe44788"
      },
      "outputs": [
        {
          "data": {
            "text/html": [
              "<div>\n",
              "<style scoped>\n",
              "    .dataframe tbody tr th:only-of-type {\n",
              "        vertical-align: middle;\n",
              "    }\n",
              "\n",
              "    .dataframe tbody tr th {\n",
              "        vertical-align: top;\n",
              "    }\n",
              "\n",
              "    .dataframe thead th {\n",
              "        text-align: right;\n",
              "    }\n",
              "</style>\n",
              "<table border=\"1\" class=\"dataframe\">\n",
              "  <thead>\n",
              "    <tr style=\"text-align: right;\">\n",
              "      <th></th>\n",
              "      <th>A</th>\n",
              "      <th>B</th>\n",
              "      <th>C</th>\n",
              "      <th>D</th>\n",
              "    </tr>\n",
              "  </thead>\n",
              "  <tbody>\n",
              "    <tr>\n",
              "      <th>0</th>\n",
              "      <td>-0.635757</td>\n",
              "      <td>0.760342</td>\n",
              "      <td>-1.512245</td>\n",
              "      <td>1.418294</td>\n",
              "    </tr>\n",
              "    <tr>\n",
              "      <th>1</th>\n",
              "      <td>-1.277961</td>\n",
              "      <td>-1.295175</td>\n",
              "      <td>11.543401</td>\n",
              "      <td>-3.518123</td>\n",
              "    </tr>\n",
              "    <tr>\n",
              "      <th>2</th>\n",
              "      <td>1.563776</td>\n",
              "      <td>0.689323</td>\n",
              "      <td>-16.591787</td>\n",
              "      <td>0.866329</td>\n",
              "    </tr>\n",
              "    <tr>\n",
              "      <th>3</th>\n",
              "      <td>-2.932510</td>\n",
              "      <td>4.710028</td>\n",
              "      <td>-0.438333</td>\n",
              "      <td>149.856635</td>\n",
              "    </tr>\n",
              "    <tr>\n",
              "      <th>4</th>\n",
              "      <td>10.887937</td>\n",
              "      <td>-0.824109</td>\n",
              "      <td>1.044385</td>\n",
              "      <td>2.552931</td>\n",
              "    </tr>\n",
              "    <tr>\n",
              "      <th>5</th>\n",
              "      <td>65.373585</td>\n",
              "      <td>-1.363302</td>\n",
              "      <td>1.993884</td>\n",
              "      <td>-1.263902</td>\n",
              "    </tr>\n",
              "    <tr>\n",
              "      <th>6</th>\n",
              "      <td>2.008467</td>\n",
              "      <td>-0.741646</td>\n",
              "      <td>-1.215646</td>\n",
              "      <td>-0.712399</td>\n",
              "    </tr>\n",
              "    <tr>\n",
              "      <th>7</th>\n",
              "      <td>-0.806619</td>\n",
              "      <td>-2.010396</td>\n",
              "      <td>-4.735617</td>\n",
              "      <td>-9.718323</td>\n",
              "    </tr>\n",
              "    <tr>\n",
              "      <th>8</th>\n",
              "      <td>-1.214222</td>\n",
              "      <td>-1.403531</td>\n",
              "      <td>1.538758</td>\n",
              "      <td>-0.631872</td>\n",
              "    </tr>\n",
              "    <tr>\n",
              "      <th>9</th>\n",
              "      <td>3.294831</td>\n",
              "      <td>0.585605</td>\n",
              "      <td>2.866523</td>\n",
              "      <td>-2.309819</td>\n",
              "    </tr>\n",
              "  </tbody>\n",
              "</table>\n",
              "</div>"
            ],
            "text/plain": [
              "           A         B          C           D\n",
              "0  -0.635757  0.760342  -1.512245    1.418294\n",
              "1  -1.277961 -1.295175  11.543401   -3.518123\n",
              "2   1.563776  0.689323 -16.591787    0.866329\n",
              "3  -2.932510  4.710028  -0.438333  149.856635\n",
              "4  10.887937 -0.824109   1.044385    2.552931\n",
              "5  65.373585 -1.363302   1.993884   -1.263902\n",
              "6   2.008467 -0.741646  -1.215646   -0.712399\n",
              "7  -0.806619 -2.010396  -4.735617   -9.718323\n",
              "8  -1.214222 -1.403531   1.538758   -0.631872\n",
              "9   3.294831  0.585605   2.866523   -2.309819"
            ]
          },
          "execution_count": 39,
          "metadata": {},
          "output_type": "execute_result"
        }
      ],
      "source": [
        "1 / dataframe"
      ]
    },
    {
      "cell_type": "code",
      "execution_count": null,
      "metadata": {
        "id": "8fug78SYdFqP",
        "outputId": "7f18b296-fe14-4f35-a05c-9e5c281235dc"
      },
      "outputs": [
        {
          "data": {
            "text/html": [
              "<div>\n",
              "<style scoped>\n",
              "    .dataframe tbody tr th:only-of-type {\n",
              "        vertical-align: middle;\n",
              "    }\n",
              "\n",
              "    .dataframe tbody tr th {\n",
              "        vertical-align: top;\n",
              "    }\n",
              "\n",
              "    .dataframe thead th {\n",
              "        text-align: right;\n",
              "    }\n",
              "</style>\n",
              "<table border=\"1\" class=\"dataframe\">\n",
              "  <thead>\n",
              "    <tr style=\"text-align: right;\">\n",
              "      <th></th>\n",
              "      <th>A</th>\n",
              "      <th>B</th>\n",
              "      <th>C</th>\n",
              "      <th>D</th>\n",
              "    </tr>\n",
              "  </thead>\n",
              "  <tbody>\n",
              "    <tr>\n",
              "      <th>0</th>\n",
              "      <td>6.121171e+00</td>\n",
              "      <td>2.992020</td>\n",
              "      <td>0.191210</td>\n",
              "      <td>2.471354e-01</td>\n",
              "    </tr>\n",
              "    <tr>\n",
              "      <th>1</th>\n",
              "      <td>3.749126e-01</td>\n",
              "      <td>0.355375</td>\n",
              "      <td>0.000056</td>\n",
              "      <td>6.527634e-03</td>\n",
              "    </tr>\n",
              "    <tr>\n",
              "      <th>2</th>\n",
              "      <td>1.672252e-01</td>\n",
              "      <td>4.429023</td>\n",
              "      <td>0.000013</td>\n",
              "      <td>1.775286e+00</td>\n",
              "    </tr>\n",
              "    <tr>\n",
              "      <th>3</th>\n",
              "      <td>1.352202e-02</td>\n",
              "      <td>0.002032</td>\n",
              "      <td>27.088449</td>\n",
              "      <td>1.982878e-09</td>\n",
              "    </tr>\n",
              "    <tr>\n",
              "      <th>4</th>\n",
              "      <td>7.115699e-05</td>\n",
              "      <td>2.168011</td>\n",
              "      <td>0.840537</td>\n",
              "      <td>2.354202e-02</td>\n",
              "    </tr>\n",
              "    <tr>\n",
              "      <th>5</th>\n",
              "      <td>5.475084e-08</td>\n",
              "      <td>0.289489</td>\n",
              "      <td>0.063270</td>\n",
              "      <td>3.918738e-01</td>\n",
              "    </tr>\n",
              "    <tr>\n",
              "      <th>6</th>\n",
              "      <td>6.145269e-02</td>\n",
              "      <td>3.305312</td>\n",
              "      <td>0.457901</td>\n",
              "      <td>3.882461e+00</td>\n",
              "    </tr>\n",
              "    <tr>\n",
              "      <th>7</th>\n",
              "      <td>2.362257e+00</td>\n",
              "      <td>0.061217</td>\n",
              "      <td>0.001988</td>\n",
              "      <td>1.121075e-04</td>\n",
              "    </tr>\n",
              "    <tr>\n",
              "      <th>8</th>\n",
              "      <td>4.600528e-01</td>\n",
              "      <td>0.257699</td>\n",
              "      <td>0.178369</td>\n",
              "      <td>6.273101e+00</td>\n",
              "    </tr>\n",
              "    <tr>\n",
              "      <th>9</th>\n",
              "      <td>8.485306e-03</td>\n",
              "      <td>8.503178</td>\n",
              "      <td>0.014811</td>\n",
              "      <td>3.513079e-02</td>\n",
              "    </tr>\n",
              "  </tbody>\n",
              "</table>\n",
              "</div>"
            ],
            "text/plain": [
              "              A         B          C             D\n",
              "0  6.121171e+00  2.992020   0.191210  2.471354e-01\n",
              "1  3.749126e-01  0.355375   0.000056  6.527634e-03\n",
              "2  1.672252e-01  4.429023   0.000013  1.775286e+00\n",
              "3  1.352202e-02  0.002032  27.088449  1.982878e-09\n",
              "4  7.115699e-05  2.168011   0.840537  2.354202e-02\n",
              "5  5.475084e-08  0.289489   0.063270  3.918738e-01\n",
              "6  6.145269e-02  3.305312   0.457901  3.882461e+00\n",
              "7  2.362257e+00  0.061217   0.001988  1.121075e-04\n",
              "8  4.600528e-01  0.257699   0.178369  6.273101e+00\n",
              "9  8.485306e-03  8.503178   0.014811  3.513079e-02"
            ]
          },
          "execution_count": 40,
          "metadata": {},
          "output_type": "execute_result"
        }
      ],
      "source": [
        "dataframe ** 4"
      ]
    },
    {
      "cell_type": "markdown",
      "metadata": {
        "id": "LBIjMHOxdFqP"
      },
      "source": [
        "**Boolean operators work as well:**"
      ]
    },
    {
      "cell_type": "code",
      "execution_count": null,
      "metadata": {
        "id": "sBz5N3-FdFqQ"
      },
      "outputs": [],
      "source": [
        "dataframe1 = pd.DataFrame({'a' : [1, 0, 1], 'b' : [0, 1, 1] }, dtype=bool)"
      ]
    },
    {
      "cell_type": "code",
      "execution_count": null,
      "metadata": {
        "id": "BmFKcdPGdFqQ"
      },
      "outputs": [],
      "source": [
        "dataframe2 = pd.DataFrame({'a' : [0, 1, 1], 'b' : [1, 1, 0] }, dtype=bool)"
      ]
    },
    {
      "cell_type": "code",
      "execution_count": null,
      "metadata": {
        "id": "onnyNuMJdFqQ",
        "outputId": "d0b33797-ef4b-40fe-de13-4ee52f54b898"
      },
      "outputs": [
        {
          "data": {
            "text/html": [
              "<div>\n",
              "<style scoped>\n",
              "    .dataframe tbody tr th:only-of-type {\n",
              "        vertical-align: middle;\n",
              "    }\n",
              "\n",
              "    .dataframe tbody tr th {\n",
              "        vertical-align: top;\n",
              "    }\n",
              "\n",
              "    .dataframe thead th {\n",
              "        text-align: right;\n",
              "    }\n",
              "</style>\n",
              "<table border=\"1\" class=\"dataframe\">\n",
              "  <thead>\n",
              "    <tr style=\"text-align: right;\">\n",
              "      <th></th>\n",
              "      <th>a</th>\n",
              "      <th>b</th>\n",
              "    </tr>\n",
              "  </thead>\n",
              "  <tbody>\n",
              "    <tr>\n",
              "      <th>0</th>\n",
              "      <td>False</td>\n",
              "      <td>True</td>\n",
              "    </tr>\n",
              "    <tr>\n",
              "      <th>1</th>\n",
              "      <td>True</td>\n",
              "      <td>True</td>\n",
              "    </tr>\n",
              "    <tr>\n",
              "      <th>2</th>\n",
              "      <td>True</td>\n",
              "      <td>False</td>\n",
              "    </tr>\n",
              "  </tbody>\n",
              "</table>\n",
              "</div>"
            ],
            "text/plain": [
              "       a      b\n",
              "0  False   True\n",
              "1   True   True\n",
              "2   True  False"
            ]
          },
          "execution_count": 43,
          "metadata": {},
          "output_type": "execute_result"
        }
      ],
      "source": [
        "pd.DataFrame({'a' : [0, 1, 1], 'b' : [1, 1, 0] }, dtype=bool)"
      ]
    },
    {
      "cell_type": "markdown",
      "metadata": {
        "id": "MLeo94JSdFqQ"
      },
      "source": [
        "**Example**\n",
        "* AND **&** logical operator"
      ]
    },
    {
      "cell_type": "code",
      "execution_count": null,
      "metadata": {
        "id": "T1wmPW-LdFqQ",
        "outputId": "78f7ddbc-f370-4aa3-a10e-b3366253deff"
      },
      "outputs": [
        {
          "data": {
            "text/html": [
              "<div>\n",
              "<style scoped>\n",
              "    .dataframe tbody tr th:only-of-type {\n",
              "        vertical-align: middle;\n",
              "    }\n",
              "\n",
              "    .dataframe tbody tr th {\n",
              "        vertical-align: top;\n",
              "    }\n",
              "\n",
              "    .dataframe thead th {\n",
              "        text-align: right;\n",
              "    }\n",
              "</style>\n",
              "<table border=\"1\" class=\"dataframe\">\n",
              "  <thead>\n",
              "    <tr style=\"text-align: right;\">\n",
              "      <th></th>\n",
              "      <th>a</th>\n",
              "      <th>b</th>\n",
              "    </tr>\n",
              "  </thead>\n",
              "  <tbody>\n",
              "    <tr>\n",
              "      <th>0</th>\n",
              "      <td>False</td>\n",
              "      <td>False</td>\n",
              "    </tr>\n",
              "    <tr>\n",
              "      <th>1</th>\n",
              "      <td>False</td>\n",
              "      <td>True</td>\n",
              "    </tr>\n",
              "    <tr>\n",
              "      <th>2</th>\n",
              "      <td>True</td>\n",
              "      <td>False</td>\n",
              "    </tr>\n",
              "  </tbody>\n",
              "</table>\n",
              "</div>"
            ],
            "text/plain": [
              "       a      b\n",
              "0  False  False\n",
              "1  False   True\n",
              "2   True  False"
            ]
          },
          "execution_count": 46,
          "metadata": {},
          "output_type": "execute_result"
        }
      ],
      "source": [
        "dataframe1 & dataframe2"
      ]
    },
    {
      "cell_type": "markdown",
      "metadata": {
        "id": "qH-WFWTxdFqQ"
      },
      "source": [
        "**Example**\n",
        "* OR **|** logical operator"
      ]
    },
    {
      "cell_type": "code",
      "execution_count": null,
      "metadata": {
        "id": "c5h4yJ9edFqQ",
        "outputId": "23aa0e70-5825-448a-ef95-04b7865ad85a"
      },
      "outputs": [
        {
          "data": {
            "text/html": [
              "<div>\n",
              "<style scoped>\n",
              "    .dataframe tbody tr th:only-of-type {\n",
              "        vertical-align: middle;\n",
              "    }\n",
              "\n",
              "    .dataframe tbody tr th {\n",
              "        vertical-align: top;\n",
              "    }\n",
              "\n",
              "    .dataframe thead th {\n",
              "        text-align: right;\n",
              "    }\n",
              "</style>\n",
              "<table border=\"1\" class=\"dataframe\">\n",
              "  <thead>\n",
              "    <tr style=\"text-align: right;\">\n",
              "      <th></th>\n",
              "      <th>a</th>\n",
              "      <th>b</th>\n",
              "    </tr>\n",
              "  </thead>\n",
              "  <tbody>\n",
              "    <tr>\n",
              "      <th>0</th>\n",
              "      <td>True</td>\n",
              "      <td>True</td>\n",
              "    </tr>\n",
              "    <tr>\n",
              "      <th>1</th>\n",
              "      <td>True</td>\n",
              "      <td>True</td>\n",
              "    </tr>\n",
              "    <tr>\n",
              "      <th>2</th>\n",
              "      <td>True</td>\n",
              "      <td>True</td>\n",
              "    </tr>\n",
              "  </tbody>\n",
              "</table>\n",
              "</div>"
            ],
            "text/plain": [
              "      a     b\n",
              "0  True  True\n",
              "1  True  True\n",
              "2  True  True"
            ]
          },
          "execution_count": 45,
          "metadata": {},
          "output_type": "execute_result"
        }
      ],
      "source": [
        "dataframe1 | dataframe2"
      ]
    },
    {
      "cell_type": "code",
      "execution_count": null,
      "metadata": {
        "id": "-Grip-10dFqR",
        "outputId": "abc381ef-754f-480f-957c-97fe0dc23c02"
      },
      "outputs": [
        {
          "data": {
            "text/html": [
              "<div>\n",
              "<style scoped>\n",
              "    .dataframe tbody tr th:only-of-type {\n",
              "        vertical-align: middle;\n",
              "    }\n",
              "\n",
              "    .dataframe tbody tr th {\n",
              "        vertical-align: top;\n",
              "    }\n",
              "\n",
              "    .dataframe thead th {\n",
              "        text-align: right;\n",
              "    }\n",
              "</style>\n",
              "<table border=\"1\" class=\"dataframe\">\n",
              "  <thead>\n",
              "    <tr style=\"text-align: right;\">\n",
              "      <th></th>\n",
              "      <th>a</th>\n",
              "      <th>b</th>\n",
              "    </tr>\n",
              "  </thead>\n",
              "  <tbody>\n",
              "    <tr>\n",
              "      <th>0</th>\n",
              "      <td>False</td>\n",
              "      <td>True</td>\n",
              "    </tr>\n",
              "    <tr>\n",
              "      <th>1</th>\n",
              "      <td>True</td>\n",
              "      <td>False</td>\n",
              "    </tr>\n",
              "    <tr>\n",
              "      <th>2</th>\n",
              "      <td>False</td>\n",
              "      <td>False</td>\n",
              "    </tr>\n",
              "  </tbody>\n",
              "</table>\n",
              "</div>"
            ],
            "text/plain": [
              "       a      b\n",
              "0  False   True\n",
              "1   True  False\n",
              "2  False  False"
            ]
          },
          "execution_count": 48,
          "metadata": {},
          "output_type": "execute_result"
        }
      ],
      "source": [
        "-dataframe1"
      ]
    },
    {
      "cell_type": "markdown",
      "metadata": {
        "id": "Igxew7yUdFqR"
      },
      "source": [
        "## 13.9 Transposing\n",
        "* T attribute must be access for the transposing\n",
        "* T also called the transpose function  its much similar to an ndarray\n",
        "\n",
        "**Example**\n",
        "* Display the first 5 rows"
      ]
    },
    {
      "cell_type": "code",
      "execution_count": null,
      "metadata": {
        "id": "FQSAVJFndFqR",
        "outputId": "0d9c6a67-f75a-4e46-f572-554b3fa3cdad"
      },
      "outputs": [
        {
          "data": {
            "text/html": [
              "<div>\n",
              "<style scoped>\n",
              "    .dataframe tbody tr th:only-of-type {\n",
              "        vertical-align: middle;\n",
              "    }\n",
              "\n",
              "    .dataframe tbody tr th {\n",
              "        vertical-align: top;\n",
              "    }\n",
              "\n",
              "    .dataframe thead th {\n",
              "        text-align: right;\n",
              "    }\n",
              "</style>\n",
              "<table border=\"1\" class=\"dataframe\">\n",
              "  <thead>\n",
              "    <tr style=\"text-align: right;\">\n",
              "      <th></th>\n",
              "      <th>0</th>\n",
              "      <th>1</th>\n",
              "      <th>2</th>\n",
              "      <th>3</th>\n",
              "      <th>4</th>\n",
              "    </tr>\n",
              "  </thead>\n",
              "  <tbody>\n",
              "    <tr>\n",
              "      <th>A</th>\n",
              "      <td>-1.572927</td>\n",
              "      <td>-0.782497</td>\n",
              "      <td>0.639478</td>\n",
              "      <td>-0.341005</td>\n",
              "      <td>0.091845</td>\n",
              "    </tr>\n",
              "    <tr>\n",
              "      <th>B</th>\n",
              "      <td>1.315198</td>\n",
              "      <td>-0.772097</td>\n",
              "      <td>1.450698</td>\n",
              "      <td>0.212313</td>\n",
              "      <td>-1.213432</td>\n",
              "    </tr>\n",
              "    <tr>\n",
              "      <th>C</th>\n",
              "      <td>-0.661269</td>\n",
              "      <td>0.086630</td>\n",
              "      <td>-0.060271</td>\n",
              "      <td>-2.281372</td>\n",
              "      <td>0.957501</td>\n",
              "    </tr>\n",
              "    <tr>\n",
              "      <th>D</th>\n",
              "      <td>0.705072</td>\n",
              "      <td>-0.284242</td>\n",
              "      <td>1.154296</td>\n",
              "      <td>0.006673</td>\n",
              "      <td>0.391707</td>\n",
              "    </tr>\n",
              "  </tbody>\n",
              "</table>\n",
              "</div>"
            ],
            "text/plain": [
              "          0         1         2         3         4\n",
              "A -1.572927 -0.782497  0.639478 -0.341005  0.091845\n",
              "B  1.315198 -0.772097  1.450698  0.212313 -1.213432\n",
              "C -0.661269  0.086630 -0.060271 -2.281372  0.957501\n",
              "D  0.705072 -0.284242  1.154296  0.006673  0.391707"
            ]
          },
          "execution_count": 50,
          "metadata": {},
          "output_type": "execute_result"
        }
      ],
      "source": [
        "dataframe[:5].T"
      ]
    },
    {
      "cell_type": "markdown",
      "metadata": {
        "id": "wbZPlsKddFqR"
      },
      "source": [
        "**Example**\n",
        "* Creating a DataFrame by passing a numpy array\n",
        "* Index is date time"
      ]
    },
    {
      "cell_type": "code",
      "execution_count": null,
      "metadata": {
        "id": "XduHTrN2dFqR"
      },
      "outputs": [],
      "source": [
        "date_time = pd.date_range('20190101', periods=6)"
      ]
    },
    {
      "cell_type": "code",
      "execution_count": null,
      "metadata": {
        "id": "wbzZMZ-gdFqR",
        "outputId": "e03ed684-6c50-40cd-8303-704c9d3f3466"
      },
      "outputs": [
        {
          "name": "stdout",
          "output_type": "stream",
          "text": [
            "DatetimeIndex(['2019-01-01', '2019-01-02', '2019-01-03', '2019-01-04',\n",
            "               '2019-01-05', '2019-01-06'],\n",
            "              dtype='datetime64[ns]', freq='D')\n"
          ]
        }
      ],
      "source": [
        "print(date_time)"
      ]
    },
    {
      "cell_type": "code",
      "execution_count": null,
      "metadata": {
        "id": "4JD0gZVGdFqR"
      },
      "outputs": [],
      "source": [
        "dataframe = pd.DataFrame(np.random.randn(6,4), index=date_time, columns=list('ABCD'))"
      ]
    },
    {
      "cell_type": "code",
      "execution_count": null,
      "metadata": {
        "id": "NEg7_uwydFqS",
        "outputId": "12b405d4-2b00-4387-f0ff-17d9c075341a"
      },
      "outputs": [
        {
          "name": "stdout",
          "output_type": "stream",
          "text": [
            "                   A         B         C         D\n",
            "2019-01-01  0.750605 -0.069523 -0.998938 -0.362319\n",
            "2019-01-02 -0.346780  1.159567 -1.323603 -0.181600\n",
            "2019-01-03  0.857102  0.662322 -0.955811  0.866493\n",
            "2019-01-04 -0.634592 -1.675086 -0.350006  1.240305\n",
            "2019-01-05 -1.103729 -0.123992 -0.151002 -1.066669\n",
            "2019-01-06 -0.092746 -0.536141 -0.094074 -0.544467\n"
          ]
        }
      ],
      "source": [
        "print(dataframe)"
      ]
    },
    {
      "cell_type": "markdown",
      "metadata": {
        "id": "62qZTX8ZdFqS"
      },
      "source": [
        "**_Example_**\n",
        "* In the following example DataFrame creation by passing a dict of objects\n",
        "* That can be converted to series-like."
      ]
    },
    {
      "cell_type": "code",
      "execution_count": null,
      "metadata": {
        "id": "xS_JIEB4dFqS"
      },
      "outputs": [],
      "source": [
        "dataframe2 = pd.DataFrame({ 'A' : 1.,\n",
        "'B' : pd.Timestamp('20190102'),\n",
        "'C' : pd.Series(1,index=list(range(4)),dtype='float32'),\n",
        "'D' : np.array([3] * 4,dtype='int32'),\n",
        "'E' : pd.Categorical([\"test\",\"train\",\"test\",\"train\"]),\n",
        "'F' : 'Python' })"
      ]
    },
    {
      "cell_type": "code",
      "execution_count": null,
      "metadata": {
        "id": "2BAFuxIEdFqS",
        "outputId": "cd373d04-2409-4f5c-abf2-e3e9084605a4"
      },
      "outputs": [
        {
          "name": "stdout",
          "output_type": "stream",
          "text": [
            "     A          B    C  D      E       F\n",
            "0  1.0 2019-01-02  1.0  3   test  Python\n",
            "1  1.0 2019-01-02  1.0  3  train  Python\n",
            "2  1.0 2019-01-02  1.0  3   test  Python\n",
            "3  1.0 2019-01-02  1.0  3  train  Python\n"
          ]
        }
      ],
      "source": [
        "print(dataframe2)"
      ]
    },
    {
      "cell_type": "markdown",
      "metadata": {
        "id": "dPKw1ZT1dFqS"
      },
      "source": [
        "**_Example_**\n",
        "* In the following example print the specific dtypes"
      ]
    },
    {
      "cell_type": "code",
      "execution_count": null,
      "metadata": {
        "id": "daCQ8HPCdFqS",
        "outputId": "567177d9-9b38-4fe2-a890-7c3fb5578df9"
      },
      "outputs": [
        {
          "data": {
            "text/plain": [
              "A           float64\n",
              "B    datetime64[ns]\n",
              "C           float32\n",
              "D             int32\n",
              "E          category\n",
              "F            object\n",
              "dtype: object"
            ]
          },
          "execution_count": 61,
          "metadata": {},
          "output_type": "execute_result"
        }
      ],
      "source": [
        "dataframe2.dtypes"
      ]
    },
    {
      "cell_type": "code",
      "execution_count": 13,
      "metadata": {},
      "outputs": [
        {
          "data": {
            "text/html": [
              "<div>\n",
              "<style scoped>\n",
              "    .dataframe tbody tr th:only-of-type {\n",
              "        vertical-align: middle;\n",
              "    }\n",
              "\n",
              "    .dataframe tbody tr th {\n",
              "        vertical-align: top;\n",
              "    }\n",
              "\n",
              "    .dataframe thead th {\n",
              "        text-align: right;\n",
              "    }\n",
              "</style>\n",
              "<table border=\"1\" class=\"dataframe\">\n",
              "  <thead>\n",
              "    <tr style=\"text-align: right;\">\n",
              "      <th></th>\n",
              "      <th>Names</th>\n",
              "      <th>Marks</th>\n",
              "    </tr>\n",
              "  </thead>\n",
              "  <tbody>\n",
              "    <tr>\n",
              "      <th>0</th>\n",
              "      <td>Amna</td>\n",
              "      <td>100</td>\n",
              "    </tr>\n",
              "    <tr>\n",
              "      <th>1</th>\n",
              "      <td>Fatima</td>\n",
              "      <td>60</td>\n",
              "    </tr>\n",
              "    <tr>\n",
              "      <th>2</th>\n",
              "      <td>Ali</td>\n",
              "      <td>40</td>\n",
              "    </tr>\n",
              "  </tbody>\n",
              "</table>\n",
              "</div>"
            ],
            "text/plain": [
              "    Names  Marks\n",
              "0    Amna    100\n",
              "1  Fatima     60\n",
              "2     Ali     40"
            ]
          },
          "execution_count": 13,
          "metadata": {},
          "output_type": "execute_result"
        }
      ],
      "source": [
        "## Example 1\n",
        "df=pd.DataFrame({\"Names\":[\"Amna\",\"Fatima\",\"Ali\"],\"Marks\":[100,60,40]})\n",
        "df"
      ]
    },
    {
      "cell_type": "code",
      "execution_count": null,
      "metadata": {},
      "outputs": [
        {
          "name": "stdout",
          "output_type": "stream",
          "text": [
            "   Person       City  Employed\n",
            "0     Ali     Lahore      True\n",
            "1  Fatima    Karachi     False\n",
            "2  Hassan  Islamabad      True\n",
            "3    Noor     Lahore     False\n"
          ]
        }
      ],
      "source": [
        "## Example 2\n",
        "df5 = pd.DataFrame({\n",
        "    \"Person\": [\"Ali\", \"Fatima\", \"Hassan\", \"Noor\"],\n",
        "    \"City\": pd.Categorical([\"Lahore\", \"Karachi\", \"Islamabad\", \"Lahore\"]),\n",
        "    \"Employed\": [True, False, True, False]\n",
        "})\n",
        "\n",
        "print(df5)\n"
      ]
    },
    {
      "cell_type": "code",
      "execution_count": 9,
      "metadata": {},
      "outputs": [
        {
          "name": "stdout",
          "output_type": "stream",
          "text": [
            "City        Karachi\n",
            "Employed      False\n",
            "Name: Fatima, dtype: object\n"
          ]
        }
      ],
      "source": [
        "print(df5.loc[\"Fatima\"])"
      ]
    },
    {
      "cell_type": "code",
      "execution_count": null,
      "metadata": {},
      "outputs": [],
      "source": [
        "## Example 3\n",
        "import pandas as pd\n",
        "import numpy as np\n",
        "dataframe2 = pd.DataFrame({\n",
        "    'X': 5.5,  \n",
        "    'Y': pd.Timestamp('20240328'),  \n",
        "    'Z': pd.Series([10, 20, 30, 40], dtype='float32'),  \n",
        "    'W': np.array([7] * 4, dtype='int32'),  \n",
        "    'Category': pd.Categorical([\"apple\", \"banana\", \"apple\", \"banana\"]),  \n",
        "    'Language': 'JavaScript'  \n",
        "})"
      ]
    },
    {
      "cell_type": "code",
      "execution_count": 3,
      "metadata": {},
      "outputs": [
        {
          "name": "stdout",
          "output_type": "stream",
          "text": [
            "     X          Y     Z  W Category    Language\n",
            "0  5.5 2024-03-28  10.0  7    apple  JavaScript\n",
            "1  5.5 2024-03-28  20.0  7   banana  JavaScript\n",
            "2  5.5 2024-03-28  30.0  7    apple  JavaScript\n",
            "3  5.5 2024-03-28  40.0  7   banana  JavaScript\n"
          ]
        }
      ],
      "source": [
        "print(dataframe2)"
      ]
    },
    {
      "cell_type": "code",
      "execution_count": 4,
      "metadata": {},
      "outputs": [
        {
          "data": {
            "text/plain": [
              "X                 float64\n",
              "Y           datetime64[s]\n",
              "Z                 float32\n",
              "W                   int32\n",
              "Category         category\n",
              "Language           object\n",
              "dtype: object"
            ]
          },
          "execution_count": 4,
          "metadata": {},
          "output_type": "execute_result"
        }
      ],
      "source": [
        "dataframe2.dtypes"
      ]
    },
    {
      "cell_type": "markdown",
      "metadata": {
        "id": "DE1DQ5ikdFqS"
      },
      "source": [
        "## 13.10 Why, When and Where DataFrames is used?\n",
        "\n",
        "**Why?**\n",
        "\n",
        "* Dataframes manipulate the data very easily\n",
        "* Used for slecting and replacing the columns of dataset to reshape the data\n",
        "\n",
        "**WHen?**\n",
        "\n",
        "* When you need to store data in the form to grids thats can be easily readable\n",
        "* When the size of data is large and stored in the form of grides for analysis\n",
        "\n",
        "**Where?**\n",
        "\n",
        "* Mostly used in Data science\n",
        "* Used in Machine learning algorithms for data analysis\n",
        "* Used in Prediction systems"
      ]
    },
    {
      "cell_type": "markdown",
      "metadata": {
        "id": "AecvfZvZdFqS"
      },
      "source": [
        "## 14. Viewing Data\n",
        "* There are several ways to view the data:\n",
        "* we can display the top rows of the dataset\n",
        "* we can display the buttom rows of the dataset\n",
        "* **[]** used for selection , which slices the rows\n",
        "* Selection of multi-axis by using label\n",
        "* Show the slicing of a label which includes the both endpoints\n",
        "* Explicitly slice the rows\n",
        "* Explicitly slice the columns\n",
        "* Explicitly get the value\n",
        "* Quick access to the scalr data\n",
        "* Values are selected based oon the boolean condition.\n",
        "* **isin()** method is used for filtering\n",
        "\n",
        "**Example**\n",
        "\n",
        "* Display the top 5 records by using **Head()** function"
      ]
    },
    {
      "cell_type": "code",
      "execution_count": null,
      "metadata": {
        "id": "Ck8NKwJndFqT",
        "outputId": "224b0a9f-c394-4c5d-bea7-d48230e89dd2"
      },
      "outputs": [
        {
          "data": {
            "text/html": [
              "<div>\n",
              "<style scoped>\n",
              "    .dataframe tbody tr th:only-of-type {\n",
              "        vertical-align: middle;\n",
              "    }\n",
              "\n",
              "    .dataframe tbody tr th {\n",
              "        vertical-align: top;\n",
              "    }\n",
              "\n",
              "    .dataframe thead th {\n",
              "        text-align: right;\n",
              "    }\n",
              "</style>\n",
              "<table border=\"1\" class=\"dataframe\">\n",
              "  <thead>\n",
              "    <tr style=\"text-align: right;\">\n",
              "      <th></th>\n",
              "      <th>A</th>\n",
              "      <th>B</th>\n",
              "      <th>C</th>\n",
              "      <th>D</th>\n",
              "    </tr>\n",
              "  </thead>\n",
              "  <tbody>\n",
              "    <tr>\n",
              "      <th>2019-01-01</th>\n",
              "      <td>0.750605</td>\n",
              "      <td>-0.069523</td>\n",
              "      <td>-0.998938</td>\n",
              "      <td>-0.362319</td>\n",
              "    </tr>\n",
              "    <tr>\n",
              "      <th>2019-01-02</th>\n",
              "      <td>-0.346780</td>\n",
              "      <td>1.159567</td>\n",
              "      <td>-1.323603</td>\n",
              "      <td>-0.181600</td>\n",
              "    </tr>\n",
              "    <tr>\n",
              "      <th>2019-01-03</th>\n",
              "      <td>0.857102</td>\n",
              "      <td>0.662322</td>\n",
              "      <td>-0.955811</td>\n",
              "      <td>0.866493</td>\n",
              "    </tr>\n",
              "    <tr>\n",
              "      <th>2019-01-04</th>\n",
              "      <td>-0.634592</td>\n",
              "      <td>-1.675086</td>\n",
              "      <td>-0.350006</td>\n",
              "      <td>1.240305</td>\n",
              "    </tr>\n",
              "    <tr>\n",
              "      <th>2019-01-05</th>\n",
              "      <td>-1.103729</td>\n",
              "      <td>-0.123992</td>\n",
              "      <td>-0.151002</td>\n",
              "      <td>-1.066669</td>\n",
              "    </tr>\n",
              "  </tbody>\n",
              "</table>\n",
              "</div>"
            ],
            "text/plain": [
              "                   A         B         C         D\n",
              "2019-01-01  0.750605 -0.069523 -0.998938 -0.362319\n",
              "2019-01-02 -0.346780  1.159567 -1.323603 -0.181600\n",
              "2019-01-03  0.857102  0.662322 -0.955811  0.866493\n",
              "2019-01-04 -0.634592 -1.675086 -0.350006  1.240305\n",
              "2019-01-05 -1.103729 -0.123992 -0.151002 -1.066669"
            ]
          },
          "execution_count": 62,
          "metadata": {},
          "output_type": "execute_result"
        }
      ],
      "source": [
        "dataframe.head()"
      ]
    },
    {
      "cell_type": "markdown",
      "metadata": {
        "id": "mLN8A3eWdFqT"
      },
      "source": [
        "**Example**\n",
        "\n",
        "* Display the buttom 5 records by using **tail()** method"
      ]
    },
    {
      "cell_type": "code",
      "execution_count": null,
      "metadata": {
        "id": "xg3fvHp1dFqT",
        "outputId": "79e11d57-aaf0-47d2-e6f5-a3df7171826c"
      },
      "outputs": [
        {
          "data": {
            "text/html": [
              "<div>\n",
              "<style scoped>\n",
              "    .dataframe tbody tr th:only-of-type {\n",
              "        vertical-align: middle;\n",
              "    }\n",
              "\n",
              "    .dataframe tbody tr th {\n",
              "        vertical-align: top;\n",
              "    }\n",
              "\n",
              "    .dataframe thead th {\n",
              "        text-align: right;\n",
              "    }\n",
              "</style>\n",
              "<table border=\"1\" class=\"dataframe\">\n",
              "  <thead>\n",
              "    <tr style=\"text-align: right;\">\n",
              "      <th></th>\n",
              "      <th>A</th>\n",
              "      <th>B</th>\n",
              "      <th>C</th>\n",
              "      <th>D</th>\n",
              "    </tr>\n",
              "  </thead>\n",
              "  <tbody>\n",
              "    <tr>\n",
              "      <th>2019-01-02</th>\n",
              "      <td>-0.346780</td>\n",
              "      <td>1.159567</td>\n",
              "      <td>-1.323603</td>\n",
              "      <td>-0.181600</td>\n",
              "    </tr>\n",
              "    <tr>\n",
              "      <th>2019-01-03</th>\n",
              "      <td>0.857102</td>\n",
              "      <td>0.662322</td>\n",
              "      <td>-0.955811</td>\n",
              "      <td>0.866493</td>\n",
              "    </tr>\n",
              "    <tr>\n",
              "      <th>2019-01-04</th>\n",
              "      <td>-0.634592</td>\n",
              "      <td>-1.675086</td>\n",
              "      <td>-0.350006</td>\n",
              "      <td>1.240305</td>\n",
              "    </tr>\n",
              "    <tr>\n",
              "      <th>2019-01-05</th>\n",
              "      <td>-1.103729</td>\n",
              "      <td>-0.123992</td>\n",
              "      <td>-0.151002</td>\n",
              "      <td>-1.066669</td>\n",
              "    </tr>\n",
              "    <tr>\n",
              "      <th>2019-01-06</th>\n",
              "      <td>-0.092746</td>\n",
              "      <td>-0.536141</td>\n",
              "      <td>-0.094074</td>\n",
              "      <td>-0.544467</td>\n",
              "    </tr>\n",
              "  </tbody>\n",
              "</table>\n",
              "</div>"
            ],
            "text/plain": [
              "                   A         B         C         D\n",
              "2019-01-02 -0.346780  1.159567 -1.323603 -0.181600\n",
              "2019-01-03  0.857102  0.662322 -0.955811  0.866493\n",
              "2019-01-04 -0.634592 -1.675086 -0.350006  1.240305\n",
              "2019-01-05 -1.103729 -0.123992 -0.151002 -1.066669\n",
              "2019-01-06 -0.092746 -0.536141 -0.094074 -0.544467"
            ]
          },
          "execution_count": 63,
          "metadata": {},
          "output_type": "execute_result"
        }
      ],
      "source": [
        "dataframe.tail(5)"
      ]
    },
    {
      "cell_type": "markdown",
      "metadata": {
        "id": "USq6zpZKdFqT"
      },
      "source": [
        "**Example**\n",
        "\n",
        "* The following example display the indexes"
      ]
    },
    {
      "cell_type": "code",
      "execution_count": null,
      "metadata": {
        "id": "-TXcM6hzdFqT",
        "outputId": "2ae90ae8-c3e3-4fd2-8d6e-d62c40813881"
      },
      "outputs": [
        {
          "data": {
            "text/plain": [
              "DatetimeIndex(['2019-01-01', '2019-01-02', '2019-01-03', '2019-01-04',\n",
              "               '2019-01-05', '2019-01-06'],\n",
              "              dtype='datetime64[ns]', freq='D')"
            ]
          },
          "execution_count": 64,
          "metadata": {},
          "output_type": "execute_result"
        }
      ],
      "source": [
        "dataframe.index"
      ]
    },
    {
      "cell_type": "markdown",
      "metadata": {
        "id": "Rn8xG6jCdFqT"
      },
      "source": [
        "**Example**\n",
        "\n",
        "* The following example display the coloumns"
      ]
    },
    {
      "cell_type": "code",
      "execution_count": null,
      "metadata": {
        "id": "eM85UkCTdFqT",
        "outputId": "744a62f2-0515-4cab-f5c7-346fac55d11f"
      },
      "outputs": [
        {
          "data": {
            "text/plain": [
              "Index(['A', 'B', 'C', 'D'], dtype='object')"
            ]
          },
          "execution_count": 65,
          "metadata": {},
          "output_type": "execute_result"
        }
      ],
      "source": [
        "dataframe.columns"
      ]
    },
    {
      "cell_type": "markdown",
      "metadata": {
        "id": "RYOEu4GpdFqU"
      },
      "source": [
        "**Example**\n",
        "\n",
        "* The following example print the values of dataframes"
      ]
    },
    {
      "cell_type": "code",
      "execution_count": null,
      "metadata": {
        "id": "hqBZKrjFdFqU",
        "outputId": "53e65de3-5bff-43bf-a69c-a1f444775463"
      },
      "outputs": [
        {
          "data": {
            "text/plain": [
              "array([[ 0.75060537, -0.06952336, -0.99893784, -0.36231859],\n",
              "       [-0.34677959,  1.15956682, -1.32360278, -0.18160005],\n",
              "       [ 0.85710224,  0.66232203, -0.95581069,  0.86649269],\n",
              "       [-0.63459246, -1.67508622, -0.35000596,  1.24030452],\n",
              "       [-1.10372937, -0.12399246, -0.15100209, -1.06666915],\n",
              "       [-0.09274615, -0.53614127, -0.09407402, -0.54446735]])"
            ]
          },
          "execution_count": 66,
          "metadata": {},
          "output_type": "execute_result"
        }
      ],
      "source": [
        "dataframe.values"
      ]
    },
    {
      "cell_type": "markdown",
      "metadata": {
        "id": "sun4rgOOdFqU"
      },
      "source": [
        "**Example**\n",
        "\n",
        "*  Transposing the given data"
      ]
    },
    {
      "cell_type": "code",
      "execution_count": null,
      "metadata": {
        "id": "naC6XHWfdFqU",
        "outputId": "80ad5217-6953-49a3-906d-89105a6d11a0"
      },
      "outputs": [
        {
          "data": {
            "text/html": [
              "<div>\n",
              "<style scoped>\n",
              "    .dataframe tbody tr th:only-of-type {\n",
              "        vertical-align: middle;\n",
              "    }\n",
              "\n",
              "    .dataframe tbody tr th {\n",
              "        vertical-align: top;\n",
              "    }\n",
              "\n",
              "    .dataframe thead th {\n",
              "        text-align: right;\n",
              "    }\n",
              "</style>\n",
              "<table border=\"1\" class=\"dataframe\">\n",
              "  <thead>\n",
              "    <tr style=\"text-align: right;\">\n",
              "      <th></th>\n",
              "      <th>2019-01-01 00:00:00</th>\n",
              "      <th>2019-01-02 00:00:00</th>\n",
              "      <th>2019-01-03 00:00:00</th>\n",
              "      <th>2019-01-04 00:00:00</th>\n",
              "      <th>2019-01-05 00:00:00</th>\n",
              "      <th>2019-01-06 00:00:00</th>\n",
              "    </tr>\n",
              "  </thead>\n",
              "  <tbody>\n",
              "    <tr>\n",
              "      <th>A</th>\n",
              "      <td>0.750605</td>\n",
              "      <td>-0.346780</td>\n",
              "      <td>0.857102</td>\n",
              "      <td>-0.634592</td>\n",
              "      <td>-1.103729</td>\n",
              "      <td>-0.092746</td>\n",
              "    </tr>\n",
              "    <tr>\n",
              "      <th>B</th>\n",
              "      <td>-0.069523</td>\n",
              "      <td>1.159567</td>\n",
              "      <td>0.662322</td>\n",
              "      <td>-1.675086</td>\n",
              "      <td>-0.123992</td>\n",
              "      <td>-0.536141</td>\n",
              "    </tr>\n",
              "    <tr>\n",
              "      <th>C</th>\n",
              "      <td>-0.998938</td>\n",
              "      <td>-1.323603</td>\n",
              "      <td>-0.955811</td>\n",
              "      <td>-0.350006</td>\n",
              "      <td>-0.151002</td>\n",
              "      <td>-0.094074</td>\n",
              "    </tr>\n",
              "    <tr>\n",
              "      <th>D</th>\n",
              "      <td>-0.362319</td>\n",
              "      <td>-0.181600</td>\n",
              "      <td>0.866493</td>\n",
              "      <td>1.240305</td>\n",
              "      <td>-1.066669</td>\n",
              "      <td>-0.544467</td>\n",
              "    </tr>\n",
              "  </tbody>\n",
              "</table>\n",
              "</div>"
            ],
            "text/plain": [
              "   2019-01-01  2019-01-02  2019-01-03  2019-01-04  2019-01-05  2019-01-06\n",
              "A    0.750605   -0.346780    0.857102   -0.634592   -1.103729   -0.092746\n",
              "B   -0.069523    1.159567    0.662322   -1.675086   -0.123992   -0.536141\n",
              "C   -0.998938   -1.323603   -0.955811   -0.350006   -0.151002   -0.094074\n",
              "D   -0.362319   -0.181600    0.866493    1.240305   -1.066669   -0.544467"
            ]
          },
          "execution_count": 67,
          "metadata": {},
          "output_type": "execute_result"
        }
      ],
      "source": [
        "dataframe.T"
      ]
    },
    {
      "cell_type": "markdown",
      "metadata": {
        "id": "SLXTl1lBdFqU"
      },
      "source": [
        "**Example**\n",
        "\n",
        "*  The following example shows, the sorting of data base on axis"
      ]
    },
    {
      "cell_type": "code",
      "execution_count": null,
      "metadata": {
        "id": "MKZWwPKvdFqU",
        "outputId": "a7051e0a-f6ec-46cf-9b51-fd59f6b75512"
      },
      "outputs": [
        {
          "data": {
            "text/html": [
              "<div>\n",
              "<style scoped>\n",
              "    .dataframe tbody tr th:only-of-type {\n",
              "        vertical-align: middle;\n",
              "    }\n",
              "\n",
              "    .dataframe tbody tr th {\n",
              "        vertical-align: top;\n",
              "    }\n",
              "\n",
              "    .dataframe thead th {\n",
              "        text-align: right;\n",
              "    }\n",
              "</style>\n",
              "<table border=\"1\" class=\"dataframe\">\n",
              "  <thead>\n",
              "    <tr style=\"text-align: right;\">\n",
              "      <th></th>\n",
              "      <th>D</th>\n",
              "      <th>C</th>\n",
              "      <th>B</th>\n",
              "      <th>A</th>\n",
              "    </tr>\n",
              "  </thead>\n",
              "  <tbody>\n",
              "    <tr>\n",
              "      <th>2019-01-01</th>\n",
              "      <td>-0.362319</td>\n",
              "      <td>-0.998938</td>\n",
              "      <td>-0.069523</td>\n",
              "      <td>0.750605</td>\n",
              "    </tr>\n",
              "    <tr>\n",
              "      <th>2019-01-02</th>\n",
              "      <td>-0.181600</td>\n",
              "      <td>-1.323603</td>\n",
              "      <td>1.159567</td>\n",
              "      <td>-0.346780</td>\n",
              "    </tr>\n",
              "    <tr>\n",
              "      <th>2019-01-03</th>\n",
              "      <td>0.866493</td>\n",
              "      <td>-0.955811</td>\n",
              "      <td>0.662322</td>\n",
              "      <td>0.857102</td>\n",
              "    </tr>\n",
              "    <tr>\n",
              "      <th>2019-01-04</th>\n",
              "      <td>1.240305</td>\n",
              "      <td>-0.350006</td>\n",
              "      <td>-1.675086</td>\n",
              "      <td>-0.634592</td>\n",
              "    </tr>\n",
              "    <tr>\n",
              "      <th>2019-01-05</th>\n",
              "      <td>-1.066669</td>\n",
              "      <td>-0.151002</td>\n",
              "      <td>-0.123992</td>\n",
              "      <td>-1.103729</td>\n",
              "    </tr>\n",
              "    <tr>\n",
              "      <th>2019-01-06</th>\n",
              "      <td>-0.544467</td>\n",
              "      <td>-0.094074</td>\n",
              "      <td>-0.536141</td>\n",
              "      <td>-0.092746</td>\n",
              "    </tr>\n",
              "  </tbody>\n",
              "</table>\n",
              "</div>"
            ],
            "text/plain": [
              "                   D         C         B         A\n",
              "2019-01-01 -0.362319 -0.998938 -0.069523  0.750605\n",
              "2019-01-02 -0.181600 -1.323603  1.159567 -0.346780\n",
              "2019-01-03  0.866493 -0.955811  0.662322  0.857102\n",
              "2019-01-04  1.240305 -0.350006 -1.675086 -0.634592\n",
              "2019-01-05 -1.066669 -0.151002 -0.123992 -1.103729\n",
              "2019-01-06 -0.544467 -0.094074 -0.536141 -0.092746"
            ]
          },
          "execution_count": 120,
          "metadata": {},
          "output_type": "execute_result"
        }
      ],
      "source": [
        "dataframe.sort_index(axis=1, ascending=False)"
      ]
    },
    {
      "cell_type": "markdown",
      "metadata": {
        "id": "YZ8beE1FdFqV"
      },
      "source": [
        "**Example**\n",
        "\n",
        "*  The following example shows, the sorting of data values on **'B'**"
      ]
    },
    {
      "cell_type": "code",
      "execution_count": null,
      "metadata": {
        "id": "x1GII5f7dFqV",
        "outputId": "ee837fce-6e0a-4779-cd53-e743c84f031d"
      },
      "outputs": [
        {
          "data": {
            "text/html": [
              "<div>\n",
              "<style scoped>\n",
              "    .dataframe tbody tr th:only-of-type {\n",
              "        vertical-align: middle;\n",
              "    }\n",
              "\n",
              "    .dataframe tbody tr th {\n",
              "        vertical-align: top;\n",
              "    }\n",
              "\n",
              "    .dataframe thead th {\n",
              "        text-align: right;\n",
              "    }\n",
              "</style>\n",
              "<table border=\"1\" class=\"dataframe\">\n",
              "  <thead>\n",
              "    <tr style=\"text-align: right;\">\n",
              "      <th></th>\n",
              "      <th>A</th>\n",
              "      <th>B</th>\n",
              "      <th>C</th>\n",
              "      <th>D</th>\n",
              "    </tr>\n",
              "  </thead>\n",
              "  <tbody>\n",
              "    <tr>\n",
              "      <th>2019-01-04</th>\n",
              "      <td>-0.634592</td>\n",
              "      <td>-1.675086</td>\n",
              "      <td>-0.350006</td>\n",
              "      <td>1.240305</td>\n",
              "    </tr>\n",
              "    <tr>\n",
              "      <th>2019-01-06</th>\n",
              "      <td>-0.092746</td>\n",
              "      <td>-0.536141</td>\n",
              "      <td>-0.094074</td>\n",
              "      <td>-0.544467</td>\n",
              "    </tr>\n",
              "    <tr>\n",
              "      <th>2019-01-05</th>\n",
              "      <td>-1.103729</td>\n",
              "      <td>-0.123992</td>\n",
              "      <td>-0.151002</td>\n",
              "      <td>-1.066669</td>\n",
              "    </tr>\n",
              "    <tr>\n",
              "      <th>2019-01-01</th>\n",
              "      <td>0.750605</td>\n",
              "      <td>-0.069523</td>\n",
              "      <td>-0.998938</td>\n",
              "      <td>-0.362319</td>\n",
              "    </tr>\n",
              "    <tr>\n",
              "      <th>2019-01-03</th>\n",
              "      <td>0.857102</td>\n",
              "      <td>0.662322</td>\n",
              "      <td>-0.955811</td>\n",
              "      <td>0.866493</td>\n",
              "    </tr>\n",
              "    <tr>\n",
              "      <th>2019-01-02</th>\n",
              "      <td>-0.346780</td>\n",
              "      <td>1.159567</td>\n",
              "      <td>-1.323603</td>\n",
              "      <td>-0.181600</td>\n",
              "    </tr>\n",
              "  </tbody>\n",
              "</table>\n",
              "</div>"
            ],
            "text/plain": [
              "                   A         B         C         D\n",
              "2019-01-04 -0.634592 -1.675086 -0.350006  1.240305\n",
              "2019-01-06 -0.092746 -0.536141 -0.094074 -0.544467\n",
              "2019-01-05 -1.103729 -0.123992 -0.151002 -1.066669\n",
              "2019-01-01  0.750605 -0.069523 -0.998938 -0.362319\n",
              "2019-01-03  0.857102  0.662322 -0.955811  0.866493\n",
              "2019-01-02 -0.346780  1.159567 -1.323603 -0.181600"
            ]
          },
          "execution_count": 122,
          "metadata": {},
          "output_type": "execute_result"
        }
      ],
      "source": [
        "dataframe.sort_values(by='B')"
      ]
    },
    {
      "cell_type": "markdown",
      "metadata": {
        "id": "mFEsEa0jdFqV"
      },
      "source": [
        "**Example**\n",
        "\n",
        "*  The following example shows, statistical summary of your data"
      ]
    },
    {
      "cell_type": "code",
      "execution_count": null,
      "metadata": {
        "id": "USiVWrQKdFqV",
        "outputId": "3837eae3-f2c2-4519-ba46-bf425a31285d"
      },
      "outputs": [
        {
          "data": {
            "text/html": [
              "<div>\n",
              "<style scoped>\n",
              "    .dataframe tbody tr th:only-of-type {\n",
              "        vertical-align: middle;\n",
              "    }\n",
              "\n",
              "    .dataframe tbody tr th {\n",
              "        vertical-align: top;\n",
              "    }\n",
              "\n",
              "    .dataframe thead th {\n",
              "        text-align: right;\n",
              "    }\n",
              "</style>\n",
              "<table border=\"1\" class=\"dataframe\">\n",
              "  <thead>\n",
              "    <tr style=\"text-align: right;\">\n",
              "      <th></th>\n",
              "      <th>A</th>\n",
              "      <th>B</th>\n",
              "      <th>C</th>\n",
              "      <th>D</th>\n",
              "    </tr>\n",
              "  </thead>\n",
              "  <tbody>\n",
              "    <tr>\n",
              "      <th>count</th>\n",
              "      <td>6.000000</td>\n",
              "      <td>6.000000</td>\n",
              "      <td>6.000000</td>\n",
              "      <td>6.000000</td>\n",
              "    </tr>\n",
              "    <tr>\n",
              "      <th>mean</th>\n",
              "      <td>-0.095023</td>\n",
              "      <td>-0.097142</td>\n",
              "      <td>-0.645572</td>\n",
              "      <td>-0.008043</td>\n",
              "    </tr>\n",
              "    <tr>\n",
              "      <th>std</th>\n",
              "      <td>0.773775</td>\n",
              "      <td>0.983892</td>\n",
              "      <td>0.513215</td>\n",
              "      <td>0.881732</td>\n",
              "    </tr>\n",
              "    <tr>\n",
              "      <th>min</th>\n",
              "      <td>-1.103729</td>\n",
              "      <td>-1.675086</td>\n",
              "      <td>-1.323603</td>\n",
              "      <td>-1.066669</td>\n",
              "    </tr>\n",
              "    <tr>\n",
              "      <th>25%</th>\n",
              "      <td>-0.562639</td>\n",
              "      <td>-0.433104</td>\n",
              "      <td>-0.988156</td>\n",
              "      <td>-0.498930</td>\n",
              "    </tr>\n",
              "    <tr>\n",
              "      <th>50%</th>\n",
              "      <td>-0.219763</td>\n",
              "      <td>-0.096758</td>\n",
              "      <td>-0.652908</td>\n",
              "      <td>-0.271959</td>\n",
              "    </tr>\n",
              "    <tr>\n",
              "      <th>75%</th>\n",
              "      <td>0.539767</td>\n",
              "      <td>0.479361</td>\n",
              "      <td>-0.200753</td>\n",
              "      <td>0.604470</td>\n",
              "    </tr>\n",
              "    <tr>\n",
              "      <th>max</th>\n",
              "      <td>0.857102</td>\n",
              "      <td>1.159567</td>\n",
              "      <td>-0.094074</td>\n",
              "      <td>1.240305</td>\n",
              "    </tr>\n",
              "  </tbody>\n",
              "</table>\n",
              "</div>"
            ],
            "text/plain": [
              "              A         B         C         D\n",
              "count  6.000000  6.000000  6.000000  6.000000\n",
              "mean  -0.095023 -0.097142 -0.645572 -0.008043\n",
              "std    0.773775  0.983892  0.513215  0.881732\n",
              "min   -1.103729 -1.675086 -1.323603 -1.066669\n",
              "25%   -0.562639 -0.433104 -0.988156 -0.498930\n",
              "50%   -0.219763 -0.096758 -0.652908 -0.271959\n",
              "75%    0.539767  0.479361 -0.200753  0.604470\n",
              "max    0.857102  1.159567 -0.094074  1.240305"
            ]
          },
          "execution_count": 70,
          "metadata": {},
          "output_type": "execute_result"
        }
      ],
      "source": [
        "dataframe.describe()"
      ]
    },
    {
      "cell_type": "markdown",
      "metadata": {
        "id": "t7aQO8oUdFqV"
      },
      "source": [
        "**Example**\n",
        "\n",
        "*  The following example shows, single column selection, which carry series, which is equivant to dataframe **A**"
      ]
    },
    {
      "cell_type": "code",
      "execution_count": null,
      "metadata": {
        "id": "3yPuoB7adFqV",
        "outputId": "c48b0338-5cff-4d62-9477-dce43a2c28ee"
      },
      "outputs": [
        {
          "data": {
            "text/plain": [
              "2019-01-01    0.750605\n",
              "2019-01-02   -0.346780\n",
              "2019-01-03    0.857102\n",
              "2019-01-04   -0.634592\n",
              "2019-01-05   -1.103729\n",
              "2019-01-06   -0.092746\n",
              "Freq: D, Name: A, dtype: float64"
            ]
          },
          "execution_count": 71,
          "metadata": {},
          "output_type": "execute_result"
        }
      ],
      "source": [
        "dataframe['A']"
      ]
    },
    {
      "cell_type": "markdown",
      "metadata": {
        "id": "jTp4xTuwdFqV"
      },
      "source": [
        "**Example**\n",
        "\n",
        "*  The following example shows, Select the data by using **[]**, That can slices the rows and return the range of rows"
      ]
    },
    {
      "cell_type": "code",
      "execution_count": null,
      "metadata": {
        "id": "vNOsA-D5dFqW",
        "outputId": "8a4531b9-80ab-4185-ecfa-0f632f915cdf"
      },
      "outputs": [
        {
          "data": {
            "text/html": [
              "<div>\n",
              "<style scoped>\n",
              "    .dataframe tbody tr th:only-of-type {\n",
              "        vertical-align: middle;\n",
              "    }\n",
              "\n",
              "    .dataframe tbody tr th {\n",
              "        vertical-align: top;\n",
              "    }\n",
              "\n",
              "    .dataframe thead th {\n",
              "        text-align: right;\n",
              "    }\n",
              "</style>\n",
              "<table border=\"1\" class=\"dataframe\">\n",
              "  <thead>\n",
              "    <tr style=\"text-align: right;\">\n",
              "      <th></th>\n",
              "      <th>A</th>\n",
              "      <th>B</th>\n",
              "      <th>C</th>\n",
              "      <th>D</th>\n",
              "    </tr>\n",
              "  </thead>\n",
              "  <tbody>\n",
              "    <tr>\n",
              "      <th>2019-01-01</th>\n",
              "      <td>0.750605</td>\n",
              "      <td>-0.069523</td>\n",
              "      <td>-0.998938</td>\n",
              "      <td>-0.362319</td>\n",
              "    </tr>\n",
              "    <tr>\n",
              "      <th>2019-01-02</th>\n",
              "      <td>-0.346780</td>\n",
              "      <td>1.159567</td>\n",
              "      <td>-1.323603</td>\n",
              "      <td>-0.181600</td>\n",
              "    </tr>\n",
              "    <tr>\n",
              "      <th>2019-01-03</th>\n",
              "      <td>0.857102</td>\n",
              "      <td>0.662322</td>\n",
              "      <td>-0.955811</td>\n",
              "      <td>0.866493</td>\n",
              "    </tr>\n",
              "    <tr>\n",
              "      <th>2019-01-04</th>\n",
              "      <td>-0.634592</td>\n",
              "      <td>-1.675086</td>\n",
              "      <td>-0.350006</td>\n",
              "      <td>1.240305</td>\n",
              "    </tr>\n",
              "    <tr>\n",
              "      <th>2019-01-05</th>\n",
              "      <td>-1.103729</td>\n",
              "      <td>-0.123992</td>\n",
              "      <td>-0.151002</td>\n",
              "      <td>-1.066669</td>\n",
              "    </tr>\n",
              "  </tbody>\n",
              "</table>\n",
              "</div>"
            ],
            "text/plain": [
              "                   A         B         C         D\n",
              "2019-01-01  0.750605 -0.069523 -0.998938 -0.362319\n",
              "2019-01-02 -0.346780  1.159567 -1.323603 -0.181600\n",
              "2019-01-03  0.857102  0.662322 -0.955811  0.866493\n",
              "2019-01-04 -0.634592 -1.675086 -0.350006  1.240305\n",
              "2019-01-05 -1.103729 -0.123992 -0.151002 -1.066669"
            ]
          },
          "execution_count": 72,
          "metadata": {},
          "output_type": "execute_result"
        }
      ],
      "source": [
        "dataframe[0:5]"
      ]
    },
    {
      "cell_type": "code",
      "execution_count": null,
      "metadata": {
        "id": "tN7pF-CcdFqW",
        "outputId": "a1567965-d1b7-4f73-eca1-6d53b1352e61"
      },
      "outputs": [
        {
          "data": {
            "text/html": [
              "<div>\n",
              "<style scoped>\n",
              "    .dataframe tbody tr th:only-of-type {\n",
              "        vertical-align: middle;\n",
              "    }\n",
              "\n",
              "    .dataframe tbody tr th {\n",
              "        vertical-align: top;\n",
              "    }\n",
              "\n",
              "    .dataframe thead th {\n",
              "        text-align: right;\n",
              "    }\n",
              "</style>\n",
              "<table border=\"1\" class=\"dataframe\">\n",
              "  <thead>\n",
              "    <tr style=\"text-align: right;\">\n",
              "      <th></th>\n",
              "      <th>A</th>\n",
              "      <th>B</th>\n",
              "      <th>C</th>\n",
              "      <th>D</th>\n",
              "    </tr>\n",
              "  </thead>\n",
              "  <tbody>\n",
              "    <tr>\n",
              "      <th>2019-01-02</th>\n",
              "      <td>-0.346780</td>\n",
              "      <td>1.159567</td>\n",
              "      <td>-1.323603</td>\n",
              "      <td>-0.181600</td>\n",
              "    </tr>\n",
              "    <tr>\n",
              "      <th>2019-01-03</th>\n",
              "      <td>0.857102</td>\n",
              "      <td>0.662322</td>\n",
              "      <td>-0.955811</td>\n",
              "      <td>0.866493</td>\n",
              "    </tr>\n",
              "    <tr>\n",
              "      <th>2019-01-04</th>\n",
              "      <td>-0.634592</td>\n",
              "      <td>-1.675086</td>\n",
              "      <td>-0.350006</td>\n",
              "      <td>1.240305</td>\n",
              "    </tr>\n",
              "    <tr>\n",
              "      <th>2019-01-05</th>\n",
              "      <td>-1.103729</td>\n",
              "      <td>-0.123992</td>\n",
              "      <td>-0.151002</td>\n",
              "      <td>-1.066669</td>\n",
              "    </tr>\n",
              "  </tbody>\n",
              "</table>\n",
              "</div>"
            ],
            "text/plain": [
              "                   A         B         C         D\n",
              "2019-01-02 -0.346780  1.159567 -1.323603 -0.181600\n",
              "2019-01-03  0.857102  0.662322 -0.955811  0.866493\n",
              "2019-01-04 -0.634592 -1.675086 -0.350006  1.240305\n",
              "2019-01-05 -1.103729 -0.123992 -0.151002 -1.066669"
            ]
          },
          "execution_count": 74,
          "metadata": {},
          "output_type": "execute_result"
        }
      ],
      "source": [
        "dataframe['20190102':'20190105']"
      ]
    },
    {
      "cell_type": "markdown",
      "metadata": {
        "id": "lH3HBkitdFqW"
      },
      "source": [
        "**_Example_**\n",
        "\n",
        "* In the following example Selection of multi-axis labeling data"
      ]
    },
    {
      "cell_type": "code",
      "execution_count": null,
      "metadata": {
        "id": "OcuWqkSFdFqW",
        "outputId": "072526bc-0369-4802-8983-83a7175d2df3"
      },
      "outputs": [
        {
          "data": {
            "text/html": [
              "<div>\n",
              "<style scoped>\n",
              "    .dataframe tbody tr th:only-of-type {\n",
              "        vertical-align: middle;\n",
              "    }\n",
              "\n",
              "    .dataframe tbody tr th {\n",
              "        vertical-align: top;\n",
              "    }\n",
              "\n",
              "    .dataframe thead th {\n",
              "        text-align: right;\n",
              "    }\n",
              "</style>\n",
              "<table border=\"1\" class=\"dataframe\">\n",
              "  <thead>\n",
              "    <tr style=\"text-align: right;\">\n",
              "      <th></th>\n",
              "      <th>A</th>\n",
              "      <th>B</th>\n",
              "    </tr>\n",
              "  </thead>\n",
              "  <tbody>\n",
              "    <tr>\n",
              "      <th>2019-01-01</th>\n",
              "      <td>0.750605</td>\n",
              "      <td>-0.069523</td>\n",
              "    </tr>\n",
              "    <tr>\n",
              "      <th>2019-01-02</th>\n",
              "      <td>-0.346780</td>\n",
              "      <td>1.159567</td>\n",
              "    </tr>\n",
              "    <tr>\n",
              "      <th>2019-01-03</th>\n",
              "      <td>0.857102</td>\n",
              "      <td>0.662322</td>\n",
              "    </tr>\n",
              "    <tr>\n",
              "      <th>2019-01-04</th>\n",
              "      <td>-0.634592</td>\n",
              "      <td>-1.675086</td>\n",
              "    </tr>\n",
              "    <tr>\n",
              "      <th>2019-01-05</th>\n",
              "      <td>-1.103729</td>\n",
              "      <td>-0.123992</td>\n",
              "    </tr>\n",
              "    <tr>\n",
              "      <th>2019-01-06</th>\n",
              "      <td>-0.092746</td>\n",
              "      <td>-0.536141</td>\n",
              "    </tr>\n",
              "  </tbody>\n",
              "</table>\n",
              "</div>"
            ],
            "text/plain": [
              "                   A         B\n",
              "2019-01-01  0.750605 -0.069523\n",
              "2019-01-02 -0.346780  1.159567\n",
              "2019-01-03  0.857102  0.662322\n",
              "2019-01-04 -0.634592 -1.675086\n",
              "2019-01-05 -1.103729 -0.123992\n",
              "2019-01-06 -0.092746 -0.536141"
            ]
          },
          "execution_count": 75,
          "metadata": {},
          "output_type": "execute_result"
        }
      ],
      "source": [
        "dataframe.loc[:,['A','B']]"
      ]
    },
    {
      "cell_type": "markdown",
      "metadata": {
        "id": "eM3Ztp5JdFqW"
      },
      "source": [
        "**_Example_**\n",
        "* This example will show the label slicing\n",
        "* Both endpoints are included in this slicing"
      ]
    },
    {
      "cell_type": "code",
      "execution_count": null,
      "metadata": {
        "id": "vQ-nUvcodFqW",
        "outputId": "bdd9e048-657f-4b42-e3ec-2e91d7873f7d"
      },
      "outputs": [
        {
          "data": {
            "text/html": [
              "<div>\n",
              "<style scoped>\n",
              "    .dataframe tbody tr th:only-of-type {\n",
              "        vertical-align: middle;\n",
              "    }\n",
              "\n",
              "    .dataframe tbody tr th {\n",
              "        vertical-align: top;\n",
              "    }\n",
              "\n",
              "    .dataframe thead th {\n",
              "        text-align: right;\n",
              "    }\n",
              "</style>\n",
              "<table border=\"1\" class=\"dataframe\">\n",
              "  <thead>\n",
              "    <tr style=\"text-align: right;\">\n",
              "      <th></th>\n",
              "      <th>A</th>\n",
              "      <th>B</th>\n",
              "    </tr>\n",
              "  </thead>\n",
              "  <tbody>\n",
              "    <tr>\n",
              "      <th>2019-01-02</th>\n",
              "      <td>-0.346780</td>\n",
              "      <td>1.159567</td>\n",
              "    </tr>\n",
              "    <tr>\n",
              "      <th>2019-01-03</th>\n",
              "      <td>0.857102</td>\n",
              "      <td>0.662322</td>\n",
              "    </tr>\n",
              "    <tr>\n",
              "      <th>2019-01-04</th>\n",
              "      <td>-0.634592</td>\n",
              "      <td>-1.675086</td>\n",
              "    </tr>\n",
              "    <tr>\n",
              "      <th>2019-01-05</th>\n",
              "      <td>-1.103729</td>\n",
              "      <td>-0.123992</td>\n",
              "    </tr>\n",
              "  </tbody>\n",
              "</table>\n",
              "</div>"
            ],
            "text/plain": [
              "                   A         B\n",
              "2019-01-02 -0.346780  1.159567\n",
              "2019-01-03  0.857102  0.662322\n",
              "2019-01-04 -0.634592 -1.675086\n",
              "2019-01-05 -1.103729 -0.123992"
            ]
          },
          "execution_count": 76,
          "metadata": {},
          "output_type": "execute_result"
        }
      ],
      "source": [
        "dataframe.loc['20190102':'20190105',['A','B']]"
      ]
    },
    {
      "cell_type": "markdown",
      "metadata": {
        "id": "pEwmfflSdFqW"
      },
      "source": [
        "**_Example_**\n",
        "* This example will shows the, that reduce the dimenssion"
      ]
    },
    {
      "cell_type": "code",
      "execution_count": null,
      "metadata": {
        "id": "43HggD27dFqX",
        "outputId": "812b3609-d750-4f42-fc86-040c6d49f266"
      },
      "outputs": [
        {
          "data": {
            "text/plain": [
              "A   -0.346780\n",
              "B    1.159567\n",
              "Name: 2019-01-02 00:00:00, dtype: float64"
            ]
          },
          "execution_count": 77,
          "metadata": {},
          "output_type": "execute_result"
        }
      ],
      "source": [
        "dataframe.loc['20190102',['A','B']]"
      ]
    },
    {
      "cell_type": "markdown",
      "metadata": {
        "id": "HfIVK6TTdFqX"
      },
      "source": [
        "**_Example_**\n",
        "* This example will shows the how to get the scalar value"
      ]
    },
    {
      "cell_type": "code",
      "execution_count": null,
      "metadata": {
        "id": "ccOGy5JbdFqX",
        "outputId": "9900553a-6c09-4605-d917-e3e94d50eda9"
      },
      "outputs": [
        {
          "data": {
            "text/plain": [
              "0.7506053662559853"
            ]
          },
          "execution_count": 79,
          "metadata": {},
          "output_type": "execute_result"
        }
      ],
      "source": [
        "dataframe.loc[date_time[0],'A']"
      ]
    },
    {
      "cell_type": "markdown",
      "metadata": {
        "id": "1siV4_YgdFqX"
      },
      "source": [
        "**_Example_**\n",
        "* This example will shows the quick access to the scalar value"
      ]
    },
    {
      "cell_type": "code",
      "execution_count": null,
      "metadata": {
        "id": "KBUOU6zwdFqX",
        "outputId": "4d0aa19d-a36a-4deb-d4bd-b334f57427e3"
      },
      "outputs": [
        {
          "data": {
            "text/plain": [
              "0.7506053662559853"
            ]
          },
          "execution_count": 82,
          "metadata": {},
          "output_type": "execute_result"
        }
      ],
      "source": [
        "dataframe.at[date_time[0],'A']"
      ]
    },
    {
      "cell_type": "markdown",
      "metadata": {
        "id": "IVAu38-CdFqX"
      },
      "source": [
        "**_Example_**\n",
        "* This example will shows the quick access to the scalar value using position of passed value(integer)"
      ]
    },
    {
      "cell_type": "code",
      "execution_count": null,
      "metadata": {
        "id": "iaZF5GOidFqX",
        "outputId": "290e3280-7ce4-4c1d-985c-7e5ac68aa59e"
      },
      "outputs": [
        {
          "data": {
            "text/plain": [
              "A   -1.103729\n",
              "B   -0.123992\n",
              "C   -0.151002\n",
              "D   -1.066669\n",
              "Name: 2019-01-05 00:00:00, dtype: float64"
            ]
          },
          "execution_count": 83,
          "metadata": {},
          "output_type": "execute_result"
        }
      ],
      "source": [
        "dataframe.iloc[4]"
      ]
    },
    {
      "cell_type": "markdown",
      "metadata": {
        "id": "V8UBiUGbdFqY"
      },
      "source": [
        "**_Example_**\n",
        "* This example will shows the slices by integer\n",
        "* Its just similar to numpy in python"
      ]
    },
    {
      "cell_type": "code",
      "execution_count": null,
      "metadata": {
        "id": "mupfYoyKdFqY",
        "outputId": "a66b1604-9cdb-42e6-a599-b96199e46928"
      },
      "outputs": [
        {
          "data": {
            "text/html": [
              "<div>\n",
              "<style scoped>\n",
              "    .dataframe tbody tr th:only-of-type {\n",
              "        vertical-align: middle;\n",
              "    }\n",
              "\n",
              "    .dataframe tbody tr th {\n",
              "        vertical-align: top;\n",
              "    }\n",
              "\n",
              "    .dataframe thead th {\n",
              "        text-align: right;\n",
              "    }\n",
              "</style>\n",
              "<table border=\"1\" class=\"dataframe\">\n",
              "  <thead>\n",
              "    <tr style=\"text-align: right;\">\n",
              "      <th></th>\n",
              "      <th>A</th>\n",
              "      <th>B</th>\n",
              "    </tr>\n",
              "  </thead>\n",
              "  <tbody>\n",
              "    <tr>\n",
              "      <th>2019-01-04</th>\n",
              "      <td>-0.634592</td>\n",
              "      <td>-1.675086</td>\n",
              "    </tr>\n",
              "    <tr>\n",
              "      <th>2019-01-05</th>\n",
              "      <td>-1.103729</td>\n",
              "      <td>-0.123992</td>\n",
              "    </tr>\n",
              "  </tbody>\n",
              "</table>\n",
              "</div>"
            ],
            "text/plain": [
              "                   A         B\n",
              "2019-01-04 -0.634592 -1.675086\n",
              "2019-01-05 -1.103729 -0.123992"
            ]
          },
          "execution_count": 84,
          "metadata": {},
          "output_type": "execute_result"
        }
      ],
      "source": [
        "dataframe.iloc[3:5,0:2]"
      ]
    },
    {
      "cell_type": "markdown",
      "metadata": {
        "id": "hr8EVynadFqY"
      },
      "source": [
        "**_Example_**\n",
        "* This example will shows the lists of integer locations,\n",
        "* Its just similar to numpy in python"
      ]
    },
    {
      "cell_type": "code",
      "execution_count": null,
      "metadata": {
        "id": "hdyhJcRddFqY",
        "outputId": "cc447a2a-c899-4cf9-be03-d6b782cd312f"
      },
      "outputs": [
        {
          "data": {
            "text/html": [
              "<div>\n",
              "<style scoped>\n",
              "    .dataframe tbody tr th:only-of-type {\n",
              "        vertical-align: middle;\n",
              "    }\n",
              "\n",
              "    .dataframe tbody tr th {\n",
              "        vertical-align: top;\n",
              "    }\n",
              "\n",
              "    .dataframe thead th {\n",
              "        text-align: right;\n",
              "    }\n",
              "</style>\n",
              "<table border=\"1\" class=\"dataframe\">\n",
              "  <thead>\n",
              "    <tr style=\"text-align: right;\">\n",
              "      <th></th>\n",
              "      <th>A</th>\n",
              "      <th>C</th>\n",
              "    </tr>\n",
              "  </thead>\n",
              "  <tbody>\n",
              "    <tr>\n",
              "      <th>2019-01-02</th>\n",
              "      <td>-0.346780</td>\n",
              "      <td>-1.323603</td>\n",
              "    </tr>\n",
              "    <tr>\n",
              "      <th>2019-01-03</th>\n",
              "      <td>0.857102</td>\n",
              "      <td>-0.955811</td>\n",
              "    </tr>\n",
              "    <tr>\n",
              "      <th>2019-01-05</th>\n",
              "      <td>-1.103729</td>\n",
              "      <td>-0.151002</td>\n",
              "    </tr>\n",
              "  </tbody>\n",
              "</table>\n",
              "</div>"
            ],
            "text/plain": [
              "                   A         C\n",
              "2019-01-02 -0.346780 -1.323603\n",
              "2019-01-03  0.857102 -0.955811\n",
              "2019-01-05 -1.103729 -0.151002"
            ]
          },
          "execution_count": 85,
          "metadata": {},
          "output_type": "execute_result"
        }
      ],
      "source": [
        "dataframe.iloc[[1,2,4],[0,2]]"
      ]
    },
    {
      "cell_type": "markdown",
      "metadata": {
        "id": "lzAMKjcPdFqY"
      },
      "source": [
        "**_Example_**\n",
        "* Explicit slicing of data shows in example given below"
      ]
    },
    {
      "cell_type": "code",
      "execution_count": null,
      "metadata": {
        "id": "bRowTX7KdFqY",
        "outputId": "7ed422f7-1b13-4a72-ddcb-266b6fd6c612"
      },
      "outputs": [
        {
          "data": {
            "text/html": [
              "<div>\n",
              "<style scoped>\n",
              "    .dataframe tbody tr th:only-of-type {\n",
              "        vertical-align: middle;\n",
              "    }\n",
              "\n",
              "    .dataframe tbody tr th {\n",
              "        vertical-align: top;\n",
              "    }\n",
              "\n",
              "    .dataframe thead th {\n",
              "        text-align: right;\n",
              "    }\n",
              "</style>\n",
              "<table border=\"1\" class=\"dataframe\">\n",
              "  <thead>\n",
              "    <tr style=\"text-align: right;\">\n",
              "      <th></th>\n",
              "      <th>B</th>\n",
              "      <th>C</th>\n",
              "    </tr>\n",
              "  </thead>\n",
              "  <tbody>\n",
              "    <tr>\n",
              "      <th>2019-01-01</th>\n",
              "      <td>-0.069523</td>\n",
              "      <td>-0.998938</td>\n",
              "    </tr>\n",
              "    <tr>\n",
              "      <th>2019-01-02</th>\n",
              "      <td>1.159567</td>\n",
              "      <td>-1.323603</td>\n",
              "    </tr>\n",
              "    <tr>\n",
              "      <th>2019-01-03</th>\n",
              "      <td>0.662322</td>\n",
              "      <td>-0.955811</td>\n",
              "    </tr>\n",
              "    <tr>\n",
              "      <th>2019-01-04</th>\n",
              "      <td>-1.675086</td>\n",
              "      <td>-0.350006</td>\n",
              "    </tr>\n",
              "    <tr>\n",
              "      <th>2019-01-05</th>\n",
              "      <td>-0.123992</td>\n",
              "      <td>-0.151002</td>\n",
              "    </tr>\n",
              "    <tr>\n",
              "      <th>2019-01-06</th>\n",
              "      <td>-0.536141</td>\n",
              "      <td>-0.094074</td>\n",
              "    </tr>\n",
              "  </tbody>\n",
              "</table>\n",
              "</div>"
            ],
            "text/plain": [
              "                   B         C\n",
              "2019-01-01 -0.069523 -0.998938\n",
              "2019-01-02  1.159567 -1.323603\n",
              "2019-01-03  0.662322 -0.955811\n",
              "2019-01-04 -1.675086 -0.350006\n",
              "2019-01-05 -0.123992 -0.151002\n",
              "2019-01-06 -0.536141 -0.094074"
            ]
          },
          "execution_count": 87,
          "metadata": {},
          "output_type": "execute_result"
        }
      ],
      "source": [
        "dataframe.iloc[:,1:3]"
      ]
    },
    {
      "cell_type": "markdown",
      "metadata": {
        "id": "N8DOI3_odFqY"
      },
      "source": [
        "**_Example_**\n",
        "* This example will show the get the value from dataframe explicitly"
      ]
    },
    {
      "cell_type": "code",
      "execution_count": null,
      "metadata": {
        "id": "nYE_D5FCdFqZ",
        "outputId": "bf6aad27-b56a-4008-ba94-95d565b47868"
      },
      "outputs": [
        {
          "data": {
            "text/plain": [
              "1.1595668190221116"
            ]
          },
          "execution_count": 88,
          "metadata": {},
          "output_type": "execute_result"
        }
      ],
      "source": [
        "dataframe.iloc[1,1]"
      ]
    },
    {
      "cell_type": "markdown",
      "metadata": {
        "id": "1SAVErcfdFqZ"
      },
      "source": [
        "**_Example_**\n",
        "* This example will show the selection of data by using single column values"
      ]
    },
    {
      "cell_type": "code",
      "execution_count": null,
      "metadata": {
        "id": "GiUNEzCmdFqZ",
        "outputId": "538288eb-19d5-486c-b80d-230aa141ae60"
      },
      "outputs": [
        {
          "data": {
            "text/html": [
              "<div>\n",
              "<style scoped>\n",
              "    .dataframe tbody tr th:only-of-type {\n",
              "        vertical-align: middle;\n",
              "    }\n",
              "\n",
              "    .dataframe tbody tr th {\n",
              "        vertical-align: top;\n",
              "    }\n",
              "\n",
              "    .dataframe thead th {\n",
              "        text-align: right;\n",
              "    }\n",
              "</style>\n",
              "<table border=\"1\" class=\"dataframe\">\n",
              "  <thead>\n",
              "    <tr style=\"text-align: right;\">\n",
              "      <th></th>\n",
              "      <th>A</th>\n",
              "      <th>B</th>\n",
              "      <th>C</th>\n",
              "      <th>D</th>\n",
              "    </tr>\n",
              "  </thead>\n",
              "  <tbody>\n",
              "    <tr>\n",
              "      <th>2019-01-02</th>\n",
              "      <td>-0.346780</td>\n",
              "      <td>1.159567</td>\n",
              "      <td>-1.323603</td>\n",
              "      <td>-0.181600</td>\n",
              "    </tr>\n",
              "    <tr>\n",
              "      <th>2019-01-03</th>\n",
              "      <td>0.857102</td>\n",
              "      <td>0.662322</td>\n",
              "      <td>-0.955811</td>\n",
              "      <td>0.866493</td>\n",
              "    </tr>\n",
              "  </tbody>\n",
              "</table>\n",
              "</div>"
            ],
            "text/plain": [
              "                   A         B         C         D\n",
              "2019-01-02 -0.346780  1.159567 -1.323603 -0.181600\n",
              "2019-01-03  0.857102  0.662322 -0.955811  0.866493"
            ]
          },
          "execution_count": 90,
          "metadata": {},
          "output_type": "execute_result"
        }
      ],
      "source": [
        "dataframe[dataframe.B > 0]"
      ]
    },
    {
      "cell_type": "markdown",
      "metadata": {
        "id": "NeDYhwV8dFqZ"
      },
      "source": [
        "**_Example_**\n",
        "* This example will show the selection of data from Dataframe where boolean condition is satisfied"
      ]
    },
    {
      "cell_type": "code",
      "execution_count": null,
      "metadata": {
        "id": "vF4NGe6VdFqZ",
        "outputId": "d2ecb444-03cf-413a-d93e-d465586bb842"
      },
      "outputs": [
        {
          "data": {
            "text/html": [
              "<div>\n",
              "<style scoped>\n",
              "    .dataframe tbody tr th:only-of-type {\n",
              "        vertical-align: middle;\n",
              "    }\n",
              "\n",
              "    .dataframe tbody tr th {\n",
              "        vertical-align: top;\n",
              "    }\n",
              "\n",
              "    .dataframe thead th {\n",
              "        text-align: right;\n",
              "    }\n",
              "</style>\n",
              "<table border=\"1\" class=\"dataframe\">\n",
              "  <thead>\n",
              "    <tr style=\"text-align: right;\">\n",
              "      <th></th>\n",
              "      <th>A</th>\n",
              "      <th>B</th>\n",
              "      <th>C</th>\n",
              "      <th>D</th>\n",
              "    </tr>\n",
              "  </thead>\n",
              "  <tbody>\n",
              "    <tr>\n",
              "      <th>2019-01-01</th>\n",
              "      <td>0.750605</td>\n",
              "      <td>NaN</td>\n",
              "      <td>NaN</td>\n",
              "      <td>NaN</td>\n",
              "    </tr>\n",
              "    <tr>\n",
              "      <th>2019-01-02</th>\n",
              "      <td>NaN</td>\n",
              "      <td>1.159567</td>\n",
              "      <td>NaN</td>\n",
              "      <td>NaN</td>\n",
              "    </tr>\n",
              "    <tr>\n",
              "      <th>2019-01-03</th>\n",
              "      <td>0.857102</td>\n",
              "      <td>0.662322</td>\n",
              "      <td>NaN</td>\n",
              "      <td>0.866493</td>\n",
              "    </tr>\n",
              "    <tr>\n",
              "      <th>2019-01-04</th>\n",
              "      <td>NaN</td>\n",
              "      <td>NaN</td>\n",
              "      <td>NaN</td>\n",
              "      <td>1.240305</td>\n",
              "    </tr>\n",
              "    <tr>\n",
              "      <th>2019-01-05</th>\n",
              "      <td>NaN</td>\n",
              "      <td>NaN</td>\n",
              "      <td>NaN</td>\n",
              "      <td>NaN</td>\n",
              "    </tr>\n",
              "    <tr>\n",
              "      <th>2019-01-06</th>\n",
              "      <td>NaN</td>\n",
              "      <td>NaN</td>\n",
              "      <td>NaN</td>\n",
              "      <td>NaN</td>\n",
              "    </tr>\n",
              "  </tbody>\n",
              "</table>\n",
              "</div>"
            ],
            "text/plain": [
              "                   A         B   C         D\n",
              "2019-01-01  0.750605       NaN NaN       NaN\n",
              "2019-01-02       NaN  1.159567 NaN       NaN\n",
              "2019-01-03  0.857102  0.662322 NaN  0.866493\n",
              "2019-01-04       NaN       NaN NaN  1.240305\n",
              "2019-01-05       NaN       NaN NaN       NaN\n",
              "2019-01-06       NaN       NaN NaN       NaN"
            ]
          },
          "execution_count": 91,
          "metadata": {},
          "output_type": "execute_result"
        }
      ],
      "source": [
        "dataframe[dataframe > 0]"
      ]
    },
    {
      "cell_type": "markdown",
      "metadata": {
        "id": "v18u29E8dFqZ"
      },
      "source": [
        "**_Example_**\n",
        "* This example will show **isin()** function for filtering"
      ]
    },
    {
      "cell_type": "code",
      "execution_count": null,
      "metadata": {
        "id": "QIVOB3DidFqZ"
      },
      "outputs": [],
      "source": [
        "dataframe2 = dataframe.copy()"
      ]
    },
    {
      "cell_type": "code",
      "execution_count": null,
      "metadata": {
        "id": "MF9kf0LOdFqa"
      },
      "outputs": [],
      "source": [
        "dataframe2['E'] = ['one', 'one','two','three','four','three']"
      ]
    },
    {
      "cell_type": "code",
      "execution_count": null,
      "metadata": {
        "id": "vuov5FDVdFqa",
        "outputId": "a4e1b391-6f48-4211-bbdd-4494cb41dc89"
      },
      "outputs": [
        {
          "name": "stdout",
          "output_type": "stream",
          "text": [
            "                   A         B         C         D      E\n",
            "2019-01-01  0.750605 -0.069523 -0.998938 -0.362319    one\n",
            "2019-01-02 -0.346780  1.159567 -1.323603 -0.181600    one\n",
            "2019-01-03  0.857102  0.662322 -0.955811  0.866493    two\n",
            "2019-01-04 -0.634592 -1.675086 -0.350006  1.240305  three\n",
            "2019-01-05 -1.103729 -0.123992 -0.151002 -1.066669   four\n",
            "2019-01-06 -0.092746 -0.536141 -0.094074 -0.544467  three\n"
          ]
        }
      ],
      "source": [
        "print(dataframe2)"
      ]
    },
    {
      "cell_type": "code",
      "execution_count": null,
      "metadata": {
        "id": "fS87LX-RdFqa",
        "outputId": "736d9b6c-bae9-450e-ea43-28f57ea9bc38"
      },
      "outputs": [
        {
          "data": {
            "text/html": [
              "<div>\n",
              "<style scoped>\n",
              "    .dataframe tbody tr th:only-of-type {\n",
              "        vertical-align: middle;\n",
              "    }\n",
              "\n",
              "    .dataframe tbody tr th {\n",
              "        vertical-align: top;\n",
              "    }\n",
              "\n",
              "    .dataframe thead th {\n",
              "        text-align: right;\n",
              "    }\n",
              "</style>\n",
              "<table border=\"1\" class=\"dataframe\">\n",
              "  <thead>\n",
              "    <tr style=\"text-align: right;\">\n",
              "      <th></th>\n",
              "      <th>A</th>\n",
              "      <th>B</th>\n",
              "      <th>C</th>\n",
              "      <th>D</th>\n",
              "      <th>E</th>\n",
              "    </tr>\n",
              "  </thead>\n",
              "  <tbody>\n",
              "    <tr>\n",
              "      <th>2019-01-03</th>\n",
              "      <td>0.857102</td>\n",
              "      <td>0.662322</td>\n",
              "      <td>-0.955811</td>\n",
              "      <td>0.866493</td>\n",
              "      <td>two</td>\n",
              "    </tr>\n",
              "    <tr>\n",
              "      <th>2019-01-05</th>\n",
              "      <td>-1.103729</td>\n",
              "      <td>-0.123992</td>\n",
              "      <td>-0.151002</td>\n",
              "      <td>-1.066669</td>\n",
              "      <td>four</td>\n",
              "    </tr>\n",
              "  </tbody>\n",
              "</table>\n",
              "</div>"
            ],
            "text/plain": [
              "                   A         B         C         D     E\n",
              "2019-01-03  0.857102  0.662322 -0.955811  0.866493   two\n",
              "2019-01-05 -1.103729 -0.123992 -0.151002 -1.066669  four"
            ]
          },
          "execution_count": 95,
          "metadata": {},
          "output_type": "execute_result"
        }
      ],
      "source": [
        "dataframe2[dataframe2['E'].isin(['two','four'])]"
      ]
    },
    {
      "cell_type": "code",
      "execution_count": null,
      "metadata": {
        "id": "O8JcKER8dFqa"
      },
      "outputs": [],
      "source": [
        "## Example \n",
        "df=pd.read_csv(\"My_dataset.csv\")"
      ]
    },
    {
      "cell_type": "code",
      "execution_count": 17,
      "metadata": {},
      "outputs": [
        {
          "data": {
            "text/html": [
              "<div>\n",
              "<style scoped>\n",
              "    .dataframe tbody tr th:only-of-type {\n",
              "        vertical-align: middle;\n",
              "    }\n",
              "\n",
              "    .dataframe tbody tr th {\n",
              "        vertical-align: top;\n",
              "    }\n",
              "\n",
              "    .dataframe thead th {\n",
              "        text-align: right;\n",
              "    }\n",
              "</style>\n",
              "<table border=\"1\" class=\"dataframe\">\n",
              "  <thead>\n",
              "    <tr style=\"text-align: right;\">\n",
              "      <th></th>\n",
              "      <th>text</th>\n",
              "      <th>selected_text</th>\n",
              "      <th>sentiment</th>\n",
              "    </tr>\n",
              "  </thead>\n",
              "  <tbody>\n",
              "    <tr>\n",
              "      <th>0</th>\n",
              "      <td>I`d have responded, if I were going</td>\n",
              "      <td>I`d have responded, if I were going</td>\n",
              "      <td>neutral</td>\n",
              "    </tr>\n",
              "    <tr>\n",
              "      <th>1</th>\n",
              "      <td>Sooo SAD I will miss you here in San Diego!!!</td>\n",
              "      <td>Sooo SAD</td>\n",
              "      <td>negative</td>\n",
              "    </tr>\n",
              "    <tr>\n",
              "      <th>2</th>\n",
              "      <td>my boss is bullying me...</td>\n",
              "      <td>bullying me</td>\n",
              "      <td>negative</td>\n",
              "    </tr>\n",
              "    <tr>\n",
              "      <th>3</th>\n",
              "      <td>what interview! leave me alone</td>\n",
              "      <td>leave me alone</td>\n",
              "      <td>negative</td>\n",
              "    </tr>\n",
              "    <tr>\n",
              "      <th>4</th>\n",
              "      <td>Sons of ****, why couldn`t they put them on t...</td>\n",
              "      <td>Sons of ****,</td>\n",
              "      <td>negative</td>\n",
              "    </tr>\n",
              "    <tr>\n",
              "      <th>...</th>\n",
              "      <td>...</td>\n",
              "      <td>...</td>\n",
              "      <td>...</td>\n",
              "    </tr>\n",
              "    <tr>\n",
              "      <th>27476</th>\n",
              "      <td>wish we could come see u on Denver  husband l...</td>\n",
              "      <td>d lost</td>\n",
              "      <td>negative</td>\n",
              "    </tr>\n",
              "    <tr>\n",
              "      <th>27477</th>\n",
              "      <td>I`ve wondered about rake to.  The client has ...</td>\n",
              "      <td>, don`t force</td>\n",
              "      <td>negative</td>\n",
              "    </tr>\n",
              "    <tr>\n",
              "      <th>27478</th>\n",
              "      <td>Yay good for both of you. Enjoy the break - y...</td>\n",
              "      <td>Yay good for both of you.</td>\n",
              "      <td>positive</td>\n",
              "    </tr>\n",
              "    <tr>\n",
              "      <th>27479</th>\n",
              "      <td>But it was worth it  ****.</td>\n",
              "      <td>But it was worth it  ****.</td>\n",
              "      <td>positive</td>\n",
              "    </tr>\n",
              "    <tr>\n",
              "      <th>27480</th>\n",
              "      <td>All this flirting going on - The ATG smiles...</td>\n",
              "      <td>All this flirting going on - The ATG smiles. Y...</td>\n",
              "      <td>neutral</td>\n",
              "    </tr>\n",
              "  </tbody>\n",
              "</table>\n",
              "<p>27481 rows × 3 columns</p>\n",
              "</div>"
            ],
            "text/plain": [
              "                                                    text  \\\n",
              "0                    I`d have responded, if I were going   \n",
              "1          Sooo SAD I will miss you here in San Diego!!!   \n",
              "2                              my boss is bullying me...   \n",
              "3                         what interview! leave me alone   \n",
              "4       Sons of ****, why couldn`t they put them on t...   \n",
              "...                                                  ...   \n",
              "27476   wish we could come see u on Denver  husband l...   \n",
              "27477   I`ve wondered about rake to.  The client has ...   \n",
              "27478   Yay good for both of you. Enjoy the break - y...   \n",
              "27479                         But it was worth it  ****.   \n",
              "27480     All this flirting going on - The ATG smiles...   \n",
              "\n",
              "                                           selected_text sentiment  \n",
              "0                    I`d have responded, if I were going   neutral  \n",
              "1                                               Sooo SAD  negative  \n",
              "2                                            bullying me  negative  \n",
              "3                                         leave me alone  negative  \n",
              "4                                          Sons of ****,  negative  \n",
              "...                                                  ...       ...  \n",
              "27476                                             d lost  negative  \n",
              "27477                                      , don`t force  negative  \n",
              "27478                          Yay good for both of you.  positive  \n",
              "27479                         But it was worth it  ****.  positive  \n",
              "27480  All this flirting going on - The ATG smiles. Y...   neutral  \n",
              "\n",
              "[27481 rows x 3 columns]"
            ]
          },
          "execution_count": 17,
          "metadata": {},
          "output_type": "execute_result"
        }
      ],
      "source": [
        "df"
      ]
    },
    {
      "cell_type": "code",
      "execution_count": 18,
      "metadata": {},
      "outputs": [
        {
          "data": {
            "text/html": [
              "<div>\n",
              "<style scoped>\n",
              "    .dataframe tbody tr th:only-of-type {\n",
              "        vertical-align: middle;\n",
              "    }\n",
              "\n",
              "    .dataframe tbody tr th {\n",
              "        vertical-align: top;\n",
              "    }\n",
              "\n",
              "    .dataframe thead th {\n",
              "        text-align: right;\n",
              "    }\n",
              "</style>\n",
              "<table border=\"1\" class=\"dataframe\">\n",
              "  <thead>\n",
              "    <tr style=\"text-align: right;\">\n",
              "      <th></th>\n",
              "      <th>text</th>\n",
              "      <th>selected_text</th>\n",
              "      <th>sentiment</th>\n",
              "    </tr>\n",
              "  </thead>\n",
              "  <tbody>\n",
              "    <tr>\n",
              "      <th>0</th>\n",
              "      <td>I`d have responded, if I were going</td>\n",
              "      <td>I`d have responded, if I were going</td>\n",
              "      <td>neutral</td>\n",
              "    </tr>\n",
              "    <tr>\n",
              "      <th>1</th>\n",
              "      <td>Sooo SAD I will miss you here in San Diego!!!</td>\n",
              "      <td>Sooo SAD</td>\n",
              "      <td>negative</td>\n",
              "    </tr>\n",
              "    <tr>\n",
              "      <th>2</th>\n",
              "      <td>my boss is bullying me...</td>\n",
              "      <td>bullying me</td>\n",
              "      <td>negative</td>\n",
              "    </tr>\n",
              "    <tr>\n",
              "      <th>3</th>\n",
              "      <td>what interview! leave me alone</td>\n",
              "      <td>leave me alone</td>\n",
              "      <td>negative</td>\n",
              "    </tr>\n",
              "    <tr>\n",
              "      <th>4</th>\n",
              "      <td>Sons of ****, why couldn`t they put them on t...</td>\n",
              "      <td>Sons of ****,</td>\n",
              "      <td>negative</td>\n",
              "    </tr>\n",
              "  </tbody>\n",
              "</table>\n",
              "</div>"
            ],
            "text/plain": [
              "                                                text  \\\n",
              "0                I`d have responded, if I were going   \n",
              "1      Sooo SAD I will miss you here in San Diego!!!   \n",
              "2                          my boss is bullying me...   \n",
              "3                     what interview! leave me alone   \n",
              "4   Sons of ****, why couldn`t they put them on t...   \n",
              "\n",
              "                         selected_text sentiment  \n",
              "0  I`d have responded, if I were going   neutral  \n",
              "1                             Sooo SAD  negative  \n",
              "2                          bullying me  negative  \n",
              "3                       leave me alone  negative  \n",
              "4                        Sons of ****,  negative  "
            ]
          },
          "execution_count": 18,
          "metadata": {},
          "output_type": "execute_result"
        }
      ],
      "source": [
        "df.head()"
      ]
    },
    {
      "cell_type": "code",
      "execution_count": 19,
      "metadata": {},
      "outputs": [
        {
          "data": {
            "text/html": [
              "<div>\n",
              "<style scoped>\n",
              "    .dataframe tbody tr th:only-of-type {\n",
              "        vertical-align: middle;\n",
              "    }\n",
              "\n",
              "    .dataframe tbody tr th {\n",
              "        vertical-align: top;\n",
              "    }\n",
              "\n",
              "    .dataframe thead th {\n",
              "        text-align: right;\n",
              "    }\n",
              "</style>\n",
              "<table border=\"1\" class=\"dataframe\">\n",
              "  <thead>\n",
              "    <tr style=\"text-align: right;\">\n",
              "      <th></th>\n",
              "      <th>text</th>\n",
              "      <th>selected_text</th>\n",
              "      <th>sentiment</th>\n",
              "    </tr>\n",
              "  </thead>\n",
              "  <tbody>\n",
              "    <tr>\n",
              "      <th>27476</th>\n",
              "      <td>wish we could come see u on Denver  husband l...</td>\n",
              "      <td>d lost</td>\n",
              "      <td>negative</td>\n",
              "    </tr>\n",
              "    <tr>\n",
              "      <th>27477</th>\n",
              "      <td>I`ve wondered about rake to.  The client has ...</td>\n",
              "      <td>, don`t force</td>\n",
              "      <td>negative</td>\n",
              "    </tr>\n",
              "    <tr>\n",
              "      <th>27478</th>\n",
              "      <td>Yay good for both of you. Enjoy the break - y...</td>\n",
              "      <td>Yay good for both of you.</td>\n",
              "      <td>positive</td>\n",
              "    </tr>\n",
              "    <tr>\n",
              "      <th>27479</th>\n",
              "      <td>But it was worth it  ****.</td>\n",
              "      <td>But it was worth it  ****.</td>\n",
              "      <td>positive</td>\n",
              "    </tr>\n",
              "    <tr>\n",
              "      <th>27480</th>\n",
              "      <td>All this flirting going on - The ATG smiles...</td>\n",
              "      <td>All this flirting going on - The ATG smiles. Y...</td>\n",
              "      <td>neutral</td>\n",
              "    </tr>\n",
              "  </tbody>\n",
              "</table>\n",
              "</div>"
            ],
            "text/plain": [
              "                                                    text  \\\n",
              "27476   wish we could come see u on Denver  husband l...   \n",
              "27477   I`ve wondered about rake to.  The client has ...   \n",
              "27478   Yay good for both of you. Enjoy the break - y...   \n",
              "27479                         But it was worth it  ****.   \n",
              "27480     All this flirting going on - The ATG smiles...   \n",
              "\n",
              "                                           selected_text sentiment  \n",
              "27476                                             d lost  negative  \n",
              "27477                                      , don`t force  negative  \n",
              "27478                          Yay good for both of you.  positive  \n",
              "27479                         But it was worth it  ****.  positive  \n",
              "27480  All this flirting going on - The ATG smiles. Y...   neutral  "
            ]
          },
          "execution_count": 19,
          "metadata": {},
          "output_type": "execute_result"
        }
      ],
      "source": [
        "df.tail()"
      ]
    },
    {
      "cell_type": "code",
      "execution_count": 21,
      "metadata": {},
      "outputs": [
        {
          "data": {
            "text/plain": [
              "RangeIndex(start=0, stop=27481, step=1)"
            ]
          },
          "execution_count": 21,
          "metadata": {},
          "output_type": "execute_result"
        }
      ],
      "source": [
        "df.index"
      ]
    },
    {
      "cell_type": "code",
      "execution_count": 22,
      "metadata": {},
      "outputs": [
        {
          "data": {
            "text/plain": [
              "Index(['text', 'selected_text', 'sentiment'], dtype='object')"
            ]
          },
          "execution_count": 22,
          "metadata": {},
          "output_type": "execute_result"
        }
      ],
      "source": [
        "df.columns"
      ]
    },
    {
      "cell_type": "code",
      "execution_count": 23,
      "metadata": {},
      "outputs": [
        {
          "data": {
            "text/html": [
              "<div>\n",
              "<style scoped>\n",
              "    .dataframe tbody tr th:only-of-type {\n",
              "        vertical-align: middle;\n",
              "    }\n",
              "\n",
              "    .dataframe tbody tr th {\n",
              "        vertical-align: top;\n",
              "    }\n",
              "\n",
              "    .dataframe thead th {\n",
              "        text-align: right;\n",
              "    }\n",
              "</style>\n",
              "<table border=\"1\" class=\"dataframe\">\n",
              "  <thead>\n",
              "    <tr style=\"text-align: right;\">\n",
              "      <th></th>\n",
              "      <th>0</th>\n",
              "      <th>1</th>\n",
              "      <th>2</th>\n",
              "      <th>3</th>\n",
              "      <th>4</th>\n",
              "      <th>5</th>\n",
              "      <th>6</th>\n",
              "      <th>7</th>\n",
              "      <th>8</th>\n",
              "      <th>9</th>\n",
              "      <th>...</th>\n",
              "      <th>27471</th>\n",
              "      <th>27472</th>\n",
              "      <th>27473</th>\n",
              "      <th>27474</th>\n",
              "      <th>27475</th>\n",
              "      <th>27476</th>\n",
              "      <th>27477</th>\n",
              "      <th>27478</th>\n",
              "      <th>27479</th>\n",
              "      <th>27480</th>\n",
              "    </tr>\n",
              "  </thead>\n",
              "  <tbody>\n",
              "    <tr>\n",
              "      <th>text</th>\n",
              "      <td>I`d have responded, if I were going</td>\n",
              "      <td>Sooo SAD I will miss you here in San Diego!!!</td>\n",
              "      <td>my boss is bullying me...</td>\n",
              "      <td>what interview! leave me alone</td>\n",
              "      <td>Sons of ****, why couldn`t they put them on t...</td>\n",
              "      <td>http://www.dothebouncy.com/smf - some shameles...</td>\n",
              "      <td>2am feedings for the baby are fun when he is a...</td>\n",
              "      <td>Soooo high</td>\n",
              "      <td>Both of you</td>\n",
              "      <td>Journey!? Wow... u just became cooler.  hehe....</td>\n",
              "      <td>...</td>\n",
              "      <td>i`m defying gravity. and nobody in alll of oz,...</td>\n",
              "      <td>http://twitpic.com/663vr - Wanted to visit the...</td>\n",
              "      <td>in spoke to you yesterday and u didnt respond...</td>\n",
              "      <td>So I get up early and I feel good about the da...</td>\n",
              "      <td>enjoy ur night</td>\n",
              "      <td>wish we could come see u on Denver  husband l...</td>\n",
              "      <td>I`ve wondered about rake to.  The client has ...</td>\n",
              "      <td>Yay good for both of you. Enjoy the break - y...</td>\n",
              "      <td>But it was worth it  ****.</td>\n",
              "      <td>All this flirting going on - The ATG smiles...</td>\n",
              "    </tr>\n",
              "    <tr>\n",
              "      <th>selected_text</th>\n",
              "      <td>I`d have responded, if I were going</td>\n",
              "      <td>Sooo SAD</td>\n",
              "      <td>bullying me</td>\n",
              "      <td>leave me alone</td>\n",
              "      <td>Sons of ****,</td>\n",
              "      <td>http://www.dothebouncy.com/smf - some shameles...</td>\n",
              "      <td>fun</td>\n",
              "      <td>Soooo high</td>\n",
              "      <td>Both of you</td>\n",
              "      <td>Wow... u just became cooler.</td>\n",
              "      <td>...</td>\n",
              "      <td>i`m defying gravity. and nobody in alll of oz,...</td>\n",
              "      <td>were too late</td>\n",
              "      <td>in spoke to you yesterday and u didnt respond ...</td>\n",
              "      <td>I feel good ab</td>\n",
              "      <td>enjoy</td>\n",
              "      <td>d lost</td>\n",
              "      <td>, don`t force</td>\n",
              "      <td>Yay good for both of you.</td>\n",
              "      <td>But it was worth it  ****.</td>\n",
              "      <td>All this flirting going on - The ATG smiles. Y...</td>\n",
              "    </tr>\n",
              "    <tr>\n",
              "      <th>sentiment</th>\n",
              "      <td>neutral</td>\n",
              "      <td>negative</td>\n",
              "      <td>negative</td>\n",
              "      <td>negative</td>\n",
              "      <td>negative</td>\n",
              "      <td>neutral</td>\n",
              "      <td>positive</td>\n",
              "      <td>neutral</td>\n",
              "      <td>neutral</td>\n",
              "      <td>positive</td>\n",
              "      <td>...</td>\n",
              "      <td>neutral</td>\n",
              "      <td>negative</td>\n",
              "      <td>neutral</td>\n",
              "      <td>positive</td>\n",
              "      <td>positive</td>\n",
              "      <td>negative</td>\n",
              "      <td>negative</td>\n",
              "      <td>positive</td>\n",
              "      <td>positive</td>\n",
              "      <td>neutral</td>\n",
              "    </tr>\n",
              "  </tbody>\n",
              "</table>\n",
              "<p>3 rows × 27481 columns</p>\n",
              "</div>"
            ],
            "text/plain": [
              "                                              0      \\\n",
              "text            I`d have responded, if I were going   \n",
              "selected_text   I`d have responded, if I were going   \n",
              "sentiment                                   neutral   \n",
              "\n",
              "                                                        1      \\\n",
              "text            Sooo SAD I will miss you here in San Diego!!!   \n",
              "selected_text                                        Sooo SAD   \n",
              "sentiment                                            negative   \n",
              "\n",
              "                                   2                                3      \\\n",
              "text           my boss is bullying me...   what interview! leave me alone   \n",
              "selected_text                bullying me                   leave me alone   \n",
              "sentiment                       negative                         negative   \n",
              "\n",
              "                                                           4      \\\n",
              "text            Sons of ****, why couldn`t they put them on t...   \n",
              "selected_text                                      Sons of ****,   \n",
              "sentiment                                               negative   \n",
              "\n",
              "                                                           5      \\\n",
              "text           http://www.dothebouncy.com/smf - some shameles...   \n",
              "selected_text  http://www.dothebouncy.com/smf - some shameles...   \n",
              "sentiment                                                neutral   \n",
              "\n",
              "                                                           6           7      \\\n",
              "text           2am feedings for the baby are fun when he is a...  Soooo high   \n",
              "selected_text                                                fun  Soooo high   \n",
              "sentiment                                               positive     neutral   \n",
              "\n",
              "                      8      \\\n",
              "text            Both of you   \n",
              "selected_text   Both of you   \n",
              "sentiment           neutral   \n",
              "\n",
              "                                                           9      ...  \\\n",
              "text            Journey!? Wow... u just became cooler.  hehe....  ...   \n",
              "selected_text                       Wow... u just became cooler.  ...   \n",
              "sentiment                                               positive  ...   \n",
              "\n",
              "                                                           27471  \\\n",
              "text           i`m defying gravity. and nobody in alll of oz,...   \n",
              "selected_text  i`m defying gravity. and nobody in alll of oz,...   \n",
              "sentiment                                                neutral   \n",
              "\n",
              "                                                           27472  \\\n",
              "text           http://twitpic.com/663vr - Wanted to visit the...   \n",
              "selected_text                                      were too late   \n",
              "sentiment                                               negative   \n",
              "\n",
              "                                                           27473  \\\n",
              "text            in spoke to you yesterday and u didnt respond...   \n",
              "selected_text  in spoke to you yesterday and u didnt respond ...   \n",
              "sentiment                                                neutral   \n",
              "\n",
              "                                                           27474  \\\n",
              "text           So I get up early and I feel good about the da...   \n",
              "selected_text                                     I feel good ab   \n",
              "sentiment                                               positive   \n",
              "\n",
              "                          27475  \\\n",
              "text             enjoy ur night   \n",
              "selected_text             enjoy   \n",
              "sentiment              positive   \n",
              "\n",
              "                                                           27476  \\\n",
              "text            wish we could come see u on Denver  husband l...   \n",
              "selected_text                                             d lost   \n",
              "sentiment                                               negative   \n",
              "\n",
              "                                                           27477  \\\n",
              "text            I`ve wondered about rake to.  The client has ...   \n",
              "selected_text                                      , don`t force   \n",
              "sentiment                                               negative   \n",
              "\n",
              "                                                           27478  \\\n",
              "text            Yay good for both of you. Enjoy the break - y...   \n",
              "selected_text                          Yay good for both of you.   \n",
              "sentiment                                               positive   \n",
              "\n",
              "                                     27479  \\\n",
              "text            But it was worth it  ****.   \n",
              "selected_text   But it was worth it  ****.   \n",
              "sentiment                         positive   \n",
              "\n",
              "                                                           27480  \n",
              "text              All this flirting going on - The ATG smiles...  \n",
              "selected_text  All this flirting going on - The ATG smiles. Y...  \n",
              "sentiment                                                neutral  \n",
              "\n",
              "[3 rows x 27481 columns]"
            ]
          },
          "execution_count": 23,
          "metadata": {},
          "output_type": "execute_result"
        }
      ],
      "source": [
        "df.T"
      ]
    },
    {
      "cell_type": "code",
      "execution_count": 25,
      "metadata": {},
      "outputs": [
        {
          "data": {
            "text/html": [
              "<div>\n",
              "<style scoped>\n",
              "    .dataframe tbody tr th:only-of-type {\n",
              "        vertical-align: middle;\n",
              "    }\n",
              "\n",
              "    .dataframe tbody tr th {\n",
              "        vertical-align: top;\n",
              "    }\n",
              "\n",
              "    .dataframe thead th {\n",
              "        text-align: right;\n",
              "    }\n",
              "</style>\n",
              "<table border=\"1\" class=\"dataframe\">\n",
              "  <thead>\n",
              "    <tr style=\"text-align: right;\">\n",
              "      <th></th>\n",
              "      <th>selected_text</th>\n",
              "      <th>sentiment</th>\n",
              "      <th>text</th>\n",
              "    </tr>\n",
              "  </thead>\n",
              "  <tbody>\n",
              "    <tr>\n",
              "      <th>0</th>\n",
              "      <td>I`d have responded, if I were going</td>\n",
              "      <td>neutral</td>\n",
              "      <td>I`d have responded, if I were going</td>\n",
              "    </tr>\n",
              "    <tr>\n",
              "      <th>1</th>\n",
              "      <td>Sooo SAD</td>\n",
              "      <td>negative</td>\n",
              "      <td>Sooo SAD I will miss you here in San Diego!!!</td>\n",
              "    </tr>\n",
              "    <tr>\n",
              "      <th>2</th>\n",
              "      <td>bullying me</td>\n",
              "      <td>negative</td>\n",
              "      <td>my boss is bullying me...</td>\n",
              "    </tr>\n",
              "    <tr>\n",
              "      <th>3</th>\n",
              "      <td>leave me alone</td>\n",
              "      <td>negative</td>\n",
              "      <td>what interview! leave me alone</td>\n",
              "    </tr>\n",
              "    <tr>\n",
              "      <th>4</th>\n",
              "      <td>Sons of ****,</td>\n",
              "      <td>negative</td>\n",
              "      <td>Sons of ****, why couldn`t they put them on t...</td>\n",
              "    </tr>\n",
              "    <tr>\n",
              "      <th>...</th>\n",
              "      <td>...</td>\n",
              "      <td>...</td>\n",
              "      <td>...</td>\n",
              "    </tr>\n",
              "    <tr>\n",
              "      <th>27476</th>\n",
              "      <td>d lost</td>\n",
              "      <td>negative</td>\n",
              "      <td>wish we could come see u on Denver  husband l...</td>\n",
              "    </tr>\n",
              "    <tr>\n",
              "      <th>27477</th>\n",
              "      <td>, don`t force</td>\n",
              "      <td>negative</td>\n",
              "      <td>I`ve wondered about rake to.  The client has ...</td>\n",
              "    </tr>\n",
              "    <tr>\n",
              "      <th>27478</th>\n",
              "      <td>Yay good for both of you.</td>\n",
              "      <td>positive</td>\n",
              "      <td>Yay good for both of you. Enjoy the break - y...</td>\n",
              "    </tr>\n",
              "    <tr>\n",
              "      <th>27479</th>\n",
              "      <td>But it was worth it  ****.</td>\n",
              "      <td>positive</td>\n",
              "      <td>But it was worth it  ****.</td>\n",
              "    </tr>\n",
              "    <tr>\n",
              "      <th>27480</th>\n",
              "      <td>All this flirting going on - The ATG smiles. Y...</td>\n",
              "      <td>neutral</td>\n",
              "      <td>All this flirting going on - The ATG smiles...</td>\n",
              "    </tr>\n",
              "  </tbody>\n",
              "</table>\n",
              "<p>27481 rows × 3 columns</p>\n",
              "</div>"
            ],
            "text/plain": [
              "                                           selected_text sentiment  \\\n",
              "0                    I`d have responded, if I were going   neutral   \n",
              "1                                               Sooo SAD  negative   \n",
              "2                                            bullying me  negative   \n",
              "3                                         leave me alone  negative   \n",
              "4                                          Sons of ****,  negative   \n",
              "...                                                  ...       ...   \n",
              "27476                                             d lost  negative   \n",
              "27477                                      , don`t force  negative   \n",
              "27478                          Yay good for both of you.  positive   \n",
              "27479                         But it was worth it  ****.  positive   \n",
              "27480  All this flirting going on - The ATG smiles. Y...   neutral   \n",
              "\n",
              "                                                    text  \n",
              "0                    I`d have responded, if I were going  \n",
              "1          Sooo SAD I will miss you here in San Diego!!!  \n",
              "2                              my boss is bullying me...  \n",
              "3                         what interview! leave me alone  \n",
              "4       Sons of ****, why couldn`t they put them on t...  \n",
              "...                                                  ...  \n",
              "27476   wish we could come see u on Denver  husband l...  \n",
              "27477   I`ve wondered about rake to.  The client has ...  \n",
              "27478   Yay good for both of you. Enjoy the break - y...  \n",
              "27479                         But it was worth it  ****.  \n",
              "27480     All this flirting going on - The ATG smiles...  \n",
              "\n",
              "[27481 rows x 3 columns]"
            ]
          },
          "execution_count": 25,
          "metadata": {},
          "output_type": "execute_result"
        }
      ],
      "source": [
        "df.sort_index(axis=1)"
      ]
    },
    {
      "cell_type": "code",
      "execution_count": 26,
      "metadata": {},
      "outputs": [
        {
          "data": {
            "text/html": [
              "<div>\n",
              "<style scoped>\n",
              "    .dataframe tbody tr th:only-of-type {\n",
              "        vertical-align: middle;\n",
              "    }\n",
              "\n",
              "    .dataframe tbody tr th {\n",
              "        vertical-align: top;\n",
              "    }\n",
              "\n",
              "    .dataframe thead th {\n",
              "        text-align: right;\n",
              "    }\n",
              "</style>\n",
              "<table border=\"1\" class=\"dataframe\">\n",
              "  <thead>\n",
              "    <tr style=\"text-align: right;\">\n",
              "      <th></th>\n",
              "      <th>text</th>\n",
              "      <th>selected_text</th>\n",
              "      <th>sentiment</th>\n",
              "    </tr>\n",
              "  </thead>\n",
              "  <tbody>\n",
              "    <tr>\n",
              "      <th>count</th>\n",
              "      <td>27480</td>\n",
              "      <td>27480</td>\n",
              "      <td>27481</td>\n",
              "    </tr>\n",
              "    <tr>\n",
              "      <th>unique</th>\n",
              "      <td>27480</td>\n",
              "      <td>22430</td>\n",
              "      <td>3</td>\n",
              "    </tr>\n",
              "    <tr>\n",
              "      <th>top</th>\n",
              "      <td>All this flirting going on - The ATG smiles...</td>\n",
              "      <td>good</td>\n",
              "      <td>neutral</td>\n",
              "    </tr>\n",
              "    <tr>\n",
              "      <th>freq</th>\n",
              "      <td>1</td>\n",
              "      <td>199</td>\n",
              "      <td>11118</td>\n",
              "    </tr>\n",
              "  </tbody>\n",
              "</table>\n",
              "</div>"
            ],
            "text/plain": [
              "                                                     text selected_text  \\\n",
              "count                                               27480         27480   \n",
              "unique                                              27480         22430   \n",
              "top        All this flirting going on - The ATG smiles...          good   \n",
              "freq                                                    1           199   \n",
              "\n",
              "       sentiment  \n",
              "count      27481  \n",
              "unique         3  \n",
              "top      neutral  \n",
              "freq       11118  "
            ]
          },
          "execution_count": 26,
          "metadata": {},
          "output_type": "execute_result"
        }
      ],
      "source": [
        "df.describe()"
      ]
    },
    {
      "cell_type": "code",
      "execution_count": 28,
      "metadata": {},
      "outputs": [
        {
          "data": {
            "text/plain": [
              "0                      I`d have responded, if I were going\n",
              "1                                                 Sooo SAD\n",
              "2                                              bullying me\n",
              "3                                           leave me alone\n",
              "4                                            Sons of ****,\n",
              "                               ...                        \n",
              "27476                                               d lost\n",
              "27477                                        , don`t force\n",
              "27478                            Yay good for both of you.\n",
              "27479                           But it was worth it  ****.\n",
              "27480    All this flirting going on - The ATG smiles. Y...\n",
              "Name: selected_text, Length: 27481, dtype: object"
            ]
          },
          "execution_count": 28,
          "metadata": {},
          "output_type": "execute_result"
        }
      ],
      "source": [
        "df['selected_text']"
      ]
    },
    {
      "cell_type": "code",
      "execution_count": 29,
      "metadata": {},
      "outputs": [
        {
          "data": {
            "text/plain": [
              "0         neutral\n",
              "1        negative\n",
              "2        negative\n",
              "3        negative\n",
              "4        negative\n",
              "           ...   \n",
              "27476    negative\n",
              "27477    negative\n",
              "27478    positive\n",
              "27479    positive\n",
              "27480     neutral\n",
              "Name: sentiment, Length: 27481, dtype: object"
            ]
          },
          "execution_count": 29,
          "metadata": {},
          "output_type": "execute_result"
        }
      ],
      "source": [
        "df['sentiment']"
      ]
    },
    {
      "cell_type": "code",
      "execution_count": 30,
      "metadata": {},
      "outputs": [
        {
          "data": {
            "text/html": [
              "<div>\n",
              "<style scoped>\n",
              "    .dataframe tbody tr th:only-of-type {\n",
              "        vertical-align: middle;\n",
              "    }\n",
              "\n",
              "    .dataframe tbody tr th {\n",
              "        vertical-align: top;\n",
              "    }\n",
              "\n",
              "    .dataframe thead th {\n",
              "        text-align: right;\n",
              "    }\n",
              "</style>\n",
              "<table border=\"1\" class=\"dataframe\">\n",
              "  <thead>\n",
              "    <tr style=\"text-align: right;\">\n",
              "      <th></th>\n",
              "      <th>text</th>\n",
              "      <th>selected_text</th>\n",
              "      <th>sentiment</th>\n",
              "    </tr>\n",
              "  </thead>\n",
              "  <tbody>\n",
              "    <tr>\n",
              "      <th>0</th>\n",
              "      <td>I`d have responded, if I were going</td>\n",
              "      <td>I`d have responded, if I were going</td>\n",
              "      <td>neutral</td>\n",
              "    </tr>\n",
              "    <tr>\n",
              "      <th>1</th>\n",
              "      <td>Sooo SAD I will miss you here in San Diego!!!</td>\n",
              "      <td>Sooo SAD</td>\n",
              "      <td>negative</td>\n",
              "    </tr>\n",
              "    <tr>\n",
              "      <th>2</th>\n",
              "      <td>my boss is bullying me...</td>\n",
              "      <td>bullying me</td>\n",
              "      <td>negative</td>\n",
              "    </tr>\n",
              "    <tr>\n",
              "      <th>3</th>\n",
              "      <td>what interview! leave me alone</td>\n",
              "      <td>leave me alone</td>\n",
              "      <td>negative</td>\n",
              "    </tr>\n",
              "    <tr>\n",
              "      <th>4</th>\n",
              "      <td>Sons of ****, why couldn`t they put them on t...</td>\n",
              "      <td>Sons of ****,</td>\n",
              "      <td>negative</td>\n",
              "    </tr>\n",
              "  </tbody>\n",
              "</table>\n",
              "</div>"
            ],
            "text/plain": [
              "                                                text  \\\n",
              "0                I`d have responded, if I were going   \n",
              "1      Sooo SAD I will miss you here in San Diego!!!   \n",
              "2                          my boss is bullying me...   \n",
              "3                     what interview! leave me alone   \n",
              "4   Sons of ****, why couldn`t they put them on t...   \n",
              "\n",
              "                         selected_text sentiment  \n",
              "0  I`d have responded, if I were going   neutral  \n",
              "1                             Sooo SAD  negative  \n",
              "2                          bullying me  negative  \n",
              "3                       leave me alone  negative  \n",
              "4                        Sons of ****,  negative  "
            ]
          },
          "execution_count": 30,
          "metadata": {},
          "output_type": "execute_result"
        }
      ],
      "source": [
        "df[0:5]"
      ]
    },
    {
      "cell_type": "code",
      "execution_count": 32,
      "metadata": {},
      "outputs": [
        {
          "data": {
            "text/plain": [
              "0         neutral\n",
              "1        negative\n",
              "2        negative\n",
              "3        negative\n",
              "4        negative\n",
              "           ...   \n",
              "27476    negative\n",
              "27477    negative\n",
              "27478    positive\n",
              "27479    positive\n",
              "27480     neutral\n",
              "Name: sentiment, Length: 27481, dtype: object"
            ]
          },
          "execution_count": 32,
          "metadata": {},
          "output_type": "execute_result"
        }
      ],
      "source": [
        "df.loc[:\"selected_text\",\"sentiment\"]"
      ]
    },
    {
      "cell_type": "code",
      "execution_count": 33,
      "metadata": {},
      "outputs": [
        {
          "data": {
            "text/plain": [
              "text             http://www.dothebouncy.com/smf - some shameles...\n",
              "selected_text    http://www.dothebouncy.com/smf - some shameles...\n",
              "sentiment                                                  neutral\n",
              "Name: 5, dtype: object"
            ]
          },
          "execution_count": 33,
          "metadata": {},
          "output_type": "execute_result"
        }
      ],
      "source": [
        "df.iloc[5]"
      ]
    },
    {
      "cell_type": "code",
      "execution_count": 34,
      "metadata": {},
      "outputs": [
        {
          "data": {
            "text/html": [
              "<div>\n",
              "<style scoped>\n",
              "    .dataframe tbody tr th:only-of-type {\n",
              "        vertical-align: middle;\n",
              "    }\n",
              "\n",
              "    .dataframe tbody tr th {\n",
              "        vertical-align: top;\n",
              "    }\n",
              "\n",
              "    .dataframe thead th {\n",
              "        text-align: right;\n",
              "    }\n",
              "</style>\n",
              "<table border=\"1\" class=\"dataframe\">\n",
              "  <thead>\n",
              "    <tr style=\"text-align: right;\">\n",
              "      <th></th>\n",
              "      <th>text</th>\n",
              "      <th>selected_text</th>\n",
              "      <th>sentiment</th>\n",
              "    </tr>\n",
              "  </thead>\n",
              "  <tbody>\n",
              "    <tr>\n",
              "      <th>2</th>\n",
              "      <td>my boss is bullying me...</td>\n",
              "      <td>bullying me</td>\n",
              "      <td>negative</td>\n",
              "    </tr>\n",
              "    <tr>\n",
              "      <th>4</th>\n",
              "      <td>Sons of ****, why couldn`t they put them on t...</td>\n",
              "      <td>Sons of ****,</td>\n",
              "      <td>negative</td>\n",
              "    </tr>\n",
              "    <tr>\n",
              "      <th>5</th>\n",
              "      <td>http://www.dothebouncy.com/smf - some shameles...</td>\n",
              "      <td>http://www.dothebouncy.com/smf - some shameles...</td>\n",
              "      <td>neutral</td>\n",
              "    </tr>\n",
              "  </tbody>\n",
              "</table>\n",
              "</div>"
            ],
            "text/plain": [
              "                                                text  \\\n",
              "2                          my boss is bullying me...   \n",
              "4   Sons of ****, why couldn`t they put them on t...   \n",
              "5  http://www.dothebouncy.com/smf - some shameles...   \n",
              "\n",
              "                                       selected_text sentiment  \n",
              "2                                        bullying me  negative  \n",
              "4                                      Sons of ****,  negative  \n",
              "5  http://www.dothebouncy.com/smf - some shameles...   neutral  "
            ]
          },
          "execution_count": 34,
          "metadata": {},
          "output_type": "execute_result"
        }
      ],
      "source": [
        "df.iloc[[2,4,5]]"
      ]
    },
    {
      "cell_type": "code",
      "execution_count": 37,
      "metadata": {},
      "outputs": [
        {
          "data": {
            "text/html": [
              "<div>\n",
              "<style scoped>\n",
              "    .dataframe tbody tr th:only-of-type {\n",
              "        vertical-align: middle;\n",
              "    }\n",
              "\n",
              "    .dataframe tbody tr th {\n",
              "        vertical-align: top;\n",
              "    }\n",
              "\n",
              "    .dataframe thead th {\n",
              "        text-align: right;\n",
              "    }\n",
              "</style>\n",
              "<table border=\"1\" class=\"dataframe\">\n",
              "  <thead>\n",
              "    <tr style=\"text-align: right;\">\n",
              "      <th></th>\n",
              "    </tr>\n",
              "  </thead>\n",
              "  <tbody>\n",
              "    <tr>\n",
              "      <th>0</th>\n",
              "    </tr>\n",
              "    <tr>\n",
              "      <th>1</th>\n",
              "    </tr>\n",
              "    <tr>\n",
              "      <th>2</th>\n",
              "    </tr>\n",
              "    <tr>\n",
              "      <th>3</th>\n",
              "    </tr>\n",
              "  </tbody>\n",
              "</table>\n",
              "</div>"
            ],
            "text/plain": [
              "Empty DataFrame\n",
              "Columns: []\n",
              "Index: [0, 1, 2, 3]"
            ]
          },
          "execution_count": 37,
          "metadata": {},
          "output_type": "execute_result"
        }
      ],
      "source": [
        "df.iloc[0:4,3:5]"
      ]
    },
    {
      "cell_type": "code",
      "execution_count": 39,
      "metadata": {},
      "outputs": [],
      "source": [
        "df2=df.copy()"
      ]
    },
    {
      "cell_type": "code",
      "execution_count": 40,
      "metadata": {},
      "outputs": [
        {
          "data": {
            "text/html": [
              "<div>\n",
              "<style scoped>\n",
              "    .dataframe tbody tr th:only-of-type {\n",
              "        vertical-align: middle;\n",
              "    }\n",
              "\n",
              "    .dataframe tbody tr th {\n",
              "        vertical-align: top;\n",
              "    }\n",
              "\n",
              "    .dataframe thead th {\n",
              "        text-align: right;\n",
              "    }\n",
              "</style>\n",
              "<table border=\"1\" class=\"dataframe\">\n",
              "  <thead>\n",
              "    <tr style=\"text-align: right;\">\n",
              "      <th></th>\n",
              "      <th>text</th>\n",
              "      <th>selected_text</th>\n",
              "      <th>sentiment</th>\n",
              "    </tr>\n",
              "  </thead>\n",
              "  <tbody>\n",
              "    <tr>\n",
              "      <th>0</th>\n",
              "      <td>I`d have responded, if I were going</td>\n",
              "      <td>I`d have responded, if I were going</td>\n",
              "      <td>neutral</td>\n",
              "    </tr>\n",
              "    <tr>\n",
              "      <th>1</th>\n",
              "      <td>Sooo SAD I will miss you here in San Diego!!!</td>\n",
              "      <td>Sooo SAD</td>\n",
              "      <td>negative</td>\n",
              "    </tr>\n",
              "    <tr>\n",
              "      <th>2</th>\n",
              "      <td>my boss is bullying me...</td>\n",
              "      <td>bullying me</td>\n",
              "      <td>negative</td>\n",
              "    </tr>\n",
              "    <tr>\n",
              "      <th>3</th>\n",
              "      <td>what interview! leave me alone</td>\n",
              "      <td>leave me alone</td>\n",
              "      <td>negative</td>\n",
              "    </tr>\n",
              "    <tr>\n",
              "      <th>4</th>\n",
              "      <td>Sons of ****, why couldn`t they put them on t...</td>\n",
              "      <td>Sons of ****,</td>\n",
              "      <td>negative</td>\n",
              "    </tr>\n",
              "    <tr>\n",
              "      <th>...</th>\n",
              "      <td>...</td>\n",
              "      <td>...</td>\n",
              "      <td>...</td>\n",
              "    </tr>\n",
              "    <tr>\n",
              "      <th>27476</th>\n",
              "      <td>wish we could come see u on Denver  husband l...</td>\n",
              "      <td>d lost</td>\n",
              "      <td>negative</td>\n",
              "    </tr>\n",
              "    <tr>\n",
              "      <th>27477</th>\n",
              "      <td>I`ve wondered about rake to.  The client has ...</td>\n",
              "      <td>, don`t force</td>\n",
              "      <td>negative</td>\n",
              "    </tr>\n",
              "    <tr>\n",
              "      <th>27478</th>\n",
              "      <td>Yay good for both of you. Enjoy the break - y...</td>\n",
              "      <td>Yay good for both of you.</td>\n",
              "      <td>positive</td>\n",
              "    </tr>\n",
              "    <tr>\n",
              "      <th>27479</th>\n",
              "      <td>But it was worth it  ****.</td>\n",
              "      <td>But it was worth it  ****.</td>\n",
              "      <td>positive</td>\n",
              "    </tr>\n",
              "    <tr>\n",
              "      <th>27480</th>\n",
              "      <td>All this flirting going on - The ATG smiles...</td>\n",
              "      <td>All this flirting going on - The ATG smiles. Y...</td>\n",
              "      <td>neutral</td>\n",
              "    </tr>\n",
              "  </tbody>\n",
              "</table>\n",
              "<p>27481 rows × 3 columns</p>\n",
              "</div>"
            ],
            "text/plain": [
              "                                                    text  \\\n",
              "0                    I`d have responded, if I were going   \n",
              "1          Sooo SAD I will miss you here in San Diego!!!   \n",
              "2                              my boss is bullying me...   \n",
              "3                         what interview! leave me alone   \n",
              "4       Sons of ****, why couldn`t they put them on t...   \n",
              "...                                                  ...   \n",
              "27476   wish we could come see u on Denver  husband l...   \n",
              "27477   I`ve wondered about rake to.  The client has ...   \n",
              "27478   Yay good for both of you. Enjoy the break - y...   \n",
              "27479                         But it was worth it  ****.   \n",
              "27480     All this flirting going on - The ATG smiles...   \n",
              "\n",
              "                                           selected_text sentiment  \n",
              "0                    I`d have responded, if I were going   neutral  \n",
              "1                                               Sooo SAD  negative  \n",
              "2                                            bullying me  negative  \n",
              "3                                         leave me alone  negative  \n",
              "4                                          Sons of ****,  negative  \n",
              "...                                                  ...       ...  \n",
              "27476                                             d lost  negative  \n",
              "27477                                      , don`t force  negative  \n",
              "27478                          Yay good for both of you.  positive  \n",
              "27479                         But it was worth it  ****.  positive  \n",
              "27480  All this flirting going on - The ATG smiles. Y...   neutral  \n",
              "\n",
              "[27481 rows x 3 columns]"
            ]
          },
          "execution_count": 40,
          "metadata": {},
          "output_type": "execute_result"
        }
      ],
      "source": [
        "df2"
      ]
    },
    {
      "cell_type": "code",
      "execution_count": 16,
      "metadata": {},
      "outputs": [],
      "source": [
        "data_frame=pd.read_csv(\"data_set.csv\")"
      ]
    },
    {
      "cell_type": "code",
      "execution_count": 17,
      "metadata": {},
      "outputs": [
        {
          "data": {
            "text/html": [
              "<div>\n",
              "<style scoped>\n",
              "    .dataframe tbody tr th:only-of-type {\n",
              "        vertical-align: middle;\n",
              "    }\n",
              "\n",
              "    .dataframe tbody tr th {\n",
              "        vertical-align: top;\n",
              "    }\n",
              "\n",
              "    .dataframe thead th {\n",
              "        text-align: right;\n",
              "    }\n",
              "</style>\n",
              "<table border=\"1\" class=\"dataframe\">\n",
              "  <thead>\n",
              "    <tr style=\"text-align: right;\">\n",
              "      <th></th>\n",
              "      <th>Year</th>\n",
              "      <th>Industry_aggregation_NZSIOC</th>\n",
              "      <th>Industry_code_NZSIOC</th>\n",
              "      <th>Industry_name_NZSIOC</th>\n",
              "      <th>Units</th>\n",
              "      <th>Variable_code</th>\n",
              "      <th>Variable_name</th>\n",
              "      <th>Variable_category</th>\n",
              "      <th>Value</th>\n",
              "      <th>Industry_code_ANZSIC06</th>\n",
              "    </tr>\n",
              "  </thead>\n",
              "  <tbody>\n",
              "    <tr>\n",
              "      <th>0</th>\n",
              "      <td>2023</td>\n",
              "      <td>Level 1</td>\n",
              "      <td>99999</td>\n",
              "      <td>All industries</td>\n",
              "      <td>Dollars (millions)</td>\n",
              "      <td>H01</td>\n",
              "      <td>Total income</td>\n",
              "      <td>Financial performance</td>\n",
              "      <td>930995</td>\n",
              "      <td>ANZSIC06 divisions A-S (excluding classes K633...</td>\n",
              "    </tr>\n",
              "    <tr>\n",
              "      <th>1</th>\n",
              "      <td>2023</td>\n",
              "      <td>Level 1</td>\n",
              "      <td>99999</td>\n",
              "      <td>All industries</td>\n",
              "      <td>Dollars (millions)</td>\n",
              "      <td>H04</td>\n",
              "      <td>Sales, government funding, grants and subsidies</td>\n",
              "      <td>Financial performance</td>\n",
              "      <td>821630</td>\n",
              "      <td>ANZSIC06 divisions A-S (excluding classes K633...</td>\n",
              "    </tr>\n",
              "    <tr>\n",
              "      <th>2</th>\n",
              "      <td>2023</td>\n",
              "      <td>Level 1</td>\n",
              "      <td>99999</td>\n",
              "      <td>All industries</td>\n",
              "      <td>Dollars (millions)</td>\n",
              "      <td>H05</td>\n",
              "      <td>Interest, dividends and donations</td>\n",
              "      <td>Financial performance</td>\n",
              "      <td>84354</td>\n",
              "      <td>ANZSIC06 divisions A-S (excluding classes K633...</td>\n",
              "    </tr>\n",
              "    <tr>\n",
              "      <th>3</th>\n",
              "      <td>2023</td>\n",
              "      <td>Level 1</td>\n",
              "      <td>99999</td>\n",
              "      <td>All industries</td>\n",
              "      <td>Dollars (millions)</td>\n",
              "      <td>H07</td>\n",
              "      <td>Non-operating income</td>\n",
              "      <td>Financial performance</td>\n",
              "      <td>25010</td>\n",
              "      <td>ANZSIC06 divisions A-S (excluding classes K633...</td>\n",
              "    </tr>\n",
              "    <tr>\n",
              "      <th>4</th>\n",
              "      <td>2023</td>\n",
              "      <td>Level 1</td>\n",
              "      <td>99999</td>\n",
              "      <td>All industries</td>\n",
              "      <td>Dollars (millions)</td>\n",
              "      <td>H08</td>\n",
              "      <td>Total expenditure</td>\n",
              "      <td>Financial performance</td>\n",
              "      <td>832964</td>\n",
              "      <td>ANZSIC06 divisions A-S (excluding classes K633...</td>\n",
              "    </tr>\n",
              "    <tr>\n",
              "      <th>...</th>\n",
              "      <td>...</td>\n",
              "      <td>...</td>\n",
              "      <td>...</td>\n",
              "      <td>...</td>\n",
              "      <td>...</td>\n",
              "      <td>...</td>\n",
              "      <td>...</td>\n",
              "      <td>...</td>\n",
              "      <td>...</td>\n",
              "      <td>...</td>\n",
              "    </tr>\n",
              "    <tr>\n",
              "      <th>50980</th>\n",
              "      <td>2013</td>\n",
              "      <td>Level 3</td>\n",
              "      <td>ZZ11</td>\n",
              "      <td>Food product manufacturing</td>\n",
              "      <td>Percentage</td>\n",
              "      <td>H37</td>\n",
              "      <td>Quick ratio</td>\n",
              "      <td>Financial ratios</td>\n",
              "      <td>52</td>\n",
              "      <td>ANZSIC06 groups C111, C112, C113, C114, C115, ...</td>\n",
              "    </tr>\n",
              "    <tr>\n",
              "      <th>50981</th>\n",
              "      <td>2013</td>\n",
              "      <td>Level 3</td>\n",
              "      <td>ZZ11</td>\n",
              "      <td>Food product manufacturing</td>\n",
              "      <td>Percentage</td>\n",
              "      <td>H38</td>\n",
              "      <td>Margin on sales of goods for resale</td>\n",
              "      <td>Financial ratios</td>\n",
              "      <td>40</td>\n",
              "      <td>ANZSIC06 groups C111, C112, C113, C114, C115, ...</td>\n",
              "    </tr>\n",
              "    <tr>\n",
              "      <th>50982</th>\n",
              "      <td>2013</td>\n",
              "      <td>Level 3</td>\n",
              "      <td>ZZ11</td>\n",
              "      <td>Food product manufacturing</td>\n",
              "      <td>Percentage</td>\n",
              "      <td>H39</td>\n",
              "      <td>Return on equity</td>\n",
              "      <td>Financial ratios</td>\n",
              "      <td>12</td>\n",
              "      <td>ANZSIC06 groups C111, C112, C113, C114, C115, ...</td>\n",
              "    </tr>\n",
              "    <tr>\n",
              "      <th>50983</th>\n",
              "      <td>2013</td>\n",
              "      <td>Level 3</td>\n",
              "      <td>ZZ11</td>\n",
              "      <td>Food product manufacturing</td>\n",
              "      <td>Percentage</td>\n",
              "      <td>H40</td>\n",
              "      <td>Return on total assets</td>\n",
              "      <td>Financial ratios</td>\n",
              "      <td>5</td>\n",
              "      <td>ANZSIC06 groups C111, C112, C113, C114, C115, ...</td>\n",
              "    </tr>\n",
              "    <tr>\n",
              "      <th>50984</th>\n",
              "      <td>2013</td>\n",
              "      <td>Level 3</td>\n",
              "      <td>ZZ11</td>\n",
              "      <td>Food product manufacturing</td>\n",
              "      <td>Percentage</td>\n",
              "      <td>H41</td>\n",
              "      <td>Liabilities structure</td>\n",
              "      <td>Financial ratios</td>\n",
              "      <td>46</td>\n",
              "      <td>ANZSIC06 groups C111, C112, C113, C114, C115, ...</td>\n",
              "    </tr>\n",
              "  </tbody>\n",
              "</table>\n",
              "<p>50985 rows × 10 columns</p>\n",
              "</div>"
            ],
            "text/plain": [
              "       Year Industry_aggregation_NZSIOC Industry_code_NZSIOC  \\\n",
              "0      2023                     Level 1                99999   \n",
              "1      2023                     Level 1                99999   \n",
              "2      2023                     Level 1                99999   \n",
              "3      2023                     Level 1                99999   \n",
              "4      2023                     Level 1                99999   \n",
              "...     ...                         ...                  ...   \n",
              "50980  2013                     Level 3                 ZZ11   \n",
              "50981  2013                     Level 3                 ZZ11   \n",
              "50982  2013                     Level 3                 ZZ11   \n",
              "50983  2013                     Level 3                 ZZ11   \n",
              "50984  2013                     Level 3                 ZZ11   \n",
              "\n",
              "             Industry_name_NZSIOC               Units Variable_code  \\\n",
              "0                  All industries  Dollars (millions)           H01   \n",
              "1                  All industries  Dollars (millions)           H04   \n",
              "2                  All industries  Dollars (millions)           H05   \n",
              "3                  All industries  Dollars (millions)           H07   \n",
              "4                  All industries  Dollars (millions)           H08   \n",
              "...                           ...                 ...           ...   \n",
              "50980  Food product manufacturing          Percentage           H37   \n",
              "50981  Food product manufacturing          Percentage           H38   \n",
              "50982  Food product manufacturing          Percentage           H39   \n",
              "50983  Food product manufacturing          Percentage           H40   \n",
              "50984  Food product manufacturing          Percentage           H41   \n",
              "\n",
              "                                         Variable_name      Variable_category  \\\n",
              "0                                         Total income  Financial performance   \n",
              "1      Sales, government funding, grants and subsidies  Financial performance   \n",
              "2                    Interest, dividends and donations  Financial performance   \n",
              "3                                 Non-operating income  Financial performance   \n",
              "4                                    Total expenditure  Financial performance   \n",
              "...                                                ...                    ...   \n",
              "50980                                      Quick ratio       Financial ratios   \n",
              "50981              Margin on sales of goods for resale       Financial ratios   \n",
              "50982                                 Return on equity       Financial ratios   \n",
              "50983                           Return on total assets       Financial ratios   \n",
              "50984                            Liabilities structure       Financial ratios   \n",
              "\n",
              "        Value                             Industry_code_ANZSIC06  \n",
              "0      930995  ANZSIC06 divisions A-S (excluding classes K633...  \n",
              "1      821630  ANZSIC06 divisions A-S (excluding classes K633...  \n",
              "2       84354  ANZSIC06 divisions A-S (excluding classes K633...  \n",
              "3       25010  ANZSIC06 divisions A-S (excluding classes K633...  \n",
              "4      832964  ANZSIC06 divisions A-S (excluding classes K633...  \n",
              "...       ...                                                ...  \n",
              "50980      52  ANZSIC06 groups C111, C112, C113, C114, C115, ...  \n",
              "50981      40  ANZSIC06 groups C111, C112, C113, C114, C115, ...  \n",
              "50982      12  ANZSIC06 groups C111, C112, C113, C114, C115, ...  \n",
              "50983       5  ANZSIC06 groups C111, C112, C113, C114, C115, ...  \n",
              "50984      46  ANZSIC06 groups C111, C112, C113, C114, C115, ...  \n",
              "\n",
              "[50985 rows x 10 columns]"
            ]
          },
          "execution_count": 17,
          "metadata": {},
          "output_type": "execute_result"
        }
      ],
      "source": [
        "data_frame"
      ]
    },
    {
      "cell_type": "code",
      "execution_count": 18,
      "metadata": {},
      "outputs": [
        {
          "data": {
            "text/html": [
              "<div>\n",
              "<style scoped>\n",
              "    .dataframe tbody tr th:only-of-type {\n",
              "        vertical-align: middle;\n",
              "    }\n",
              "\n",
              "    .dataframe tbody tr th {\n",
              "        vertical-align: top;\n",
              "    }\n",
              "\n",
              "    .dataframe thead th {\n",
              "        text-align: right;\n",
              "    }\n",
              "</style>\n",
              "<table border=\"1\" class=\"dataframe\">\n",
              "  <thead>\n",
              "    <tr style=\"text-align: right;\">\n",
              "      <th></th>\n",
              "      <th>Year</th>\n",
              "    </tr>\n",
              "  </thead>\n",
              "  <tbody>\n",
              "    <tr>\n",
              "      <th>count</th>\n",
              "      <td>50985.000000</td>\n",
              "    </tr>\n",
              "    <tr>\n",
              "      <th>mean</th>\n",
              "      <td>2018.000000</td>\n",
              "    </tr>\n",
              "    <tr>\n",
              "      <th>std</th>\n",
              "      <td>3.162309</td>\n",
              "    </tr>\n",
              "    <tr>\n",
              "      <th>min</th>\n",
              "      <td>2013.000000</td>\n",
              "    </tr>\n",
              "    <tr>\n",
              "      <th>25%</th>\n",
              "      <td>2015.000000</td>\n",
              "    </tr>\n",
              "    <tr>\n",
              "      <th>50%</th>\n",
              "      <td>2018.000000</td>\n",
              "    </tr>\n",
              "    <tr>\n",
              "      <th>75%</th>\n",
              "      <td>2021.000000</td>\n",
              "    </tr>\n",
              "    <tr>\n",
              "      <th>max</th>\n",
              "      <td>2023.000000</td>\n",
              "    </tr>\n",
              "  </tbody>\n",
              "</table>\n",
              "</div>"
            ],
            "text/plain": [
              "               Year\n",
              "count  50985.000000\n",
              "mean    2018.000000\n",
              "std        3.162309\n",
              "min     2013.000000\n",
              "25%     2015.000000\n",
              "50%     2018.000000\n",
              "75%     2021.000000\n",
              "max     2023.000000"
            ]
          },
          "execution_count": 18,
          "metadata": {},
          "output_type": "execute_result"
        }
      ],
      "source": [
        "data_frame.describe()"
      ]
    },
    {
      "cell_type": "code",
      "execution_count": 19,
      "metadata": {},
      "outputs": [
        {
          "data": {
            "text/plain": [
              "'Interest, dividends and donations'"
            ]
          },
          "execution_count": 19,
          "metadata": {},
          "output_type": "execute_result"
        }
      ],
      "source": [
        "data_frame.iloc[2,6]"
      ]
    },
    {
      "cell_type": "code",
      "execution_count": null,
      "metadata": {},
      "outputs": [],
      "source": []
    }
  ],
  "metadata": {
    "colab": {
      "provenance": []
    },
    "kernelspec": {
      "display_name": "ml",
      "language": "python",
      "name": "python3"
    },
    "language_info": {
      "codemirror_mode": {
        "name": "ipython",
        "version": 3
      },
      "file_extension": ".py",
      "mimetype": "text/x-python",
      "name": "python",
      "nbconvert_exporter": "python",
      "pygments_lexer": "ipython3",
      "version": "3.11.11"
    }
  },
  "nbformat": 4,
  "nbformat_minor": 0
}
